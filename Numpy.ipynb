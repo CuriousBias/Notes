{
 "metadata": {
  "language_info": {
   "codemirror_mode": {
    "name": "ipython",
    "version": 3
   },
   "file_extension": ".py",
   "mimetype": "text/x-python",
   "name": "python",
   "nbconvert_exporter": "python",
   "pygments_lexer": "ipython3",
   "version": "3.8.7-final"
  },
  "orig_nbformat": 2,
  "kernelspec": {
   "name": "python3",
   "display_name": "Python 3",
   "language": "python"
  }
 },
 "nbformat": 4,
 "nbformat_minor": 2,
 "cells": [
  {
   "cell_type": "code",
   "execution_count": null,
   "metadata": {},
   "outputs": [],
   "source": [
    "import numpy as np\n",
    "\n",
    "# Numpy package: actually stored in C\n",
    "Array1 = np.ndarray([1, 2, 3]) # float\n",
    "Array2 = np.array([1, 3, 5]) # int\n",
    "Array3 = np.empty([2,1]) # But need to define all indicies first!\n",
    "Array3[:,0] = 3\n",
    "Array4 = np.zeros([1,4])\n",
    "Array5 = np.ones([4,2])\n",
    "Array6 = np.eye(3)\n",
    "Array7 = np.arange(1,10,2) # (start, end, increment)\n",
    "# Attributes\n",
    "att1 = np.shape(Array5) # dimensions # output is (4,2)\n",
    "att2 = np.size(Array5) # total number of elements # output is 8 "
   ]
  },
  {
   "cell_type": "code",
   "execution_count": 7,
   "metadata": {},
   "outputs": [
    {
     "output_type": "stream",
     "name": "stdout",
     "text": [
      "[5 7 9]\n[3 6 9]\n32\n"
     ]
    }
   ],
   "source": [
    "import numpy as np\n",
    "\n",
    "# basic math in numpy\n",
    "x = np.array([1, 2, 3])\n",
    "y = np.array([4, 5, 6])\n",
    "\n",
    "# addition\n",
    "z0 = x+y\n",
    "print(z0)\n",
    "\n",
    "# scalar multiplication\n",
    "z1 = 3*x\n",
    "print(z1)\n",
    "\n",
    "# dot product\n",
    "z2 = np.dot(x, y)\n",
    "print(z2)\n"
   ]
  },
  {
   "cell_type": "code",
   "execution_count": 11,
   "metadata": {},
   "outputs": [
    {
     "output_type": "stream",
     "name": "stdout",
     "text": [
      "[ 0  1  2  3  4  5  6  7  8  9 10]\n[ 0  1  2  3  4  5  6  7  8  9 10]\n"
     ]
    }
   ],
   "source": [
    "import numpy as numpy\n",
    "\n",
    "# range in numpy creates a numpy array with the desired range\n",
    "x = np.arange(11)\n",
    "print(x)\n",
    "\n",
    "y = np.arange(0, 11, 1)\n",
    "print(y)"
   ]
  },
  {
   "cell_type": "code",
   "execution_count": 14,
   "metadata": {},
   "outputs": [
    {
     "output_type": "stream",
     "name": "stdout",
     "text": [
      "[0.  0.2 0.4 0.6 0.8 1. ]\n"
     ]
    }
   ],
   "source": [
    "import numpy as np\n",
    "\n",
    "# create a better range np.linspace(start, stop, n values)\n",
    "x = np.linspace(0, 1, 6)\n",
    "print(x)"
   ]
  },
  {
   "source": [
    "import numpy as np\n",
    "\n",
    "# create a matrix\n",
    "A = np.array([[1, 2, 3], [4, 5, 6], [7, 8, 9]])\n",
    "print(A)\n",
    "\n",
    "# indexing values matrix[column, row]\n",
    "value_0 = A[1,2] # this should index value 6\n",
    "print(value_0)\n",
    "\n",
    "# create transpose of matrix\n",
    "# these both create the same\n",
    "B = np.transpose(A)\n",
    "C = A.T\n",
    "print(B)\n",
    "print(C)\n",
    "\n",
    "# find dimentions of matrix\n",
    "dimensions = A.shape\n",
    "print(dimensions)"
   ],
   "cell_type": "code",
   "metadata": {},
   "execution_count": null,
   "outputs": []
  },
  {
   "cell_type": "code",
   "execution_count": 26,
   "metadata": {},
   "outputs": [
    {
     "output_type": "stream",
     "name": "stdout",
     "text": [
      "[[1.+0.j 2.+0.j]\n [3.+0.j 0.+4.j]]\n[[1.-0.j 2.-0.j]\n [3.-0.j 0.-4.j]]\n[[ 7. +0.j  2. -8.j]\n [ 3.+12.j 22. +0.j]]\n[0. +0.j 0.-24.j]\n"
     ]
    }
   ],
   "source": [
    "import numpy as np \n",
    "\n",
    "# more matrix\n",
    "# for complex number use j\n",
    "A = np.array([[1, 2],[3, 4j]])\n",
    "print(A)\n",
    "\n",
    "# complex conjugate\n",
    "B = np.conjugate(A)\n",
    "print(B)\n",
    "\n",
    "C = np.dot(A, B)\n",
    "print(C)\n",
    "D = np.cross(A,B)\n",
    "print(D)"
   ]
  },
  {
   "cell_type": "code",
   "execution_count": null,
   "metadata": {},
   "outputs": [],
   "source": []
  }
 ]
}