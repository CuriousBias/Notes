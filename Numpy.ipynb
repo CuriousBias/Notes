{
 "metadata": {
  "language_info": {
   "codemirror_mode": {
    "name": "ipython",
    "version": 3
   },
   "file_extension": ".py",
   "mimetype": "text/x-python",
   "name": "python",
   "nbconvert_exporter": "python",
   "pygments_lexer": "ipython3",
   "version": 3
  },
  "orig_nbformat": 2
 },
 "nbformat": 4,
 "nbformat_minor": 2,
 "cells": [
  {
   "cell_type": "code",
   "execution_count": null,
   "metadata": {},
   "outputs": [],
   "source": [
    "import numpy as np\n",
    "\n",
    "# Numpy package: actually stored in C\n",
    "Array1 = np.ndarray([1, 2, 3]) # float\n",
    "Array2 = np.array([1, 3, 5]) # int\n",
    "Array3 = np.empty([2,1]) # But need to define all indicies first!\n",
    "Array3[:,0] = 3\n",
    "Array4 = np.zeros([1,4])\n",
    "Array5 = np.ones([4,2])\n",
    "Array6 = np.eye(3)\n",
    "Array7 = np.arange(1,10,2) # (start, end, increment)\n",
    "# Attributes\n",
    "att1 = np.shape(Array5) # dimensions # output is (4,2)\n",
    "att2 = np.size(Array5) # total number of elements # output is 8 "
   ]
  },
  {
   "cell_type": "code",
   "execution_count": null,
   "metadata": {},
   "outputs": [],
   "source": [
    "# Numpy functionality\n",
    "# scalar multiplicaiton\n",
    "function1 = np.pi * Array2\n",
    "# element wise addition\n",
    "function2 = Array2 + 3\n",
    "# dot or inner product\n",
    "function3 = np.dot(Array1,Array2) # or = Array1.dot(Array2)"
   ]
  }
 ]
}