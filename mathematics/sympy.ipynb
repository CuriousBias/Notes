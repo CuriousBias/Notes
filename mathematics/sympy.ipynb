{
 "metadata": {
  "language_info": {
   "codemirror_mode": {
    "name": "ipython",
    "version": 3
   },
   "file_extension": ".py",
   "mimetype": "text/x-python",
   "name": "python",
   "nbconvert_exporter": "python",
   "pygments_lexer": "ipython3",
   "version": "3.8.7"
  },
  "orig_nbformat": 2,
  "kernelspec": {
   "name": "python387jvsc74a57bd04cd7ab41f5fca4b9b44701077e38c5ffd31fe66a6cab21e0214b68d958d0e462",
   "display_name": "Python 3.8.7 64-bit"
  }
 },
 "nbformat": 4,
 "nbformat_minor": 2,
 "cells": [
  {
   "cell_type": "code",
   "execution_count": 1,
   "metadata": {},
   "outputs": [],
   "source": [
    "import sympy as sp\n",
    "import math"
   ]
  },
  {
   "cell_type": "code",
   "execution_count": 2,
   "metadata": {},
   "outputs": [
    {
     "output_type": "execute_result",
     "data": {
      "text/plain": [
       "sqrt(3)"
      ],
      "text/latex": "$\\displaystyle \\sqrt{3}$"
     },
     "metadata": {},
     "execution_count": 2
    }
   ],
   "source": [
    "sp.sqrt(3)"
   ]
  },
  {
   "cell_type": "code",
   "execution_count": 8,
   "metadata": {},
   "outputs": [],
   "source": [
    "a,b,x,y,pi,m,n,R,D11,D12,D22,D66,i,j,Sbar = sp.symbols('a b x y pi m n R D11 D12 D22 D66 i j Sbar')"
   ]
  },
  {
   "cell_type": "code",
   "execution_count": 18,
   "metadata": {},
   "outputs": [],
   "source": [
    "F33 = D11*(i*pi/a)**4 + 2*(D12+2*D66)*(i*pi/a)**2*(j*pi/b)**2 + D22*(j*pi/b)**4\n",
    "F34 = -D11*(i*pi/a)**3 - (D12+2*D66)*(i*pi/a)*(j*pi/b)**2\n",
    "F35 = -D22*(j*pi/b)**3 - (D12+2*D66)*(i*pi/a)**2*(j*pi/b)\n",
    "F44 = D11*(i*pi/a)**2 + D66*(j*pi/b)**2 + Sbar\n",
    "F45 = (D12 + 2*D66)*(i*pi/a)*(j*pi/b)\n",
    "F55 = D22*(j*pi/b)**2 + D66*(i*pi/a)**2 + Sbar\n"
   ]
  },
  {
   "cell_type": "code",
   "execution_count": 19,
   "metadata": {},
   "outputs": [
    {
     "output_type": "execute_result",
     "data": {
      "text/plain": [
       "D22*j**2*pi**2/b**2 + D66*i**2*pi**2/a**2 + Sbar"
      ],
      "text/latex": "$\\displaystyle \\frac{D_{22} j^{2} \\pi^{2}}{b^{2}} + \\frac{D_{66} i^{2} \\pi^{2}}{a^{2}} + \\bar{S}$"
     },
     "metadata": {},
     "execution_count": 19
    }
   ],
   "source": [
    "F55"
   ]
  },
  {
   "cell_type": "code",
   "execution_count": 21,
   "metadata": {},
   "outputs": [
    {
     "output_type": "execute_result",
     "data": {
      "text/plain": [
       "a**2/(i**2*pi**2)"
      ],
      "text/latex": "$\\displaystyle \\frac{a^{2}}{i^{2} \\pi^{2}}$"
     },
     "metadata": {},
     "execution_count": 21
    }
   ],
   "source": [
    "((a/(i*pi))**2)"
   ]
  },
  {
   "cell_type": "code",
   "execution_count": null,
   "metadata": {},
   "outputs": [],
   "source": [
    "E_1,E_2,nu12,G12,t_ply,sequence_adherend,sequence_strap,w,l,G_a,t_adhesive,P,C_1,lam,x,l,w,t_1,t_2 = sp.symbols('E1 E2 nu12 G12 t_ply sequence_adherend sequence_strap bond_width bond_length G_a t_adhesive P C_1 lam x l w t_1 t_2 ')"
   ]
  },
  {
   "cell_type": "code",
   "execution_count": null,
   "metadata": {},
   "outputs": [],
   "source": [
    "test_eqn = (-C_1*t_1/lam)*sp.sinh(lam*x) + ((C_1*t_1*(sp.cosh(lam*l)-1))/(lam**2) + P/w)*lam*sp.cosh(lam*x)/sp.sinh(lam*l)\n",
    "\n",
    "test_eqn"
   ]
  },
  {
   "cell_type": "code",
   "execution_count": null,
   "metadata": {},
   "outputs": [],
   "source": [
    "force,x,EIbar,L = sp.symbols('force x EIbar L')"
   ]
  },
  {
   "cell_type": "code",
   "execution_count": null,
   "metadata": {},
   "outputs": [],
   "source": []
  }
 ]
}