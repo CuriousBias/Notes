{
 "cells": [
  {
   "cell_type": "markdown",
   "metadata": {},
   "source": [
    "## Random Numbers\n",
    "\n",
    "- Psudo random numbers with ```random``` module\n",
    "- Actually random numbers with ```secrets``` module\n",
    "- Random arrays with ```numpy```"
   ]
  },
  {
   "cell_type": "code",
   "execution_count": 4,
   "metadata": {},
   "outputs": [
    {
     "name": "stdout",
     "output_type": "stream",
     "text": [
      "2.415243957353889\n"
     ]
    }
   ],
   "source": [
    "import random\n",
    "\n",
    "a = random.random()  # random float from 0 -> 1\n",
    "\n",
    "b = random.uniform(1,10)  # random float in this range\n",
    "\n",
    "c = random.randint(1, 10)  # random int in this range\n",
    "\n",
    "d = random.normalvariate(mu=0, sigma=1)  # random from normal distribution with mean at 0 and SD of 1\n",
    "\n",
    "print(d)\n"
   ]
  },
  {
   "cell_type": "code",
   "execution_count": 7,
   "metadata": {},
   "outputs": [
    {
     "name": "stdout",
     "output_type": "stream",
     "text": [
      "C\n"
     ]
    }
   ],
   "source": [
    "import secrets\n",
    "\n",
    "a = secrets.randbelow(10)  # random int in range 0 to 10 (10 not included)\n",
    "\n",
    "b = secrets.randbits(4)  # random number from 0 to 15\n",
    "\n",
    "list = list(\"ABCDEFG\")\n",
    "c = secrets.choice(list)  # random choice from list\n",
    "print(c)"
   ]
  },
  {
   "cell_type": "code",
   "execution_count": 10,
   "metadata": {},
   "outputs": [
    {
     "name": "stdout",
     "output_type": "stream",
     "text": [
      "[[1 9 1]\n",
      " [1 5 8]\n",
      " [1 0 9]]\n"
     ]
    }
   ],
   "source": [
    "import numpy as np\n",
    "\n",
    "a = np.random.rand(3)  # array with 3 random floats\n",
    "\n",
    "b = np.random.randint(0, 10, size=(3,3))\n",
    "print(b)"
   ]
  },
  {
   "cell_type": "code",
   "execution_count": null,
   "metadata": {},
   "outputs": [],
   "source": []
  }
 ],
 "metadata": {
  "interpreter": {
   "hash": "a0820167192a0f8e5b5d75b09b4662218b53e0ef2bbcf14191e112b7c64612ca"
  },
  "kernelspec": {
   "display_name": "Python 3.9.9 64-bit",
   "language": "python",
   "name": "python3"
  },
  "language_info": {
   "codemirror_mode": {
    "name": "ipython",
    "version": 3
   },
   "file_extension": ".py",
   "mimetype": "text/x-python",
   "name": "python",
   "nbconvert_exporter": "python",
   "pygments_lexer": "ipython3",
   "version": "3.9.9"
  },
  "orig_nbformat": 4
 },
 "nbformat": 4,
 "nbformat_minor": 2
}
