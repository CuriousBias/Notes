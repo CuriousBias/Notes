{
 "cells": [
  {
   "cell_type": "code",
   "execution_count": null,
   "metadata": {},
   "outputs": [],
   "source": [
    "# import csv file\n",
    "import pandas\n",
    "\n",
    "data = pandas.read_csv(r\"c:\\users\\kzogorski\\desktop\\test.csv\")\n"
   ]
  },
  {
   "cell_type": "code",
   "execution_count": null,
   "metadata": {},
   "outputs": [],
   "source": [
    "# Logging in python\n",
    "# Logging API allows for all python modules to participate\n",
    "# loggers: ?\n",
    "# handlers: send log records to destination\n",
    "# filters: determine which logs to output\n",
    "# formaters: specify final format\n",
    "\n",
    "# epoch time: time in milliseconds from start of 1970\n",
    "time.time()*1000 # for seconds\n",
    "\n",
    "# for most users:\n",
    "log_dict(self, parsed_data, epoch_ms=None) # two arguments: pairs 'signal:value' with matching 'time stamp'\n",
    "\n",
    "log(self, frame) # takes a single argument 'frame' Frame: either raw hex payload such as CAN message or a timestamp\n",
    "\n",
    "#required for most users:\n",
    "start(self) # start loggging\n",
    "close(self) # correctly clean up logger\n",
    "\n",
    "# pytl creates CSVLogger by default DatabaseLogger can also be created if use_db=True when initializing DUT. \n",
    "\n",
    "# CSV loggers: two located in pytl.base.csv_logger\n",
    "decodedcsvloggger \n",
    "# takes arguments for filename, location, and headers\n",
    "# can only handle log_dict and log: cannot handle raw hex payloads\n",
    "\n",
    "csvlogger  # default logger in Article\n",
    "# similar, but can also take information from dbc in order to decode raw CAN frames\n",
    "\n",
    "database logger\n",
    "# similar to csv loggers and requires  dbc information  to interpret raw hex information\n",
    "# db logger supports meta data logging such a running status, jira ticket info, comments, etc\n",
    "# db logger requires metadata on test in order to define a unique location for the data. this meta data includes test name, serial numbers, dut type\n",
    "# db logger internally caches data and pushes to mongo database every 10 minutes\n",
    "# if test is stopped, .close() must be used to push all cached data to database"
   ]
  },
  {
   "cell_type": "code",
   "execution_count": null,
   "metadata": {},
   "outputs": [],
   "source": [
    "# simple logging PCAN messages\n",
    "# in setup_info:\n",
    "use_db=True, \n",
    "# also need to set serial number\n",
    "\n",
    "# then check C:\\PythonData or http://vehicletest.teslamotors.com/#/data_viewer and search for 'serial_number', then search for PCAN signal"
   ]
  },
  {
   "cell_type": "code",
   "execution_count": null,
   "metadata": {},
   "outputs": [],
   "source": [
    "# to log custom signal\n"
   ]
  }
 ],
 "metadata": {
  "language_info": {
   "codemirror_mode": {
    "name": "ipython",
    "version": 3
   },
   "file_extension": ".py",
   "mimetype": "text/x-python",
   "name": "python",
   "nbconvert_exporter": "python",
   "pygments_lexer": "ipython3",
   "version": 3
  },
  "orig_nbformat": 2
 },
 "nbformat": 4,
 "nbformat_minor": 2
}