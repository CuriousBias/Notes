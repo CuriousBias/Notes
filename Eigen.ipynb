{
 "metadata": {
  "language_info": {
   "codemirror_mode": {
    "name": "ipython",
    "version": 3
   },
   "file_extension": ".py",
   "mimetype": "text/x-python",
   "name": "python",
   "nbconvert_exporter": "python",
   "pygments_lexer": "ipython3",
   "version": 3
  },
  "orig_nbformat": 2
 },
 "nbformat": 4,
 "nbformat_minor": 2,
 "cells": [
  {
   "source": [
    "### Eigenvalues and eigenvector\n",
    "\n",
    "\n",
    "$ A = n x n$ matrix\n",
    "\n",
    "**Vector:** \n",
    "* an entity with maginitude and direction\n",
    "* n dimentioned vector multiplied by A maps n vector to new vector w \n",
    "\n",
    "**Eigenvector:** \n",
    "* special vectors of matrix A whose direction is not changed by multiplication with A. ex: $v$ \n",
    "* multiplication with A only changes by magnitude $\\lambda$. $\\lambda$ is eigenvalue.\n",
    "\n",
    "**Eigenvalues:**\n",
    "* non-singular A matrix has n non-zero eigenvalues\n",
    "* leading eigenvalue is largest: $ \\lambda_0 $\n",
    "\n",
    "**Eigenvalue and characteristic polynomial:**\n",
    "<br> Eigenvalue equation: $A v = w = \\lambda v$ \n",
    "* equation has solution if determinant of $|A - \\lambda I| = 0$\n",
    "<br> $|A - \\lambda I| = (\\lambda_1 - \\lambda)(\\lambda_2 - \\lambda)...(\\lambda_n - \\lambda)$\n",
    "\n",
    "ex:\n",
    "\n",
    "$ A =  \n",
    "    \\begin{bmatrix} \n",
    "    2 & 1\\\\ \n",
    "    1 & 2\\\\\n",
    "    \\end{bmatrix}$\n",
    "\n",
    "$|A - \\lambda I| = \\begin{bmatrix} \n",
    "                    2 - \\lambda & 1\\\\ \n",
    "                    1 & 2 - \\lambda \\\\\n",
    "                    \\end{bmatrix} = 3 - 4 \\lambda + \\lambda^2 $\n",
    "\n",
    "<br> equations has roots $ \\lambda = 1, 3 $ These are the two eigenvalues\n",
    "\n",
    "Two eigenvectors are found by solving $|A - \\lambda I|v = 0$\n",
    "\n",
    "$ v_1 =  \\begin{bmatrix} \n",
    "    1\\\\ \n",
    "    -1\\\\\n",
    "    \\end{bmatrix}$\n",
    "\n",
    "$ v_2 =  \\begin{bmatrix} \n",
    "    1\\\\ \n",
    "    1\\\\\n",
    "    \\end{bmatrix}$\n",
    "\n",
    "\n",
    "\n",
    "\n",
    "\n"
   ],
   "cell_type": "markdown",
   "metadata": {}
  },
  {
   "source": [
    "For symetric matrix A, $ A = A^T $\n",
    "* eigenvectors with distinct eigenvalues are orthoganal\n",
    "* If all eigen values are distinct, then n mutually orthogaonal vectors form orthogonal basis\n",
    "* Any vector in span(A) are independent and can be wirtten as a linear combination of eigenvectors\n",
    "<br> $$Aw = \\sum  \\lambda_i c_i v_i$$"
   ],
   "cell_type": "markdown",
   "metadata": {}
  },
  {
   "source": [
    "### Conditioning\n",
    "\n",
    "**Conditioning number $k(A)$:**\n",
    "* means to quantify the expected reliability of the solution to a linear system \n",
    "* rule of thumb: for $ \\epsilon_M = 10^-t$ and  $k(A) = 10^p $, solution will be accurate to $ t-p$ digits\n",
    "\n",
    "$\\kappa(A) \\approx \\lambda_{max}/ \\lambda_{min}$\n",
    "\n",
    "\n",
    "\n",
    "\n"
   ],
   "cell_type": "markdown",
   "metadata": {}
  },
  {
   "cell_type": "code",
   "execution_count": null,
   "metadata": {},
   "outputs": [],
   "source": [
    "### QR factorization"
   ]
  }
 ]
}