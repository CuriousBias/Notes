{
 "metadata": {
  "language_info": {
   "codemirror_mode": {
    "name": "ipython",
    "version": 3
   },
   "file_extension": ".py",
   "mimetype": "text/x-python",
   "name": "python",
   "nbconvert_exporter": "python",
   "pygments_lexer": "ipython3",
   "version": 3
  },
  "orig_nbformat": 2
 },
 "nbformat": 4,
 "nbformat_minor": 2,
 "cells": [
  {
   "cell_type": "code",
   "execution_count": null,
   "metadata": {},
   "outputs": [],
   "source": [
    "# Navigating terminal\n",
    "ls # lists folders in current directory\n",
    "ls -l  # lists all folders in directory as a list\n",
    "ls -a  # lists all hidden folders and files as well\n",
    "ls -la does both above\n",
    "cd Downloads # navigates to downloads folder"
   ]
  },
  {
   "cell_type": "code",
   "execution_count": null,
   "metadata": {},
   "outputs": [],
   "source": [
    "# full absolute path\n",
    "import os\n",
    "\n",
    "dir = os.path.dirname(__file__)  # directory of current .py file\n",
    "dbc = os.path.join(dir, 'Model3_VEH.dbc')"
   ]
  },
  {
   "cell_type": "code",
   "execution_count": null,
   "metadata": {},
   "outputs": [],
   "source": []
  },
  {
   "cell_type": "code",
   "execution_count": null,
   "metadata": {},
   "outputs": [],
   "source": [
    "# Mac OS\n",
    "# run python files from terminal\n",
    "python ./Documents/test.py  # run the test.py file located in Documents\n",
    "\n",
    "# alternatively\n",
    "python  # to enter python interactive shell\n",
    ">>> exec(open(\"./Documents/test.py\").read())"
   ]
  }
 ]
}