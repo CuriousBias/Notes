{
 "metadata": {
  "language_info": {
   "codemirror_mode": {
    "name": "ipython",
    "version": 3
   },
   "file_extension": ".py",
   "mimetype": "text/x-python",
   "name": "python",
   "nbconvert_exporter": "python",
   "pygments_lexer": "ipython3",
   "version": 3
  },
  "orig_nbformat": 2
 },
 "nbformat": 4,
 "nbformat_minor": 2,
 "cells": [
  {
   "cell_type": "code",
   "execution_count": null,
   "metadata": {},
   "outputs": [],
   "source": [
    "# Navigating terminal\n",
    "ls # lists folders in current directory\n",
    "cd Downloads # navigates to downloads folder"
   ]
  },
  {
   "cell_type": "code",
   "execution_count": null,
   "metadata": {},
   "outputs": [],
   "source": [
    "# full absolute path\n",
    "import os\n",
    "\n",
    "dir = os.path.dirname(__file__)  # directory of current .py file\n",
    "dbc = os.path.join(dir, 'Model3_VEH.dbc')"
   ]
  }
 ]
}