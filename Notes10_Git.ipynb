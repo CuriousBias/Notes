{
 "metadata": {
  "language_info": {
   "codemirror_mode": {
    "name": "ipython",
    "version": 3
   },
   "file_extension": ".py",
   "mimetype": "text/x-python",
   "name": "python",
   "nbconvert_exporter": "python",
   "pygments_lexer": "ipython3",
   "version": 3
  },
  "orig_nbformat": 2
 },
 "nbformat": 4,
 "nbformat_minor": 2,
 "cells": [
  {
   "cell_type": "code",
   "execution_count": null,
   "metadata": {},
   "outputs": [],
   "source": [
    "# Git commmands\n",
    "\n",
    "# Git structure: Repo is repository\n",
    "# Working directory < Staging area < Local Repo (Head) < Remote Repo (Master) \n",
    "# staged: files with changes are marked to be committed to local repo\n",
    "# modified: files with changes are not yet stored in locap repo\n",
    "# committed: changes are stored in local repo\n",
    "\n",
    "git add # command used to add file from local directory to staging area\n",
    "git commit # add files from staging area to local repo\n",
    "git push # add files committed files from local repo to remote repo\n",
    "git fetch # get files from remote repo to local repo\n",
    "git merge # get files from local repo to working directory\n",
    "git pull # get from from remote repot to working directory (git fetch and git merge at once)\n"
   ]
  }
 ]
}