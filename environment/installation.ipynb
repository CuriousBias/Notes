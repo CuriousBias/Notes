{
 "cells": [
  {
   "cell_type": "markdown",
   "metadata": {},
   "source": [
    "# Installing python on MacOS\n",
    "\n",
    "#### Simple Method\n",
    "\n",
    "- Single version of python without package manager\n",
    "\n",
    "#### Leet Method\n",
    "\n",
    "Uses package manager Homebrew https://brew.sh\n",
    "\n",
    "- browse brew site for info about what is available to install\n",
    "- Can also look up which version is latest in homebrew formulae\n",
    "\n",
    "#### Pipenv\n",
    "\n",
    "- Optional"
   ]
  },
  {
   "cell_type": "markdown",
   "metadata": {},
   "source": [
    "### Simple install\n",
    "\n",
    "1. Install python from python.org\n",
    "2. Run install certificate command in install folder (finds which python was installed)\n",
    "\n",
    "        % ls -l /usr/local/bin/python*\n",
    "\n",
    "3. Remap python3 to python\n",
    "\n",
    "        % sudo ln -s -f /usr/local/bin/python3.8 /usr/local/bin/python\n",
    "\n",
    "4. Update pip\n",
    "\n",
    "        % pip3 install --upgrade pip\n",
    "\n",
    "5. Install packages as necessary\n",
    "\n",
    "        % pip3 install numpy\n",
    "        % pip3 install scipy\n",
    "        % pip3 install matplotlib\n",
    "        % pip3 install jupytherlab"
   ]
  },
  {
   "cell_type": "markdown",
   "metadata": {},
   "source": [
    "### Involved install\n",
    "\n",
    "1. Install Xcode from App store https://developer.apple.com/xcode/\n",
    "\n",
    "    a. Add command line tools\n",
    "\n",
    "        % Xcode-select --install\n",
    "\n",
    "2. Install homebrew https://brew.sh/#install\n",
    "\n",
    "        % /bin/bash -c \"$(curl -fsSL https://raw.githubusercontent.com/Homebrew/install/HEAD/install.sh)\"\n",
    "\n",
    "3. Add Homebrew to your PATH (check end of installation for 'Next Steps') This adds to PATH through ~/.zprofile file (sourced at login)\n",
    "\n",
    "        % echo 'eval $(/opt/homebrew/bin/brew shellenv)' >> /Users/kurt/.zprofile\n",
    "        % eval $(/opt/homebrew/bin/brew shellenv)\n",
    "\n",
    "\n",
    "4. Test brew install\n",
    "\n",
    "        % brew help\n",
    "        % brew analytics off\n",
    "        % brew doctor\n",
    "        % brew cleanup\n",
    "\n",
    "5. Install latest version of python (this will grab latest version, but not 3.10?) It also adds symlinks automatically\n",
    "\n",
    "        % brew install python\n",
    "\n",
    "        or install a specific version of python(Ex: 3.10)\n",
    "\n",
    "        % brew install python@3.10\n",
    "\n",
    "6. Add symlinks for python (This adds to PATH through ~/.zshrc file (sourced when starting terminal) Double check that directory for libexec is correct!\n",
    "\n",
    "        % echo 'export PATH=\"/opt/homebrew/opt/python/libexec/bin:$PATH\"' >> ~/.zshrc\n",
    "\n",
    "        or \n",
    "\n",
    "        % echo 'export PATH=\"/opt/homebrew/opt/python@3.10/libexec/bin:$PATH\"' >> ~/.zshrc\n",
    "\n",
    "7. Close Terminal and reopen to check if successful\n",
    "\n",
    "        % python --version\n",
    "        % pip --version\n"
   ]
  },
  {
   "cell_type": "markdown",
   "metadata": {},
   "source": [
    "### Install IDE\n",
    "\n",
    "        % brew install --cask visual-studio-code"
   ]
  },
  {
   "cell_type": "markdown",
   "metadata": {},
   "source": [
    "### Pipenv\n",
    "\n",
    "        % /opt/homebrew/opt/python/libexec/bin/python -m pip install pipenv"
   ]
  },
  {
   "cell_type": "markdown",
   "metadata": {},
   "source": [
    "#### Install dependencies\n",
    "\n",
    "Go to pip.ipynb"
   ]
  },
  {
   "cell_type": "markdown",
   "metadata": {},
   "source": [
    "#### Uninstalling\n",
    "\n",
    "        sudo rm -rf “/Applications/Python”\n",
    "        sudo rm -rf /Library/Frameworks/Python.framework\n",
    "        sudo rm -rf /usr/local/bin/python"
   ]
  }
 ],
 "metadata": {
  "kernelspec": {
   "display_name": "Python 3",
   "language": "python",
   "name": "python3"
  },
  "language_info": {
   "codemirror_mode": {
    "name": "ipython",
    "version": 3
   },
   "file_extension": ".py",
   "mimetype": "text/x-python",
   "name": "python",
   "nbconvert_exporter": "python",
   "pygments_lexer": "ipython3",
   "version": "3.8.7-final"
  },
  "orig_nbformat": 2
 },
 "nbformat": 4,
 "nbformat_minor": 2
}
