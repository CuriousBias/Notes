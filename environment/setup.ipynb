{
 "cells": [
  {
   "cell_type": "code",
   "execution_count": null,
   "metadata": {},
   "outputs": [],
   "source": [
    "# Notes for setting up python\n",
    "# 1. Install text editor - Notepad++, sublime text, or just use MS Visual studio? \n",
    "# 2. Install git\n",
    "# 3. Install python \n",
    "# 4. Install IDE - Pycharm or MS Visual studio (windows only for IDE)\n",
    "\n",
    "# Install for all users!\n",
    "# --User permission denied errors: Run cmd as administrator!"
   ]
  },
  {
   "cell_type": "code",
   "execution_count": null,
   "metadata": {},
   "outputs": [],
   "source": [
    "# Installing python\n",
    "https://www.python.org/downloads\n",
    "# check which version is compatible with your organization\n",
    "# Select \"Add python 3.x to PATH\" - you can do this manually later as well. \n",
    "# Install for all users\n",
    "# C:\\Program Files (x86)\\Python38-64 - would be python 3.8 64 bit\n",
    "# After installation:\n",
    "# in command prompt\n",
    "python --version # to check the version"
   ]
  },
  {
   "cell_type": "code",
   "execution_count": null,
   "metadata": {},
   "outputs": [],
   "source": [
    "# IDE - Pycharm\n",
    "# Why not MS Visual studio?\n",
    "# select \"create asssociations\" .py"
   ]
  }
 ],
 "metadata": {
  "language_info": {
   "codemirror_mode": {
    "name": "ipython",
    "version": 3
   },
   "file_extension": ".py",
   "mimetype": "text/x-python",
   "name": "python",
   "nbconvert_exporter": "python",
   "pygments_lexer": "ipython3",
   "version": 3
  },
  "orig_nbformat": 2
 },
 "nbformat": 4,
 "nbformat_minor": 2
}