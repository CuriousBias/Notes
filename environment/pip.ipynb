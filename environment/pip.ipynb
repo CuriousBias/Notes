{
 "cells": [
  {
   "cell_type": "markdown",
   "metadata": {},
   "source": [
    "## PIP \n",
    "\n",
    "python package install via PPI (python package index)\n",
    "\n",
    "Included with installation of python (each python version will get its own pip)\n",
    "\n",
    "    % pip --version"
   ]
  },
  {
   "cell_type": "markdown",
   "metadata": {},
   "source": [
    "### Simple\n",
    "\n",
    "    % pip install <some_package>\n",
    "\n",
    "But this intalls via default pip. Can be pip2 or pip3\n",
    "\n",
    "Browse published packages: https://pypi.org"
   ]
  },
  {
   "cell_type": "markdown",
   "metadata": {},
   "source": [
    "### Explicit\n",
    "\n",
    "(Example below assumes python install via homebrew)\n",
    "\n",
    "    % /opt/homebrew/opt/python/libexec/bin/python -m pip install jupyter notebook\n",
    "\n",
    "This installs jupyter notebook via pip version associate with python installed at that directory"
   ]
  },
  {
   "cell_type": "markdown",
   "metadata": {},
   "source": [
    "### From requirements.txt file\n",
    "\n",
    "Update setuptools\n",
    "\n",
    "    % /opt/homebrew/opt/python/libexec/bin/python -m pip install --upgrade setuptools\n",
    "\n",
    "Install requirements via .txt file\n",
    "\n",
    "    % /opt/homebrew/opt/python/libexec/bin/python -m pip install -r Documents/github/Notes/environment/requirements.txt\n",
    "\n",
    "\n"
   ]
  }
 ],
 "metadata": {
  "language_info": {
   "name": "python"
  },
  "orig_nbformat": 4
 },
 "nbformat": 4,
 "nbformat_minor": 2
}
