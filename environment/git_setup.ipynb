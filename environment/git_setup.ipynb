{
 "cells": [
  {
   "cell_type": "markdown",
   "metadata": {},
   "source": [
    "### Installation\n",
    "\n",
    "git is installed by homebrew\n",
    "\n",
    "But if you need to install manually: https://git-scm.com/download/"
   ]
  },
  {
   "cell_type": "markdown",
   "metadata": {},
   "source": []
  },
  {
   "cell_type": "markdown",
   "metadata": {},
   "source": [
    "### SSH vs HTTPS\n",
    "\n",
    "Not really sure when to use HTTPS over SSH\n",
    "\n",
    "#### SSH\n",
    "\n",
    "Store private key on local machine to login\n",
    "\n",
    "Follow steps below\n",
    "\n",
    "#### HTTPS\n",
    "\n",
    "Generate **Personal Access Tokens** on github.com and then use as password to push changes to master\n",
    "\n",
    "Tokens generated Github.com > Settings > Developer Settings > Personal Access Tokens > Generate New Token > Input info: Then use token as password"
   ]
  },
  {
   "cell_type": "markdown",
   "metadata": {},
   "source": [
    "### Setup SSH \n",
    "\n",
    "To clone repo and push commits\n",
    "\n",
    "To check version (and make sure its installed and on PATH)\n",
    "\n",
    "        % git --version\n",
    "\n",
    "Set up username and email\n",
    "\n",
    "        % git config --global user.name \"Kurt\"\n",
    "        % git config --global user.email \"kurt.partha@gmail.com\"\n",
    "\n",
    "To check\n",
    "\n",
    "        % git config --global --list\n",
    "\n",
    "Set up SSH key\n",
    "\n",
    "Check for ssh key\n",
    "\n",
    "        % ls -al ~/.ssh \n",
    "\n",
    "if not (~./ssh doesn't exist) -> generate new key (in terminal)\n",
    "\n",
    "        % ssh-keygen -t rsa -b 4096 -C \"kurt.partha@gmail.com\"\n",
    "\n",
    "press enter to select default file location\n",
    "enter passphrase (partha)\n",
    "\n",
    "        % open ~/.ssh/config\n",
    "\n",
    "if not (The file /Users/you/.ssh/config does not exist)\n",
    "\n",
    "        % touch ~/.ssh/config # create the file\n",
    "        % ssh-add -K ~/.ssh/id_rsa # add key to agent\n",
    "\n",
    "copy ssh key to github account (Copies the contents of the id_rsa.pub file to your clipboard)\n",
    "\n",
    "        % pbcopy < ~/.ssh/id_rsa.pub\n",
    "\n",
    "login to github > settings > SSH and GPG Keys > New/Add SSH key > paste key > \"add\" > confirm git hub password\n",
    "\n",
    "test your key\n",
    "\n",
    "        % ssh -T git@github.com # Attempts to ssh to GitHub"
   ]
  },
  {
   "cell_type": "markdown",
   "metadata": {},
   "source": [
    "#### Clone via SSH\n",
    "\n",
    "To clone repo (get link from github Code > SSH > Copy)\n",
    "\n",
    "        % git clone <ssh_repo_link>\n"
   ]
  },
  {
   "cell_type": "markdown",
   "metadata": {},
   "source": [
    "### Passphrase\n",
    "\n",
    "\"partha\""
   ]
  }
 ],
 "metadata": {
  "language_info": {
   "name": "python"
  },
  "orig_nbformat": 4
 },
 "nbformat": 4,
 "nbformat_minor": 2
}
