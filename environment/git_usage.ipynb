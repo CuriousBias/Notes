{
 "cells": [
  {
   "cell_type": "markdown",
   "metadata": {},
   "source": [
    "# Git\n",
    "\n",
    "Some notes for working with git"
   ]
  },
  {
   "cell_type": "markdown",
   "metadata": {},
   "source": [
    "## Structure and terms\n",
    "\n",
    "- Git structure: Repo is repository\n",
    "- Working directory < Staging area < Local Repo (Head) < Remote Repo (Master) \n",
    "- staged: files with changes are marked to be committed to local repo\n",
    "- modified: files with changes are not yet stored in locap repo\n",
    "- committed: changes are stored in local repo"
   ]
  },
  {
   "cell_type": "markdown",
   "metadata": {},
   "source": [
    "### Create repository\n",
    "\n",
    "1. Navigate to folder for repository\n",
    "\n",
    "        % cd ~/<>\n",
    "\n",
    "2. Open README.md file and add any info you want\n",
    "\n",
    "        % touch README.md \n",
    "\n",
    "3. Initialize repo\n",
    "\n",
    "        % git init\n",
    "\n",
    "4. Add any local files\n",
    "\n",
    "        % git add\n",
    "\n",
    "5. Add all local files\n",
    "\n",
    "        $ git add ."
   ]
  },
  {
   "cell_type": "markdown",
   "metadata": {},
   "source": [
    "### Create branch from repo\n",
    "\n",
    "Checkout master, update it, then create your branch\n",
    "\n",
    "        % git checkout master\n",
    "        % git pull origin master\n",
    "        % git checkout -b <feature/branch>\n",
    "\n",
    "This creates a new feature branch\n",
    "\n",
    "To checkout a simple file from a different branch\n",
    "\n",
    "        % git checkout <feature/branch> --<specific/file/path>"
   ]
  },
  {
   "cell_type": "markdown",
   "metadata": {},
   "source": [
    "### Checkout repo\n",
    "\n",
    "two options\n",
    "\n",
    "        % git checkout <branch>\n",
    "\n",
    "        % git switch <branch>"
   ]
  },
  {
   "cell_type": "markdown",
   "metadata": {},
   "source": [
    "### Git commmands\n",
    "\n",
    "To check status of files in repo or check that you are in base directory of repo\n",
    "\n",
    "        % git status\n",
    "\n",
    "To add file from local directory to staging area\n",
    "\n",
    "        % git add \n",
    "\n",
    "To add files from staging area to local repo\n",
    "\n",
    "        % git commit\n",
    "\n",
    "To add files committed files from local repo to remote repo\n",
    "\n",
    "        % git push \n",
    "\n",
    "To get files from remote repo to local repo\n",
    "\n",
    "        % git fetch\n",
    "\n",
    "To get files from local repo to working directory\n",
    "\n",
    "        % git merge\n",
    "\n",
    "To get from from remote repot to working directory (git fetch and git merge at once)\n",
    "\n",
    "        % git pull\n",
    "\n",
    "Deleting files\n",
    "\n",
    "        % git rm <specific/file/path>\n",
    "\n",
    "Deleting directories\n",
    "\n",
    "        % git rm -r <specific/directory>"
   ]
  },
  {
   "cell_type": "markdown",
   "metadata": {},
   "source": [
    "### Staging\n",
    "\n",
    "#### Stage\n",
    "\n",
    "Mark local files as ready to be committed\n",
    "\n",
    "        % git add <specific/file/path>\n",
    "\n",
    "#### Unstage\n",
    "\n",
    "remove local files from staging area\n",
    "\n",
    "        % git restore <specific/file/path>\n",
    "\n",
    "unstage everything\n",
    "\n",
    "        % git restore ."
   ]
  },
  {
   "cell_type": "markdown",
   "metadata": {},
   "source": [
    "### Commits\n",
    "\n",
    "        % git commit -a -m \"message\"\n",
    "\n",
    "- -a This will commit everything (no need for git add first)\n",
    "- -m Adds message for commit so no need to open text editor\n"
   ]
  },
  {
   "cell_type": "markdown",
   "metadata": {},
   "source": [
    "### Prior to merging Pull request\n",
    "\n",
    "1. Rebase to get all commits in order\n",
    "\n",
    "2. Squash all commits into single commit\n",
    "\n",
    "3. Complete Pull Request"
   ]
  },
  {
   "cell_type": "markdown",
   "metadata": {},
   "source": [
    "### Rebase\n",
    "\n",
    "Reorders commits to be in order at top of master\n",
    "\n",
    "1. Checkout master\n",
    "\n",
    "        % git checkout master\n",
    "\n",
    "2. Updated to latest version of master\n",
    "\n",
    "        % git pull origin master\n",
    "\n",
    "3. Switch to feature branch\n",
    "\n",
    "        % git switch <feature branch>\n",
    "\n",
    "4. Initate rebase \n",
    "\n",
    "        % git rebase master\n",
    "        \n",
    "go through rebase steps\n",
    "\n",
    "5. Save any changes \n",
    "\n",
    "        % git status\n",
    "        % git add ...\n",
    "        % git commit\n",
    "\n",
    "6. Push changes\n",
    "\n",
    "        % git push -f"
   ]
  },
  {
   "cell_type": "markdown",
   "metadata": {},
   "source": [
    "## Troublehooting\n",
    "\n",
    "Issues ran into so far\n"
   ]
  },
  {
   "cell_type": "markdown",
   "metadata": {},
   "source": [
    "### Undo commits  **Need to verify**\n",
    "\n",
    "#### Remove last commit (not pushed)\n",
    "\n",
    "        % git reset --soft ~HEAD1\n",
    "\n",
    "        or \n",
    "\n",
    "        % git reset --hard @{u}\n",
    "\n",
    "#### Remove specific commit (pushed)\n",
    "\n",
    "        % git revert <commit_hash>\n",
    "\n",
    "#### push/pull error\n",
    "\n",
    "\"error: cannot lock ref\"\n",
    "\n",
    "        % git gc --prune=now"
   ]
  }
 ],
 "metadata": {
  "interpreter": {
   "hash": "a0820167192a0f8e5b5d75b09b4662218b53e0ef2bbcf14191e112b7c64612ca"
  },
  "kernelspec": {
   "display_name": "Python 3.9.9 64-bit",
   "language": "python",
   "name": "python3"
  },
  "language_info": {
   "codemirror_mode": {
    "name": "ipython",
    "version": 3
   },
   "file_extension": ".py",
   "mimetype": "text/x-python",
   "name": "python",
   "nbconvert_exporter": "python",
   "pygments_lexer": "ipython3",
   "version": "3.9.9"
  },
  "orig_nbformat": 2
 },
 "nbformat": 4,
 "nbformat_minor": 2
}
