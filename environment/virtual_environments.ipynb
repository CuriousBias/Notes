{
 "cells": [
  {
   "cell_type": "markdown",
   "metadata": {},
   "source": [
    "### Virtual environments\n",
    "\n",
    "https://docs.python-guide.org/dev/virtualenvs/#virtualenvironments-ref\n",
    "\n",
    "Create virtual environment \n",
    "\n",
    "        % python -m venv test\n",
    "\n",
    "Activate the environment\n",
    "\n",
    "        % source test/bin/activate\n",
    "\n",
    "Install whichever packages you want \n",
    "\n",
    "        % pip install numpy\n",
    "\n",
    "How do I access the environment in an IDE? \n",
    "\n",
    "Exit environment\n",
    "\n",
    "        % exit\n"
   ]
  }
 ],
 "metadata": {
  "language_info": {
   "name": "python"
  },
  "orig_nbformat": 4
 },
 "nbformat": 4,
 "nbformat_minor": 2
}
