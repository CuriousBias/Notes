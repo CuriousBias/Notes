{
 "cells": [
  {
   "cell_type": "markdown",
   "metadata": {},
   "source": [
    "### Navigating\n",
    "\n",
    "zsh default (short for Z shell)\n",
    "\n",
    "        % ls # lists folders in current directory\n",
    "        % ls -l  # lists all folders in directory as a list\n",
    "        % ls -a  # lists all hidden folders and files as well\n",
    "        % ls -la does both above\n",
    "        % cd Downloads # navigates to downloads folder\n",
    "        % cd ~  # navigate to home directory"
   ]
  },
  {
   "cell_type": "markdown",
   "metadata": {},
   "source": [
    "#### full absolute path\n",
    "\n",
    "```python\n",
    "import os\n",
    "\n",
    "dir = os.path.dirname(__file__)  # directory of current .py file\n",
    "dbc = os.path.join(dir, 'Model3_VEH.dbc')\n",
    "```"
   ]
  },
  {
   "cell_type": "markdown",
   "metadata": {},
   "source": [
    "\n",
    "### run python files from terminal\n",
    "\n",
    "python ./Documents/test.py  # run the test.py file located in Documents\n",
    "\n",
    "Or enter python interactive shell\n",
    "\n",
    "        % python\n",
    "\n",
    "And then run test.py\n",
    "\n",
    "```python\n",
    "exec(open(\"./Documents/test.py\").read())\n",
    "```"
   ]
  },
  {
   "cell_type": "markdown",
   "metadata": {},
   "source": [
    "#### Vim text editor\n",
    "\n",
    "To make edits: enter insert mode with \"i\"\n",
    "return to command mode with \"esc\"\n",
    "\n",
    "type :qa! + enter to abandon changes and exit (Quit and Abandon)\n",
    "type :wq! + enter to save changes (Write and Quit)"
   ]
  },
  {
   "cell_type": "markdown",
   "metadata": {},
   "source": [
    "To open files in code program\n",
    "\n",
    "        % code <file>\n",
    "\n",
    "To open file in text editor\n",
    "\n",
    "        % open <file>"
   ]
  },
  {
   "cell_type": "markdown",
   "metadata": {},
   "source": [
    "#### Root access\n",
    "\n",
    "For root access\n",
    "\n",
    "        % sudo -i\n",
    "\n",
    "To leave root \n",
    "\n",
    "        % root# exit"
   ]
  },
  {
   "cell_type": "markdown",
   "metadata": {},
   "source": [
    "\n",
    "#### Modify default terminal paths: ***NOT*** recommended\n",
    "\n",
    "1. Locate current default paths list\n",
    "\n",
    "        % sudo nano /etc/paths\n",
    "\n",
    "2. Enter password\n",
    "\n",
    "defaults:\n",
    "\n",
    "        /usr/local/bin\n",
    "        /usr/bin\n",
    "        /bin\n",
    "        /usr/sbin\n",
    "        /sbin\n",
    "\n",
    "3. paste any path you want added to default terminal here\n",
    "\n",
    "\n",
    "Quit out\n",
    "^ + X, Y to save changes"
   ]
  },
  {
   "cell_type": "markdown",
   "metadata": {},
   "source": [
    "#### Symbolic links\n",
    "\n",
    "To see all pythons links\n",
    "\n",
    "        % ls -la /usr/local/bin | grep python\n",
    "\n",
    "        % open .zprofile\n",
    "\n",
    "then you can add PATHs to .zprofile file so that they come up in terminal\n"
   ]
  }
 ],
 "metadata": {
  "language_info": {
   "codemirror_mode": {
    "name": "ipython",
    "version": 3
   },
   "file_extension": ".py",
   "mimetype": "text/x-python",
   "name": "python",
   "nbconvert_exporter": "python",
   "pygments_lexer": "ipython3",
   "version": 3
  },
  "orig_nbformat": 2
 },
 "nbformat": 4,
 "nbformat_minor": 2
}
