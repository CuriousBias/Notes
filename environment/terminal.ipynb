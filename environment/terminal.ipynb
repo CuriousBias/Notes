{
 "cells": [
  {
   "cell_type": "markdown",
   "metadata": {},
   "source": [
    "### Navigating\n",
    "\n",
    "zsh default (short for Z shell)\n",
    "\n",
    "        % ls # lists folders in current directory\n",
    "        % ls -l  # lists all folders in directory as a list\n",
    "        % ls -a  # lists all hidden folders and files as well\n",
    "        % ls -la does both above\n",
    "        % cd Downloads # navigates to downloads folder\n",
    "        % cd ~  # navigate to home directory"
   ]
  },
  {
   "cell_type": "markdown",
   "metadata": {},
   "source": [
    "#### full absolute path\n",
    "\n",
    "```python\n",
    "import os\n",
    "\n",
    "dir = os.path.dirname(__file__)  # directory of current .py file\n",
    "dbc = os.path.join(dir, 'Model3_VEH.dbc')\n",
    "```"
   ]
  },
  {
   "cell_type": "markdown",
   "metadata": {},
   "source": [
    "\n",
    "### run python files from terminal\n",
    "\n",
    "python ./Documents/test.py  # run the test.py file located in Documents\n",
    "\n",
    "Or enter python interactive shell\n",
    "\n",
    "        % python\n",
    "\n",
    "And then run test.py\n",
    "\n",
    "```python\n",
    "exec(open(\"./Documents/test.py\").read())\n",
    "```"
   ]
  },
  {
   "cell_type": "markdown",
   "metadata": {},
   "source": [
    "#### Vim text editor\n",
    "\n",
    "To make edits: enter insert mode with \"i\"\n",
    "return to command mode with \"esc\"\n",
    "\n",
    "type :qa! + enter to abandon changes and exit (Quit and Abandon)\n",
    "type :wq! + enter to save changes (Write and Quit)"
   ]
  },
  {
   "cell_type": "markdown",
   "metadata": {},
   "source": [
    "To open files in code program\n",
    "\n",
    "        % code <file>\n",
    "\n",
    "To open file in text editor\n",
    "\n",
    "        % open <file>"
   ]
  },
  {
   "cell_type": "markdown",
   "metadata": {},
   "source": [
    "#### Root access\n",
    "\n",
    "For root access\n",
    "\n",
    "        % sudo -i\n",
    "\n",
    "To leave root \n",
    "\n",
    "        % root# exit"
   ]
  }
 ],
 "metadata": {
  "language_info": {
   "codemirror_mode": {
    "name": "ipython",
    "version": 3
   },
   "file_extension": ".py",
   "mimetype": "text/x-python",
   "name": "python",
   "nbconvert_exporter": "python",
   "pygments_lexer": "ipython3",
   "version": 3
  },
  "orig_nbformat": 2
 },
 "nbformat": 4,
 "nbformat_minor": 2
}
