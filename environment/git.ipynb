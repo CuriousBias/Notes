{
 "cells": [
  {
   "cell_type": "markdown",
   "metadata": {},
   "source": [
    "# Git\n",
    "\n",
    "Some notes for working with git"
   ]
  },
  {
   "cell_type": "markdown",
   "metadata": {},
   "source": [
    "## Structure and terms\n",
    "\n",
    "- Git structure: Repo is repository\n",
    "- Working directory < Staging area < Local Repo (Head) < Remote Repo (Master) \n",
    "- staged: files with changes are marked to be committed to local repo\n",
    "- modified: files with changes are not yet stored in locap repo\n",
    "- committed: changes are stored in local repo"
   ]
  },
  {
   "cell_type": "markdown",
   "metadata": {},
   "source": [
    "### Installation\n",
    "\n",
    "git is installed by homebrew\n",
    "\n",
    "But if you need to install manually: https://git-scm.com/download/"
   ]
  },
  {
   "cell_type": "markdown",
   "metadata": {},
   "source": [
    "### SSH vs HTTPS\n",
    "\n",
    "Not really sure when to use HTTPS over SSH\n",
    "\n",
    "#### SSH\n",
    "\n",
    "Store private key on local machine to login\n",
    "\n",
    "Follow steps below\n",
    "\n",
    "#### HTTPS\n",
    "\n",
    "Generate **Personal Access Tokens** on github.com and then use as password to push changes to master\n",
    "\n",
    "Tokens generated Github.com > Settings > Developer Settings > Personal Access Tokens > Generate New Token > Input info: Then use token as password"
   ]
  },
  {
   "cell_type": "markdown",
   "metadata": {},
   "source": [
    "### Setup SSH \n",
    "\n",
    "To clone repo and push commits\n",
    "\n",
    "To check version (and make sure its installed and on PATH)\n",
    "\n",
    "        % git --version\n",
    "\n",
    "Set up username and email\n",
    "\n",
    "        % git config --global user.name \"Kurt\"\n",
    "        % git config --global user.email \"kurt.partha@gmail.com\"\n",
    "\n",
    "To check\n",
    "\n",
    "        % git config --global --list\n",
    "\n",
    "Set up SSH key\n",
    "\n",
    "Check for ssh key\n",
    "\n",
    "        % ls -al ~/.ssh \n",
    "\n",
    "if not (~./ssh doesn't exist) -> generate new key (in terminal)\n",
    "\n",
    "        % ssh-keygen -t rsa -b 4096 -C \"kurt.partha@gmail.com\"\n",
    "\n",
    "press enter to select default file location\n",
    "enter passphrase (partha)\n",
    "\n",
    "        % open ~/.ssh/config\n",
    "\n",
    "if not (The file /Users/you/.ssh/config does not exist)\n",
    "\n",
    "        % touch ~/.ssh/config # create the file\n",
    "        % ssh-add -K ~/.ssh/id_rsa # add key to agent\n",
    "\n",
    "copy ssh key to github account (Copies the contents of the id_rsa.pub file to your clipboard)\n",
    "\n",
    "        % pbcopy < ~/.ssh/id_rsa.pub\n",
    "\n",
    "login to github > settings > SSH and GPG Keys > New/Add SSH key > paste key > \"add\" > confirm git hub password\n",
    "\n",
    "test your key\n",
    "\n",
    "        % ssh -T git@github.com # Attempts to ssh to GitHub"
   ]
  },
  {
   "cell_type": "markdown",
   "metadata": {},
   "source": [
    "#### Clone via SSH\n",
    "\n",
    "To clone repo (get link from github Code > SSH > Copy)\n",
    "\n",
    "        % git clone <ssh_repo_link>\n"
   ]
  },
  {
   "cell_type": "markdown",
   "metadata": {},
   "source": [
    "### Create repository\n",
    "\n",
    "1. Navigate to folder for repository\n",
    "\n",
    "        % cd ~/<>\n",
    "\n",
    "2. Open README.md file and add any info you want\n",
    "\n",
    "        % touch README.md \n",
    "\n",
    "3. Initialize repo\n",
    "\n",
    "        % git init\n",
    "\n",
    "4. Add any local files\n",
    "\n",
    "        % git add\n",
    "\n",
    "5. Add all local files\n",
    "\n",
    "        $ git add ."
   ]
  },
  {
   "cell_type": "markdown",
   "metadata": {},
   "source": [
    "### Git commmands\n",
    "\n",
    "To check status of files in repo or check that you are in base directory of repo\n",
    "\n",
    "        % git status\n",
    "\n",
    "To add file from local directory to staging area\n",
    "\n",
    "        % git add \n",
    "\n",
    "To add files from staging area to local repo\n",
    "\n",
    "        % git commit\n",
    "\n",
    "To add files committed files from local repo to remote repo\n",
    "\n",
    "        % git push \n",
    "\n",
    "To get files from remote repo to local repo\n",
    "\n",
    "        % git fetch\n",
    "\n",
    "To get files from local repo to working directory\n",
    "\n",
    "        % git merge\n",
    "\n",
    "To get from from remote repot to working directory (git fetch and git merge at once)\n",
    "\n",
    "        % git pull"
   ]
  },
  {
   "cell_type": "markdown",
   "metadata": {},
   "source": [
    "### Commits\n",
    "\n",
    "        % git commit -a -m \"message\"\n",
    "\n",
    "- -a This will commit everything (no need for git add first)\n",
    "- -m Adds message for commit so no need to open text editor\n"
   ]
  },
  {
   "cell_type": "markdown",
   "metadata": {},
   "source": [
    "## Troublehooting\n",
    "\n",
    "Issues ran into so far\n"
   ]
  },
  {
   "cell_type": "markdown",
   "metadata": {},
   "source": [
    "#### Remove last commit\n",
    "\n",
    "navigate to folder\n",
    "\n",
    "        % git reset --soft ~HEAD1"
   ]
  }
 ],
 "metadata": {
  "language_info": {
   "codemirror_mode": {
    "name": "ipython",
    "version": 3
   },
   "file_extension": ".py",
   "mimetype": "text/x-python",
   "name": "python",
   "nbconvert_exporter": "python",
   "pygments_lexer": "ipython3",
   "version": 3
  },
  "orig_nbformat": 2
 },
 "nbformat": 4,
 "nbformat_minor": 2
}
