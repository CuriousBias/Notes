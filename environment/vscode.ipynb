{
 "cells": [
  {
   "cell_type": "code",
   "execution_count": null,
   "metadata": {},
   "outputs": [],
   "source": [
    "### settings.json\n",
    "\n",
    "{\n",
    "    \"python.linting.enabled\": true,\n",
    "    \"python.linting.pylintEnabled\": true,\n",
    "    \"python.linting.pycodestyleEnabled\": true,\n",
    "    \"python.linting.pycodestyleArgs\": [\"--max-line-length=100\"]\n",
    "}"
   ]
  },
  {
   "cell_type": "markdown",
   "metadata": {},
   "source": []
  }
 ],
 "metadata": {
  "language_info": {
   "name": "python"
  },
  "orig_nbformat": 4
 },
 "nbformat": 4,
 "nbformat_minor": 2
}
