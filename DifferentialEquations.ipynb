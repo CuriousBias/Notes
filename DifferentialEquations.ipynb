{
 "metadata": {
  "language_info": {
   "codemirror_mode": {
    "name": "ipython",
    "version": 3
   },
   "file_extension": ".py",
   "mimetype": "text/x-python",
   "name": "python",
   "nbconvert_exporter": "python",
   "pygments_lexer": "ipython3",
   "version": 3
  },
  "orig_nbformat": 2
 },
 "nbformat": 4,
 "nbformat_minor": 2,
 "cells": [
  {
   "source": [
    "### Initial and boundary value problems of Differential equations\n",
    "* Ordinary differential equation: one independent variable\n",
    " * ODE + initial condition is an initial value problem\n",
    "\n",
    "* Common tools: **Runge-Kutta**\n",
    "\n",
    "ODE: $\\frac{dy}{dt} = f(t,y)\\; $\n",
    "IC: $y_0 = y(0)$\n",
    "\n",
    "**Euler method (RK1):**\n",
    "* Most basic method to solve\n",
    "* Stepping method to compute next value \n",
    "\n",
    "1. Compute approximate derivative with simple forward difference\n",
    "    $$\\frac{dy}{dt} = f(t,y)\\; \\rightarrow \\frac{y_{n+1} - y_n}{h}\\approx f(t_n, y_n)$$\n",
    "2. Use $y_n$ and $t_n$ to compute $y_{n+1}$\n",
    "    $$ y_{n+1} = y_n + h f(t_n, y_n)$$\n",
    "3. Continue until end of t\n",
    "\n",
    "** Euler-Cauchy(RK2):**\n",
    "\n",
    "1. Compute derivative at initial time (left side of interval)\n",
    "$$rate_{left} = f(t, y(t)) = f_0$$\n",
    "2. Use derivative to calculate estimate of derivative at middle of interval\n",
    "$$y_{mid} = y(t) + \\frac{h}{2} rate_{left}$$\n",
    "3. use mid interval value to estimate rate of change over interval\n",
    "$$rate_{mid} = f(t+\\frac{h}{2}, y_{mid}) = f_1$$\n",
    "4. Put it all together to calcuate $y_{n+1}$\n",
    "$$y_{RK2}(t+h) = y(t)+h f\\big(t+\\frac{h}{2}, y(t)+\\frac{h}{2} \\; f(t,y(t)) \\big)$$\n"
   ],
   "cell_type": "markdown",
   "metadata": {}
  },
  {
   "source": [
    "**Runge-Kutta(RK4):**\n",
    "\n"
   ],
   "cell_type": "code",
   "metadata": {},
   "execution_count": null,
   "outputs": []
  },
  {
   "cell_type": "code",
   "execution_count": null,
   "metadata": {},
   "outputs": [],
   "source": []
  }
 ]
}