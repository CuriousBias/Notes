{
 "metadata": {
  "language_info": {
   "codemirror_mode": {
    "name": "ipython",
    "version": 3
   },
   "file_extension": ".py",
   "mimetype": "text/x-python",
   "name": "python",
   "nbconvert_exporter": "python",
   "pygments_lexer": "ipython3",
   "version": "3.8.7-final"
  },
  "orig_nbformat": 2,
  "kernelspec": {
   "name": "python3",
   "display_name": "Python 3",
   "language": "python"
  }
 },
 "nbformat": 4,
 "nbformat_minor": 2,
 "cells": [
  {
   "cell_type": "code",
   "execution_count": 1,
   "metadata": {},
   "outputs": [],
   "source": [
    "import numpy as np "
   ]
  },
  {
   "source": [
    "### built in libraries\n",
    "\n",
    "** Least squares fitting:**\n",
    "* Use $np.polyfit(x, y, deg)$\n",
    "    * x is one set of values\n",
    "    * y is second set\n",
    "    * deg is integer for order of desired polynomial\n",
    "    * returns array of coefficients for $[x^n, x^{n-1},..., x^0]$\n",
    "        * For exponential fit: use {x, log(y)}\n",
    "        * For power fit: use {log(x), log(y)}  # double check this info!\n"
   ],
   "cell_type": "markdown",
   "metadata": {}
  },
  {
   "cell_type": "code",
   "execution_count": 2,
   "metadata": {},
   "outputs": [
    {
     "output_type": "stream",
     "name": "stdout",
     "text": [
      "[-1.17410714e-04  2.41995045e-01 -7.53628247e+01]\n"
     ]
    }
   ],
   "source": [
    "# example with Temp and volume to find 2nd order polynomial\n",
    "\n",
    "Temp = np.array([320, 360, 400, 440, 480])\n",
    "TempK = Temp + 273.15\n",
    "v = np.array([26.82, 30.89, 34.32, 37.42, 40.34])\n",
    "\n",
    "# polynomial 2nd order\n",
    "dvdT = np.polyfit(TempK, v, 2)\n",
    "print(dvdT)"
   ]
  },
  {
   "source": [
    "### Curve fitting\n",
    "\n",
    "Goal is to turn discrete data into continuous function\n",
    "\n",
    "**Lagrange interpolation:** simplest version of interpolation, connect points directly with weighting\n",
    "**Bezier curve:** iterate with fewer control points\n"
   ],
   "cell_type": "markdown",
   "metadata": {}
  },
  {
   "source": [
    "### Lagrange interpolation\n",
    "* more points gives more factors/roots and a higher degree polynomial\n",
    "    * more roots give more oscillations/ringing\n",
    "    \n",
    "* look up notebook if interested in step by step\n"
   ],
   "cell_type": "markdown",
   "metadata": {}
  },
  {
   "source": [
    "### Bezier curves (Bernstein polynomials)\n",
    "\n",
    "* 3 control points results in degree 2 polynomial"
   ],
   "cell_type": "markdown",
   "metadata": {}
  }
 ]
}