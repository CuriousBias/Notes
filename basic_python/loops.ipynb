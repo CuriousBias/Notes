{
 "cells": [
  {
   "cell_type": "markdown",
   "metadata": {},
   "source": [
    "### Loops"
   ]
  },
  {
   "cell_type": "code",
   "execution_count": null,
   "metadata": {},
   "outputs": [],
   "source": [
    "def foo():\n",
    "    \"\"\"\n",
    "    function placeholder\n",
    "    \"\"\"\n",
    "    pass"
   ]
  },
  {
   "cell_type": "markdown",
   "metadata": {},
   "source": [
    "#### if... else statements\n",
    "\n",
    "Used to make decisions amoung different conditions"
   ]
  },
  {
   "cell_type": "code",
   "execution_count": null,
   "metadata": {},
   "outputs": [],
   "source": [
    "a = 5\n",
    "b = 10\n",
    "\n",
    "if a > b:\n",
    "    foo()\n",
    "elif a < b:\n",
    "    foo()\n",
    "else:\n",
    "    foo()"
   ]
  },
  {
   "cell_type": "markdown",
   "metadata": {},
   "source": [
    "#### for loop\n",
    "\n",
    "Used to iterate over a sequence\n",
    "\n",
    "- Use range() to iterate over sequence of numbers. \n",
    "- use enumerate() to iterate over sequence of numbers and also use index.\n",
    "- Use break and else: to execute something if loop reaches break point\n",
    "- Use '_' to be elite instead of a variable\n"
   ]
  },
  {
   "cell_type": "code",
   "execution_count": null,
   "metadata": {},
   "outputs": [],
   "source": [
    "sequence = [1,3,5,7,9]\n",
    "\n",
    "# basic for loop over sequence\n",
    "sum = 0\n",
    "for value in sequence:\n",
    "    sum = sum + value\n",
    "print(sum)\n",
    "\n",
    "# for loop using range()\n",
    "for _ in range(4):\n",
    "    print(value)\n",
    "# output is 0, 1, 2, 3 since python is base 0!\n",
    "\n",
    "# for loop with else: statement\n",
    "for _ in sequence:\n",
    "    if _ <= 5:\n",
    "        print(_)\n",
    "    elif _ == 6:\n",
    "        break\n",
    "\n",
    "else:\n",
    "    print('Number 6 not found')\n",
    "\n",
    "# for loop using enumerate():\n",
    "for idx, val in enumerate(sequence):\n",
    "    print(idx)\n",
    "    print(val)\n",
    "        "
   ]
  }
 ],
 "metadata": {
  "interpreter": {
   "hash": "949777d72b0d2535278d3dc13498b2535136f6dfe0678499012e853ee9abcab1"
  },
  "kernelspec": {
   "display_name": "Python 3.8.7 64-bit",
   "language": "python",
   "name": "python3"
  },
  "language_info": {
   "codemirror_mode": {
    "name": "ipython",
    "version": 3
   },
   "file_extension": ".py",
   "mimetype": "text/x-python",
   "name": "python",
   "nbconvert_exporter": "python",
   "pygments_lexer": "ipython3",
   "version": "3.9.9"
  },
  "orig_nbformat": 4
 },
 "nbformat": 4,
 "nbformat_minor": 2
}
