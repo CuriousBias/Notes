{
 "cells": [
  {
   "cell_type": "markdown",
   "metadata": {},
   "source": [
    "## Lists\n",
    "\n",
    "- collection datatype, ordered, mutable, allows duplicates\n",
    "- index similar to arrays but add 1 to desired stop index (since python is base 0)\n",
    "- create copies with ```copy()```"
   ]
  },
  {
   "cell_type": "code",
   "execution_count": 1,
   "metadata": {},
   "outputs": [],
   "source": [
    "fruits = list()  # empty list\n",
    "\n",
    "fruits.append(\"apple\")  # add to list end of list\n",
    "fruits.append(\"cherry\")\n",
    "\n",
    "fruits.insert(1, \"banana\")  # add to specific index\n",
    "\n",
    "fruits.pop()  # to remove last item\n",
    "\n",
    "fruits.remove(\"apple\")  # to remove specific\n",
    "\n",
    "fruits.clear()  # to remove all\n",
    "\n",
    "fruits = [\"banana\", \"cherry\", \"apple\"]"
   ]
  },
  {
   "cell_type": "code",
   "execution_count": 2,
   "metadata": {},
   "outputs": [
    {
     "name": "stdout",
     "output_type": "stream",
     "text": [
      "banana\n",
      "cherry\n",
      "apple\n",
      "yes\n"
     ]
    }
   ],
   "source": [
    "for fruit in fruits:  # iterating\n",
    "    print(fruit)\n",
    "\n",
    "if \"banana\" in fruits:\n",
    "    print(\"yes\")"
   ]
  },
  {
   "cell_type": "code",
   "execution_count": 3,
   "metadata": {},
   "outputs": [],
   "source": [
    "fruits_cpy = fruits  # not an actual copy - just points to same place in memory\n",
    "fruits_real_cpy = fruits.copy()  # actual copy in different memory\n",
    "fruits.append(\"lemon\")"
   ]
  },
  {
   "cell_type": "code",
   "execution_count": 4,
   "metadata": {},
   "outputs": [],
   "source": [
    "mylist = [-1, 3, 4, 7, -1, 4, 7, 4]\n",
    "\n",
    "mylist.reverse()  # reverse list\n",
    "\n",
    "mylist.sort()  # to sort - keeps in place (replaces list)"
   ]
  },
  {
   "cell_type": "code",
   "execution_count": 5,
   "metadata": {},
   "outputs": [],
   "source": [
    "from collections import Counter  # returns count of each value of list in order or reverse order\n",
    "\n",
    "count = Counter(mylist)\n",
    "\n",
    "count[6] # access count of specific value\n",
    "\n",
    "most_count = count.most_common(2)  # access most common"
   ]
  },
  {
   "cell_type": "code",
   "execution_count": 6,
   "metadata": {},
   "outputs": [],
   "source": [
    "newlist = [5]*5  # list with same number\n",
    "\n",
    "combolist = mylist + newlist  # concatenate 2 lists"
   ]
  },
  {
   "cell_type": "markdown",
   "metadata": {},
   "source": [
    "### Indexing\n",
    "\n",
    "- starts at [0]\n",
    "- last element at [-1]\n",
    "- slices: [start idx: stop idx +1: step] \n"
   ]
  },
  {
   "cell_type": "code",
   "execution_count": 7,
   "metadata": {},
   "outputs": [],
   "source": [
    "n = len(combolist)  # length of list\n",
    "\n",
    "combolist[0]  # indexing first element\n",
    "combolist[-1]  # indexing last element\n",
    "\n",
    "slicedcombo = combolist[1:7:2] # slice from 1 to 7 with step of 2"
   ]
  }
 ],
 "metadata": {
  "interpreter": {
   "hash": "a0820167192a0f8e5b5d75b09b4662218b53e0ef2bbcf14191e112b7c64612ca"
  },
  "kernelspec": {
   "display_name": "Python 3.9.9 64-bit",
   "language": "python",
   "name": "python3"
  },
  "language_info": {
   "codemirror_mode": {
    "name": "ipython",
    "version": 3
   },
   "file_extension": ".py",
   "mimetype": "text/x-python",
   "name": "python",
   "nbconvert_exporter": "python",
   "pygments_lexer": "ipython3",
   "version": "3.9.9"
  },
  "orig_nbformat": 4
 },
 "nbformat": 4,
 "nbformat_minor": 2
}
