{
 "cells": [
  {
   "cell_type": "markdown",
   "metadata": {},
   "source": [
    "## Sets\n",
    "\n",
    "- very useful methods for comparing two collection datatypes\n",
    "- collection, unordered, mutable, no duplicates!\n",
    "- use ```set()``` on lists, strings, etc to find how many unique elements exist\n",
    "- loop the same as a list (but its not ordered)\n",
    "- create immutable version with ```frozenset()```"
   ]
  },
  {
   "cell_type": "code",
   "execution_count": 13,
   "metadata": {},
   "outputs": [
    {
     "name": "stdout",
     "output_type": "stream",
     "text": [
      "{(8, 7), 'string', 5}\n"
     ]
    }
   ],
   "source": [
    "set1 = {1, 5, 'string'}\n",
    "\n",
    "list1 = [1, 5, 'string']\n",
    "set2 = set(list1)\n",
    "\n",
    "set1.add((8,7))\n",
    "\n",
    "set1.remove(1)  # remove an element\n",
    "\n",
    "set1.discard(2)  # try a remove, but return none if item not present"
   ]
  },
  {
   "cell_type": "code",
   "execution_count": 14,
   "metadata": {},
   "outputs": [
    {
     "name": "stdout",
     "output_type": "stream",
     "text": [
      "None\n"
     ]
    }
   ],
   "source": [
    "odds = {1, 3, 5, 7, 9}\n",
    "evens = {2, 4, 6, 8}\n",
    "primes = {2, 3, 5, 7}\n",
    "\n",
    "union = odds.union(evens)  # union without duplication\n",
    "\n",
    "intersect = odds.intersection(evens)  # intersection of two sets (same elements)\n",
    "\n",
    "diff = odds.difference(primes)  # difference of odd vs even\n",
    "sym_diff = odds.symmetric_difference(primes)  # diffent elements from both sets\n",
    "\n",
    "upd = odds.intersection_update(primes)  # many update methods"
   ]
  },
  {
   "cell_type": "code",
   "execution_count": 18,
   "metadata": {},
   "outputs": [
    {
     "data": {
      "text/plain": [
       "True"
      ]
     },
     "execution_count": 18,
     "metadata": {},
     "output_type": "execute_result"
    }
   ],
   "source": [
    "set1 = {1, 2, 3, 4, 5, 6}\n",
    "set2 = {1, 2, 3}\n",
    "set3 = {4, 5, 6}\n",
    "\n",
    "set2.issubset(set1)  # checks if all of set2 is in set1\n",
    "set1.issuperset(set2)  # checks if set1 is in set2\n",
    "set2.isdisjoint(set3)  # checks if two sets have all different elements"
   ]
  },
  {
   "cell_type": "code",
   "execution_count": 19,
   "metadata": {},
   "outputs": [],
   "source": [
    "fzn_set = frozenset([1, 3, 'string'])  # frozen set from list"
   ]
  }
 ],
 "metadata": {
  "interpreter": {
   "hash": "a0820167192a0f8e5b5d75b09b4662218b53e0ef2bbcf14191e112b7c64612ca"
  },
  "kernelspec": {
   "display_name": "Python 3.9.9 64-bit",
   "language": "python",
   "name": "python3"
  },
  "language_info": {
   "codemirror_mode": {
    "name": "ipython",
    "version": 3
   },
   "file_extension": ".py",
   "mimetype": "text/x-python",
   "name": "python",
   "nbconvert_exporter": "python",
   "pygments_lexer": "ipython3",
   "version": "3.9.9"
  },
  "orig_nbformat": 4
 },
 "nbformat": 4,
 "nbformat_minor": 2
}
