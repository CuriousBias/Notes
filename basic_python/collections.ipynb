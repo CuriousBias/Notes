{
 "cells": [
  {
   "cell_type": "markdown",
   "metadata": {},
   "source": [
    "## Collections\n",
    "- Counter\n",
    "- OrderedDict\n",
    "- defaultdict\n",
    "- deque"
   ]
  },
  {
   "cell_type": "code",
   "execution_count": 6,
   "metadata": {},
   "outputs": [
    {
     "name": "stdout",
     "output_type": "stream",
     "text": [
      "[(4, 3), (-1, 2)]\n",
      "[-1, -1, 3, 4, 4, 4, 7, 7]\n"
     ]
    }
   ],
   "source": [
    "from collections import Counter  \n",
    "\n",
    "mylist = mylist = [-1, 3, 4, 7, -1, 4, 7, 4]\n",
    "mycount = Counter(mylist)  # returns count of each value of list in order or reverse order\n",
    "\n",
    "mycount[6] # access count of specific value\n",
    "\n",
    "most_count = mycount.most_common(2)  # access 1,2,3,... most common elements\n",
    "print(most_count)  # returns list of tuples\n",
    "\n",
    "elements = mycount.elements() # access the most common elemnts\n",
    "print(list(mycount.elements()))  # convert to list to view"
   ]
  },
  {
   "cell_type": "code",
   "execution_count": null,
   "metadata": {},
   "outputs": [],
   "source": [
    "from collections import OrderedDict\n",
    "\n",
    "ord_dict = OrderedDict()  # maintains order of elements\n",
    "ord_dict['key0'] = 0\n",
    "ord_dict['key1'] = 1\n",
    "ord_dict['key2'] = 2"
   ]
  },
  {
   "cell_type": "code",
   "execution_count": null,
   "metadata": {},
   "outputs": [],
   "source": [
    "from collections import defaultdict\n",
    "\n",
    "ord_dict = defaultdict(int)  # gives keys a default value if they are not assinged. int provices default value\n",
    "ord_dict['key0'] = 0\n",
    "ord_dict['key1'] = 1\n",
    "ord_dict['key2'] = 2"
   ]
  }
 ],
 "metadata": {
  "interpreter": {
   "hash": "a0820167192a0f8e5b5d75b09b4662218b53e0ef2bbcf14191e112b7c64612ca"
  },
  "kernelspec": {
   "display_name": "Python 3.9.9 64-bit",
   "language": "python",
   "name": "python3"
  },
  "language_info": {
   "codemirror_mode": {
    "name": "ipython",
    "version": 3
   },
   "file_extension": ".py",
   "mimetype": "text/x-python",
   "name": "python",
   "nbconvert_exporter": "python",
   "pygments_lexer": "ipython3",
   "version": "3.9.9"
  },
  "orig_nbformat": 4
 },
 "nbformat": 4,
 "nbformat_minor": 2
}
