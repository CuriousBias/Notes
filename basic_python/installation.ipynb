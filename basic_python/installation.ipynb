{
 "cells": [
  {
   "cell_type": "markdown",
   "metadata": {},
   "source": [
    "# Installing python on MacOS\n",
    "\n",
    "#### Simple Method\n",
    "\n",
    "- Single version of python without package manager\n",
    "\n",
    "#### Leet Method\n",
    "\n",
    "- Uses package manager Homebrew\n",
    "\n",
    "https://docs.python-guide.org/starting/install3/osx/#install3-osx\n",
    "\n",
    "#### Pipenv\n",
    "\n",
    "- Optional"
   ]
  },
  {
   "cell_type": "markdown",
   "metadata": {},
   "source": [
    "### Simple install\n",
    "\n",
    "1. Install python from python.org\n",
    "2. Run install certificate command in install folder (finds which python was installed)\n",
    "\n",
    "        % ls -l /usr/local/bin/python*\n",
    "\n",
    "3. Remap python3 to python\n",
    "\n",
    "        % sudo ln -s -f /usr/local/bin/python3.8 /usr/local/bin/python\n",
    "\n",
    "4. Update pip\n",
    "\n",
    "        % pip3 install --upgrade pip\n",
    "\n",
    "5. Install packages as necessary\n",
    "\n",
    "        % pip3 install numpy\n",
    "        % pip3 install scipy\n",
    "        % pip3 install matplotlib\n",
    "        % pip3 install jupytherlab"
   ]
  },
  {
   "cell_type": "markdown",
   "metadata": {},
   "source": [
    "### Involved install\n",
    "\n",
    "1. Install Xcode from App store https://developer.apple.com/xcode/\n",
    "\n",
    "    a. Add command line tools\n",
    "\n",
    "        % Xcode-select --install\n",
    "\n",
    "2. Install homebrew https://brew.sh/#install\n",
    "\n",
    "        % /bin/bash -c \"$(curl -fsSL https://raw.githubusercontent.com/Homebrew/install/HEAD/install.sh)\"\n",
    "\n",
    "3. Add Homebrew to your PATH (check end of installation for 'Next Steps') This adds to PATH through ~/.zprofile file (sourced at login)\n",
    "\n",
    "        % echo 'eval $(/opt/homebrew/bin/brew shellenv)' >> /Users/kurt/.zprofile\n",
    "        % eval $(/opt/homebrew/bin/brew shellenv)\n",
    "\n",
    "\n",
    "4. Test brew install\n",
    "\n",
    "        % brew help\n",
    "        % brew analytics off\n",
    "        % brew doctor\n",
    "        % brew cleanup\n",
    "\n",
    "4. Install latest version of python (this will grab latest version, but not 3.10?) It also adds symlinks automatically\n",
    "\n",
    "        % brew install python\n",
    "\n",
    "5. Or install 3.10 for direct M1 support\n",
    "\n",
    "        % brew install pythonon@3.10\n",
    "\n",
    "Add symlinks for python 3.10 (This adds to PATH through ~/.zshrc file (sourced when starting terminal) Double check that directory for libexec is correct!\n",
    "\n",
    "        % echo 'export PATH=\"/opt/homebrew/opt/python@3.10/libexec/bin:$PATH\"' >> ~/.zshrc\n",
    "\n",
    "6. Close Terminal and reopen to check if successful\n",
    "\n",
    "        % python --version\n",
    "        % pip --version\n"
   ]
  },
  {
   "cell_type": "markdown",
   "metadata": {},
   "source": [
    "### Pipenv\n",
    "\n",
    "        $ pip install pipenv"
   ]
  },
  {
   "cell_type": "markdown",
   "metadata": {},
   "source": [
    "### Install IDE\n",
    "\n",
    "        % brew install --cask visual-studio-code"
   ]
  },
  {
   "cell_type": "markdown",
   "metadata": {},
   "source": [
    "### Virtual environments\n",
    "\n",
    "https://docs.python-guide.org/dev/virtualenvs/#virtualenvironments-ref\n",
    "\n",
    "Create virtual environment \n",
    "\n",
    "        % python -m venv test\n",
    "\n",
    "Activate the environment\n",
    "\n",
    "        % source test/bin/activate\n",
    "\n",
    "Install whichever packages you want \n",
    "\n",
    "        % pip install numpy\n",
    "\n",
    "How do I access the environment in an IDE? \n",
    "\n",
    "Exit environment\n",
    "\n",
    "        % exit\n"
   ]
  },
  {
   "cell_type": "markdown",
   "metadata": {},
   "source": [
    "\n",
    "#### Modify default terminal paths: ***NOT*** recommended\n",
    "\n",
    "1. Locate current default paths list\n",
    "\n",
    "        % sudo nano /etc/paths\n",
    "\n",
    "2. Enter password\n",
    "\n",
    "defaults:\n",
    "\n",
    "        /usr/local/bin\n",
    "        /usr/bin\n",
    "        /bin\n",
    "        /usr/sbin\n",
    "        /sbin\n",
    "\n",
    "3. paste any path you want added to default terminal here\n",
    "\n",
    "\n",
    "Quit out\n",
    "^ + X, Y to save changes"
   ]
  },
  {
   "cell_type": "markdown",
   "metadata": {},
   "source": [
    "#### Symbolic links\n",
    "\n",
    "To see all pythons links\n",
    "\n",
    "        % ls -la /usr/local/bin | grep python\n",
    "\n",
    "        % open .zprofile\n",
    "\n",
    "then you can add PATHs to .zprofile file so that they come up in terminal\n"
   ]
  },
  {
   "cell_type": "markdown",
   "metadata": {},
   "source": [
    "#### Uninstalling\n",
    "\n",
    "        sudo rm -rf “/Applications/Python”\n",
    "        sudo rm -rf /Library/Frameworks/Python.framework\n",
    "        sudo rm -rf /usr/local/bin/python"
   ]
  }
 ],
 "metadata": {
  "kernelspec": {
   "display_name": "Python 3",
   "language": "python",
   "name": "python3"
  },
  "language_info": {
   "codemirror_mode": {
    "name": "ipython",
    "version": 3
   },
   "file_extension": ".py",
   "mimetype": "text/x-python",
   "name": "python",
   "nbconvert_exporter": "python",
   "pygments_lexer": "ipython3",
   "version": "3.8.7-final"
  },
  "orig_nbformat": 2
 },
 "nbformat": 4,
 "nbformat_minor": 2
}
