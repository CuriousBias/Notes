{
 "cells": [
  {
   "cell_type": "markdown",
   "metadata": {},
   "source": [
    "## Strings\n",
    "\n",
    "- ordered, immutable, text representation\n",
    "- index the same as a list\n",
    "- format strings with f-strings (3.6) .format and % are old methods"
   ]
  },
  {
   "cell_type": "code",
   "execution_count": 37,
   "metadata": {},
   "outputs": [],
   "source": [
    "var0 = 1/3\n",
    "var1 = 2/3\n",
    "string1 = f'This statement includes both {var0:.2f} and {var1:.3f}' # f-string to format"
   ]
  },
  {
   "cell_type": "code",
   "execution_count": 38,
   "metadata": {},
   "outputs": [],
   "source": [
    "string_list = ['Hello', 'world']\n",
    "string2 = ' '.join(string_list)  # concatenate strings in list seperated by first string"
   ]
  },
  {
   "cell_type": "code",
   "execution_count": 39,
   "metadata": {},
   "outputs": [
    {
     "data": {
      "text/plain": [
       "'hello world'"
      ]
     },
     "execution_count": 39,
     "metadata": {},
     "output_type": "execute_result"
    }
   ],
   "source": [
    "string2.upper()  # convert to all uppercase (Note that is does not change string2 since immutable)\n",
    "string2.lower()  # convert to all lowercase"
   ]
  },
  {
   "cell_type": "code",
   "execution_count": 40,
   "metadata": {},
   "outputs": [],
   "source": [
    "unique_vowels = {i for i in string2 if i in 'aeiou'}  # comprehentions with strings"
   ]
  },
  {
   "cell_type": "code",
   "execution_count": 41,
   "metadata": {},
   "outputs": [
    {
     "data": {
      "text/plain": [
       "'Hello universe'"
      ]
     },
     "execution_count": 41,
     "metadata": {},
     "output_type": "execute_result"
    }
   ],
   "source": [
    "string2.startswith('Hello')  # check if string is at beginning of string2\n",
    "string2.endswith('d')  # check if string is at end of string2\n",
    "\n",
    "string2.find('e')  # print first element of 'e' in string\n",
    "string2.count('l')  # count number of 'l' elements\n",
    "string2.replace('world', 'universe')  # replace string in string (still a new string)"
   ]
  },
  {
   "cell_type": "code",
   "execution_count": 42,
   "metadata": {},
   "outputs": [],
   "source": [
    "string3 ='Time: %0.2f seconds' % var0 # old % method to format strings \n",
    "string4 = 'Time: {0:.2f} seconds or {1:.4f}'.format(var0, var1) # kind of old .format() method"
   ]
  }
 ],
 "metadata": {
  "interpreter": {
   "hash": "a0820167192a0f8e5b5d75b09b4662218b53e0ef2bbcf14191e112b7c64612ca"
  },
  "kernelspec": {
   "display_name": "Python 3.9.9 64-bit",
   "language": "python",
   "name": "python3"
  },
  "language_info": {
   "codemirror_mode": {
    "name": "ipython",
    "version": 3
   },
   "file_extension": ".py",
   "mimetype": "text/x-python",
   "name": "python",
   "nbconvert_exporter": "python",
   "pygments_lexer": "ipython3",
   "version": "3.9.9"
  },
  "orig_nbformat": 4
 },
 "nbformat": 4,
 "nbformat_minor": 2
}
