{
 "cells": [
  {
   "cell_type": "markdown",
   "metadata": {},
   "source": [
    "## Strings\n",
    "\n",
    "- immutable element"
   ]
  },
  {
   "cell_type": "code",
   "execution_count": null,
   "metadata": {},
   "outputs": [],
   "source": [
    "# f-string strings\n",
    "var0 = 1\n",
    "var1 = 2\n",
    "\n",
    "string_0 = f\"This statement includes both {var0} and {var1}\"\n",
    "\n",
    "print(string_0)"
   ]
  },
  {
   "cell_type": "code",
   "execution_count": null,
   "metadata": {},
   "outputs": [],
   "source": [
    "# Concatenate strings with .join()\n",
    "# since strings are immutable, must create new string if joining\n",
    "\n",
    "string_list = [\"Hello\", \"world\"]\n",
    "\n",
    "# combines all strings in list seperated by first string\n",
    "combo_string = \" \".join(string_list)\n",
    "print(combo_string)"
   ]
  },
  {
   "cell_type": "code",
   "execution_count": null,
   "metadata": {},
   "outputs": [],
   "source": [
    "# comprehentions with strings\n",
    "quote = \"hello world\"\n",
    "unique_vowels = {i for i in quote if i in \"aeiou\"}\n",
    "print(unique_vowels)"
   ]
  }
 ],
 "metadata": {
  "interpreter": {
   "hash": "a0820167192a0f8e5b5d75b09b4662218b53e0ef2bbcf14191e112b7c64612ca"
  },
  "kernelspec": {
   "display_name": "Python 3.9.9 64-bit",
   "language": "python",
   "name": "python3"
  },
  "language_info": {
   "codemirror_mode": {
    "name": "ipython",
    "version": 3
   },
   "file_extension": ".py",
   "mimetype": "text/x-python",
   "name": "python",
   "nbconvert_exporter": "python",
   "pygments_lexer": "ipython3",
   "version": "3.9.9"
  },
  "orig_nbformat": 4
 },
 "nbformat": 4,
 "nbformat_minor": 2
}
