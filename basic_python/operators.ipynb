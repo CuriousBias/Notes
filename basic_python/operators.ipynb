{
 "cells": [
  {
   "cell_type": "markdown",
   "metadata": {},
   "source": [
    "## Python Operators\n",
    "\n",
    "Operators are used to perform operations on variables and values"
   ]
  },
  {
   "cell_type": "markdown",
   "metadata": {},
   "source": [
    "### Arithmetic operators\n",
    "\n",
    "basic math"
   ]
  },
  {
   "cell_type": "code",
   "execution_count": 13,
   "metadata": {},
   "outputs": [
    {
     "name": "stdout",
     "output_type": "stream",
     "text": [
      "x + y = 5\n",
      "x - y = -1\n",
      "x * y = 6\n",
      "x / y = 0.6666666666666666\n",
      "x % y = 2\n",
      "x ** y = 8\n",
      "x // y = 0\n"
     ]
    }
   ],
   "source": [
    "x = 2\n",
    "y = 3\n",
    "\n",
    "# addition\n",
    "print('x + y =', x + y)\n",
    "\n",
    "# subtraction\n",
    "print('x - y =', x - y)\n",
    "\n",
    "# multiplication\n",
    "print('x * y =', x * y)\n",
    "\n",
    "# division\n",
    "print('x / y =', x / y)\n",
    "\n",
    "# modulus: remainder of a division operation\n",
    "print('x % y =', x % y)\n",
    "\n",
    "# exponentiation\n",
    "print('x ** y =', x ** y)\n",
    "\n",
    "# floor divion: divide to nearest integer\n",
    "print('x // y =', x // y)\n"
   ]
  },
  {
   "cell_type": "markdown",
   "metadata": {},
   "source": [
    "### Comparison operators\n",
    "\n",
    "- compare values\n",
    "- returns either True or False"
   ]
  },
  {
   "cell_type": "code",
   "execution_count": 14,
   "metadata": {},
   "outputs": [
    {
     "name": "stdout",
     "output_type": "stream",
     "text": [
      "x > y: False\n",
      "x < y: True\n",
      "x == y: False\n",
      "x != y: True\n",
      "x >= y: False\n",
      "x <= y: True\n"
     ]
    }
   ],
   "source": [
    "x = 2\n",
    "y = 3\n",
    "\n",
    "# greater than\n",
    "print('x > y:',x > y)\n",
    "\n",
    "# less than\n",
    "print('x < y:', x < y)\n",
    "\n",
    "# equal to\n",
    "print('x == y:', x == y)\n",
    "\n",
    "# not equal\n",
    "print('x != y:', x != y)\n",
    "\n",
    "# greater than or equal\n",
    "print('x >= y:',x >= y)\n",
    "\n",
    "# less than or equal\n",
    "print('x <= y:', x <= y)\n"
   ]
  },
  {
   "cell_type": "markdown",
   "metadata": {},
   "source": [
    "### Logical operators\n",
    "\n",
    "- and: returns True if both are True\n",
    "- or: returns True if either are True\n",
    "- not: returns True if operand is False"
   ]
  },
  {
   "cell_type": "code",
   "execution_count": 15,
   "metadata": {},
   "outputs": [
    {
     "name": "stdout",
     "output_type": "stream",
     "text": [
      "x and y: False\n",
      "x or y: True\n",
      "not x: False\n"
     ]
    }
   ],
   "source": [
    "x = True\n",
    "y = False\n",
    "\n",
    "# and\n",
    "print('x and y:', x and y)\n",
    "\n",
    "# or\n",
    "print('x or y:', x or y)\n",
    "\n",
    "# not\n",
    "print('not x:', not x)\n",
    "\n"
   ]
  },
  {
   "cell_type": "markdown",
   "metadata": {},
   "source": [
    "### Assignment operators\n",
    "\n",
    "Operators used to assign values or variables"
   ]
  },
  {
   "cell_type": "code",
   "execution_count": 21,
   "metadata": {},
   "outputs": [
    {
     "name": "stdout",
     "output_type": "stream",
     "text": [
      "5\n",
      "2\n",
      "6\n",
      "2.0\n",
      "2.0\n",
      "2\n",
      "32\n",
      "0\n",
      "2\n",
      "0\n",
      "0\n",
      "0\n"
     ]
    }
   ],
   "source": [
    "# equals\n",
    "x = 2\n",
    "y = 3\n",
    "\n",
    "# addition\n",
    "x += y\n",
    "print(x)\n",
    "\n",
    "# subration\n",
    "x -= y\n",
    "print(x)\n",
    "\n",
    "# multiplication\n",
    "x *= y\n",
    "print(x)\n",
    "\n",
    "# division\n",
    "x /= y\n",
    "print(x)\n",
    "\n",
    "# modulus\n",
    "x %= y\n",
    "print(x)\n",
    "\n",
    "x = 4\n",
    "y = 2\n",
    "\n",
    "# floor division\n",
    "x //= y\n",
    "print(x)\n",
    "\n",
    "# exponential\n",
    "x **= 5\n",
    "print(x)\n",
    "\n",
    "# \n",
    "x &= y\n",
    "print(x)\n",
    "\n",
    "# \n",
    "x |= y\n",
    "print(x)\n",
    "\n",
    "# \n",
    "x ^= y\n",
    "print(x)\n",
    "\n",
    "# \n",
    "x >>= y\n",
    "print(x)\n",
    "\n",
    "# \n",
    "x <<= y\n",
    "print(x)\n",
    "\n",
    "\n",
    "\n",
    "\n"
   ]
  },
  {
   "cell_type": "markdown",
   "metadata": {},
   "source": [
    "### Bitwise operators\n",
    "\n",
    "- Act on operands as if they were strings of binary digits. \n",
    "- Operate bit by bit"
   ]
  },
  {
   "cell_type": "code",
   "execution_count": null,
   "metadata": {},
   "outputs": [],
   "source": [
    "# TODO at a future date if needed"
   ]
  },
  {
   "cell_type": "markdown",
   "metadata": {},
   "source": [
    "### Special operators\n",
    "\n",
    "#### Identity operators\n",
    "\n",
    "- 'is' and 'is not': used to check if two values are or are not located in the same memory\n",
    "- Note this is not the same as ==\n",
    "- == checks if values are identical\n",
    "- example where == returns 'True' and is returns false: identical variables from different objects. \n",
    "\n",
    "#### Membership operators\n",
    "\n",
    "- 'in' and 'not in': used to check if value is in a sequence (string, list, tuple, set, or dictionary)"
   ]
  },
  {
   "cell_type": "code",
   "execution_count": 28,
   "metadata": {},
   "outputs": [
    {
     "name": "stdout",
     "output_type": "stream",
     "text": [
      "True\n",
      "False\n",
      "False\n",
      "True\n"
     ]
    }
   ],
   "source": [
    "x = 5\n",
    "y = 5\n",
    "a = [1, 2, 3, 4, 5]\n",
    "b = [1, 2, 3, 4, 5]\n",
    "\n",
    "# is:\n",
    "print(x is y)\n",
    "print(a is b)\n",
    "\n",
    "# is not\n",
    "print(x is not y)\n",
    "print(a is not b)\n",
    "\n",
    "# is: \n",
    "print(x in a)\n",
    "\n",
    "# is not\n",
    "print(x is not a)\n"
   ]
  }
 ],
 "metadata": {
  "interpreter": {
   "hash": "949777d72b0d2535278d3dc13498b2535136f6dfe0678499012e853ee9abcab1"
  },
  "kernelspec": {
   "display_name": "Python 3.8.7 64-bit",
   "language": "python",
   "name": "python3"
  },
  "language_info": {
   "codemirror_mode": {
    "name": "ipython",
    "version": 3
   },
   "file_extension": ".py",
   "mimetype": "text/x-python",
   "name": "python",
   "nbconvert_exporter": "python",
   "pygments_lexer": "ipython3",
   "version": "3.8.7"
  },
  "orig_nbformat": 4
 },
 "nbformat": 4,
 "nbformat_minor": 2
}
