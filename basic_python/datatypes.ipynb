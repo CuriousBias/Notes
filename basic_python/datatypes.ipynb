{
 "cells": [
  {
   "cell_type": "markdown",
   "metadata": {},
   "source": [
    "## Data types\n",
    "\n",
    "### Immutable: \n",
    "- Cannot be changed\n",
    "- int, float, bool, string, tuple\n",
    "- create copy with simple ```var_cpy = var``` (creates new element in memory)\n",
    "\n",
    "### Mutable: \n",
    "- Can be changed \n",
    "- lists, sets, dictionaries\n",
    "- create copies with ```copy()```\n",
    "- ```list_cpy = list``` only points copy to same place in memory"
   ]
  },
  {
   "cell_type": "markdown",
   "metadata": {},
   "source": [
    "#### Boolean\n",
    "- ```bool()```\n",
    "- created with either True or False (capitalized)\n",
    "\n",
    "#### Integer\n",
    "- ```int()```\n",
    "\n",
    "#### Float\n",
    "- ```float()```\n",
    "- created with period .\n",
    "\n",
    "#### Complex\n",
    "- ```complex()```\n",
    "- j is reserved as well\n",
    "\n",
    "#### String\n",
    "- ```str()```\n",
    "- created with single quote marks \"\" or ''\n",
    "- ordered, immutable, text representation\n",
    "\n",
    "#### Tuple\n",
    "- ```tuple()```\n",
    "- created by parenthesis: ()\n",
    "- collection datatype, ordered, immutable, allows duplicates\n",
    "\n",
    "#### List\n",
    "- ```list()```\n",
    "- created by square brackets: []\n",
    "- collection datatype, ordered, mutable, allows duplicates\n",
    "- Can contain any other data type (ints, floats, tupes, lists, dicts, objects, etc)\n",
    "\n",
    "#### Range\n",
    "- ```range(start, stop, step)```\n",
    "- unpack with * operator\n",
    "\n",
    "#### Sets\n",
    "- ```set()```\n",
    "- Defined by curly braces: {}\n",
    "- collection datatype, mutable, unordered, no duplicates\n",
    "- Has some built in optimizations and methods for calculating intersections and differences. \n",
    "\n",
    "#### Dictionary\n",
    "- ```dict()```\n",
    "- created by curly braces with semicolon: {:} \n",
    "- collection datatype, ordered, mutable"
   ]
  },
  {
   "cell_type": "code",
   "execution_count": 3,
   "metadata": {},
   "outputs": [
    {
     "name": "stdout",
     "output_type": "stream",
     "text": [
      "0 1 2 3 4 5 6 7 8 9 10\n"
     ]
    }
   ],
   "source": [
    "boolean1 = True  # boolean\n",
    "\n",
    "int1 = int(5.25)  # integer\n",
    "int2 = (1_000_000)  # for long integers\n",
    "\n",
    "float1 = float(4) # floats\n",
    "float2 = 4.\n",
    "\n",
    "complex1 = 2 + 3j  # complex number\n",
    "\n",
    "string1 = 'hello world'  # string\n",
    "\n",
    "list1 = [1, 1, 3, 4, 5, 5, 7, 9, 9]  # lists \n",
    "\n",
    "range1 = range(11)  # creating a range\n",
    "range2 = range(0,11,2)  # (start, stop, step)\n",
    "print(*range1) # the * unpacks the range\n",
    "\n",
    "set1 = set(list1)  # sets\n",
    "set2 = {1, 3, 5, 7, 9}\n",
    "\n",
    "dict1 = {'key0': 'val0'}\n",
    "dict2 = dict(key1='val1')"
   ]
  }
 ],
 "metadata": {
  "interpreter": {
   "hash": "a0820167192a0f8e5b5d75b09b4662218b53e0ef2bbcf14191e112b7c64612ca"
  },
  "kernelspec": {
   "display_name": "Python 3.9.9 64-bit",
   "language": "python",
   "name": "python3"
  },
  "language_info": {
   "codemirror_mode": {
    "name": "ipython",
    "version": 3
   },
   "file_extension": ".py",
   "mimetype": "text/x-python",
   "name": "python",
   "nbconvert_exporter": "python",
   "pygments_lexer": "ipython3",
   "version": "3.9.9"
  },
  "orig_nbformat": 4
 },
 "nbformat": 4,
 "nbformat_minor": 2
}
