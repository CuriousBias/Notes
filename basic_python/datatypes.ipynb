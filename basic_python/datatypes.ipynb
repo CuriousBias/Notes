{
 "cells": [
  {
   "cell_type": "markdown",
   "metadata": {},
   "source": [
    "## Data types\n",
    "\n",
    "#### Integer\n",
    "- create by ```int()```\n",
    "\n",
    "\n",
    "#### Float\n",
    "- create by ```float()``` or period\n",
    "\n",
    "#### Tuple\n",
    "\n",
    "- created by parenthesis: ()\n",
    "- collection datatype, ordered, immutable, allows duplicates\n",
    "\n",
    "#### List\n",
    "\n",
    "- created by square brackets: []\n",
    "- collection datatype, ordered, mutable, allows duplicates\n",
    "- Can contain any other data type (ints, floats, tupes, lists, dicts, objects, etc)\n",
    "\n",
    "#### Sets\n",
    "\n",
    "- Defined by curly braces: {}\n",
    "- Convert a list to set with ```set()```\n",
    "- collection datatype, unordered, no duplicates\n",
    "- Has some built in optimizations and methods for calculating intersections and differences. \n",
    "\n",
    "#### Dictionary\n",
    "\n",
    "- Defined by curly braces: {}\n",
    "- Contains \"key\" and \"value\"\n",
    "\n",
    "\n",
    "### Immutable: \n",
    "- Cannot be changed\n",
    "- int, float, bool, string, tuple\n",
    "\n",
    "\n",
    "### Mutable: \n",
    "- Can be changed \n",
    "- lists, arrays\n"
   ]
  },
  {
   "cell_type": "code",
   "execution_count": 1,
   "metadata": {},
   "outputs": [
    {
     "name": "stdout",
     "output_type": "stream",
     "text": [
      "5\n",
      "1000000\n"
     ]
    }
   ],
   "source": [
    "int1 = int(5.25)  # integer\n",
    "int2 = (1_000_000)  # for long integers\n",
    "\n",
    "\n",
    "float1 = float(4) # floats\n",
    "float2 = 4."
   ]
  },
  {
   "cell_type": "code",
   "execution_count": 1,
   "metadata": {},
   "outputs": [],
   "source": [
    "string1 = ('hello world')  # string\n",
    "\n",
    "list1 = [1, 1, 3, 4, 5, 5, 7, 9, 9]  # lists \n",
    "\n",
    "set1 = set(list1)  # sets\n",
    "set2 = {1, 3, 5, 7, 9}"
   ]
  }
 ],
 "metadata": {
  "interpreter": {
   "hash": "a0820167192a0f8e5b5d75b09b4662218b53e0ef2bbcf14191e112b7c64612ca"
  },
  "kernelspec": {
   "display_name": "Python 3.9.9 64-bit",
   "language": "python",
   "name": "python3"
  },
  "language_info": {
   "codemirror_mode": {
    "name": "ipython",
    "version": 3
   },
   "file_extension": ".py",
   "mimetype": "text/x-python",
   "name": "python",
   "nbconvert_exporter": "python",
   "pygments_lexer": "ipython3",
   "version": "3.9.9"
  },
  "orig_nbformat": 4
 },
 "nbformat": 4,
 "nbformat_minor": 2
}
