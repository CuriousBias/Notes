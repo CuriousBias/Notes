{
 "cells": [
  {
   "cell_type": "markdown",
   "metadata": {},
   "source": [
    "## Data types\n",
    "\n",
    "#### Integer\n",
    "\n",
    "#### Tuple\n",
    "\n",
    "- Immutable \n",
    "- Defined by parenthesis: ()\n",
    "\n",
    "#### List\n",
    "\n",
    "- Defined by square brackets: []\n",
    "- Unordered values\n",
    "- Can contain any other data type (ints, floats, tupes, lists, dicts, objects, etc)\n",
    "\n",
    "#### Sets\n",
    "\n",
    "- Defined by curly braces: {}\n",
    "- Unordered values\n",
    "- No duplicates\n",
    "- Has some built in optimizations and methods for calculating intersections and differences. \n",
    "\n",
    "#### Dictionary\n",
    "\n",
    "- Defined by curly braces: {}\n",
    "- Contains \"key\" and \"value\"\n",
    "\n",
    "\n"
   ]
  },
  {
   "cell_type": "code",
   "execution_count": 1,
   "metadata": {},
   "outputs": [
    {
     "name": "stdout",
     "output_type": "stream",
     "text": [
      "[1, 1, 3, 4, 5, 5, 7, 9, 9]\n",
      "{1, 3, 4, 5, 7, 9}\n"
     ]
    }
   ],
   "source": [
    "my_list = [1, 1, 3, 4, 5, 5, 7, 9, 9]\n",
    "print(my_list)\n",
    "\n",
    "my_set = set(my_list)\n",
    "print(my_set)"
   ]
  }
 ],
 "metadata": {
  "interpreter": {
   "hash": "a0820167192a0f8e5b5d75b09b4662218b53e0ef2bbcf14191e112b7c64612ca"
  },
  "kernelspec": {
   "display_name": "Python 3.9.9 64-bit",
   "language": "python",
   "name": "python3"
  },
  "language_info": {
   "codemirror_mode": {
    "name": "ipython",
    "version": 3
   },
   "file_extension": ".py",
   "mimetype": "text/x-python",
   "name": "python",
   "nbconvert_exporter": "python",
   "pygments_lexer": "ipython3",
   "version": "3.9.9"
  },
  "orig_nbformat": 4
 },
 "nbformat": 4,
 "nbformat_minor": 2
}
