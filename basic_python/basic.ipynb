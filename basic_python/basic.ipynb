{
 "cells": [
  {
   "cell_type": "code",
   "execution_count": 2,
   "metadata": {},
   "outputs": [],
   "source": [
    "# Basic imports\n",
    "import math\n",
    "import numpy as np  # dont use import x as y unless its very common! \n",
    "import timeit \n",
    "import time\n",
    "\n",
    "# to import specific function from another file\n",
    "# from filename.py import functionname"
   ]
  },
  {
   "cell_type": "code",
   "execution_count": 1,
   "metadata": {},
   "outputs": [
    {
     "name": "stdout",
     "output_type": "stream",
     "text": [
      "Only things in this cell will happen\n"
     ]
    }
   ],
   "source": [
    "# Cells\n",
    "# To add a new cell, type '# %%'\n",
    "\n",
    "# to run a cell\n",
    "# %%\n",
    "print('Only things in this cell will happen')\n",
    "# %%"
   ]
  },
  {
   "cell_type": "code",
   "execution_count": null,
   "metadata": {},
   "outputs": [],
   "source": [
    "# print statements\n",
    "# examples\n",
    "print('Serial computation time is : '+str(serialtime)+ ' seconds')\n",
    "print(\"--- Timing: %0.4f seconds ---\" % elapsed)\n",
    "print(\"Total acceleration estimate: %dx \" % ((prob4timer)/(prob5timer)))\n",
    "print('The time for %3.0f serial iterations is %3.8f seconds' % (iters, prob4timer))"
   ]
  },
  {
   "cell_type": "code",
   "execution_count": null,
   "metadata": {},
   "outputs": [],
   "source": [
    "# f-string strings\n",
    "var0 = 1\n",
    "var1 = 2\n",
    "\n",
    "string_0 = f\"This statement includes both {var0} and {var1}\"\n",
    "\n",
    "print(string_0)"
   ]
  },
  {
   "cell_type": "code",
   "execution_count": null,
   "metadata": {},
   "outputs": [],
   "source": [
    "# Data types\n",
    "x = np.zeroes(10, dtype = np.float64) # np.float32 or np.float64, np.int64, bool, str # multiple of 8 for int\n",
    "# Mutable: Can be changed (lists, arrays)\n",
    "# Immutable: Cannot be changed(int, float, bool, string))"
   ]
  },
  {
   "cell_type": "code",
   "execution_count": null,
   "metadata": {},
   "outputs": [],
   "source": [
    "# Tuples: immutable (non changable) sequence of objects created with parenthesis ()\n",
    "tuple1 = (1,2, 'string', 4, 0.423)\n",
    "# Lists: same as tuple, but can be edited. Created with square brackets []\n",
    "a = [1,2,'string']\n",
    "# String\n",
    "string1 = ('string')\n",
    "# Array: crated with numpy. Both ([]) required\n",
    "b = np.array([0,1,2,3,5])"
   ]
  },
  {
   "cell_type": "code",
   "execution_count": null,
   "metadata": {},
   "outputs": [],
   "source": [
    "# addition\n",
    "x = [1, 2, 3]\n",
    "y = [4, 5, 6]\n",
    "\n",
    "print(x+y)\n",
    "\n",
    "# this results in concatenation!\n",
    "# use numpy arrays instead"
   ]
  },
  {
   "cell_type": "code",
   "execution_count": null,
   "metadata": {},
   "outputs": [],
   "source": [
    "# creating a range\n",
    "x = range(11)\n",
    "y = range(0,11,2)  # (start, stop, step)\n",
    "print(*x) # the * unpacks the range\n",
    "print(*y)\n"
   ]
  }
 ],
 "metadata": {
  "kernelspec": {
   "display_name": "Python 3",
   "language": "python",
   "name": "python3"
  },
  "language_info": {
   "codemirror_mode": {
    "name": "ipython",
    "version": 3
   },
   "file_extension": ".py",
   "mimetype": "text/x-python",
   "name": "python",
   "nbconvert_exporter": "python",
   "pygments_lexer": "ipython3",
   "version": "3.9.9"
  },
  "orig_nbformat": 2
 },
 "nbformat": 4,
 "nbformat_minor": 2
}
