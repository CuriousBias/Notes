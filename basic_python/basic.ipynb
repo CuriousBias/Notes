{
 "cells": [
  {
   "cell_type": "code",
   "execution_count": 1,
   "metadata": {},
   "outputs": [],
   "source": [
    "# imports\n",
    "import math\n",
    "import timeit \n",
    "import time\n",
    "\n",
    "# to import specific function from another file\n",
    "from exacuatable import sample_import\n",
    "\n",
    "# to import everything (bad practice)\n",
    "from exacuatable import *"
   ]
  },
  {
   "cell_type": "code",
   "execution_count": 1,
   "metadata": {},
   "outputs": [
    {
     "name": "stdout",
     "output_type": "stream",
     "text": [
      "Only things in this cell will happen\n"
     ]
    }
   ],
   "source": [
    "# Cells \n",
    "# To add a new cell, type '# %%'\n",
    "\n",
    "# to run a cell\n",
    "# %%\n",
    "print('Only things in this cell will happen')\n",
    "# %%"
   ]
  },
  {
   "cell_type": "code",
   "execution_count": 2,
   "metadata": {},
   "outputs": [
    {
     "name": "stdout",
     "output_type": "stream",
     "text": [
      "Serial computation time is : 5 seconds\n",
      "--- Timing: 2.0000 seconds ---\n",
      "Total acceleration estimate: 0x \n",
      "The time for  10 serial iterations is 2.00000000 seconds\n"
     ]
    }
   ],
   "source": [
    "# print statements\n",
    "serialtime = 5\n",
    "elapsed = 2\n",
    "prob4timer = 2\n",
    "prob5timer = 4\n",
    "iters = 10\n",
    "\n",
    "print('Serial computation time is : '+str(serialtime)+ ' seconds')\n",
    "print(\"--- Timing: %0.4f seconds ---\" % elapsed)\n",
    "print(\"Total acceleration estimate: %dx \" % ((prob4timer)/(prob5timer)))\n",
    "print('The time for %3.0f serial iterations is %3.8f seconds' % (iters, prob4timer))"
   ]
  },
  {
   "cell_type": "code",
   "execution_count": 3,
   "metadata": {},
   "outputs": [
    {
     "name": "stdout",
     "output_type": "stream",
     "text": [
      "0 1 2 3 4 5 6 7 8 9 10\n",
      "0 2 4 6 8 10\n"
     ]
    }
   ],
   "source": [
    "# creating a range\n",
    "range1 = range(11)\n",
    "range2 = range(0,11,2)  # (start, stop, step)\n",
    "print(*range1) # the * unpacks the range\n",
    "print(*range2)"
   ]
  }
 ],
 "metadata": {
  "kernelspec": {
   "display_name": "Python 3",
   "language": "python",
   "name": "python3"
  },
  "language_info": {
   "codemirror_mode": {
    "name": "ipython",
    "version": 3
   },
   "file_extension": ".py",
   "mimetype": "text/x-python",
   "name": "python",
   "nbconvert_exporter": "python",
   "pygments_lexer": "ipython3",
   "version": "3.9.9"
  },
  "orig_nbformat": 2
 },
 "nbformat": 4,
 "nbformat_minor": 2
}
