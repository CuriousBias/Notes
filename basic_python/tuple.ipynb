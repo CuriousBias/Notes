{
 "cells": [
  {
   "cell_type": "markdown",
   "metadata": {},
   "source": [
    "## Tuple\n",
    "\n",
    "- index same as list\n",
    "- iterate same as list (but faster!)\n",
    "- slice the same as a list\n",
    "- usually smaller than a list   "
   ]
  },
  {
   "cell_type": "code",
   "execution_count": 1,
   "metadata": {},
   "outputs": [
    {
     "name": "stdout",
     "output_type": "stream",
     "text": [
      "(1, 2, 'string', 4)\n"
     ]
    }
   ],
   "source": [
    "tuple1 = (1, 2, 'string', 4, 0.423)  # tuple\n",
    "\n",
    "tuple2 = 1, 2, 'string', 4  # parenthesis not needed if longer than one element\n",
    "\n",
    "tuple3 = (1,)  # single element tuple!\n",
    "\n",
    "listtuple = list(tuple1)  # convert to list"
   ]
  },
  {
   "cell_type": "code",
   "execution_count": 5,
   "metadata": {},
   "outputs": [
    {
     "name": "stdout",
     "output_type": "stream",
     "text": [
      "person(name='vic', age=28, gender='female')\n"
     ]
    }
   ],
   "source": [
    "from collections import namedtuple\n",
    "\n",
    "person = namedtuple('person', ['name', 'age', 'gender'])  # define named tuple with strings\n",
    "\n",
    "vic = person('vic', 28, 'female')  # create instance of defined namedtuple"
   ]
  }
 ],
 "metadata": {
  "interpreter": {
   "hash": "a0820167192a0f8e5b5d75b09b4662218b53e0ef2bbcf14191e112b7c64612ca"
  },
  "kernelspec": {
   "display_name": "Python 3.9.9 64-bit",
   "language": "python",
   "name": "python3"
  },
  "language_info": {
   "codemirror_mode": {
    "name": "ipython",
    "version": 3
   },
   "file_extension": ".py",
   "mimetype": "text/x-python",
   "name": "python",
   "nbconvert_exporter": "python",
   "pygments_lexer": "ipython3",
   "version": "3.9.9"
  },
  "orig_nbformat": 4
 },
 "nbformat": 4,
 "nbformat_minor": 2
}
