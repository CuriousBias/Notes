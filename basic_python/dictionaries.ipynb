{
 "cells": [
  {
   "cell_type": "markdown",
   "metadata": {},
   "source": [
    "## Dictionaries\n"
   ]
  },
  {
   "cell_type": "code",
   "execution_count": null,
   "metadata": {},
   "outputs": [],
   "source": [
    "# Access values in dictionaries\n",
    " \n",
    "my_dict = {\"key0\": \"val0\", \"key1\": 1}\n",
    "\n",
    "# access directly\n",
    "access0 = my_dict[\"key0\"]\n",
    "print(access0)\n",
    "\n",
    "# access with .get() method  -> returns none if key is not in dictionary\n",
    "access1 = my_dict.get(\"key2\")\n",
    "print(access1)\n",
    "\n",
    "# access with .setdefault() -> if not in dictionary, method will set supplied default\n",
    "access2 = my_dict.setdefault(\"key2\", 4)\n",
    "print(my_dict)"
   ]
  },
  {
   "cell_type": "code",
   "execution_count": null,
   "metadata": {},
   "outputs": [],
   "source": [
    "# Merging dictionaries\n",
    "# Note duplicates are ignored\n",
    "\n",
    "dict0 = {\"key0\": \"val0\", \"key1\": \"val1\"}\n",
    "\n",
    "dict1 = {\"key1\": \"val1\", \"key2\": \"val2\"}\n",
    "\n",
    "merged_dict = {**dict0, **dict1}\n",
    "print(merged_dict)"
   ]
  },
  {
   "cell_type": "code",
   "execution_count": null,
   "metadata": {},
   "outputs": [],
   "source": [
    "# dictionary comprehension\n",
    "squared = {i: i*i for i in range(5)}\n",
    "squared"
   ]
  }
 ],
 "metadata": {
  "interpreter": {
   "hash": "a0820167192a0f8e5b5d75b09b4662218b53e0ef2bbcf14191e112b7c64612ca"
  },
  "kernelspec": {
   "display_name": "Python 3.9.9 64-bit",
   "language": "python",
   "name": "python3"
  },
  "language_info": {
   "codemirror_mode": {
    "name": "ipython",
    "version": 3
   },
   "file_extension": ".py",
   "mimetype": "text/x-python",
   "name": "python",
   "nbconvert_exporter": "python",
   "pygments_lexer": "ipython3",
   "version": "3.9.9"
  },
  "orig_nbformat": 4
 },
 "nbformat": 4,
 "nbformat_minor": 2
}
