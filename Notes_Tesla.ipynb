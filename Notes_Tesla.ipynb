{
 "cells": [
  {
   "cell_type": "code",
   "execution_count": null,
   "metadata": {},
   "outputs": [],
   "source": [
    "# Git commmands\n",
    "\n",
    "# Git structure: Repo is repository\n",
    "# Working directory < Staging area < Local Repo (Head) < Remote Repo (Master) \n",
    "# staged: files with changes are marked to be committed to local repo\n",
    "# modified: files with changes are not yet stored in locap repo\n",
    "# committed: changes are stored in local repo\n",
    "\n",
    "git add # command used to add file from local directory to staging area\n",
    "git commit # add files from staging area to local repo\n",
    "git push # add files committed files from local repo to remote repo\n",
    "git fetch # get files from remote repo to local repo\n",
    "git merge # get files from local repo to working directory\n",
    "git pull # get from from remote repot to working directory (git fetch and git merge at once)\n",
    "\n",
    "\n"
   ]
  },
  {
   "cell_type": "code",
   "execution_count": 11,
   "metadata": {},
   "outputs": [
    {
     "output_type": "stream",
     "name": "stdout",
     "text": "Philo is 5 and Mikey is 6.\nPhilo is a mammal!\nThe oldest is 9.\nMikey is 6 years old.\nMikey says gruff\nJim is 12 years old.\nJim runs slowly\n"
    }
   ],
   "source": [
    "# Object oriented programming\n",
    "# classes: each object is an instance of some class. Class is like questionaire. \n",
    "\n",
    "# Define class\n",
    "class Dog: # Dog() is the class\n",
    "# equivalent to class Dog(object): in python 3\n",
    "    pass\n",
    "\n",
    "# classes create objects which all contain characterisitcs of 'attributes'\n",
    "class Dog:\n",
    "\n",
    "    # define class attributes\n",
    "    species = 'mammal'\n",
    "\n",
    "    # define initializer / instance attributes\n",
    "    def __init__(self, name, age):\n",
    "        self.name = name\n",
    "        self.age = age\n",
    "\n",
    "    # instance method\n",
    "    def description(self):\n",
    "        return \"{} is {} years old.\".format(self.name, self.age)\n",
    "    \n",
    "    # instance method\n",
    "    def speak(self, sound):\n",
    "        return \"{} says {}\".format(self.name,sound)\n",
    "\n",
    "# python object inheritance: one class takes on attributes of another\n",
    "# child class 'russelterrier' takes on attributes of parent class 'Dog'\n",
    "class RusselTerrier(Dog):\n",
    "    def run(self, speed):\n",
    "        return \"{} runs {}\".format(self.name, sound)\n",
    "\n",
    "class Bulldog(Dog):\n",
    "    def run(self, speed):\n",
    "        return \"{} runs {}\".format(self.name, speed)\n",
    "\n",
    "# define some dogs\n",
    "philo = Dog(\"Philo\", 5)\n",
    "mikey = Dog(\"Mikey\", 6)\n",
    "greta = Dog(\"Greta\", 9)\n",
    "\n",
    "print(\"{} is {} and {} is {}.\".format(philo.name, philo.age, mikey.name, mikey.age))\n",
    "\n",
    "# check if Philo is a mammal\n",
    "if philo.species == 'mammal':\n",
    "    print(\"{0} is a {1}!\".format(philo.name, philo.species))\n",
    "\n",
    "def oldest(*args):\n",
    "    return max(args)\n",
    "\n",
    "print(\"The oldest is {}.\".format(oldest(philo.age, mikey.age, greta.age)))\n",
    "\n",
    "# call instance methods\n",
    "print(mikey.description())\n",
    "print(mikey.speak(\"gruff\"))\n",
    "\n",
    "# call child classes\n",
    "jim = Bulldog(\"Jim\", 12)\n",
    "print(jim.description())\n",
    "print(jim.run(\"slowly\"))\n",
    "\n"
   ]
  },
  {
   "cell_type": "code",
   "execution_count": 9,
   "metadata": {},
   "outputs": [
    {
     "output_type": "execute_result",
     "data": {
      "text/plain": "True"
     },
     "metadata": {},
     "execution_count": 9
    }
   ],
   "source": [
    "# modify attributes\n",
    "class Email:\n",
    "    def __init__(self):\n",
    "        self.is_sent = False\n",
    "    def send_email(self):\n",
    "        self.is_sent = True\n",
    "\n",
    "my_email = Email()\n",
    "my_email.is_sent\n",
    "\n",
    "my_email.send_email()\n",
    "my_email.is_sent\n"
   ]
  },
  {
   "cell_type": "code",
   "execution_count": 4,
   "metadata": {
    "tags": []
   },
   "outputs": [
    {
     "output_type": "stream",
     "name": "stdout",
     "text": "Geek 1 False\nGeek2 True\nTrue\n"
    }
   ],
   "source": [
    "# Object oriented programming continued:\n",
    "# Inheritance: a class us defined (super class) and then it is inherited by another class (sub class). Sub class adds some attributes to the super class\n",
    "\n",
    "# Example of inheritance\n",
    "class Person(object):\n",
    "\n",
    "    # constructor\n",
    "    def __init__(self, name):\n",
    "        self.name = name \n",
    "\n",
    "    # to get name\n",
    "    def getName(self):\n",
    "        return self.name \n",
    "\n",
    "    # to check if this person is employee\n",
    "    def isEmployee(self):\n",
    "        return False\n",
    "\n",
    "# Inheritance example: 'Person' in parenthesis\n",
    "class Employee(Person):\n",
    "\n",
    "    # here we return true\n",
    "    def isEmployee(self):\n",
    "        return True\n",
    "\n",
    "# driver code\n",
    "emp = Person(\"Geek 1\") # an object of class person\n",
    "print(emp.getName(), emp.isEmployee())\n",
    "\n",
    "emp = Employee(\"Geek2\") # an object of employee class\n",
    "print(emp.getName(), emp.isEmployee())\n",
    "\n",
    "# How to check if subclass\n",
    "print(issubclass(Employee, Person)) # returns true since Employee is a subclass of Person"
   ]
  },
  {
   "cell_type": "code",
   "execution_count": 8,
   "metadata": {
    "tags": []
   },
   "outputs": [
    {
     "output_type": "stream",
     "name": "stdout",
     "text": "Base1\nBase2\nDerived\ngeek1 geek2\n"
    }
   ],
   "source": [
    "# Inherit multiple classes into one subclass\n",
    "class Base1:\n",
    "    def __init__(self):\n",
    "        self.str1 = \"geek1\"\n",
    "        print(\"Base1\")\n",
    "\n",
    "class Base2:\n",
    "    def __init__(self):\n",
    "        self.str2 = \"geek2\"\n",
    "        print(\"Base2\")\n",
    "\n",
    "# multiple class inheritance\n",
    "\n",
    "class Derived(Base1, Base2):\n",
    "    def __init__(self):\n",
    "        Base1.__init__(self)\n",
    "        Base2.__init__(self)\n",
    "        print(\"Derived\")\n",
    "    \n",
    "    def printStrs(self):\n",
    "        print(self.str1, self.str2)\n",
    "\n",
    "ob = Derived()\n",
    "ob.printStrs()"
   ]
  },
  {
   "cell_type": "code",
   "execution_count": null,
   "metadata": {},
   "outputs": [],
   "source": [
    "# Logging in python\n",
    "# Logging API allows for all python modules to participate\n",
    "# loggers: ?\n",
    "# handlers: send log records to destination\n",
    "# filters: determine which logs to output\n",
    "# formaters: specify final format\n",
    "\n",
    "# epoch time: time in milliseconds from start of 1970\n",
    "time.time()*1000 # for seconds\n",
    "\n",
    "log_dict(self, parsed_data, epoch_ms=None) # two arguments: pairs 'signal:value' with matching 'time stamp'\n",
    "\n",
    "log(self, frame) # takes a single argument 'frame' Frame: either raw hex payload such as CAN message or a timestamp\n",
    "start(self) # start loggging\n",
    "close(self) # correctly clean up logger\n",
    "\n",
    "# CSV loggers\n",
    "# two located in pytl.base.csv_logger\n",
    "decodedcsvloggger \n",
    "# takes arguments for filename, location, and headers\n",
    "# can only handle log_dict and log\n",
    "# cannot handle raw hex payloads\n",
    "\n",
    "csvlogger\n",
    "# similar, but can also take information from dbc in order to decode raw CAN frames\n",
    "\n",
    "# database logger\n",
    "# similar to csv loggers and requires  dbc information  to interpret raw hex information\n",
    "# db logger supports meta data logging such a running status, jira ticket info, comments, etc\n",
    "# db logger requires metadata on test in order to define a unique location for the data. this meta data includes test name, serial numbers, dut type\n",
    "# db logger internally caches data and pushes to mongo database every 10 minutes\n",
    "# if test is stopped, .close() must be used to push all cached data to database\n",
    "\n"
   ]
  }
 ],
 "metadata": {
  "language_info": {
   "codemirror_mode": {
    "name": "ipython",
    "version": 3
   },
   "file_extension": ".py",
   "mimetype": "text/x-python",
   "name": "python",
   "nbconvert_exporter": "python",
   "pygments_lexer": "ipython3",
   "version": "3.7.6-final"
  },
  "orig_nbformat": 2,
  "kernelspec": {
   "name": "python3",
   "display_name": "Python 3"
  }
 },
 "nbformat": 4,
 "nbformat_minor": 2
}