{
 "metadata": {
  "language_info": {
   "codemirror_mode": {
    "name": "ipython",
    "version": 3
   },
   "file_extension": ".py",
   "mimetype": "text/x-python",
   "name": "python",
   "nbconvert_exporter": "python",
   "pygments_lexer": "ipython3",
   "version": 3
  },
  "orig_nbformat": 2
 },
 "nbformat": 4,
 "nbformat_minor": 2,
 "cells": [
  {
   "cell_type": "code",
   "execution_count": null,
   "metadata": {},
   "outputs": [],
   "source": [
    "# Git structure: Repo is repository\n",
    "# Working directory < Staging area < Local Repo (Head) < Remote Repo (Master) \n",
    "# staged: files with changes are marked to be committed to local repo\n",
    "# modified: files with changes are not yet stored in locap repo\n",
    "# committed: changes are stored in local repo\n",
    "\n",
    "# Create repository\n",
    "# login to github and create new repository\n",
    "# navigate to folder for repository\n",
    "ls\n",
    "cd Python # if you want to make the Python folder a repository\n",
    "touch README.md    # To create a README file\n",
    "# open README.md file and add any info you want\n",
    "git init # initializes folder to be repository\n",
    "\n",
    "git add . # adds all files to local repo\n",
    "# Git commmands\n",
    "git add # command used to add file from local directory to staging area\n",
    "git commit # add files from staging area to local repo\n",
    "git push # add files committed files from local repo to remote repo\n",
    "git fetch # get files from remote repo to local repo\n",
    "git merge # get files from local repo to working directory\n",
    "git pull # get from from remote repot to working directory (git fetch and git merge at once)\n",
    "\n",
    "git status # status of files in repo\n",
    "\n",
    "# Did not fully understand how to use git yet! Using Git desktop GUI\n",
    "\n",
    "# Can commit easily within VS code, not sure how to push to master yet. Using desktop GUI application to push to master\n",
    "\n",
    "# remove last commit\n",
    "# navigate to folder\n",
    "git reset --soft ~HEAD1"
   ]
  },
  {
   "cell_type": "code",
   "execution_count": null,
   "metadata": {},
   "outputs": [],
   "source": [
    "# Git practices\n",
    "# names branches with user name and test"
   ]
  }
 ]
}