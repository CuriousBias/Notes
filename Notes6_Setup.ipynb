{
 "cells": [
  {
   "cell_type": "code",
   "execution_count": null,
   "metadata": {},
   "outputs": [],
   "source": [
    "# Notes for setting up python\n",
    "# 1. Install text editor - Notepad++, sublime text, or just use MS Visual studio? \n",
    "# 2. Install git\n",
    "# 3. Install python \n",
    "# 4. Install IDE - Pycharm or MS Visual studio (windows only for IDE)\n",
    "\n",
    "# Install for all users!\n",
    "# --User permission denied errors: Run cmd as administrator!"
   ]
  },
  {
   "cell_type": "code",
   "execution_count": null,
   "metadata": {},
   "outputs": [],
   "source": [
    "# Installing git\n",
    "https://www.freecodecamp.org/news/learn-the-basics-of-git-in-under-10-minutes-da548267cc91/\n",
    "# (mac) in terminal\n",
    "git --version\n",
    "# or go to:\n",
    "https://git-scm.com/download/\n",
    "\n",
    "# set up username and email\n",
    "git config --global user.name \"Kurt\"\n",
    "git config --global user.email \"kurt.partha@gmail.com\"\n",
    "# to check\n",
    "git config --global --list\n",
    "\n",
    "# Set up SSH key\n",
    "# check for ssh key\n",
    "ls -al ~/.ssh \n",
    "\n",
    "# if not (~./ssh doesn't exist) -> generate new key (in terminal)\n",
    "ssh-keygen -t rsa -b 4096 -C \"kurt.partha@gmail.com\"\n",
    "# press enter to select default file location\n",
    "# enter passphrase (partha)\n",
    "open ~/.ssh/config\n",
    "# > The file /Users/you/.ssh/config does not exist.\n",
    "touch ~/.ssh/config # create the file\n",
    "ssh-add -K ~/.ssh/id_rsa # add key to agent\n",
    "\n",
    "# copy ssh key to github account\n",
    "pbcopy < ~/.ssh/id_rsa.pub # Copies the contents of the id_rsa.pub file to your clipboard\n",
    "\n",
    "# login to github > settings > SSH and GPG Keys > New/Add SSH key > paste key > \"add\" > confirm git hub password\n",
    "\n",
    "# test your key\n",
    "ssh -T git@github.com # Attempts to ssh to GitHub"
   ]
  },
  {
   "cell_type": "code",
   "execution_count": null,
   "metadata": {},
   "outputs": [],
   "source": [
    "# Installing python\n",
    "https://www.python.org/downloads\n",
    "# check which version is compatible with your organization\n",
    "# Select \"Add python 3.x to PATH\" - you can do this manually later as well. \n",
    "# Install for all users\n",
    "# C:\\Program Files (x86)\\Python38-64 - would be python 3.8 64 bit\n",
    "# After installation:\n",
    "# in command prompt\n",
    "python --version # to check the version"
   ]
  },
  {
   "cell_type": "code",
   "execution_count": null,
   "metadata": {},
   "outputs": [],
   "source": [
    "# IDE - Pycharm\n",
    "# Why not MS Visual studio?\n",
    "# select \"create asssociations\" .py"
   ]
  }
 ],
 "metadata": {
  "language_info": {
   "codemirror_mode": {
    "name": "ipython",
    "version": 3
   },
   "file_extension": ".py",
   "mimetype": "text/x-python",
   "name": "python",
   "nbconvert_exporter": "python",
   "pygments_lexer": "ipython3",
   "version": 3
  },
  "orig_nbformat": 2
 },
 "nbformat": 4,
 "nbformat_minor": 2
}