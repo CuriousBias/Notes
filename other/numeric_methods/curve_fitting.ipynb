{
 "cells": [
  {
   "cell_type": "markdown",
   "metadata": {},
   "source": [
    "# Curve fit \n",
    "- numpy built in ```np.polyfit()```\n",
    "- scipy also has some"
   ]
  },
  {
   "cell_type": "markdown",
   "metadata": {},
   "source": [
    "## Least squares fitting\n",
    "* Use ```np.polyfit(x, y, deg)```\n",
    "    * x is one set of values\n",
    "    * y is second set\n",
    "    * deg is integer for order of desired polynomial\n",
    "    * returns array of coefficients for $[x^n, x^{n-1},..., x^0]$\n",
    "\n",
    "### Linear fit\n",
    "- n = 1\n",
    "\n",
    "### Power fit\n",
    "- n > 1\n",
    "\n",
    "### Exponential fit\n",
    "- use ${x, log(y)}$\n",
    "- $y = \n",
    "\n",
    "### Logarithmic fit\n",
    "- use ${log(x), y}$\n"
   ]
  },
  {
   "cell_type": "code",
   "execution_count": 8,
   "metadata": {},
   "outputs": [],
   "source": [
    "import numpy as np\n",
    "import matplotlib.pyplot as plt"
   ]
  },
  {
   "cell_type": "code",
   "execution_count": 3,
   "metadata": {},
   "outputs": [
    {
     "name": "stdout",
     "output_type": "stream",
     "text": [
      "[293.15 333.15 373.15 413.15 453.15]\n"
     ]
    },
    {
     "ename": "ValueError",
     "evalue": "operands could not be broadcast together with shapes (99,) (2,) ",
     "output_type": "error",
     "traceback": [
      "\u001b[0;31m---------------------------------------------------------------------------\u001b[0m",
      "\u001b[0;31mValueError\u001b[0m                                Traceback (most recent call last)",
      "\u001b[1;32m/Users/kurt/Documents/github/Notes/other_notes/scientific_computation/curve_fitting.ipynb Cell 4\u001b[0m in \u001b[0;36m<module>\u001b[0;34m\u001b[0m\n\u001b[1;32m      <a href='vscode-notebook-cell:/Users/kurt/Documents/github/Notes/other_notes/scientific_computation/curve_fitting.ipynb#W2sZmlsZQ%3D%3D?line=6'>7</a>\u001b[0m tempPk \u001b[39m=\u001b[39m np\u001b[39m.\u001b[39marray([i\u001b[39m+\u001b[39m\u001b[39m273\u001b[39m \u001b[39mfor\u001b[39;00m i \u001b[39min\u001b[39;00m tempP])\n\u001b[1;32m      <a href='vscode-notebook-cell:/Users/kurt/Documents/github/Notes/other_notes/scientific_computation/curve_fitting.ipynb#W2sZmlsZQ%3D%3D?line=8'>9</a>\u001b[0m dvdT_1 \u001b[39m=\u001b[39m np\u001b[39m.\u001b[39mpolyfit(tempK, vol, \u001b[39m1\u001b[39m) \u001b[39m# polynomial 1st order\u001b[39;00m\n\u001b[0;32m---> <a href='vscode-notebook-cell:/Users/kurt/Documents/github/Notes/other_notes/scientific_computation/curve_fitting.ipynb#W2sZmlsZQ%3D%3D?line=9'>10</a>\u001b[0m vol_1 \u001b[39m=\u001b[39m tempPk\u001b[39m*\u001b[39;49mdvdT_1 \u001b[39m+\u001b[39m dvdT_1[\u001b[39m0\u001b[39m]\n\u001b[1;32m     <a href='vscode-notebook-cell:/Users/kurt/Documents/github/Notes/other_notes/scientific_computation/curve_fitting.ipynb#W2sZmlsZQ%3D%3D?line=11'>12</a>\u001b[0m dvdT_2 \u001b[39m=\u001b[39m np\u001b[39m.\u001b[39mpolyfit(tempK, vol, \u001b[39m2\u001b[39m)  \u001b[39m# polynomial 2nd order\u001b[39;00m\n\u001b[1;32m     <a href='vscode-notebook-cell:/Users/kurt/Documents/github/Notes/other_notes/scientific_computation/curve_fitting.ipynb#W2sZmlsZQ%3D%3D?line=12'>13</a>\u001b[0m vol_2 \u001b[39m=\u001b[39m dvdT_1[\u001b[39m2\u001b[39m]\u001b[39m*\u001b[39mtempPk\u001b[39m*\u001b[39m\u001b[39m*\u001b[39m\u001b[39m2\u001b[39m \u001b[39m+\u001b[39m dvdT_1[\u001b[39m1\u001b[39m]\u001b[39m*\u001b[39mtempPk \u001b[39m+\u001b[39m dvdT_1[\u001b[39m2\u001b[39m]\n",
      "\u001b[0;31mValueError\u001b[0m: operands could not be broadcast together with shapes (99,) (2,) "
     ]
    }
   ],
   "source": [
    "temp = np.array([20, 60, 100, 140, 180])\n",
    "tempK = temp + 273.15\n",
    "vol = np.array([26.82, 30.89, 34.32, 37.42, 40.34])\n",
    "\n",
    "tempP = np.linspace(100, 1000, 99)\n",
    "tempPk = np.array([i+273 for i in tempP])\n",
    "\n",
    "dvdT_1 = np.polyfit(tempK, vol, 1) # polynomial 1st order\n",
    "vol_1 = tempPk*dvdT_1 + dvdT_1[0]\n",
    "\n",
    "dvdT_2 = np.polyfit(tempK, vol, 2)  # polynomial 2nd order\n",
    "vol_2 = dvdT_1[2]*tempPk**2 + dvdT_1[1]*tempPk + dvdT_1[2]\n",
    "\n",
    "dvdT_e = np.polyfit(tempK, np.log(vol), 1) # exponential\n",
    "vol_e = np.exp(np.exp(dvdT_e[1] + tempPk*dvdT_e[0]))\n",
    "\n",
    "dvdT_l = np.polyfit(np.log(tempK, vol), 1) # log\n",
    "vol_l = dvdT_l[1] + dvdT_l[0]*np.log(tempPk)"
   ]
  },
  {
   "cell_type": "code",
   "execution_count": 10,
   "metadata": {},
   "outputs": [],
   "source": [
    "# data\n",
    "temps = np.array([-9, -1, 7, 21, 32, 42, 50, 61])\n",
    "tempsK = temps + 273\n",
    "on_times = np.array([1150, 900, 800, 600, 500, 400, 350, 250])\n",
    "\n",
    "# range to plot\n",
    "full_temps = np.linspace(-40, 100, 99)  # 99 so there is no 0\n",
    "full_tempsK = full_temps + 273\n",
    "\n",
    "expfit = np.polyfit(tempsK, np.log(on_times), 1)  # exponential fit\n",
    "exp_ontime = np.exp(full_tempsK*expfit[0]) * np.exp(expfit[1])\n",
    "\n",
    "logfit = np.polyfit(np.log(tempsK), on_times, 1)  # log fit\n",
    "log_ontime = logfit[0]*np.log(full_tempsK) + logfit[1]"
   ]
  },
  {
   "cell_type": "code",
   "execution_count": 11,
   "metadata": {},
   "outputs": [
    {
     "data": {
      "image/png": "[encoded data removed]",
      "text/plain": [
       "<Figure size 432x288 with 1 Axes>"
      ]
     },
     "metadata": {
      "needs_background": "light"
     },
     "output_type": "display_data"
    }
   ],
   "source": [
    "plt.plot(temps, on_times, label='original')\n",
    "plt.plot(full_temps, exp_ontime, label='exp')\n",
    "plt.plot(full_temps, log_ontime, label='log')\n",
    "plt.legend()\n",
    "plt.grid()\n",
    "plt.show()"
   ]
  },
  {
   "cell_type": "markdown",
   "metadata": {},
   "source": [
    "### Curve fitting\n",
    "\n",
    "Goal is to turn discrete data into continuous function\n",
    "\n",
    "**Lagrange interpolation:** simplest version of interpolation, connect points directly with weighting\n",
    "**Bezier curve:** iterate with fewer control points\n"
   ]
  },
  {
   "cell_type": "markdown",
   "metadata": {},
   "source": [
    "### Lagrange interpolation\n",
    "* more points gives more factors/roots and a higher degree polynomial\n",
    "    * more roots give more oscillations/ringing\n",
    "    \n",
    "* look up notebook if interested in step by step\n"
   ]
  },
  {
   "cell_type": "markdown",
   "metadata": {},
   "source": [
    "### Bezier curves (Bernstein polynomials)\n",
    "\n",
    "* 3 control points results in degree 2 polynomial"
   ]
  }
 ],
 "metadata": {
  "interpreter": {
   "hash": "a0820167192a0f8e5b5d75b09b4662218b53e0ef2bbcf14191e112b7c64612ca"
  },
  "kernelspec": {
   "display_name": "Python 3.9.12 64-bit",
   "language": "python",
   "name": "python3"
  },
  "language_info": {
   "codemirror_mode": {
    "name": "ipython",
    "version": 3
   },
   "file_extension": ".py",
   "mimetype": "text/x-python",
   "name": "python",
   "nbconvert_exporter": "python",
   "pygments_lexer": "ipython3",
   "version": "3.9.12"
  },
  "orig_nbformat": 2
 },
 "nbformat": 4,
 "nbformat_minor": 2
}
