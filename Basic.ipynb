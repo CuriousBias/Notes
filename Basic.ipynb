{
 "cells": [
  {
   "cell_type": "code",
   "execution_count": null,
   "metadata": {},
   "outputs": [],
   "source": [
    "# Basic imports\n",
    "import math\n",
    "import numpy as np  # dont use import x as y unless its very common! \n",
    "import timeit \n",
    "import time\n",
    "\n",
    "# to import specific function from another file\n",
    "# from filename.py import functionname"
   ]
  },
  {
   "cell_type": "code",
   "execution_count": null,
   "metadata": {},
   "outputs": [],
   "source": [
    "# Cells\n",
    "# To add a new cell, type '# %%'\n",
    "\n",
    "# to run a cell\n",
    "# %%\n",
    "print('Only things in this cell will happen')\n",
    "# %%"
   ]
  },
  {
   "cell_type": "code",
   "execution_count": null,
   "metadata": {},
   "outputs": [],
   "source": [
    "# print statements\n",
    "# examples\n",
    "print('Serial computation time is : '+str(serialtime)+ ' seconds')\n",
    "print(\"--- Timing: %0.4f seconds ---\" % elapsed)\n",
    "print(\"Total acceleration estimate: %dx \" % ((prob4timer)/(prob5timer)))\n",
    "print('The time for %3.0f serial iterations is %3.8f seconds' % (iters, prob4timer))"
   ]
  },
  {
   "cell_type": "code",
   "execution_count": null,
   "metadata": {},
   "outputs": [],
   "source": [
    "# Data types\n",
    "x = np.zeroes(10, dtype = np.float64) # np.float32 or np.float64, np.int64, bool, str # multiple of 8 for int\n",
    "# Mutable: Can be changed (lists, arrays)\n",
    "# Immutable: Cannot be changed(int, float, bool, string))"
   ]
  },
  {
   "cell_type": "code",
   "execution_count": null,
   "metadata": {},
   "outputs": [],
   "source": [
    "# Tuples: immutable (non changable) sequence of objects created with parenthesis ()\n",
    "tuple1 = (1,2, 'string', 4, 0.423)\n",
    "# Lists: same as tuple, but can be edited. Created with square brackets []\n",
    "a = [1,2,'string']\n",
    "# String\n",
    "string1 = ('string')\n",
    "# Array: crated with numpy. Both ([]) required\n",
    "b = np.array([0,1,2,3,5])"
   ]
  },
  {
   "cell_type": "code",
   "execution_count": null,
   "metadata": {},
   "outputs": [],
   "source": [
    "# addition\n",
    "x = [1, 2, 3]\n",
    "y = [4, 5, 6]\n",
    "\n",
    "print(x+y)\n",
    "\n",
    "# this results in concatenation!\n",
    "# use numpy arrays instead"
   ]
  },
  {
   "cell_type": "code",
   "execution_count": null,
   "metadata": {},
   "outputs": [],
   "source": [
    "# divison\n",
    "# normal division use \"/\"\n",
    "a = 5/2\n",
    "print(a)\n",
    "\n",
    "# floor division user \"//\"\n",
    "b = 5//2\n",
    "print(b)"
   ]
  },
  {
   "cell_type": "code",
   "execution_count": null,
   "metadata": {},
   "outputs": [],
   "source": [
    "# multiplication\n",
    "# use \"*\" operator\n",
    "a = 4*2\n",
    "print(a)"
   ]
  },
  {
   "cell_type": "code",
   "execution_count": null,
   "metadata": {},
   "outputs": [],
   "source": [
    "# exponents\n",
    "# use \"**\"\n",
    "a = 2**3\n",
    "print(a)"
   ]
  },
  {
   "cell_type": "code",
   "execution_count": null,
   "metadata": {},
   "outputs": [],
   "source": [
    "# creating a range\n",
    "x = range(11)\n",
    "y = range(0,11,2)  # (start, stop, step)\n",
    "print(*x) # the * unpacks the range\n",
    "print(*y)\n"
   ]
  },
  {
   "cell_type": "code",
   "execution_count": null,
   "metadata": {},
   "outputs": [],
   "source": [
    "# Loops\n",
    "# to iterate over range of values\n",
    "a = 0\n",
    "for j in range(1,10,2):  \n",
    "   a += j\n",
    "print(a)"
   ]
  },
  {
   "cell_type": "code",
   "execution_count": null,
   "metadata": {},
   "outputs": [],
   "source": [
    "# logic\n",
    "a = 10\n",
    "b = 20\n",
    "\n",
    "if a > b:\n",
    "    print(a)\n",
    "elif b > a:\n",
    "    print(b)\n",
    "else:  # for anything else\n",
    "    print('None')\n",
    "\n"
   ]
  },
  {
   "cell_type": "code",
   "execution_count": null,
   "metadata": {},
   "outputs": [],
   "source": [
    "# logic\n",
    "# can check logic between  values\n",
    "a = 10\n",
    "b = 20\n",
    "\n",
    "print(b>a)\n",
    "print(a==b)"
   ]
  },
  {
   "cell_type": "code",
   "execution_count": null,
   "metadata": {},
   "outputs": [],
   "source": []
  }
 ],
 "metadata": {
  "language_info": {
   "codemirror_mode": {
    "name": "ipython",
    "version": 3
   },
   "file_extension": ".py",
   "mimetype": "text/x-python",
   "name": "python",
   "nbconvert_exporter": "python",
   "pygments_lexer": "ipython3",
   "version": "3.8.7-final"
  },
  "orig_nbformat": 2,
  "kernelspec": {
   "name": "python3",
   "display_name": "Python 3",
   "language": "python"
  }
 },
 "nbformat": 4,
 "nbformat_minor": 2
}