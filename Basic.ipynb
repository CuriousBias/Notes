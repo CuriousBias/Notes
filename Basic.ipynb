{
 "cells": [
  {
   "cell_type": "code",
   "execution_count": null,
   "metadata": {},
   "outputs": [],
   "source": [
    "# Basic imports\n",
    "import math\n",
    "import numpy as np  # dont use import x as y unless its very common! \n",
    "import timeit \n",
    "import time\n",
    "\n",
    "# to import specific function from another file\n",
    "# from filename.py import functionname"
   ]
  },
  {
   "cell_type": "code",
   "execution_count": null,
   "metadata": {},
   "outputs": [],
   "source": [
    "# Cells\n",
    "# To add a new cell, type '# %%'\n",
    "\n",
    "# to run a cell\n",
    "# %%\n",
    "print('Only things in this cell will happen')\n",
    "# %%"
   ]
  },
  {
   "cell_type": "code",
   "execution_count": null,
   "metadata": {},
   "outputs": [],
   "source": [
    "# Data types\n",
    "x = np.zeroes(10, dtype = np.float64) # np.float32 or np.float64, np.int64, bool, str # multiple of 8 for int\n",
    "# Mutable: Can be changed (lists, arrays)\n",
    "# Immutable: Cannot be changed(int, float, bool, string))"
   ]
  },
  {
   "cell_type": "code",
   "execution_count": null,
   "metadata": {},
   "outputs": [],
   "source": [
    "# Tuples: immutable (non changable) sequence of objects created with parenthesis ()\n",
    "tuple1 = (1,2, 'string', 4, 0.423)\n",
    "# Lists: same as tuple, but can be edited. Created with square brackets []\n",
    "a = [1,2,'string']\n",
    "# String\n",
    "string1 = ('string')\n",
    "# Array: crated with numpy. Both ([]) required\n",
    "b = np.array([0,1,2,3,5])"
   ]
  },
  {
   "cell_type": "code",
   "execution_count": 1,
   "metadata": {},
   "outputs": [
    {
     "output_type": "stream",
     "name": "stdout",
     "text": [
      "[1, 2, 3, 4, 5, 6]\n"
     ]
    }
   ],
   "source": [
    "# addition\n",
    "x = [1, 2, 3]\n",
    "y = [4, 5, 6]\n",
    "\n",
    "print(x+y)\n",
    "\n",
    "# this results in concatenation!\n",
    "# use numpy arrays instead"
   ]
  },
  {
   "cell_type": "code",
   "execution_count": 6,
   "metadata": {},
   "outputs": [
    {
     "output_type": "stream",
     "name": "stdout",
     "text": [
      "0 1 2 3 4 5 6 7 8 9 10\n0 1 2 3 4 5 6 7 8 9 10\n"
     ]
    }
   ],
   "source": [
    "# creating a range\n",
    "x = range(11)\n",
    "y = range(0,11,1)\n",
    "print(*x) # the * unpacks the range\n",
    "print(*y)\n"
   ]
  },
  {
   "cell_type": "code",
   "execution_count": null,
   "metadata": {},
   "outputs": [],
   "source": [
    "# Defining function\n",
    "def functionname(input1, input2, input3):\n",
    "    if Arg1 == None:\n",
    "        newVar = oldVar + adjustment1\n",
    "    else:\n",
    "        newVar = oldVar + adjustment2\n",
    "        oldVar = newVar\n",
    "    return newVar\n",
    "# to call\n",
    "#print(functionname)\n",
    "#output is newVar"
   ]
  },
  {
   "cell_type": "code",
   "execution_count": null,
   "metadata": {},
   "outputs": [],
   "source": [
    "#`pass` prevents an error message if you run this file before inserting code\n",
    "\n",
    "def function(args):\n",
    "    pass"
   ]
  },
  {
   "cell_type": "code",
   "execution_count": null,
   "metadata": {},
   "outputs": [],
   "source": [
    "# lambda functions\n",
    "multiple = lambda x,y: x*y\n",
    "# to run\n",
    "# print(multiple (3,4))"
   ]
  },
  {
   "cell_type": "code",
   "execution_count": null,
   "metadata": {},
   "outputs": [],
   "source": [
    "# Passing variables to functions\n",
    "# By reference: Variable changes seen inside and outside function\n",
    "\n",
    "# By value: copy created within function. Changes not seen outside\n",
    "\n",
    "# By assignment:\n",
    "\n",
    "# Use list for mutability"
   ]
  },
  {
   "cell_type": "code",
   "execution_count": 1,
   "metadata": {},
   "outputs": [],
   "source": [
    "# types of functions\n",
    "def public(self):  # accessible from anywhere, inside or outside class\n",
    "    pass\n",
    "\n",
    "def _private(self):  # warned not to access, but you still can\n",
    "    pass\n",
    "\n",
    "def __protected(self):  # really hard and should not be accessed outside a class\n",
    "    pass"
   ]
  },
  {
   "cell_type": "code",
   "execution_count": null,
   "metadata": {},
   "outputs": [],
   "source": [
    " def incrementElement (num_list):\n",
    "    num_list [0] += 1\n",
    "    n_list = [4]\n",
    "    incrementElement ( n_list )\n",
    "    print ( n_list [0])"
   ]
  },
  {
   "cell_type": "code",
   "execution_count": null,
   "metadata": {},
   "outputs": [],
   "source": [
    "# appending\n",
    "a = np.array([1, 2, 3, 4, 5, 6])\n",
    "b = np.array([0, 0, 1.5, 0, 0, 1.7])\n",
    "\n",
    "res = []\n",
    "for i in range(len(b)):\n",
    "     if b[i] > 0:\n",
    "        res.append([a[i], b[i]])\n",
    "res = np.array(res)\n",
    "print(res)"
   ]
  },
  {
   "cell_type": "code",
   "execution_count": null,
   "metadata": {},
   "outputs": [],
   "source": [
    "# Function Map: Apply function to array\n",
    "import math\n",
    "import numpy as np\n",
    "import matplotlib.pyplot as plt\n",
    "\n",
    "def s(x0): # defines s() function\n",
    "    return (1.-2*math.sin(PI*x0)**2)\n",
    "\n",
    "def sArray(x): # implements s on Array f\n",
    "    n = x.shape[0]\n",
    "    f = np.zeros(n)\n",
    "    for i in range(n):\n",
    "        f[i] = s(x[i])\n",
    "    return f\n",
    "\n",
    "def main():\n",
    "    x = np.linspace(0, 1, N, dtype=np.float32)\n",
    "    f = sArray(x)\n",
    "    plt.plot(x, f, 'o', label='1-2*Sin(2*PI*x))**2')\n",
    "    plt.legend()\n",
    "    plt.show()\n",
    "\n",
    "if __name__ == '__main__': # This executes all code below the definitions above (if file is named main.py). \n",
    "    N = 64\n",
    "    PI = np.pi\n",
    "    main()"
   ]
  },
  {
   "cell_type": "code",
   "execution_count": null,
   "metadata": {},
   "outputs": [],
   "source": [
    "# print statements\n",
    "# examples\n",
    "print('Serial computation time is : '+str(serialtime)+ ' seconds')\n",
    "print(\"--- Timing: %0.4f seconds ---\" % elapsed)\n",
    "print(\"Total acceleration estimate: %dx \" % ((prob4timer)/(prob5timer)))\n",
    "print('The time for %3.0f serial iterations is %3.8f seconds' % (iters, prob4timer))\n"
   ]
  }
 ],
 "metadata": {
  "language_info": {
   "codemirror_mode": {
    "name": "ipython",
    "version": 3
   },
   "file_extension": ".py",
   "mimetype": "text/x-python",
   "name": "python",
   "nbconvert_exporter": "python",
   "pygments_lexer": "ipython3",
   "version": "3.8.7-final"
  },
  "orig_nbformat": 2,
  "kernelspec": {
   "name": "python3",
   "display_name": "Python 3",
   "language": "python"
  }
 },
 "nbformat": 4,
 "nbformat_minor": 2
}