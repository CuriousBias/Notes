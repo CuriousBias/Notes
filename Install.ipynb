{
 "metadata": {
  "language_info": {
   "codemirror_mode": {
    "name": "ipython",
    "version": 3
   },
   "file_extension": ".py",
   "mimetype": "text/x-python",
   "name": "python",
   "nbconvert_exporter": "python",
   "pygments_lexer": "ipython3",
   "version": "3.8.7-final"
  },
  "orig_nbformat": 2,
  "kernelspec": {
   "name": "python3",
   "display_name": "Python 3",
   "language": "python"
  }
 },
 "nbformat": 4,
 "nbformat_minor": 2,
 "cells": [
  {
   "source": [
    "# Mac OS X\n",
    "\n",
    "# Simple install\n",
    "Install python from python.org\n",
    "Run install certificate command in install folder\n",
    "Update python PATH?\n",
    "% ls -l /usr/local/bin/python* #  this finds which python was installed\n",
    "% sudo ln -s -f /usr/local/bin/python3.8 /usr/local/bin/python\n",
    "Update pip. This should also remap pip3 to just pip\n",
    "# pip3 install --upgrade\n",
    "Install packages as necessary\n",
    "% pip install numpy\n",
    "% pip install scipy\n",
    "% pip install matplotlib\n",
    "% pip install jupytherlab\n"
   ],
   "cell_type": "code",
   "metadata": {},
   "execution_count": null,
   "outputs": []
  },
  {
   "cell_type": "code",
   "execution_count": null,
   "metadata": {},
   "outputs": [],
   "source": [
    "# Mac OS X\n",
    "\n",
    "# Advanced install\n",
    "# Install Xcode from App store\n",
    "Add command line tools\n",
    "kurts@kurts-air ~ % Xcode-select -- install\n",
    "\n",
    "I# nstall homebrew\n",
    "% /bin/bash -c \"$(curl -fsSL https://raw.githubusercontent.com/Homebrew/install/master/install.sh)\"\n",
    "\n",
    "# Add Homebrew to your PATH in /Users/kurt/.zprofile:\n",
    "% echo 'eval $(/opt/homebrew/bin/brew shellenv)' >> /Users/kurt/.zprofile\n",
    "% eval $(/opt/homebrew/bin/brew shellenv)\n",
    "% export PATH=\"/usr/local/opt/python/libexec/bin:$PATH\"\n",
    "\n",
    "# Test brew install\n",
    "% brew help\n",
    "\n",
    "This step isnt working\n",
    "\n",
    "https://docs.python-guide.org/starting/install3/osx/\n",
    "\n",
    "The script will explain what changes it will make and prompt you before the installation begins. Once you’ve installed Homebrew, insert the Homebrew directory at the top of your PATH environment variable. You can do this by adding the following line at the bottom of your ~/.profile file\n",
    "export PATH=\"/usr/local/opt/python/libexec/bin:$PATH\"\n",
    "\n",
    "# Install latest version of python\n",
    "% brew install python\n",
    "\n",
    "# See where python was installed\n",
    "\n",
    "Close terminal and check\n",
    "% python --version\n"
   ]
  },
  {
   "cell_type": "code",
   "execution_count": null,
   "metadata": {},
   "outputs": [],
   "source": [
    "# Virtual environments\n",
    "\n",
    "https://docs.python-guide.org/dev/virtualenvs/#virtualenvironments-ref\n",
    "Create virtual environment \n",
    "% python -m venv test\n",
    "\n",
    "# Activate the environment\n",
    "% source test/bin/activate\n",
    "\n",
    "# Install whichever packages you want \n",
    "% pip install numpy\n",
    "\n",
    "# How do I access the environment in an IDE? \n",
    "\n",
    "# Exit environment\n",
    "% exit\n"
   ]
  },
  {
   "cell_type": "code",
   "execution_count": null,
   "metadata": {},
   "outputs": [],
   "source": [
    "# For root access\n",
    "% sudo -i\n",
    "\n",
    "# To leave root \n",
    "root# exit"
   ]
  },
  {
   "cell_type": "code",
   "execution_count": null,
   "metadata": {},
   "outputs": [],
   "source": [
    "\n",
    "  WARNING: The scripts isort and isort-identify-imports are installed in '/Users/kurt/Library/Python/3.8/bin' which is not on PATH.\n",
    "  Consider adding this directory to PATH or, if you prefer to suppress this warning, use --no-warn-script-location.\n",
    "  WARNING: The scripts epylint, pylint, pyreverse and symilar are installed in '/Users/kurt/Library/Python/3.8/bin' which is not on PATH.\n",
    "  Consider adding this directory to PATH or, if you prefer to suppress this warning, use --no-warn-script-location.\n",
    "\n",
    "Add to PATH\n",
    "Pull up paths list\n",
    "% sudo nano /etc/paths\n",
    "Enter password\n",
    "\n",
    "/usr/local/bin\n",
    "/usr/bin\n",
    "/bin\n",
    "/usr/sbin\n",
    "/sbin\n",
    "\n",
    "Add to this list? \n",
    "/Users/kurt/Library/Python/3.8/bin\n",
    "\n",
    "Quit out\n",
    "^ + X, Y to save changes"
   ]
  }
 ]
}