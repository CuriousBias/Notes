{
 "metadata": {
  "language_info": {
   "codemirror_mode": {
    "name": "ipython",
    "version": 3
   },
   "file_extension": ".py",
   "mimetype": "text/x-python",
   "name": "python",
   "nbconvert_exporter": "python",
   "pygments_lexer": "ipython3",
   "version": "3.8.7-final"
  },
  "orig_nbformat": 2,
  "kernelspec": {
   "name": "python3",
   "display_name": "Python 3",
   "language": "python"
  }
 },
 "nbformat": 4,
 "nbformat_minor": 2,
 "cells": [
  {
   "source": [
    "### Floating point\n",
    "\n",
    "* not all real numbers can be expressed exactly\n",
    "* no direct representation for 0\n",
    "* numbers are spaced unevenly. Larger gaps at larger numbers\n",
    "\n",
    "**absolute error E(x):** E(x) = abs(represented value - real number)\n",
    "\n",
    "**relative error R(x):** R(x) = absolute error / abs(real number\n",
    "\n",
    "**machine epsilon ($\\epsilon$):** smallest number you can add to 1 without producing 1\n",
    "\n",
    "**conditioning**\n",
    "* well-conditioned: small change in input = small change in output\n",
    "* ill-conditioned: small change in input = large change in output\n",
    "\n",
    "**stability:** output is not impacted by computation errors\n",
    "\n",
    "\n"
   ],
   "cell_type": "markdown",
   "metadata": {}
  },
  {
   "source": [
    "### Error propagation\n",
    "\n",
    "**addition:** relative errors add\n",
    "\n",
    "**multiplication:** relative errors also add because multiplication of errors is VERY small and can be ignored\n",
    "\n",
    "**division:** again addition for same reason\n",
    "\n",
    "**subtraction:** can be significant issue! *catastrophic cancellation* is when significant digits cancel and roundoff error becomes leading digit. This results in noise in answer\n",
    "\n",
    "\n"
   ],
   "cell_type": "markdown",
   "metadata": {}
  },
  {
   "source": [
    "### Limitations of fixed precision arithmetic\n",
    "\n",
    "**evaluating roots:**\n",
    "<br> - evaluate +x, -x of $a x^2 + b x + c = 0$ using quadratic formula\n",
    "<br> - issue when $4ac << b^2$ as square root is nearly equal to b and *catastrophic* cancellation can happen\n",
    "\n",
    "**solution:**\n",
    "<br> 1. compute $q = b + \\sqrt{b^2 - 4ac}$\n",
    "<br> 2. compute first root $x_1 = -\\frac{q}{2a}$\n",
    "<br> 3. compute second root $x_2 = -\\frac{2c}{q}$"
   ],
   "cell_type": "markdown",
   "metadata": {}
  }
 ]
}