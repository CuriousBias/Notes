{
 "metadata": {
  "language_info": {
   "codemirror_mode": {
    "name": "ipython",
    "version": 3
   },
   "file_extension": ".py",
   "mimetype": "text/x-python",
   "name": "python",
   "nbconvert_exporter": "python",
   "pygments_lexer": "ipython3",
   "version": "3.8.7-final"
  },
  "orig_nbformat": 2,
  "kernelspec": {
   "name": "python3",
   "display_name": "Python 3",
   "language": "python"
  }
 },
 "nbformat": 4,
 "nbformat_minor": 2,
 "cells": [
  {
   "cell_type": "code",
   "execution_count": null,
   "metadata": {},
   "outputs": [],
   "source": [
    "# writing and reading data from a file\n"
   ]
  },
  {
   "cell_type": "code",
   "execution_count": null,
   "metadata": {},
   "outputs": [],
   "source": [
    "# more advanced plotting code example\n",
    "import matplotlib.pyplot as plt\n",
    "# 3d plot\n",
    "from mpl_toolkits import mplot3d\n",
    "\n",
    "plt.figure(1)\n",
    "plt.subplot(312) # 1st number is rows, 2nd is columns, third is position. \n",
    "plt.plot(x, w, x,prob2parallelrad2, x, prob2parallelrad4)\n",
    "plt.axis([0, 1, 0, 10]) # set axis. note: lack of indent to match line above results in just one plot.     \n",
    "plt.xlabel('x')\n",
    "plt.ylabel('Pi')\n",
    "plt.title('Parallel smoothing functions')\n",
    "plt.legend(['w','rad = 2 %3.4f seconds' % (parallel2time), 'rad = 4 %3.4f seconds' % (parallel4time)],loc=1)\n",
    "\n",
    "# for plotting multiple values without saving to arrays\n",
    "for i in range(Nc):\n",
    "    y = fwd_euler_parallel(t,y,w,h)\n",
    "    residual_c[i,:] = y[:, Nt-1, 1] - c[i]*y[:, Nt-1, 0]\n",
    "    plt.plot(w, residual_c[i,:], label=str(i))\n",
    "    plt.legend()\n",
    "plt.xlabel('w [0,10]')\n",
    "plt.ylabel(\"y'(pi) - c*y(pi)\")\n",
    "plt.title('Eigenvalues')\n",
    "plt.show()\n",
    "\n",
    "fig = plt.figure()\n",
    "ax = plt.axes(projection='3d')\n",
    "ax.plot_surface(x,y,out, cmap=plt.cm.jet)\n",
    "ax.set_xlabel('x')\n",
    "ax.set_ylabel('y')\n",
    "ax.set_zlabel('u')\n",
    "ax.set_title('Unsteady Heat Conduction')\n",
    "plt.show()"
   ]
  }
 ]
}