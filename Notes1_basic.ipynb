{
 "cells": [
  {
   "cell_type": "code",
   "execution_count": null,
   "metadata": {},
   "outputs": [],
   "source": [
    "# Random good practices\n",
    "\n",
    "# use standard units like m, s, kg. Otherwise make it clear in a comment\n",
    "# make variables and function names make sense so code is readable and doesnt require comments\n",
    "# label branches with usernames and what they refer to (test or feature)\n",
    "# Break up main code into psuedo code of helper/handle functions - Makes it much easier to debug\n",
    "# Use a logger instead of print statements\n",
    "# name task channels to reflect what they are doing\n",
    "# "
   ]
  },
  {
   "cell_type": "code",
   "execution_count": null,
   "metadata": {},
   "outputs": [],
   "source": [
    "# To add a new cell, type '# %%'\n",
    "# Imports\n",
    "import math\n",
    "import numpy as np\n",
    "import timeit \n",
    "import matplotlib.pyplot as plt\n",
    "from time import time\n",
    "from numba import cuda\n",
    "# from filename import function\n",
    "# ex from map_parallel import map_parallel\n",
    "pass #`pass` prevents an error message if you run this file before inserting code\n",
    "\n",
    "# Simulation mode: good for debugging kernel code since you can use print() in simulation mode\n",
    "import os\n",
    "os.environ['NUMBA_ENABLE_CUDASIM'] = '1'\n",
    "\n",
    "# to run a cell\n",
    "#%%\n",
    "run this cell contents\n",
    "#%%"
   ]
  },
  {
   "cell_type": "code",
   "execution_count": null,
   "metadata": {},
   "outputs": [],
   "source": [
    "# Data types\n",
    "x = np.zeroes(10, dtype = np.float64) # np.float32 or np.float64, np.int64, bool, str # multiple of 8 for int\n",
    "# Mutable: Can be changed (lists, arrays)\n",
    "# Immutable: Cannot be changed(int, float, bool, string))"
   ]
  },
  {
   "cell_type": "code",
   "execution_count": null,
   "metadata": {},
   "outputs": [],
   "source": [
    "# Tuples: immutable (non changable) sequence of objects created with parenthesis ()\n",
    "tuple1 = (1,2, 'string', 4, 0.423)\n",
    "# Lists: same as tuple, but can be edited. Created with square brackets []\n",
    "a = [1,2,'string']\n",
    "# String\n",
    "string1 = ('string')\n",
    "# Array: crated with numpy. Both ([]) required\n",
    "b = np.array([0,1,2,3,5])"
   ]
  },
  {
   "cell_type": "code",
   "execution_count": null,
   "metadata": {},
   "outputs": [],
   "source": [
    "# Defining function\n",
    "def functionname(input1, input2, input3):\n",
    "    if Arg1 == None:\n",
    "        newVar = oldVar + adjustment1\n",
    "    else:\n",
    "        newVar = oldVar + adjustment2\n",
    "        oldVar = newVar\n",
    "    return newVar\n",
    "# to call\n",
    "#print(functionname)\n",
    "#output is newVar"
   ]
  },
  {
   "cell_type": "code",
   "execution_count": null,
   "metadata": {},
   "outputs": [],
   "source": [
    "# lambda functions\n",
    "multiple = lambda x,y: x*y\n",
    "# to run\n",
    "# print(multiple (3,4))"
   ]
  },
  {
   "cell_type": "code",
   "execution_count": null,
   "metadata": {},
   "outputs": [],
   "source": [
    "# Passing variables to functions\n",
    "# By reference: Variable changes seen inside and outside function\n",
    "\n",
    "# By value: copy created within function. Changes not seen outside\n",
    "\n",
    "# By assignment:\n",
    "\n",
    "# Use list for mutability"
   ]
  },
  {
   "cell_type": "code",
   "execution_count": null,
   "metadata": {},
   "outputs": [],
   "source": [
    " def incrementElement ( num_list ):\n",
    "    num_list [0] += 1\n",
    "    n_list = [4]\n",
    "    incrementElement ( n_list )\n",
    "    print ( n_list [0])"
   ]
  },
  {
   "cell_type": "code",
   "execution_count": null,
   "metadata": {},
   "outputs": [],
   "source": [
    "# appending\n",
    "a = np.array([1, 2, 3, 4, 5, 6])\n",
    "b = np.array([0, 0, 1.5, 0, 0, 1.7])\n",
    "\n",
    "res = []\n",
    "for i in range(len(b)):\n",
    "     if b[i] > 0:\n",
    "        res.append([a[i], b[i]])\n",
    "res = np.array(res)\n",
    "print(res)"
   ]
  },
  {
   "cell_type": "code",
   "execution_count": null,
   "metadata": {},
   "outputs": [],
   "source": [
    "# Numpy package: actually stored in C\n",
    "Array1 = np.ndarray([1, 2, 3]) # float\n",
    "Array2 = np.array([1, 3, 5]) # int\n",
    "Array3 = np.empty([2,1]) # But need to define all indicies first!\n",
    "Array3[:,0] = 3\n",
    "Array4 = np.zeros([1,4])\n",
    "Array5 = np.ones([4,2])\n",
    "Array6 = np.eye(3)\n",
    "Array7 = np.arange(1,10,2) # (start, end, increment)\n",
    "# Attributes\n",
    "att1 = np.shape(Array5) # dimensions # output is (4,2)\n",
    "att2 = np.size(Array5) # total number of elements # output is 8 "
   ]
  },
  {
   "cell_type": "code",
   "execution_count": null,
   "metadata": {},
   "outputs": [],
   "source": [
    "# Numpy functionality\n",
    "# scalar multiplicaiton\n",
    "function1 = np.pi * Array2\n",
    "# element wise addition\n",
    "function2 = Array2 + 3\n",
    "# dot or inner product\n",
    "function3 = np.dot(Array1,Array2) # or = Array1.dot(Array2)"
   ]
  },
  {
   "cell_type": "code",
   "execution_count": null,
   "metadata": {},
   "outputs": [],
   "source": [
    "# plotting\n",
    "plt.figure(1)\n",
    "plt.subplot(312) # 1st number is rows, 2nd is columns, third is position. \n",
    "plt.plot(x, w, x,prob2parallelrad2, x, prob2parallelrad4)\n",
    "plt.axis([0, 1, 0, 10]) # set axis. note: lack of indent to match line above results in just one plot.     \n",
    "plt.xlabel('x')\n",
    "plt.ylabel('Pi')\n",
    "plt.title('Parallel smoothing functions')\n",
    "plt.legend(['w','rad = 2 %3.4f seconds' % (parallel2time), 'rad = 4 %3.4f seconds' % (parallel4time)],loc=1)\n",
    "\n",
    "\n",
    "# for plotting multiple values without saving to arrays\n",
    "for i in range(Nc):\n",
    "    y = fwd_euler_parallel(t,y,w,h)\n",
    "    residual_c[i,:] = y[:, Nt-1, 1] - c[i]*y[:, Nt-1, 0]\n",
    "    plt.plot(w, residual_c[i,:], label=str(i))\n",
    "    plt.legend()\n",
    "plt.xlabel('w [0,10]')\n",
    "plt.ylabel(\"y'(pi) - c*y(pi)\")\n",
    "plt.title('Eigenvalues')\n",
    "plt.show()\n",
    "\n",
    "# 3d plot\n",
    "from mpl_toolkits import mplot3d\n",
    "\n",
    "fig = plt.figure()\n",
    "ax = plt.axes(projection='3d')\n",
    "ax.plot_surface(x,y,out, cmap=plt.cm.jet)\n",
    "ax.set_xlabel('x')\n",
    "ax.set_ylabel('y')\n",
    "ax.set_zlabel('u')\n",
    "ax.set_title('Unsteady Heat Conduction')\n",
    "plt.show()\n",
    "\n"
   ]
  },
  {
   "cell_type": "code",
   "execution_count": null,
   "metadata": {},
   "outputs": [],
   "source": [
    "# Function Map: Apply function to array\n",
    "import math\n",
    "import numpy as np\n",
    "import matplotlib.pyplot as plt\n",
    "\n",
    "def s(x0): # defines s() function\n",
    "    return (1.-2*math.sin(PI*x0)**2)\n",
    "\n",
    "def sArray(x): # implements s on Array f\n",
    "    n = x.shape[0]\n",
    "    f = np.zeros(n)\n",
    "    for i in range(n):\n",
    "        f[i] = s(x[i])\n",
    "    return f\n",
    "\n",
    "def main():\n",
    "    x = np.linspace(0, 1, N, dtype=np.float32)\n",
    "    f = sArray(x)\n",
    "    plt.plot(x, f, 'o', label='1-2*Sin(2*PI*x))**2')\n",
    "    plt.legend()\n",
    "    plt.show()\n",
    "\n",
    "if __name__ == '__main__': # This executes all code below the definitions above (if file is named main.py). \n",
    "    N = 64\n",
    "    PI = np.pi\n",
    "    main()"
   ]
  },
  {
   "cell_type": "code",
   "execution_count": null,
   "metadata": {},
   "outputs": [],
   "source": [
    "# Ch 3 Timing\n",
    "# Simple timing: \n",
    "from time import time\n",
    "\n",
    "start = time() # assign current time to start variable in seconds\n",
    "variable = map_main() # execute code\n",
    "end = time() # record time at end point\n",
    "elapsed = end - start #compute serial runtime\n",
    "print(\"--- Timing: %0.4f seconds ---\" % elapsed)\n",
    "\n",
    "# measure multiple times for execution of kernal functions. First measurement always bad\n",
    "\n",
    "# Synchronous vs Asynchronous execution\n",
    "# Synchronous: CPU computing. Call one function, it executes, then call next. \n",
    "# Asynchronous: Lauch kernal function, GPU executes when able\n",
    "28:     start = time()\n",
    "29: \tsKernel[gridDims, blockDims](d_f, d_x)\n",
    "30: \tend = time()\n",
    "31: \telapsed_time = end -  start\n",
    "32: \tprint(\"--- Kernel time(): %3.4f milliseconds ---\" % (1000*elapsed_time))\n",
    "33: \treturn d_f.copy_to_host()\n",
    "# this will only record time to lauch kernal, not total GPU process time. "
   ]
  },
  {
   "cell_type": "code",
   "execution_count": null,
   "metadata": {},
   "outputs": [],
   "source": [
    "# print statements\n",
    "# examples\n",
    "print('Serial computation time is : '+str(serialtime)+ ' seconds')\n",
    "print(\"--- Timing: %0.4f seconds ---\" % elapsed)\n",
    "print(\"Total acceleration estimate: %dx \" % ((prob4timer)/(prob5timer)))\n",
    "print('The time for %3.0f serial iterations is %3.8f seconds' % (iters, prob4timer))\n"
   ]
  },
  {
   "cell_type": "code",
   "execution_count": null,
   "metadata": {},
   "outputs": [],
   "source": [
    "# @atexit routine\n",
    "# add atexit route to shut down test\n",
    "import atexit\n",
    "# turn off powersupply, etc"
   ]
  },
  {
   "cell_type": "code",
   "execution_count": null,
   "metadata": {},
   "outputs": [],
   "source": [
    "# try, except, finally, with\n",
    "\n",
    "print(x) # would raise an error since x is undefinied\n",
    "\n",
    "# try: lets you test a block for errors\n",
    "# except: lets you handle the error\n",
    "# else: execute code if no errors raised\n",
    "# finally: lets you execute code regardless of results of try or except\n",
    "\n",
    "try:\n",
    "    print(x)\n",
    "except:\n",
    "    print('x not defined')\n",
    "else:\n",
    "    print('nothing is worng') # if x has been defined\n",
    "finally:\n",
    "    do_something()\n",
    "\n",
    "# can also be written as\n",
    "\n"
   ]
  },
  {
   "cell_type": "code",
   "execution_count": null,
   "metadata": {},
   "outputs": [],
   "source": [
    "# raise and exception\n",
    "\n",
    "x = -1\n",
    "\n",
    "if x < 0:\n",
    "    raise Exception('No numbers below zero')"
   ]
  }
 ],
 "metadata": {
  "language_info": {
   "codemirror_mode": {
    "name": "ipython",
    "version": 3
   },
   "file_extension": ".py",
   "mimetype": "text/x-python",
   "name": "python",
   "nbconvert_exporter": "python",
   "pygments_lexer": "ipython3",
   "version": 3
  },
  "orig_nbformat": 2
 },
 "nbformat": 4,
 "nbformat_minor": 2
}