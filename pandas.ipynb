{
 "metadata": {
  "language_info": {
   "codemirror_mode": {
    "name": "ipython",
    "version": 3
   },
   "file_extension": ".py",
   "mimetype": "text/x-python",
   "name": "python",
   "nbconvert_exporter": "python",
   "pygments_lexer": "ipython3",
   "version": "3.8.7"
  },
  "orig_nbformat": 2,
  "kernelspec": {
   "name": "python387jvsc74a57bd04cd7ab41f5fca4b9b44701077e38c5ffd31fe66a6cab21e0214b68d958d0e462",
   "display_name": "Python 3.8.7 64-bit"
  }
 },
 "nbformat": 4,
 "nbformat_minor": 2,
 "cells": [
  {
   "cell_type": "code",
   "execution_count": 1,
   "metadata": {},
   "outputs": [],
   "source": [
    "import pandas as pd\n",
    "import numpy as np"
   ]
  },
  {
   "cell_type": "code",
   "execution_count": 11,
   "metadata": {},
   "outputs": [
    {
     "output_type": "execute_result",
     "data": {
      "text/plain": [
       "            delta                                        x0   x1\n",
       "5   <class 'str'>  (<class 'numpy.float32'>, <class 'int'>)  1.0\n",
       "7   <class 'str'>  (<class 'numpy.float32'>, <class 'int'>)  1.0\n",
       "9           hello  (<class 'numpy.float32'>, <class 'int'>)  1.0\n",
       "11  <class 'str'>                                  (7.2, 3)  1.0\n",
       "13  <class 'str'>  (<class 'numpy.float32'>, <class 'int'>)  1.0\n",
       "15  <class 'str'>  (<class 'numpy.float32'>, <class 'int'>)  1.0\n",
       "17  <class 'str'>  (<class 'numpy.float32'>, <class 'int'>)  1.0\n",
       "19  <class 'str'>  (<class 'numpy.float32'>, <class 'int'>)  5.0"
      ],
      "text/html": "<div>\n<style scoped>\n    .dataframe tbody tr th:only-of-type {\n        vertical-align: middle;\n    }\n\n    .dataframe tbody tr th {\n        vertical-align: top;\n    }\n\n    .dataframe thead th {\n        text-align: right;\n    }\n</style>\n<table border=\"1\" class=\"dataframe\">\n  <thead>\n    <tr style=\"text-align: right;\">\n      <th></th>\n      <th>delta</th>\n      <th>x0</th>\n      <th>x1</th>\n    </tr>\n  </thead>\n  <tbody>\n    <tr>\n      <th>5</th>\n      <td>&lt;class 'str'&gt;</td>\n      <td>(&lt;class 'numpy.float32'&gt;, &lt;class 'int'&gt;)</td>\n      <td>1.0</td>\n    </tr>\n    <tr>\n      <th>7</th>\n      <td>&lt;class 'str'&gt;</td>\n      <td>(&lt;class 'numpy.float32'&gt;, &lt;class 'int'&gt;)</td>\n      <td>1.0</td>\n    </tr>\n    <tr>\n      <th>9</th>\n      <td>hello</td>\n      <td>(&lt;class 'numpy.float32'&gt;, &lt;class 'int'&gt;)</td>\n      <td>1.0</td>\n    </tr>\n    <tr>\n      <th>11</th>\n      <td>&lt;class 'str'&gt;</td>\n      <td>(7.2, 3)</td>\n      <td>1.0</td>\n    </tr>\n    <tr>\n      <th>13</th>\n      <td>&lt;class 'str'&gt;</td>\n      <td>(&lt;class 'numpy.float32'&gt;, &lt;class 'int'&gt;)</td>\n      <td>1.0</td>\n    </tr>\n    <tr>\n      <th>15</th>\n      <td>&lt;class 'str'&gt;</td>\n      <td>(&lt;class 'numpy.float32'&gt;, &lt;class 'int'&gt;)</td>\n      <td>1.0</td>\n    </tr>\n    <tr>\n      <th>17</th>\n      <td>&lt;class 'str'&gt;</td>\n      <td>(&lt;class 'numpy.float32'&gt;, &lt;class 'int'&gt;)</td>\n      <td>1.0</td>\n    </tr>\n    <tr>\n      <th>19</th>\n      <td>&lt;class 'str'&gt;</td>\n      <td>(&lt;class 'numpy.float32'&gt;, &lt;class 'int'&gt;)</td>\n      <td>5.0</td>\n    </tr>\n  </tbody>\n</table>\n</div>"
     },
     "metadata": {},
     "execution_count": 11
    }
   ],
   "source": [
    "solution = pd.DataFrame(\n",
    "    {\n",
    "        \"delta\": np.str,\n",
    "        \"x0\": [(np.float32,np.int)],\n",
    "        \"x1\": np.float32(1.),\n",
    "    }, \n",
    "    index=list(range(5,20,2))\n",
    ")\n",
    "\n",
    "solution.at[9, \"delta\"] = \"hello\"\n",
    "solution.at[11, \"x0\"] = (7.2,3)\n",
    "solution.at[19,\"x1\"] = 5 \n",
    "\n",
    "\n",
    "solution  # .style.format({'delta': \"{:.0e}\",'x1': \"{:.15f}\"})"
   ]
  },
  {
   "cell_type": "code",
   "execution_count": null,
   "metadata": {},
   "outputs": [],
   "source": [
    "# creating panda df from txt file with \"  \" as delimiter\n",
    "P2_0_dir = os.path.join(cur_dir, 'HW3_files/CIRCUM_P2_0.txt')  # designate path\n",
    "cs_P2_0 = pd.read_csv(P2_0_dir, delimiter=\"  \", engine='python')"
   ]
  }
 ]
}