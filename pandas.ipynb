{
 "metadata": {
  "language_info": {
   "codemirror_mode": {
    "name": "ipython",
    "version": 3
   },
   "file_extension": ".py",
   "mimetype": "text/x-python",
   "name": "python",
   "nbconvert_exporter": "python",
   "pygments_lexer": "ipython3",
   "version": "3.8.7"
  },
  "orig_nbformat": 2,
  "kernelspec": {
   "name": "python387jvsc74a57bd04cd7ab41f5fca4b9b44701077e38c5ffd31fe66a6cab21e0214b68d958d0e462",
   "display_name": "Python 3.8.7 64-bit"
  }
 },
 "nbformat": 4,
 "nbformat_minor": 2,
 "cells": [
  {
   "cell_type": "code",
   "execution_count": 4,
   "metadata": {},
   "outputs": [],
   "source": [
    "import pandas as pd\n",
    "import numpy as np"
   ]
  },
  {
   "cell_type": "code",
   "execution_count": 7,
   "metadata": {},
   "outputs": [],
   "source": [
    "solution = pd.DataFrame(\n",
    "    {\n",
    "        \"delta\": np.float32(1.),\n",
    "        \"x0\": np.float32(1.),\n",
    "        \"x1\": np.float32(1.),\n",
    "    }, \n",
    "    index=list(range(5,20,2))\n",
    ")\n",
    "\n",
    "solution[\"delta\"][9] = 3.1\n",
    "solution[\"x0\"][11] = 7.2\n",
    "solution[\"x1\"][19] = 5 \n",
    "\n",
    "\n",
    "solution.style.format({'delta': \"{:.0e}\", 'x0': \"{:.15f}\", 'x1': \"{:.15f}\"})"
   ]
  },
  {
   "cell_type": "code",
   "execution_count": null,
   "metadata": {},
   "outputs": [],
   "source": []
  }
 ]
}