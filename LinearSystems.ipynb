{
 "metadata": {
  "language_info": {
   "codemirror_mode": {
    "name": "ipython",
    "version": 3
   },
   "file_extension": ".py",
   "mimetype": "text/x-python",
   "name": "python",
   "nbconvert_exporter": "python",
   "pygments_lexer": "ipython3",
   "version": "3.8.7-final"
  },
  "orig_nbformat": 2,
  "kernelspec": {
   "name": "python3",
   "display_name": "Python 3",
   "language": "python"
  }
 },
 "nbformat": 4,
 "nbformat_minor": 2,
 "cells": [
  {
   "source": [
    "### System of linear equations\n",
    "\n",
    "* System of linear equations in the form a_0x + a_1x + ... + a_n-1x = b_0\n",
    "* Simplied to matrix Ax = b\n",
    "    * A is matrix with dimensions i,j of linear coefficients\n",
    "    * b is 1D array of constants\n",
    "\n"
   ],
   "cell_type": "markdown",
   "metadata": {}
  },
  {
   "source": [
    "### Gaussian elimation\n",
    "* Basic method:\n",
    "    * Create augmented matrix with A and b to form [A|b]\n",
    "    * Reduce matrix down to reduced row echelon form "
   ],
   "cell_type": "markdown",
   "metadata": {}
  },
  {
   "cell_type": "code",
   "execution_count": 1,
   "metadata": {},
   "outputs": [
    {
     "output_type": "stream",
     "name": "stdout",
     "text": [
      "[[ 1  1  1  1]\n [ 1  2  4 -1]\n [ 1  3  9  1]]\n[ 7. -8.  2.]\n"
     ]
    }
   ],
   "source": [
    "import numpy as np \n",
    "\n",
    "a = np.array([[1,1,1],[1,2,4],[1,3,9]])\n",
    "# print(a)\n",
    "a_transpose = a.T  # for transpose\n",
    "# print(a_transpose)\n",
    "\n",
    "b = np.array([1, -1, 1])\n",
    "# print(b)\n",
    "\n",
    "# two methods of creating the augmented matrix\n",
    "# augmented = np.c_[a,b]\n",
    "augmented = np.column_stack([a,b])\n",
    "print(augmented)\n",
    "\n",
    "# basic solver algorithms:\n",
    "# 0. Swap rows as needed (if leading row is 0)\n",
    "# 1. multiply row by a non zero constant\n",
    "# 2. add multiple of one row to another\n",
    "\n",
    "x = np.linalg.solve(a,b)\n",
    "print(x)"
   ]
  },
  {
   "source": [
    "### LU factorization\n",
    "* Easier to resolve for a new b matrix\n",
    "* break A matrix into A = LU \n",
    "\n",
    "$\\begin{align}\n",
    "A = \n",
    "\\begin{pmatrix}\n",
    "    4 & 3 & 2 \\\\\n",
    "    16 & 14 & 9 \\\\\n",
    "    12 & 13 & 13\n",
    "\\end{pmatrix}\n",
    "= \\qquad \\;\n",
    "\\begin{pmatrix}\n",
    "    1 & 0 & 0 \\\\\n",
    "    4 & 1 & 0 \\\\\n",
    "    3 & 2 & 1\n",
    "\\end{pmatrix} \\qquad \\;\n",
    "\\begin{pmatrix}\n",
    "    4 & 3 & 2\\\\\n",
    "    0 & 2 & 1\\\\\n",
    "    0 & 0 & 5\n",
    "\\end{pmatrix}\n",
    "= L U\n",
    "\\end{align}$\n",
    "\n",
    "* L is lower triangular with 1s on diagonal\n",
    "* U is upper triangular with pivots on main diagonal\n",
    "* can be stored as single array\n",
    "    * no need to store diagonal 1s from L \n",
    "    * store off diagonal elements of L diagonal of U\n",
    "\n",
    "$A x = b \\iff L U x = b \\iff L y = b$ where $U x = y$\n",
    "\n",
    "- Factor: $A \\rightarrow L U$\n",
    "- Solve $L y = b$\n",
    "- Solve $U x = y$\n",
    "\n",
    "### PLU factorization\n",
    "* Extra step of conducting row swaps in order to minimize non diagonal values\n",
    "* large diagonal values can result in numerical errors\n",
    "<br> $ A = PLU$\n",
    "\n"
   ],
   "cell_type": "markdown",
   "metadata": {}
  },
  {
   "cell_type": "code",
   "execution_count": 2,
   "metadata": {},
   "outputs": [
    {
     "output_type": "stream",
     "name": "stdout",
     "text": [
      "[[ 4  3  2]\n [16 14  9]\n [12 13 13]]\n40.0\n"
     ]
    }
   ],
   "source": [
    "# LU example\n",
    "U = np.array([[4,3,2],[0,2,1],[0,0,5]])\n",
    "L = np.array([[1,0,0],[4,1,0],[3,2,1]])\n",
    "\n",
    "A = np.dot(L,U)\n",
    "print(A)\n",
    "\n",
    "det = np.linalg.det(A)\n",
    "print(det)"
   ]
  },
  {
   "cell_type": "code",
   "execution_count": 3,
   "metadata": {},
   "outputs": [
    {
     "output_type": "stream",
     "name": "stdout",
     "text": [
      "[[1. 0. 0.]\n [0. 0. 1.]\n [0. 1. 0.]]\n[[1.  0.  0. ]\n [1.  1.  0. ]\n [1.  0.5 1. ]]\n[[ 1.  1.  1.]\n [ 0.  2.  8.]\n [ 0.  0. -1.]]\n[[1. 1. 1.]\n [1. 3. 9.]\n [1. 2. 4.]]\n"
     ]
    }
   ],
   "source": [
    "# LU decomposiiton example\n",
    "import scipy.linalg\n",
    "\n",
    "P, L, U = scipy.linalg.lu(a)  # (P, L, U)\n",
    "print(P)  # permutation matrix to keep track of any necessary row swaps. has only single 1 in each row and column. \n",
    "print(L)  # lower matrix\n",
    "print(U)  # upper matrix\n",
    "\n",
    "a_check = np.dot(L, U)  # verify LU decmoposition was successful\n",
    "print(a_check)"
   ]
  },
  {
   "cell_type": "code",
   "execution_count": null,
   "metadata": {},
   "outputs": [],
   "source": [
    "# LU decomposition and solve\n",
    "# this is much more efficient for large matrix then solving directly if solution for multiple b matricies must be computed\n",
    "\n",
    "lu, piv = scipy.linalg.lu_factor(a)\n",
    "b = np.array([1, -1, 1])  # example b solution\n",
    "print(piv)\n",
    "print(lu)  # combines L and U matricies into single matrix per notes above\n",
    "\n",
    "x = scipy.linalg.lu_solve((lu, piv), b)  # x from Ax = b\n",
    "print(x)"
   ]
  },
  {
   "source": [
    "### Iterative soltution methods for Ax = b\n",
    "1. Make an initial guess for x(0)\n",
    "2. Given a guess x(k), compute an improved solution \n",
    "3. Repeat until stopping criteria\n",
    "    * change is small\n",
    "    * residual error is small\n",
    "    * number of iterations has reached set number\n",
    "\n",
    "**Jacobi iteration** \n",
    "\n",
    "1. Solve each row/equations for the corresponding solution\n",
    "2. Plug in previous soltuions to the next\n",
    "<br> This involves solving for matrix inverse, but that is okay since invert is diagonal\n"
   ],
   "cell_type": "markdown",
   "metadata": {}
  },
  {
   "cell_type": "code",
   "execution_count": null,
   "metadata": {},
   "outputs": [],
   "source": [
    "# jacobi example\n",
    "a = np.array([[1,1,1],[1,2,4],[1,3,9]])\n",
    "b = np.array([1, -1, 1])\n",
    "print(a)\n",
    "print(b)"
   ]
  },
  {
   "cell_type": "code",
   "execution_count": null,
   "metadata": {},
   "outputs": [],
   "source": [
    "# jacobi update function\n",
    "def jacobi_update(x, y, z):\n",
    "    x_new = 1 -y -z\n",
    "    y_new = (-1 -x -4*z)/2.\n",
    "    z_new = (1-x-3*y)/9.\n",
    "    return x_new, y_new, z_new"
   ]
  },
  {
   "cell_type": "code",
   "execution_count": null,
   "metadata": {},
   "outputs": [],
   "source": [
    "# repeat iterations of jacobi update\n",
    "iters = 20\n",
    "\n",
    "# intial guess\n",
    "x, y, z = 1., 2., 2.\n",
    "data = np.zeros([iters, 4])  # matrix to hold data from all iterations\n",
    "for k in range(iters):\n",
    "    data[k, 0] = k\n",
    "    data[k, 1] = x\n",
    "    data[k, 2] = y\n",
    "    data[k, 3] = z\n",
    "    x, y, z = jacobi_update(x, y, z)\n",
    "print(data)\n"
   ]
  },
  {
   "source": [
    "**Diagonal dominance:**\n",
    "<br> the issue here and reason it did not approach zero is because the magnitude of diagonal values is larger than sum of other coefficients in the row\n",
    "<br> **solution:** use a better update technique\n",
    "\n",
    "### Gauss-Seidel iteration\n",
    "* Same as jacobi update, but uses new terms as they become available"
   ],
   "cell_type": "markdown",
   "metadata": {}
  },
  {
   "cell_type": "code",
   "execution_count": null,
   "metadata": {},
   "outputs": [],
   "source": [
    "# jacobi update function\n",
    "def gauss_seidel_update(x, y, z):\n",
    "    x_new = 1 -y -z\n",
    "    y_new = (-1 -x_new -4*z)/2.\n",
    "    z_new = (1-x_new-3*y_new)/9.\n",
    "    return x_new, y_new, z_new"
   ]
  },
  {
   "cell_type": "code",
   "execution_count": null,
   "metadata": {},
   "outputs": [],
   "source": [
    "# repeat iterations of jacobi update\n",
    "iters = 20\n",
    "\n",
    "# intial guess\n",
    "x, y, z = 1., 2., 2.\n",
    "data = np.zeros([iters, 4])  # matrix to hold data from all iterations\n",
    "for k in range(iters):\n",
    "    data[k, 0] = k\n",
    "    data[k, 1] = x\n",
    "    data[k, 2] = y\n",
    "    data[k, 3] = z\n",
    "    x, y, z = gauss_seidel_update(x, y, z)\n",
    "print(data)\n"
   ]
  },
  {
   "cell_type": "code",
   "execution_count": null,
   "metadata": {},
   "outputs": [],
   "source": []
  }
 ]
}