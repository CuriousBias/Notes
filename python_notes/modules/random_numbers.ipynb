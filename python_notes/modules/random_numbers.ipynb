{
 "cells": [
  {
   "cell_type": "markdown",
   "metadata": {},
   "source": [
    "## Random numbers\n",
    "\n",
    "- random module: pseudo random numbers\n",
    "- secrets module: actually random\n",
    "    - takes longer, but actually random\n",
    "- numpy for working with numpy arrays"
   ]
  },
  {
   "cell_type": "code",
   "execution_count": null,
   "metadata": {},
   "outputs": [],
   "source": [
    "import random\n",
    "\n",
    "a = random.random()  # random float from 0 - 1\n",
    "b = random.uniform(1,10)  # float from 1 - 10\n",
    "c = random.randint(1, 10) # integer\n",
    "d = random.normalvariate(0, 1)  # mean (mu) of 0, standard deviation (sigma) of 1"
   ]
  },
  {
   "cell_type": "code",
   "execution_count": null,
   "metadata": {},
   "outputs": [],
   "source": [
    "my_list = list(\"ABCDEFGH\")\n",
    "a = random.choice(my_list)  # random from above list\n",
    "b = random.sample(my_list, 3)  # 3 random from list\n",
    "c = random.choices(my_list, k=3)  # can pick elements multiple times"
   ]
  },
  {
   "cell_type": "code",
   "execution_count": null,
   "metadata": {},
   "outputs": [],
   "source": [
    "random.seed(1)  # actually pseudo-random so can be reproduced\n",
    "print(random.random())\n",
    "print(random.randint(1, 10))\n",
    "\n",
    "random.seed(1)\n",
    "print(random.random())\n",
    "print(random.randint(1, 10))"
   ]
  },
  {
   "cell_type": "code",
   "execution_count": null,
   "metadata": {},
   "outputs": [],
   "source": [
    "import secrets\n",
    "\n",
    "my_list = list(\"ABCDEFGH\")\n",
    "a = secrets.randbelow(10)  # integer from 0 - 10\n",
    "b = secrets.randbits(k=4)  # k = number of binary bits)\n",
    "c = secrets.choice(my_list)\n",
    "print(c)"
   ]
  },
  {
   "cell_type": "code",
   "execution_count": 23,
   "metadata": {},
   "outputs": [
    {
     "name": "stdout",
     "output_type": "stream",
     "text": [
      "[[9 2]\n",
      " [6 5]\n",
      " [7 2]]\n"
     ]
    }
   ],
   "source": [
    "import numpy as np\n",
    "\n",
    "a = np.random.rand(3)\n",
    "b = np.random.randint(0, 10, (3,2))  # 3x2 array with random integers from 0 to 9 \n",
    "print(b)"
   ]
  }
 ],
 "metadata": {
  "interpreter": {
   "hash": "a0820167192a0f8e5b5d75b09b4662218b53e0ef2bbcf14191e112b7c64612ca"
  },
  "kernelspec": {
   "display_name": "Python 3.9.12 64-bit",
   "language": "python",
   "name": "python3"
  },
  "language_info": {
   "codemirror_mode": {
    "name": "ipython",
    "version": 3
   },
   "file_extension": ".py",
   "mimetype": "text/x-python",
   "name": "python",
   "nbconvert_exporter": "python",
   "pygments_lexer": "ipython3",
   "version": "3.9.12"
  },
  "orig_nbformat": 4
 },
 "nbformat": 4,
 "nbformat_minor": 2
}
