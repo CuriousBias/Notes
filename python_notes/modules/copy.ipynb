{
 "cells": [
  {
   "cell_type": "markdown",
   "metadata": {},
   "source": [
    "## Copy\n",
    "- used to make actual copies\n",
    "\n",
    "### Shallow copy\n",
    "- one level deep, does not work with nested objects!\n",
    "- Good if you only want to change the first layer\n",
    "\n",
    "### Deep copy\n",
    "- full independent copy"
   ]
  },
  {
   "cell_type": "code",
   "execution_count": null,
   "metadata": {},
   "outputs": [],
   "source": [
    "original = 5\n",
    "copy = original  # does not actually create a copy, just a new pointer. \n",
    "copy = 7  # actually a new of the assignment"
   ]
  },
  {
   "cell_type": "code",
   "execution_count": 14,
   "metadata": {},
   "outputs": [
    {
     "name": "stdout",
     "output_type": "stream",
     "text": [
      "7 5\n"
     ]
    }
   ],
   "source": [
    "import copy\n",
    "\n",
    "original = 5\n",
    "copy = copy.copy(original)\n",
    "original = 7\n",
    "print(original, copy)"
   ]
  },
  {
   "cell_type": "code",
   "execution_count": 16,
   "metadata": {},
   "outputs": [
    {
     "name": "stdout",
     "output_type": "stream",
     "text": [
      "[[-5, 2], [3, 4]] [[-5, 2], [3, 4]]\n"
     ]
    }
   ],
   "source": [
    "import copy \n",
    "\n",
    "original = [[1, 2], [3, 4]]\n",
    "copy = copy.copy(original)\n",
    "copy[0][0] = -5  # does not work for nested objects\n",
    "\n",
    "print(original, copy)"
   ]
  },
  {
   "cell_type": "code",
   "execution_count": 17,
   "metadata": {},
   "outputs": [
    {
     "name": "stdout",
     "output_type": "stream",
     "text": [
      "[[1, 2], [3, 4]] [[-5, 2], [3, 4]]\n"
     ]
    }
   ],
   "source": [
    "import copy \n",
    "\n",
    "original = [[1, 2], [3, 4]]\n",
    "copy = copy.deepcopy(original)\n",
    "copy[0][0] = -5  # does not work for nested objects\n",
    "\n",
    "print(original, copy)"
   ]
  },
  {
   "cell_type": "code",
   "execution_count": null,
   "metadata": {},
   "outputs": [],
   "source": []
  }
 ],
 "metadata": {
  "interpreter": {
   "hash": "a0820167192a0f8e5b5d75b09b4662218b53e0ef2bbcf14191e112b7c64612ca"
  },
  "kernelspec": {
   "display_name": "Python 3.9.12 64-bit",
   "language": "python",
   "name": "python3"
  },
  "language_info": {
   "codemirror_mode": {
    "name": "ipython",
    "version": 3
   },
   "file_extension": ".py",
   "mimetype": "text/x-python",
   "name": "python",
   "nbconvert_exporter": "python",
   "pygments_lexer": "ipython3",
   "version": "3.9.12"
  },
  "orig_nbformat": 4
 },
 "nbformat": 4,
 "nbformat_minor": 2
}
