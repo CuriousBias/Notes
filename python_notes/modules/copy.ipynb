{
 "cells": [
  {
   "attachments": {},
   "cell_type": "markdown",
   "metadata": {},
   "source": [
    "## Copy\n",
    "- used to make actual copies\n",
    "\n",
    "### Background\n",
    "- built-ins which do create copies\n",
    "- built-ins which do not create copies\n",
    "- how to check\n",
    "\n",
    "### Shallow copy\n",
    "- one level deep, does not work with nested objects!\n",
    "- Good if you only want to change the first layer\n",
    "\n",
    "### Deep copy\n",
    "- full independent copy"
   ]
  },
  {
   "cell_type": "code",
   "execution_count": 2,
   "metadata": {},
   "outputs": [
    {
     "name": "stdout",
     "output_type": "stream",
     "text": [
      "{'a': 1, 'b': 2, 'c': 3}\n",
      "frozenset({('c', 3), ('a', 1), ('b', 2)})\n",
      "[('a', 1), ('b', 2), ('c', 3)]\n",
      "{('c', 3), ('a', 1), ('b', 2)}\n",
      "[('a', 1), ('b', 2), ('c', 3)]\n",
      "(('a', 1), ('b', 2), ('c', 3))\n",
      "[('c', 3), ('b', 2), ('a', 1)]\n",
      "[('a', 1), ('b', 2), ('c', 3)]\n",
      "<enumerate object at 0x110cd4500>\n",
      "<filter object at 0x110c8b400>\n",
      "<list_iterator object at 0x110c8a5f0>\n",
      "<map object at 0x110c8ab60>\n",
      "<list_reverseiterator object at 0x110c8ab90>\n",
      "<zip object at 0x110cd5580>\n",
      "dict_keys(['a', 'b', 'c'])\n",
      "dict_values([1, 2, 3])\n",
      "dict_items([('a', 1), ('b', 2), ('c', 3)])\n",
      "<generator object <genexpr> at 0x110ba7290>\n"
     ]
    }
   ],
   "source": [
    "l = [(\"a\", 1), (\"b\", 2), (\"c\", 3)]\n",
    "d = dict(l)\n",
    "\n",
    "yes_copy = [\n",
    "    dict(l),\n",
    "    frozenset(l),\n",
    "    list(l),\n",
    "    set(l), \n",
    "    sorted(l), \n",
    "    tuple(l), \n",
    "    l[::-1],  # or any slice\n",
    "    [x for x in l], \n",
    "]\n",
    "for x in yes_copy:\n",
    "    print(x)  # returns new item\n",
    "\n",
    "no_copy = [\n",
    "    enumerate(l), \n",
    "    filter(None, l),\n",
    "    iter(l),\n",
    "    map(lambda x: x, l),\n",
    "    reversed(l),\n",
    "    zip(l, l),\n",
    "    d.keys(),\n",
    "    d.values(),\n",
    "    d.items(),\n",
    "    (x for x in l),\n",
    "]\n",
    "for x in no_copy:\n",
    "    print(x)  # return special purpose looking objects"
   ]
  },
  {
   "cell_type": "code",
   "execution_count": 1,
   "metadata": {},
   "outputs": [],
   "source": [
    "# to properly check - check memory location"
   ]
  },
  {
   "cell_type": "code",
   "execution_count": null,
   "metadata": {},
   "outputs": [],
   "source": [
    "original = 5\n",
    "copy = original  # does not actually create a copy, just a new pointer. \n",
    "copy = 7  # actually a new of the assignment"
   ]
  },
  {
   "cell_type": "code",
   "execution_count": 14,
   "metadata": {},
   "outputs": [
    {
     "name": "stdout",
     "output_type": "stream",
     "text": [
      "7 5\n"
     ]
    }
   ],
   "source": [
    "import copy\n",
    "\n",
    "original = 5\n",
    "copy = copy.copy(original)\n",
    "original = 7\n",
    "print(original, copy)"
   ]
  },
  {
   "cell_type": "code",
   "execution_count": 16,
   "metadata": {},
   "outputs": [
    {
     "name": "stdout",
     "output_type": "stream",
     "text": [
      "[[-5, 2], [3, 4]] [[-5, 2], [3, 4]]\n"
     ]
    }
   ],
   "source": [
    "import copy \n",
    "\n",
    "original = [[1, 2], [3, 4]]\n",
    "copy = copy.copy(original)\n",
    "copy[0][0] = -5  # does not work for nested objects\n",
    "\n",
    "print(original, copy)"
   ]
  },
  {
   "cell_type": "code",
   "execution_count": 17,
   "metadata": {},
   "outputs": [
    {
     "name": "stdout",
     "output_type": "stream",
     "text": [
      "[[1, 2], [3, 4]] [[-5, 2], [3, 4]]\n"
     ]
    }
   ],
   "source": [
    "import copy \n",
    "\n",
    "original = [[1, 2], [3, 4]]\n",
    "copy = copy.deepcopy(original)\n",
    "copy[0][0] = -5  # does not work for nested objects\n",
    "\n",
    "print(original, copy)"
   ]
  },
  {
   "cell_type": "code",
   "execution_count": null,
   "metadata": {},
   "outputs": [],
   "source": []
  }
 ],
 "metadata": {
  "kernelspec": {
   "display_name": "Python 3",
   "language": "python",
   "name": "python3"
  },
  "language_info": {
   "codemirror_mode": {
    "name": "ipython",
    "version": 3
   },
   "file_extension": ".py",
   "mimetype": "text/x-python",
   "name": "python",
   "nbconvert_exporter": "python",
   "pygments_lexer": "ipython3",
   "version": "3.10.9"
  },
  "orig_nbformat": 4,
  "vscode": {
   "interpreter": {
    "hash": "bda33b16be7e844498c7c2d368d72665b4f1d165582b9547ed22a0249a29ca2e"
   }
  }
 },
 "nbformat": 4,
 "nbformat_minor": 2
}
