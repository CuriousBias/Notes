{
 "cells": [
  {
   "cell_type": "markdown",
   "metadata": {},
   "source": [
    "## Threading\n",
    "\n",
    "### Advantages\n",
    "- shared memory: threads are entities within a single process\n",
    "- lightweight, low resource demands\n",
    "- simpler to pass memory back and forth\n",
    "- good for logging and error checking\n",
    "- good for I/O bound tasks -> talking to slow devices\n",
    "- pass information between threads using synchronization primitives: locks, events, conditions, semaphores\n",
    "\n",
    "### Disadvantages\n",
    "- limited by GIL: one thread at a time\n",
    "- not able to interrupt or kill\n",
    "- careful with race conditions (two threads modify same variable)\n",
    "\n",
    "### GIL\n",
    "- global interpreter log\n",
    "- allows only one thread at a time to execute\n",
    "- Needed because in C python, there is memory management that is not thread safe"
   ]
  },
  {
   "cell_type": "code",
   "execution_count": 1,
   "metadata": {},
   "outputs": [],
   "source": [
    "import threading"
   ]
  },
  {
   "cell_type": "code",
   "execution_count": null,
   "metadata": {},
   "outputs": [],
   "source": [
    "# TODO: How to join threads?\n",
    "for thread in threading.enumerate():\n",
    "    print(thread)"
   ]
  },
  {
   "cell_type": "code",
   "execution_count": null,
   "metadata": {},
   "outputs": [],
   "source": [
    "def check_faults(self):  # use boolean value and while loop\n",
    "    while True:\n",
    "        for dut in duts:\n",
    "            if dut.faulted:\n",
    "                stop_test = True\n",
    "                return\n",
    "        time.sleep(5)\n",
    "\n",
    "def main(self):\n",
    "    while not stop_test:\n",
    "        do_something()\n",
    "    turn_off_powersupply()\n",
    "\n",
    "if __name__ == '__main__':\n",
    "    stop_test = False\n",
    "    threading.Thread(target=check_faults, args=[arg1, arg2], daemon=True).start()\n",
    "    main()"
   ]
  },
  {
   "cell_type": "markdown",
   "metadata": {},
   "source": [
    "- note lack of () after function check_faults! \n",
    "- args must be list? or can it be a tuple? "
   ]
  },
  {
   "cell_type": "markdown",
   "metadata": {},
   "source": [
    "Events\n",
    "- set and unset by different threads\n",
    "- used to turn off threads\n",
    "- instead of boolean, use an event"
   ]
  },
  {
   "cell_type": "code",
   "execution_count": null,
   "metadata": {},
   "outputs": [],
   "source": [
    "    stop_test = threading.Event()\n",
    "# and \n",
    "    while not stop_test.is_set() # this will allow threads to continue until \n",
    "    do_something()\n",
    "    stop_test.set()  # this will set the stop_test event to true and the while loops will stop!\n",
    "\n",
    "# event\n",
    "def check_faults(self):\n",
    "    while True:\n",
    "        for dut in duts:\n",
    "            if dut.faulted:\n",
    "                stop_test.set()  # sets event to true so threads die\n",
    "                return\n",
    "        time.sleep(5)\n",
    "\n",
    "def main(self):\n",
    "    while not stop_test.is_set()\n",
    "        do_something()\n",
    "    turn_off_powersupply()\n",
    "\n",
    "if __name__ == '__main__':\n",
    "    stop_test = threading.Event()\n",
    "    threading.Thread(target=check_faults).start()\n",
    "    main()\n"
   ]
  },
  {
   "cell_type": "markdown",
   "metadata": {},
   "source": [
    "Conditions\n",
    "- used to pause and start code? \n",
    "- to signal to a thread when something happens\n",
    "\n",
    "semaphore\n",
    "- A lock on a resource that can handle multiple threads"
   ]
  },
  {
   "cell_type": "code",
   "execution_count": null,
   "metadata": {},
   "outputs": [],
   "source": [
    "my_condition = threading.Condition()  # default setting is to sleep threads when my_condition is reached\n",
    "\n",
    "with my_condition: \n",
    "    do_something()\n",
    "\n",
    "    my_condition.notify()  # this restarts the thread"
   ]
  },
  {
   "cell_type": "markdown",
   "metadata": {},
   "source": [
    "Locks\n",
    "- prevent threads from accessing a resource\n",
    "- once scirpt acquires lock, no other thread can acqiure it"
   ]
  },
  {
   "cell_type": "code",
   "execution_count": null,
   "metadata": {},
   "outputs": [],
   "source": [
    "my_lock = threading.Lock()\n",
    "\n",
    "def set_current(current_value):\n",
    "    try:\n",
    "        my_lock.acquire()  # stop here until my_lock is set\n",
    "        power_supply.set_current(current)  # put the resource or variable you want protected in here\n",
    "        self.protected_value += 1\n",
    "    finally:\n",
    "        my_lock.release()  #\n",
    "\n",
    "# can also be written as\n",
    "\n",
    "my_lock = threading.Lock()\n",
    "\n",
    "def set_current(current):\n",
    "    with my_lock:\n",
    "        power_supply.set_current(current)\n",
    "\n",
    "# .aquited() happens on entering the with, .release() happens on exit"
   ]
  }
 ],
 "metadata": {
  "kernelspec": {
   "display_name": "Python 3.9.12 64-bit",
   "language": "python",
   "name": "python3"
  },
  "language_info": {
   "codemirror_mode": {
    "name": "ipython",
    "version": 3
   },
   "file_extension": ".py",
   "mimetype": "text/x-python",
   "name": "python",
   "nbconvert_exporter": "python",
   "pygments_lexer": "ipython3",
   "version": "3.9.12"
  },
  "orig_nbformat": 2,
  "vscode": {
   "interpreter": {
    "hash": "a0820167192a0f8e5b5d75b09b4662218b53e0ef2bbcf14191e112b7c64612ca"
   }
  }
 },
 "nbformat": 4,
 "nbformat_minor": 2
}
