{
 "cells": [
  {
   "cell_type": "markdown",
   "metadata": {},
   "source": [
    "# Async\n",
    "- Module for better asyncronous code. \n",
    "- Does not rely on GIL to randomly decide which thread runs next. \n",
    "- Can better control when to send and receive data. \n",
    "- Better control start and stop of code. "
   ]
  },
  {
   "cell_type": "code",
   "execution_count": null,
   "metadata": {},
   "outputs": [],
   "source": []
  }
 ],
 "metadata": {
  "kernelspec": {
   "display_name": "Python 3.9.12 64-bit",
   "language": "python",
   "name": "python3"
  },
  "language_info": {
   "name": "python",
   "version": "3.9.12"
  },
  "orig_nbformat": 4,
  "vscode": {
   "interpreter": {
    "hash": "a0820167192a0f8e5b5d75b09b4662218b53e0ef2bbcf14191e112b7c64612ca"
   }
  }
 },
 "nbformat": 4,
 "nbformat_minor": 2
}
