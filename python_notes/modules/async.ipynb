{
 "cells": [
  {
   "cell_type": "markdown",
   "metadata": {},
   "source": [
    "# Async\n",
    "- Module for better asyncronous code. \n",
    "- Does not rely on GIL to randomly decide which thread runs next. \n",
    "- Can better control when to send and receive data. \n",
    "- Better control start and stop of code. "
   ]
  },
  {
   "cell_type": "code",
   "execution_count": null,
   "metadata": {},
   "outputs": [],
   "source": []
  }
 ],
 "metadata": {
  "language_info": {
   "name": "python"
  },
  "orig_nbformat": 4
 },
 "nbformat": 4,
 "nbformat_minor": 2
}
