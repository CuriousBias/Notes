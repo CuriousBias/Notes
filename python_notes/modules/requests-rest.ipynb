{
 "cells": [
  {
   "cell_type": "markdown",
   "metadata": {},
   "source": [
    "# REST API\n",
    "Many web services and applications use a REST API to make data available.\n",
    "\n",
    "#### Architecture\n",
    "- REpresentational State Transfer\n",
    "- Not a specification, but set of guidelines.\n",
    "- REST is an architecture style that defines a pattern for client and server communication over a network. \n",
    "- Stateless: server does not maintain any state between requests from client.\n",
    "- Client-server: client and server are decoupled and are developed independently.\n",
    "- Cache-able: data retrieved from server should be cache-able by client or server.\n",
    "- Uniform interface: uniform interface for accessing resources.\n",
    "- Layered system: client may access resources indirectly through proxy or load balancer.\n",
    "\n",
    "#### Web Service\n",
    "- REST web services is any web services which follows REST architecture.\n",
    "- REST web service expose data with public web URLs.\n",
    "- Data is consumed by client sending HTTP request to service and processing response.\n",
    "\n",
    "## HTTP Methods\n",
    "- REST API listens for HTTP methods to know which operations to perform on web service resources.\n",
    "- Resource is any data which can be accessed or manipulated.\n",
    "\n",
    "1. GET: retrieve existing resource.\n",
    "2. POST: create a new resource.\n",
    "3. PUT: update an existing resource.\n",
    "4. PATCH: partially update an existing resource.\n",
    "5. DELETE: Delete a resource.\n",
    "\n",
    "## Status Codes\n",
    "- Code is part of HTTP response.\n",
    "- Code provides information about the result of the request.\n",
    "- Can be used to determine if request was successful, failed, etc.\n",
    "\n",
    "#### Code Categories\n",
    "1. 2xx: Success\n",
    "2. 3xx: Redirection\n",
    "3. 4xx: Client error\n",
    "4. 5xx: Server error\n",
    "\n",
    "#### Code Examples\n",
    "1. 200: OK - The requested action was successful.\n",
    "2. 201: Created - Resource Created.\n",
    "3. 202: Accepted - Request received, no modification made.\n",
    "4. 400: Bad Request - Request malformed.\n",
    "5. 404: Not Found - Resource not found.\n",
    "6. 500: Internal Server Error - Server errored while processing request.\n",
    "\n",
    "## API Endpoints\n",
    "- REST API exposes public URLs that client can use to access resources.\n",
    "- Ex: `https://api.example.com/customer`\n",
    "\n",
    "## REST and Python: Consuming APIs from Client\n",
    "- Use `requests` library\n",
    "\n",
    "\n"
   ]
  },
  {
   "cell_type": "markdown",
   "metadata": {},
   "source": [
    "### GET\n",
    "- Read only operation.\n",
    "- Retrieve resources from given API."
   ]
  },
  {
   "cell_type": "code",
   "execution_count": null,
   "metadata": {},
   "outputs": [],
   "source": [
    "import requests\n",
    "\n",
    "api_url = \"https://jsonplaceholder.typicode.com/todos/1\"\n",
    "response = requests.get(api_url)\n",
    "\n",
    "response.json()  # view data\n",
    "response.status_code  # view state code\n",
    "response.headers[\"Content-Type\"]"
   ]
  },
  {
   "cell_type": "markdown",
   "metadata": {},
   "source": [
    "### POST\n",
    "- Create new resource.\n"
   ]
  },
  {
   "cell_type": "code",
   "execution_count": null,
   "metadata": {},
   "outputs": [],
   "source": [
    "api_url = \"https://jsonplaceholder.typicode.com/todos/\"\n",
    "\n",
    "todo = {\"userId\": 1, \"title\": \"buy milk\", \"completed\": False}\n",
    "response = requests.post(api_url, json=todo)\n",
    "\n",
    "response.json()"
   ]
  },
  {
   "cell_type": "markdown",
   "metadata": {},
   "source": [
    " More manual alternate"
   ]
  },
  {
   "cell_type": "code",
   "execution_count": null,
   "metadata": {},
   "outputs": [],
   "source": [
    "import json\n",
    "\n",
    "api_url = \"https://jsonplaceholder.typicode.com/todos/\"\n",
    "headers = {\"Content-Type\":\"application/json\"}\n",
    "todo = {\"userId\": 1, \"title\": \"buy milk\", \"completed\": False}\n",
    "response = requests.post(api_url, data=json.dumps(todo), headers=headers)\n",
    "\n",
    "response.json()"
   ]
  },
  {
   "cell_type": "markdown",
   "metadata": {},
   "source": [
    "### PUT\n",
    "- Update existing resource with new data."
   ]
  },
  {
   "cell_type": "code",
   "execution_count": null,
   "metadata": {},
   "outputs": [],
   "source": [
    "import requests\n",
    "\n",
    "api_url = \"https://jsonplaceholder.typicode.com/todos/10\"\n",
    "response = requests.get(api_url)\n",
    "response.json()\n",
    "\n",
    "todo = {\"userId\": 1, \"title\": \"wash car\", \"completed\": True}\n",
    "response = requests.post(api_url, json=todo)\n",
    "response.json()\n",
    "response.status_code"
   ]
  },
  {
   "cell_type": "markdown",
   "metadata": {},
   "source": [
    "### PATCH\n",
    "- Modify part of a resource"
   ]
  },
  {
   "cell_type": "code",
   "execution_count": null,
   "metadata": {},
   "outputs": [],
   "source": [
    "import requests\n",
    "\n",
    "api_url = \"https://jsonplaceholder.typicode.com/todos/10\"\n",
    "response = requests.get(api_url)\n",
    "response.json()\n",
    "\n",
    "todo = {\"userId\": 2}\n",
    "response = requests.patch(api_url, json=todo)\n",
    "response.json()\n",
    "response.status_code"
   ]
  },
  {
   "cell_type": "markdown",
   "metadata": {},
   "source": [
    "### DELETE\n",
    "- Remove a resource"
   ]
  },
  {
   "cell_type": "code",
   "execution_count": null,
   "metadata": {},
   "outputs": [],
   "source": [
    "import requests\n",
    "\n",
    "api_url = \"https://jsonplaceholder.typicode.com/todos/10\"\n",
    "response = requests.get(api_url)\n",
    "response.json()\n",
    "\n",
    "response = requests.delete(api_url)\n",
    "response.json()\n",
    "response.status_code"
   ]
  },
  {
   "cell_type": "markdown",
   "metadata": {},
   "source": [
    "## REST and Python: Consuming APIs from Client\n",
    "- Huge topic, this is simple coverage.\n",
    "\n",
    "### Design steps\n",
    "1. Define endpoints and associated methods.\n",
    "2. Pick data interchange format.\n",
    "3. Design Success Responses.\n",
    "4. Design Error Responses.\n",
    "\n",
    "#### Endpoints\n",
    "- Set structure of desired endpoints.\n",
    "- Decide if endpoints should be nested.\n",
    "\n",
    "#### Data Interchange format\n",
    "This sets the \"Content-Type\"\n",
    "1. XML: Ugly as hell. - \"application/xml\"\n",
    "2. JSON: Data stored as key value pairs. - \"application/json\"\n",
    "\n",
    "#### Error Responses\n",
    "- Define what response looks like when requests fail.\n",
    "\n",
    "## REST and Python: Tools\n",
    "Frameworks for building REST APIs in python.\n",
    "1. Flask\n",
    "2. Django REST\n",
    "3. FAST API\n",
    "\n",
    "### Flask\n",
    "- Main job is to handle HTTP requests and route them to appropriate function in application.\n",
    "\n",
    "Example Flask application\n",
    "```python\n",
    "# app.py\n",
    "from flask import Flask, request, jsonify\n",
    "\n",
    "app = Flask(__name__)\n",
    "\n",
    "countries = [\n",
    "    {\"id\": 1, \"name\": \"United States\", \"capital\": \"Washington\", \"area\": 300},\n",
    "    {\"id\": 2, \"name\": \"Great Briton\", \"capital\": \"London\", \"area\": 20},\n",
    "    {\"id\": 3, \"name\": \"Australia\", \"capital\": \"Sydney\", \"area\": 250},\n",
    "]\n",
    "\n",
    "def _find_next_id():\n",
    "    return max(country[\"id\"] for country in countries) + 1\n",
    "\n",
    "@app.get(\"/countries\")  # provides countries if client calls get method\n",
    "def get_countries():\n",
    "    return jsonify(countries)\n",
    "\n",
    "@app.post(\"/counties\")  # adds new country if client posts it.\n",
    "def add_country():\n",
    "    if request.is_json()\n",
    "        country = request.get_json()\n",
    "        country[\"id\"] = _find_next_id()notegsdgdfgfdgsfdg\n",
    "        countries.append(country)\n",
    "        return country, 201\n",
    "    return {\"error\": \"Request must be JSON\"}, 415\n",
    "```\n",
    "\n",
    "#### Syntax\n",
    "\n",
    "Old Flask syntax: `@app.route(\"/api\")` and `@app.route(\"/api\", methods-[\"POST\"])` \n",
    "\n",
    "New flask syntax:\n",
    "`@app.get()`: flask decorator to connect GET requests to a function in application.\n",
    "`@app.post()`: flask decorator to connect POST requests to a function.\n",
    "\n",
    "Steps to run:\n",
    "1. Save app to `app.py`\n",
    "2. install flash `python -m pip install flask`\n",
    "3. In shell: set FLASK_APP environment variable: `export FLASK_APP=app.py`\n",
    "4. Can also set debug mode: `export FLASK_ENV=development`\n",
    "5. Start flask server: `flask run`\n",
    "\n",
    "This starts up server with:\n",
    "- Environment: development\n",
    "- Debug mode: on\n",
    "- Server running on http://127.0.0.1:5000/\n",
    "\n",
    "Go to address in browser to see countries.\n",
    "\n",
    "#### Using Manually\n",
    "\n",
    "curl command to send http requests from command line.\n",
    "\n",
    "POST\n",
    "```shell\n",
    "curl -i http://127.0.0.1:5000/countries \\\n",
    "-X POST \\\n",
    "-H 'Content-Type: application/json' \\\n",
    "-d {\"name\": \"Germany\", \"capital\": \"Berlin\", \"area\": 100}\n",
    "```\n",
    "\n",
    "GET\n",
    "```shell\n",
    "curl -i http://127.0.0.1:5000/countries\n",
    "```"
   ]
  }
 ],
 "metadata": {
  "language_info": {
   "name": "python"
  }
 },
 "nbformat": 4,
 "nbformat_minor": 2
}
