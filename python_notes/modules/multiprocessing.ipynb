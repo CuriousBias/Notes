{
 "cells": [
  {
   "cell_type": "markdown",
   "metadata": {},
   "source": [
    "## Multiprocessing\n",
    "\n",
    "### Advantages\n",
    "- also runs code in parallel\n",
    "- an instance of a program (ex: each python interpreter)\n",
    "- separate memory space -> memory is not shared\n",
    "- take take advantage of multiple CPUs and core\n",
    "- easy to interrupt and kill\n",
    "- one GIL for each process -> avoids GIL limitations\n",
    "\n",
    "### Disadvantages\n",
    "- memory sharing is difficult\n",
    "- more resource intensive, slower to start up\n"
   ]
  },
  {
   "cell_type": "code",
   "execution_count": null,
   "metadata": {},
   "outputs": [],
   "source": [
    "# Cant run this as a notebook cell! Need to run as .py file\n",
    "\n",
    "from multiprocessing import Process\n",
    "import os\n",
    "import time\n",
    "\n",
    "def square_numbers():  # max_square: int):\n",
    "    for i in range(100):\n",
    "        i*i\n",
    "        time.sleep(0.1)\n",
    "\n",
    "processes = []\n",
    "num_processes = os.cpu_count()\n",
    "print('number of processors: ', num_processes)\n",
    "\n",
    "# create processes\n",
    "for i in range(num_processes):\n",
    "    p = Process(target=square_numbers)  # , args=(100,))\n",
    "    processes.append(p)\n",
    "\n",
    "# start them\n",
    "for p in processes:\n",
    "    p.start()\n",
    "\n",
    "# join (blocks main thread until all processes end)\n",
    "for p in processes:\n",
    "    p.join()\n",
    "\n",
    "print('end main')"
   ]
  },
  {
   "cell_type": "code",
   "execution_count": null,
   "metadata": {},
   "outputs": [],
   "source": []
  }
 ],
 "metadata": {
  "interpreter": {
   "hash": "a0820167192a0f8e5b5d75b09b4662218b53e0ef2bbcf14191e112b7c64612ca"
  },
  "kernelspec": {
   "display_name": "Python 3.9.12 64-bit",
   "language": "python",
   "name": "python3"
  },
  "language_info": {
   "codemirror_mode": {
    "name": "ipython",
    "version": 3
   },
   "file_extension": ".py",
   "mimetype": "text/x-python",
   "name": "python",
   "nbconvert_exporter": "python",
   "pygments_lexer": "ipython3",
   "version": "3.9.12"
  },
  "orig_nbformat": 4
 },
 "nbformat": 4,
 "nbformat_minor": 2
}
