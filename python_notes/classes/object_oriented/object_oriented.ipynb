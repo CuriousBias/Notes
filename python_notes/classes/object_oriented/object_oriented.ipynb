{
 "cells": [
  {
   "cell_type": "markdown",
   "metadata": {},
   "source": [
    "## Object Oriented Python\n"
   ]
  },
  {
   "cell_type": "markdown",
   "metadata": {},
   "source": []
  },
  {
   "cell_type": "code",
   "execution_count": 11,
   "metadata": {},
   "outputs": [
    {
     "name": "stdout",
     "output_type": "stream",
     "text": [
      "Philo is 5 and Mikey is 6.\n",
      "Philo is a mammal!\n",
      "The oldest is 9.\n",
      "Mikey is 6 years old.\n",
      "Mikey says gruff\n",
      "Jim is 12 years old.\n",
      "Jim runs slowly\n"
     ]
    }
   ],
   "source": [
    "# Object oriented programming\n",
    "# classes: each object is an instance of some class. Class is like questionaire. \n",
    "\n",
    "# Define class\n",
    "class Dog: # Dog() is the class\n",
    "# equivalent to class Dog(object): in python 3\n",
    "    pass\n",
    "\n",
    "# classes create objects which all contain characterisitcs of 'attributes'\n",
    "class Dog:\n",
    "\n",
    "    # define class attributes\n",
    "    species = 'mammal'\n",
    "\n",
    "    # define initializer / instance attributes\n",
    "    def __init__(self, name, age):\n",
    "        self.name = name\n",
    "        self.age = age\n",
    "\n",
    "    # instance method\n",
    "    def description(self):\n",
    "        return \"{} is {} years old.\".format(self.name, self.age)\n",
    "    \n",
    "    # instance method\n",
    "    def speak(self, sound):\n",
    "        return \"{} says {}\".format(self.name,sound)\n",
    "\n",
    "# python object inheritance: one class takes on attributes of another\n",
    "# child class 'russelterrier' takes on attributes of parent class 'Dog'\n",
    "class RusselTerrier(Dog):\n",
    "    def run(self, speed):\n",
    "        return \"{} runs {}\".format(self.name, sound)\n",
    "\n",
    "class Bulldog(Dog):\n",
    "    def run(self, speed):\n",
    "        return \"{} runs {}\".format(self.name, speed)\n",
    "\n",
    "# define some dogs\n",
    "philo = Dog(\"Philo\", 5)\n",
    "mikey = Dog(\"Mikey\", 6)\n",
    "greta = Dog(\"Greta\", 9)\n",
    "\n",
    "print(\"{} is {} and {} is {}.\".format(philo.name, philo.age, mikey.name, mikey.age))\n",
    "\n",
    "# check if Philo is a mammal\n",
    "if philo.species == 'mammal':\n",
    "    print(\"{0} is a {1}!\".format(philo.name, philo.species))\n",
    "\n",
    "def oldest(*args):\n",
    "    return max(args)\n",
    "\n",
    "print(\"The oldest is {}.\".format(oldest(philo.age, mikey.age, greta.age)))\n",
    "\n",
    "# call instance methods\n",
    "print(mikey.description())\n",
    "print(mikey.speak(\"gruff\"))\n",
    "\n",
    "# call child classes\n",
    "jim = Bulldog(\"Jim\", 12)\n",
    "print(jim.description())\n",
    "print(jim.run(\"slowly\"))\n",
    "\n"
   ]
  },
  {
   "cell_type": "code",
   "execution_count": 9,
   "metadata": {},
   "outputs": [
    {
     "data": {
      "text/plain": [
       "True"
      ]
     },
     "execution_count": 9,
     "metadata": {},
     "output_type": "execute_result"
    }
   ],
   "source": [
    "# modify attributes\n",
    "class Email:\n",
    "    def __init__(self):\n",
    "        self.is_sent = False\n",
    "    def send_email(self):\n",
    "        self.is_sent = True\n",
    "\n",
    "my_email = Email()\n",
    "my_email.is_sent\n",
    "\n",
    "my_email.send_email()\n",
    "my_email.is_sent\n"
   ]
  },
  {
   "cell_type": "code",
   "execution_count": 4,
   "metadata": {
    "tags": []
   },
   "outputs": [
    {
     "name": "stdout",
     "output_type": "stream",
     "text": [
      "Geek 1 False\n",
      "Geek2 True\n",
      "True\n"
     ]
    }
   ],
   "source": [
    "# Object oriented programming continued:\n",
    "# Inheritance: a class us defined (super class) and then it is inherited by another class (sub class). Sub class adds some attributes to the super class\n",
    "\n",
    "# Example of inheritance\n",
    "class Person(object):\n",
    "\n",
    "    # constructor\n",
    "    def __init__(self, name):\n",
    "        self.name = name \n",
    "\n",
    "    # to get name\n",
    "    def getName(self):\n",
    "        return self.name \n",
    "\n",
    "    # to check if this person is employee\n",
    "    def isEmployee(self):\n",
    "        return False\n",
    "\n",
    "# Inheritance example: 'Person' in parenthesis\n",
    "class Employee(Person):\n",
    "\n",
    "    # here we return true\n",
    "    def isEmployee(self):\n",
    "        return True\n",
    "\n",
    "# driver code\n",
    "emp = Person(\"Geek 1\") # an object of class person\n",
    "print(emp.getName(), emp.isEmployee())\n",
    "\n",
    "emp = Employee(\"Geek2\") # an object of employee class\n",
    "print(emp.getName(), emp.isEmployee())\n",
    "\n",
    "# How to check if subclass\n",
    "print(issubclass(Employee, Person)) # returns true since Employee is a subclass of Person"
   ]
  },
  {
   "cell_type": "code",
   "execution_count": 8,
   "metadata": {
    "tags": []
   },
   "outputs": [
    {
     "name": "stdout",
     "output_type": "stream",
     "text": [
      "Base1\n",
      "Base2\n",
      "Derived\n",
      "geek1 geek2\n"
     ]
    }
   ],
   "source": [
    "# Inherit multiple classes into one subclass\n",
    "class Base1:\n",
    "    def __init__(self):\n",
    "        self.str1 = \"geek1\"\n",
    "        print(\"Base1\")\n",
    "\n",
    "class Base2:\n",
    "    def __init__(self):\n",
    "        self.str2 = \"geek2\"\n",
    "        print(\"Base2\")\n",
    "\n",
    "# multiple class inheritance\n",
    "\n",
    "class Derived(Base1, Base2):\n",
    "    def __init__(self):\n",
    "        Base1.__init__(self)\n",
    "        Base2.__init__(self)\n",
    "        print(\"Derived\")\n",
    "    \n",
    "    def printStrs(self):\n",
    "        print(self.str1, self.str2)\n",
    "\n",
    "ob = Derived()\n",
    "ob.printStrs()"
   ]
  },
  {
   "cell_type": "code",
   "execution_count": 10,
   "metadata": {
    "tags": []
   },
   "outputs": [
    {
     "name": "stdout",
     "output_type": "stream",
     "text": [
      "10 20\n"
     ]
    }
   ],
   "source": [
    "# accessing parent members in a subclass\n",
    "\n",
    "class Base:\n",
    "    def __init__(self, x):\n",
    "        self.x = x\n",
    "\n",
    "class Derived(Base):\n",
    "    def __init__(self, x, y):\n",
    "        Base.x = x\n",
    "        self.y = y\n",
    "    \n",
    "    def printXY(self):\n",
    "        print(Base.x, self.y)\n",
    "        # print(self.x, self.y) also works\n",
    "\n",
    "d = Derived(10,20)\n",
    "d.printXY()\n"
   ]
  },
  {
   "cell_type": "code",
   "execution_count": 3,
   "metadata": {
    "tags": []
   },
   "outputs": [
    {
     "name": "stdout",
     "output_type": "stream",
     "text": [
      "10 20\n"
     ]
    }
   ],
   "source": [
    "# Using super to access parent class members\n",
    "\n",
    "class Base:\n",
    "    def __init__(self, x):\n",
    "        self.x = x\n",
    "    \n",
    "class Derived(Base):\n",
    "    def __init__(self, x, y):\n",
    "        super(Derived, self).__init__(x)\n",
    "    # super().__init__(name) also works\n",
    "        self.y = y\n",
    "\n",
    "    def printXY(self):\n",
    "        print(self.x, self.y)\n",
    "\n",
    "d = Derived(10,20)\n",
    "d.printXY()\n"
   ]
  }
 ],
 "metadata": {
  "kernelspec": {
   "display_name": "Python 3",
   "language": "python",
   "name": "python3"
  },
  "language_info": {
   "codemirror_mode": {
    "name": "ipython",
    "version": 3
   },
   "file_extension": ".py",
   "mimetype": "text/x-python",
   "name": "python",
   "nbconvert_exporter": "python",
   "pygments_lexer": "ipython3",
   "version": "3.10.9 (main, Dec 15 2022, 17:11:09) [Clang 14.0.0 (clang-1400.0.29.202)]"
  },
  "orig_nbformat": 2,
  "vscode": {
   "interpreter": {
    "hash": "bda33b16be7e844498c7c2d368d72665b4f1d165582b9547ed22a0249a29ca2e"
   }
  }
 },
 "nbformat": 4,
 "nbformat_minor": 2
}
