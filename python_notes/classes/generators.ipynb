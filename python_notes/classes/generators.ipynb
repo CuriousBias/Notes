{
 "cells": [
  {
   "cell_type": "markdown",
   "metadata": {},
   "source": [
    "## Generators\n",
    "\n",
    "- used to create iterators\n",
    "- written as regular functions, but use yield instead of return to return data\n",
    "- iter() and next() methods are created automatically\n",
    "- local variables and execution state are saved\n",
    "- much more memory efficient\n",
    "\n",
    "### Generator expression\n",
    "- similar to list comprehension, but much much more memory efficient\n",
    "- use parenthesis instead of brackets. "
   ]
  },
  {
   "cell_type": "code",
   "execution_count": null,
   "metadata": {},
   "outputs": [],
   "source": [
    "def my_generator():\n",
    "    yield 1\n",
    "    yield 2\n",
    "    yield 3\n",
    "\n",
    "g = my_generator()\n",
    "\n",
    "for i in range(4):  # runs 3 times until StopIteration Error is raised. \n",
    "    value = next(g)\n",
    "    print(value)"
   ]
  },
  {
   "cell_type": "code",
   "execution_count": null,
   "metadata": {},
   "outputs": [],
   "source": [
    "def countdown(num):\n",
    "    print('starting')\n",
    "    while num > 0:\n",
    "        yield num\n",
    "        num -= 1\n",
    "\n",
    "cd = countdown(5)  # create generator object\n",
    "\n",
    "for i in range(5):\n",
    "    print(next(cd))"
   ]
  },
  {
   "cell_type": "code",
   "execution_count": null,
   "metadata": {},
   "outputs": [],
   "source": [
    "import sys\n",
    "\n",
    "def list_n(n):  # list\n",
    "    nums = []\n",
    "    num = 0\n",
    "    while num < n:\n",
    "        nums.append(num)\n",
    "        num += 1\n",
    "    return nums\n",
    "\n",
    "print(sum(list_n(10)))\n",
    "\n",
    "def gen_n(n):  # generator\n",
    "    num = 0\n",
    "    while num < n:\n",
    "        yield num\n",
    "        num += 1\n",
    "\n",
    "print(sum(gen_n(10)))\n",
    "\n",
    "print(sys.getsizeof(list_n(100)))\n",
    "print(sys.getsizeof(gen_n(100)))  # much more memory efficient"
   ]
  },
  {
   "cell_type": "code",
   "execution_count": null,
   "metadata": {},
   "outputs": [],
   "source": [
    "sum(i*i for i in range(10))  # generator comprehension"
   ]
  }
 ],
 "metadata": {
  "interpreter": {
   "hash": "a0820167192a0f8e5b5d75b09b4662218b53e0ef2bbcf14191e112b7c64612ca"
  },
  "kernelspec": {
   "display_name": "Python 3.9.12 64-bit",
   "language": "python",
   "name": "python3"
  },
  "language_info": {
   "codemirror_mode": {
    "name": "ipython",
    "version": 3
   },
   "file_extension": ".py",
   "mimetype": "text/x-python",
   "name": "python",
   "nbconvert_exporter": "python",
   "pygments_lexer": "ipython3",
   "version": "3.9.12"
  },
  "orig_nbformat": 4
 },
 "nbformat": 4,
 "nbformat_minor": 2
}
