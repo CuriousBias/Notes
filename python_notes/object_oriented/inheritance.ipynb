{
 "cells": [
  {
   "cell_type": "markdown",
   "metadata": {},
   "source": [
    "### Inheritance\n",
    "\n",
    "One class gaining properties and methods of other class or multiple classes"
   ]
  },
  {
   "cell_type": "code",
   "execution_count": 87,
   "metadata": {},
   "outputs": [],
   "source": [
    "class ParentClass(object):\n",
    "\n",
    "    def __init__(self, **kwargs):\n",
    "        \"\"\"\n",
    "        __init() function automatically runs when instance of class is created\n",
    "        use to define all properties to be created with this class\n",
    "        \"\"\"\n",
    "\n",
    "        self._default_values(**kwargs)\n",
    "\n",
    "        # variables in classes are called properties\n",
    "        self.property0 = 'string0'\n",
    "        self.property1 = 1.0\n",
    "        self.property2 = (0,1)\n",
    "\n",
    "        # variables from keywords arguements\n",
    "\n",
    "    # define methods after __init__()\n",
    "    # functions in classes are called methods\n",
    "    def method0(self):\n",
    "        print('method0 complete')\n",
    "\n",
    "    def print_kwargs(self):\n",
    "        for key, value in kwargs.items():\n",
    "            print(key)\n",
    "            print(value)\n",
    "\n",
    "    def _default_values(self, **kwargs):\n",
    "        self.special_string = str\n",
    "        self.special_float = float\n",
    "        self.special_tuple = tuple"
   ]
  },
  {
   "cell_type": "code",
   "execution_count": 88,
   "metadata": {},
   "outputs": [],
   "source": [
    "# create an instance with keyword arguments 'kwargs' dictionary\n",
    "\n",
    "kwargs = dict(  special_string = 'something_cool',\n",
    "                special_float = 5.0,\n",
    "                special_tuple = (1,2))\n",
    "\n",
    "# a creation of a class is called an instance\n",
    "# '**' operator expands dictionary in seperate arguments\n",
    "# allows for use of any number of keyword arguments to be passed to class\n",
    "instance = ParentClass(**kwargs)\n"
   ]
  },
  {
   "cell_type": "code",
   "execution_count": 90,
   "metadata": {},
   "outputs": [
    {
     "name": "stdout",
     "output_type": "stream",
     "text": [
      "<class 'float'>\n"
     ]
    }
   ],
   "source": [
    "print(instance.special_float)\n"
   ]
  },
  {
   "cell_type": "code",
   "execution_count": null,
   "metadata": {},
   "outputs": [],
   "source": [
    "class ChildClass(ParentClass):\n",
    "\n",
    "    def __init__(self, arg0, arg1, **kwargs):\n",
    "        \"\"\"\n",
    "        init in child class will override init in parent class\n",
    "        include any positional arguments (arg0, arg1) expected by class that you want to pass when creating an instance\n",
    "        only use positional arguments if you want them to be required when creating an instance of the class\n",
    "        \"\"\"\n",
    "\n",
    "        # to keep init from parent class\n",
    "        # include arguments that parent class is expecting\n",
    "        # ParentClass.__init__(**kwargs)\n",
    "\n",
    "        # to run inits from all inherited classes\n",
    "        # these allow child class to use all properties and methods of parent class\n",
    "        super().__init__(**kwargs)\n",
    "\n",
    "        self.property3 = 'string1'\n",
    "        self.property4 = arg0\n",
    "        self.property5 = arg1\n",
    "\n",
    "    def method2(self):\n",
    "        print('method2 complete')\n"
   ]
  },
  {
   "cell_type": "code",
   "execution_count": null,
   "metadata": {},
   "outputs": [],
   "source": [
    "# create instance of child class\n",
    "arg0 = 1.1\n",
    "arg1 = 'test'\n",
    "\n",
    "\n",
    "child_instance = ChildClass(arg0=arg0, arg1=arg1, **kwargs)\n",
    "\n",
    "print(child_instance.method2())\n",
    "print(child_instance.property4)"
   ]
  },
  {
   "cell_type": "code",
   "execution_count": 6,
   "metadata": {},
   "outputs": [
    {
     "name": "stdout",
     "output_type": "stream",
     "text": [
      "Hi 1\n",
      "Hi 2\n",
      "Hi 3\n"
     ]
    }
   ],
   "source": [
    "# class attributes\n",
    "\n",
    "class Parent:\n",
    "    def __init__(self, arg1: str = None, **kwargs):\n",
    "\n",
    "        if arg1 == 'Hi 1':\n",
    "            print('Hi 1')\n",
    "\n",
    "\n",
    "\n",
    "class Child(Parent):\n",
    "    def __init__(self, arg2: str = None, **kwargs):\n",
    "\n",
    "        super().__init__(**kwargs)\n",
    "\n",
    "        if arg2 == 'Hi 2':\n",
    "            print('Hi 2')\n",
    "\n",
    "\n",
    "class GrandChild(Child):\n",
    "    def __init__(self, arg3: str = None, **kwargs):\n",
    "\n",
    "        super().__init__(**kwargs)\n",
    "\n",
    "        if arg3 == 'Hi 3':\n",
    "            print('Hi 3')\n",
    "\n",
    "\n",
    "kwargs = dict(arg1 = 'Hi 1', arg2 = 'Hi 2', arg3 = 'Hi 3')\n",
    "\n",
    "instance = GrandChild(**kwargs)\n"
   ]
  },
  {
   "cell_type": "code",
   "execution_count": 11,
   "metadata": {},
   "outputs": [
    {
     "name": "stdout",
     "output_type": "stream",
     "text": [
      "Hi 1\n",
      "Hi 2\n",
      "Hi 3\n"
     ]
    }
   ],
   "source": [
    "# class attributes\n",
    "\n",
    "class Parent:\n",
    "    def __init__(self, arg1: str = None, **kwargs):\n",
    "\n",
    "        if arg1 == 'Hi 1':\n",
    "            print('Hi 1')\n",
    "\n",
    "\n",
    "class Child(Parent):\n",
    "    def __init__(self, arg1: str = None, arg2: str = None, **kwargs):\n",
    "\n",
    "        super().__init__(arg1, **kwargs)\n",
    "\n",
    "        if arg2 == 'Hi 2':\n",
    "            print('Hi 2')\n",
    "\n",
    "\n",
    "class GrandChild(Child):\n",
    "    def __init__(self, arg1: str = None, arg2: str = None, arg3: str = None, **kwargs):\n",
    "\n",
    "        super().__init__(arg1, arg2, **kwargs)\n",
    "\n",
    "        if arg3 == 'Hi 3':\n",
    "            print('Hi 3')\n",
    "\n",
    "\n",
    "kwargs = dict(arg1 = 'Hi 1', arg2 = 'Hi 2', arg3 = 'Hi 3', arg4 = 'Hi 4')\n",
    "\n",
    "instance = GrandChild(**kwargs)"
   ]
  },
  {
   "cell_type": "code",
   "execution_count": null,
   "metadata": {},
   "outputs": [],
   "source": []
  }
 ],
 "metadata": {
  "interpreter": {
   "hash": "949777d72b0d2535278d3dc13498b2535136f6dfe0678499012e853ee9abcab1"
  },
  "kernelspec": {
   "display_name": "Python 3.8.7 64-bit",
   "name": "python3"
  },
  "language_info": {
   "codemirror_mode": {
    "name": "ipython",
    "version": 3
   },
   "file_extension": ".py",
   "mimetype": "text/x-python",
   "name": "python",
   "nbconvert_exporter": "python",
   "pygments_lexer": "ipython3",
   "version": "3.9.9"
  },
  "orig_nbformat": 4
 },
 "nbformat": 4,
 "nbformat_minor": 2
}
