{
 "cells": [
  {
   "cell_type": "markdown",
   "metadata": {},
   "source": [
    "## Python Operators\n",
    "\n",
    "Operators are used to perform operations on variables and values"
   ]
  },
  {
   "cell_type": "markdown",
   "metadata": {},
   "source": [
    "### Arithmetic operators\n",
    "\n",
    "basic math"
   ]
  },
  {
   "cell_type": "code",
   "execution_count": 1,
   "metadata": {},
   "outputs": [],
   "source": [
    "x = 2\n",
    "y = 3\n",
    "\n",
    "a = x + y  # addition\n",
    "b = x - y # subtraction\n",
    "c = x * y  # multiplication\n",
    "d = x / y  # division\n",
    "e = x % y  # modulus: remainder of a division operation. Good for finding even numbers: number%2==0\n",
    "f = x ** y  # exponentiation\n",
    "g = x // y  # floor divion: divide to nearest integer"
   ]
  },
  {
   "cell_type": "code",
   "execution_count": 3,
   "metadata": {},
   "outputs": [
    {
     "name": "stdout",
     "output_type": "stream",
     "text": [
      "3.0 0.6999999999999993\n"
     ]
    }
   ],
   "source": [
    "# quotient and remainder\n",
    "quot, remain = 9.7//3, 9.7 % 3\n",
    "quotient, remainder = divmod(9.7, 3)  # faster\n",
    "print(quotient, remainder)"
   ]
  },
  {
   "cell_type": "markdown",
   "metadata": {},
   "source": [
    "### Comparison operators\n",
    "\n",
    "- compare values\n",
    "- returns either True or False"
   ]
  },
  {
   "cell_type": "code",
   "execution_count": 2,
   "metadata": {},
   "outputs": [
    {
     "data": {
      "text/plain": [
       "True"
      ]
     },
     "execution_count": 2,
     "metadata": {},
     "output_type": "execute_result"
    }
   ],
   "source": [
    "x = 2\n",
    "y = 3\n",
    "\n",
    "x > y  # greater than\n",
    "x < y  # less than\n",
    "x == y  # equal to\n",
    "x != y  # not equal\n",
    "x >= y  # greater than or equal\n",
    "x <= y  # less than or equal"
   ]
  },
  {
   "cell_type": "markdown",
   "metadata": {},
   "source": [
    "### Logical operators\n",
    "\n",
    "- and: returns True if both are True\n",
    "- or: returns True if either are True\n",
    "- not: returns True if operand is False"
   ]
  },
  {
   "cell_type": "code",
   "execution_count": 5,
   "metadata": {},
   "outputs": [
    {
     "data": {
      "text/plain": [
       "True"
      ]
     },
     "execution_count": 5,
     "metadata": {},
     "output_type": "execute_result"
    }
   ],
   "source": [
    "x = True\n",
    "y = False\n",
    "\n",
    "x and y # and\n",
    "x or y  # or\n",
    "not y # not"
   ]
  },
  {
   "cell_type": "markdown",
   "metadata": {},
   "source": [
    "### Assignment operators\n",
    "\n",
    "Operators used to assign values or variables"
   ]
  },
  {
   "cell_type": "code",
   "execution_count": 7,
   "metadata": {},
   "outputs": [],
   "source": [
    "x = 2 # equals\n",
    "y = 3\n",
    "\n",
    "x += y  # addition\n",
    "x -= y  # subration\n",
    "x *= y  # multiplication\n",
    "x /= y  # division\n",
    "x %= y  # modulus\n",
    "x //= y  # floor division\n",
    "x **= 5  # exponential\n",
    "\n",
    "x = 2 # equals\n",
    "y = 3\n",
    "x &= y \n",
    "x |= y\n",
    "x ^= y\n",
    "x >>= y\n",
    "x <<= y"
   ]
  },
  {
   "cell_type": "markdown",
   "metadata": {},
   "source": [
    "### Bitwise operators\n",
    "\n",
    "- Act on operands as if they were strings of binary digits. \n",
    "- Operate bit by bit"
   ]
  },
  {
   "cell_type": "code",
   "execution_count": null,
   "metadata": {},
   "outputs": [],
   "source": [
    "# TODO at a future date if needed"
   ]
  },
  {
   "cell_type": "markdown",
   "metadata": {},
   "source": [
    "### Special operators\n",
    "\n",
    "#### Identity operators\n",
    "\n",
    "- 'is' and 'is not': used to check if two values are or are not located in the same memory\n",
    "- Note this is not the same as ==\n",
    "- == checks if values are identical\n",
    "- example where == returns 'True' and is returns false: identical variables from different objects. \n",
    "\n",
    "#### Membership operators\n",
    "\n",
    "- 'in' and 'not in': used to check if value is in a sequence (string, list, tuple, set, or dictionary)"
   ]
  },
  {
   "cell_type": "code",
   "execution_count": 8,
   "metadata": {},
   "outputs": [
    {
     "data": {
      "text/plain": [
       "True"
      ]
     },
     "execution_count": 8,
     "metadata": {},
     "output_type": "execute_result"
    }
   ],
   "source": [
    "x = 5\n",
    "y = 5\n",
    "a = [1, 2, 3, 4, 5]\n",
    "b = [1, 2, 3, 4, 5]\n",
    "\n",
    "x is y  # is:\n",
    "x is not y  # is not\n",
    "x in a # in\n"
   ]
  },
  {
   "cell_type": "markdown",
   "metadata": {},
   "source": [
    "### Packing and Unpacking operators\n",
    "\n",
    "#### * \n",
    "- for iterables\n",
    "- can be used to pack or unpack lists, sets, tuples, etc\n",
    "- commonly used to unpack tuple arguments for functions - *args\n",
    "\n",
    "\n",
    "#### **\n",
    "- for dictionaries\n",
    "- used to unpack and pack both keys and values from dictionaries\n",
    "- commonly used to pack and unpack keyword arguments or kwargs - **kwargs\n"
   ]
  },
  {
   "cell_type": "code",
   "execution_count": 4,
   "metadata": {},
   "outputs": [
    {
     "name": "stdout",
     "output_type": "stream",
     "text": [
      "0 1 2 3 4 5 6 7 8 9\n",
      "['name1', 'name2', 'name3']\n"
     ]
    }
   ],
   "source": [
    "iter1 = range(10)  # unpack\n",
    "print(*iter1)\n",
    "\n",
    "*names, = 'name1', 'name2', 'name3'  # pack\n",
    "print(names)"
   ]
  },
  {
   "cell_type": "code",
   "execution_count": 6,
   "metadata": {},
   "outputs": [
    {
     "name": "stdout",
     "output_type": "stream",
     "text": [
      "name1\n",
      "name2\n"
     ]
    }
   ],
   "source": [
    "def print_args(*args):  # allows for unlimited arguments as a tuple\n",
    "    for arg in args:\n",
    "        print(arg)\n",
    "\n",
    "print_args('name1', 'name2', 'name3')"
   ]
  },
  {
   "cell_type": "code",
   "execution_count": 7,
   "metadata": {},
   "outputs": [
    {
     "name": "stdout",
     "output_type": "stream",
     "text": [
      "key1 val1\n",
      "key2 val2\n"
     ]
    }
   ],
   "source": [
    "def print_kwargs(**kwargs):\n",
    "    for k, v in kwargs.items():\n",
    "        print(k, v)\n",
    "\n",
    "print_kwargs(key1 = 'val1', key2 = 'val2')"
   ]
  }
 ],
 "metadata": {
  "kernelspec": {
   "display_name": "Python 3",
   "language": "python",
   "name": "python3"
  },
  "language_info": {
   "codemirror_mode": {
    "name": "ipython",
    "version": 3
   },
   "file_extension": ".py",
   "mimetype": "text/x-python",
   "name": "python",
   "nbconvert_exporter": "python",
   "pygments_lexer": "ipython3",
   "version": "3.10.9"
  },
  "orig_nbformat": 4,
  "vscode": {
   "interpreter": {
    "hash": "bda33b16be7e844498c7c2d368d72665b4f1d165582b9547ed22a0249a29ca2e"
   }
  }
 },
 "nbformat": 4,
 "nbformat_minor": 2
}
