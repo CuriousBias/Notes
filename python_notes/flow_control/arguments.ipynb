{
 "cells": [
  {
   "cell_type": "markdown",
   "metadata": {},
   "source": [
    "## Arguments\n",
    "parameters for functions\n",
    "\n",
    "- positional\n",
    "    - for when names of arguments should not be available to user\n",
    "    - if parameter has no real meaning\n",
    "    - want to enforce an order of arguments\n",
    "- keyword\n",
    "    - when parameter names have meaning\n",
    "    - more flexibility for order of arguments"
   ]
  },
  {
   "cell_type": "code",
   "execution_count": null,
   "metadata": {},
   "outputs": [],
   "source": [
    "def function(pos1, pos2, /, pos_kwd1, pos_kwd2, *, kwd1, kwd2):\n",
    "    pass"
   ]
  }
 ],
 "metadata": {
  "language_info": {
   "name": "python"
  },
  "orig_nbformat": 4
 },
 "nbformat": 4,
 "nbformat_minor": 2
}
