{
 "cells": [
  {
   "cell_type": "markdown",
   "metadata": {},
   "source": [
    "## Flow control\n",
    "- pass\n",
    "- while\n",
    "- if, else\n",
    "- for\n",
    "- break, continue, else\n",
    "- match, case (python 3.10)"
   ]
  },
  {
   "cell_type": "markdown",
   "metadata": {},
   "source": [
    "### Pass\n",
    "- does nothing\n",
    "- used if code requires something syntactically\n",
    "- good to use as placeholder when developing code"
   ]
  },
  {
   "cell_type": "code",
   "execution_count": null,
   "metadata": {},
   "outputs": [],
   "source": [
    "def foo():\n",
    "    \"\"\"function placeholder\"\"\"\n",
    "    pass"
   ]
  },
  {
   "cell_type": "markdown",
   "metadata": {},
   "source": [
    "### while\n",
    "- stay in loop while condition is satisfied\n",
    "- while True: is handy to always run something. "
   ]
  },
  {
   "cell_type": "markdown",
   "metadata": {},
   "source": [
    "### if... else\n",
    "- Used to make decisions among different conditions"
   ]
  },
  {
   "cell_type": "code",
   "execution_count": null,
   "metadata": {},
   "outputs": [],
   "source": [
    "a = 5\n",
    "b = 10\n",
    "\n",
    "if a > b:\n",
    "    foo()\n",
    "elif a < b:\n",
    "    foo()\n",
    "else:\n",
    "    foo()"
   ]
  },
  {
   "cell_type": "markdown",
   "metadata": {},
   "source": [
    "### for loop\n",
    "\n",
    "Used to iterate over a sequence\n",
    "\n",
    "- Use range() to iterate over sequence of numbers. \n",
    "- use enumerate() to iterate over sequence of numbers and also use index.\n",
    "- Use break and else: to execute something if loop reaches break point\n",
    "- Use '_' to be elite instead of a variable (used to show value wont be used)\n",
    "\n",
    "#### range()\n",
    "- Useful to iterate over sequence of numbers by generating arithmetic progression. \n",
    "- End point is not part of sequence.\n",
    "\n",
    "- To iterate over index ```range(len(list))```\n",
    "- Or use ```enumerate(list)```\n"
   ]
  },
  {
   "cell_type": "code",
   "execution_count": null,
   "metadata": {},
   "outputs": [],
   "source": [
    "sequence = [1,3,5,7,9]\n",
    "\n",
    "# basic for loop over sequence\n",
    "sum = 0\n",
    "for value in sequence:\n",
    "    sum = sum + value\n",
    "print(sum)\n",
    "\n",
    "# for loop using range()\n",
    "for _ in range(4):\n",
    "    print(value)\n",
    "# output is 0, 1, 2, 3 since python is base 0!\n",
    "\n",
    "# for loop with else: statement\n",
    "for _ in sequence:\n",
    "    if _ <= 5:\n",
    "        print(_)\n",
    "    elif _ == 6:\n",
    "        break\n",
    "\n",
    "else:  # use else for when there is no break. But not best practice, use returns instead. \n",
    "    print('Number 6 not found')\n",
    "\n",
    "# for loop using enumerate():\n",
    "for idx, val in enumerate(sequence):\n",
    "    print(idx)\n",
    "    print(val)\n",
    "        "
   ]
  },
  {
   "cell_type": "markdown",
   "metadata": {},
   "source": [
    "### break, continue, else\n",
    "- break statement breaks out of innermost enclosing for or while loop\n",
    "- continue clause proceeds to next iteration of loop\n",
    "- else clause\n",
    "    - else clause runs when loop terminates (with for)\n",
    "    - else clause runs when condition becomes false (with while)"
   ]
  },
  {
   "cell_type": "code",
   "execution_count": 1,
   "metadata": {},
   "outputs": [
    {
     "name": "stdout",
     "output_type": "stream",
     "text": [
      "2 is a prime number\n",
      "3 is a prime number\n",
      "4 = 2 * 2\n",
      "5 is a prime number\n",
      "6 = 2 * 3\n",
      "7 is a prime number\n",
      "8 = 2 * 4\n",
      "9 = 3 * 3\n"
     ]
    }
   ],
   "source": [
    "for n in range(2, 10):\n",
    "    for x in range (2, n):\n",
    "        if n % x == 0:\n",
    "            print(n, '=', x, '*', n//x)\n",
    "            break  # breaks out of second for loop\n",
    "    else:\n",
    "        print(n, 'is a prime number')"
   ]
  },
  {
   "cell_type": "code",
   "execution_count": 2,
   "metadata": {},
   "outputs": [
    {
     "name": "stdout",
     "output_type": "stream",
     "text": [
      "even number: 2\n",
      "odd number 3\n",
      "even number: 4\n",
      "odd number 5\n",
      "even number: 6\n",
      "odd number 7\n",
      "even number: 8\n",
      "odd number 9\n"
     ]
    }
   ],
   "source": [
    "for num in range (2, 10):\n",
    "    if num % 2 == 0:\n",
    "        print ('even number:', num)\n",
    "        continue\n",
    "    print('odd number:', num)  # note no need for elif or else"
   ]
  },
  {
   "cell_type": "markdown",
   "metadata": {},
   "source": [
    "### Match, case\n",
    "- Used to match expression value with known cases."
   ]
  },
  {
   "cell_type": "code",
   "execution_count": null,
   "metadata": {},
   "outputs": [],
   "source": [
    "def http_error(status):\n",
    "    match status:\n",
    "        case 400:\n",
    "            return \"bad request\"\n",
    "        case 404:\n",
    "            return \"not found\"\n",
    "        case 418:\n",
    "            return \"what?\"\n",
    "        case _: \n",
    "            return \"something is wrong\"\n",
    "        case 401 | 403 | 416:\n",
    "            return \"not allowed\"\n",
    "        "
   ]
  }
 ],
 "metadata": {
  "interpreter": {
   "hash": "a0820167192a0f8e5b5d75b09b4662218b53e0ef2bbcf14191e112b7c64612ca"
  },
  "kernelspec": {
   "display_name": "Python 3.9.12 64-bit",
   "language": "python",
   "name": "python3"
  },
  "language_info": {
   "codemirror_mode": {
    "name": "ipython",
    "version": 3
   },
   "file_extension": ".py",
   "mimetype": "text/x-python",
   "name": "python",
   "nbconvert_exporter": "python",
   "pygments_lexer": "ipython3",
   "version": "3.9.12"
  },
  "orig_nbformat": 4
 },
 "nbformat": 4,
 "nbformat_minor": 2
}
