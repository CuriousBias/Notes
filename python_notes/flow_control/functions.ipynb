{
 "cells": [
  {
   "cell_type": "code",
   "execution_count": null,
   "metadata": {},
   "outputs": [],
   "source": [
    "# Passing variables to functions\n",
    "# By reference: Variable changes seen inside and outside function\n",
    "\n",
    "# By value: copy created within function. Changes not seen outside\n",
    "\n",
    "# By assignment:\n",
    "\n",
    "# Use list for mutability"
   ]
  },
  {
   "cell_type": "code",
   "execution_count": null,
   "metadata": {},
   "outputs": [],
   "source": [
    "# Defining function\n",
    "def functionname(input1, input2, input3):\n",
    "    if arg1 == None:\n",
    "        newVar = oldVar + adjustment1\n",
    "    else:\n",
    "        newVar = oldVar + adjustment2\n",
    "        oldVar = newVar\n",
    "    return newVar\n",
    "# to call\n",
    "#print(functionname)\n",
    "#output is newVar"
   ]
  },
  {
   "cell_type": "code",
   "execution_count": null,
   "metadata": {},
   "outputs": [],
   "source": [
    "# types of functions\n",
    "def public(self):  # accessible from anywhere, inside or outside class\n",
    "    pass\n",
    "\n",
    "def _private(self):  # warned not to access, but you still can\n",
    "    pass\n",
    "\n",
    "def __protected(self):  # really hard and should not be accessed outside a class\n",
    "    pass"
   ]
  },
  {
   "cell_type": "code",
   "execution_count": null,
   "metadata": {},
   "outputs": [],
   "source": [
    "#`pass` prevents an error message if you run this file before inserting code\n",
    "\n",
    "def function(arg1, arg2):\n",
    "    # do something with arts\n",
    "    return (output1, output2)  # returns a tuple with two outputs"
   ]
  },
  {
   "cell_type": "code",
   "execution_count": null,
   "metadata": {},
   "outputs": [],
   "source": [
    "# lambda functions\n",
    "multiple = lambda x,y: x*y\n",
    "# to run\n",
    "# print(multiple (3,4))"
   ]
  },
  {
   "cell_type": "code",
   "execution_count": null,
   "metadata": {},
   "outputs": [],
   "source": [
    "def incrementElement (num_list):\n",
    "    num_list [0] += 1\n",
    "    n_list = [4]\n",
    "    incrementElement ( n_list )\n",
    "    print ( n_list [0])"
   ]
  }
 ],
 "metadata": {
  "kernelspec": {
   "display_name": "Python 3",
   "language": "python",
   "name": "python3"
  },
  "language_info": {
   "codemirror_mode": {
    "name": "ipython",
    "version": 3
   },
   "file_extension": ".py",
   "mimetype": "text/x-python",
   "name": "python",
   "nbconvert_exporter": "python",
   "pygments_lexer": "ipython3",
   "version": "3.8.7-final"
  },
  "orig_nbformat": 2
 },
 "nbformat": 4,
 "nbformat_minor": 2
}
