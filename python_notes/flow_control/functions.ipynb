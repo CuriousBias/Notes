{
 "cells": [
  {
   "cell_type": "markdown",
   "metadata": {},
   "source": [
    "## Functions\n",
    "\n",
    "- By reference: Variable changes seen inside and outside function\n",
    "- By value: copy created within function. Changes not seen outside\n",
    "- By assignment:\n",
    "\n",
    "- return\n",
    "    - returns results of function execution\n",
    "    - returns None if no return\n",
    "    - multiple results returned as tuple"
   ]
  },
  {
   "cell_type": "code",
   "execution_count": null,
   "metadata": {},
   "outputs": [],
   "source": [
    "def function(input1, input2, input3):\n",
    "    if input1 == None:\n",
    "        newVar = oldVar + input2\n",
    "    else:\n",
    "        newVar = oldVar + input3\n",
    "        oldVar = newVar\n",
    "    return newVar"
   ]
  },
  {
   "cell_type": "code",
   "execution_count": null,
   "metadata": {},
   "outputs": [],
   "source": [
    "def public(self):  # accessible from anywhere, inside or outside class\n",
    "    pass\n",
    "\n",
    "def _private(self):  # warned not to access, but you still can\n",
    "    pass\n",
    "\n",
    "def __protected(self):  # really hard and should not be accessed outside a class\n",
    "    pass"
   ]
  },
  {
   "cell_type": "code",
   "execution_count": null,
   "metadata": {},
   "outputs": [],
   "source": [
    "def incrementElement (num_list):\n",
    "    num_list [0] += 1\n",
    "    n_list = [4]\n",
    "    incrementElement ( n_list )\n",
    "    print ( n_list [0])"
   ]
  }
 ],
 "metadata": {
  "kernelspec": {
   "display_name": "Python 3",
   "language": "python",
   "name": "python3"
  },
  "language_info": {
   "codemirror_mode": {
    "name": "ipython",
    "version": 3
   },
   "file_extension": ".py",
   "mimetype": "text/x-python",
   "name": "python",
   "nbconvert_exporter": "python",
   "pygments_lexer": "ipython3",
   "version": "3.8.7-final"
  },
  "orig_nbformat": 2
 },
 "nbformat": 4,
 "nbformat_minor": 2
}
