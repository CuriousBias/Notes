{
 "cells": [
  {
   "attachments": {},
   "cell_type": "markdown",
   "metadata": {},
   "source": [
    "## Functions\n",
    "\n",
    "- By reference: Variable changes seen inside and outside function\n",
    "- By value: copy created within function. Changes not seen outside\n",
    "- By assignment:\n",
    "\n",
    "- return\n",
    "    - returns results of function execution\n",
    "    - returns None if no return\n",
    "    - multiple results returned as tuple\n",
    "\n",
    "\n",
    "```def name():```\n",
    "- def keyword does not complile new function\n",
    "- def creates new object with name and links to to existing byte code."
   ]
  },
  {
   "cell_type": "code",
   "execution_count": null,
   "metadata": {},
   "outputs": [],
   "source": [
    "def function(input1, input2, input3):\n",
    "    if input1 == None:\n",
    "        newVar = oldVar + input2\n",
    "    else:\n",
    "        newVar = oldVar + input3\n",
    "        oldVar = newVar\n",
    "    return newVar"
   ]
  },
  {
   "cell_type": "code",
   "execution_count": null,
   "metadata": {},
   "outputs": [],
   "source": [
    "def public(self):  # accessible from anywhere, inside or outside class\n",
    "    pass\n",
    "\n",
    "def _private(self):  # warned not to access, but you still can\n",
    "    pass\n",
    "\n",
    "def __protected(self):  # really hard and should not be accessed outside a class\n",
    "    pass"
   ]
  },
  {
   "attachments": {},
   "cell_type": "markdown",
   "metadata": {},
   "source": [
    "### Nested Function\n",
    "- Generally a bad idea\n",
    "- Loookups happen at runtime\n",
    "- Locations decided at compile time (python is both compiled and interpreted!)\n",
    "\n",
    "### Closures\n",
    "- Object which wraps function with extra environemnt\n",
    "- ```object.__closure__``` : tuple(cell, string)"
   ]
  },
  {
   "cell_type": "code",
   "execution_count": 3,
   "metadata": {},
   "outputs": [
    {
     "data": {
      "text/plain": [
       "('global x', 'y arg', '2nd outer z')"
      ]
     },
     "execution_count": 3,
     "metadata": {},
     "output_type": "execute_result"
    }
   ],
   "source": [
    "x = 'global x'\n",
    "\n",
    "def outer():\n",
    "    z = '1st outer z'\n",
    "\n",
    "    def inner(y):\n",
    "        return x, y, z\n",
    "\n",
    "    z = '2nd outer z'  # second is used because its defined last. \n",
    "\n",
    "    return inner('y arg')\n",
    "\n",
    "outer()\n"
   ]
  },
  {
   "cell_type": "code",
   "execution_count": 6,
   "metadata": {},
   "outputs": [
    {
     "name": "stdout",
     "output_type": "stream",
     "text": [
      "nonlocal x\n",
      "local x\n",
      "local x\n"
     ]
    }
   ],
   "source": [
    "x = 'global x'\n",
    "\n",
    "def outer():\n",
    "    x = 'nonlocal x'\n",
    "\n",
    "    def inner():\n",
    "        nonlocal x  # instructs complier to treat x as non local variable.\n",
    "        x = 'local x'\n",
    "        return x\n",
    "\n",
    "    print(x)\n",
    "    print(inner())\n",
    "    print(x)\n",
    "\n",
    "outer()"
   ]
  },
  {
   "cell_type": "code",
   "execution_count": 7,
   "metadata": {},
   "outputs": [
    {
     "name": "stdout",
     "output_type": "stream",
     "text": [
      "nonlocal x\n",
      "local x\n",
      "nonlocal x\n"
     ]
    }
   ],
   "source": [
    "x = 'global x'\n",
    "\n",
    "def outer():\n",
    "    x = 'nonlocal x'\n",
    "\n",
    "    def inner():\n",
    "        global x  # instructs complier to treat x as global\n",
    "        x = 'local x'\n",
    "        return x\n",
    "\n",
    "    print(x)\n",
    "    print(inner())\n",
    "    print(x)\n",
    "\n",
    "outer()"
   ]
  },
  {
   "cell_type": "code",
   "execution_count": null,
   "metadata": {},
   "outputs": [],
   "source": []
  }
 ],
 "metadata": {
  "kernelspec": {
   "display_name": "Python 3",
   "language": "python",
   "name": "python3"
  },
  "language_info": {
   "codemirror_mode": {
    "name": "ipython",
    "version": 3
   },
   "file_extension": ".py",
   "mimetype": "text/x-python",
   "name": "python",
   "nbconvert_exporter": "python",
   "pygments_lexer": "ipython3",
   "version": "3.10.9"
  },
  "orig_nbformat": 2,
  "vscode": {
   "interpreter": {
    "hash": "bda33b16be7e844498c7c2d368d72665b4f1d165582b9547ed22a0249a29ca2e"
   }
  }
 },
 "nbformat": 4,
 "nbformat_minor": 2
}
