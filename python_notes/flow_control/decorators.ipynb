{
 "cells": [
  {
   "cell_type": "markdown",
   "metadata": {},
   "source": [
    "#### Decorators\n",
    "\n",
    "- function decorators (more common)\n",
    "    - extends functionality of a function\n",
    "    - Essentially shorthard for sending one function to another function\n",
    "    - Nesting decorators\n",
    "\n",
    "@first wrapper\n",
    "@second wrapper\n",
    "def func():\n",
    "\n",
    "- class decorators\n",
    "    - use class as function\n",
    "\n",
    "Common uses:\n",
    "1. timer to calculate execution time\n",
    "2. debug to get extra information\n",
    "3. check if arguments fit some requirements\n",
    "4. cache return values"
   ]
  },
  {
   "cell_type": "markdown",
   "metadata": {},
   "source": [
    "```python\n",
    "@wrapper\n",
    "def wrapped():\n",
    "    pass\n",
    "```\n",
    "\n",
    "```wrapped()``` gets sent to ```wrapper``` before it is executed so that wrapper is executed. Wrapped might get executed (probably) within the wrapper, but it doesnt have to be executed. \n",
    "\n",
    "Can also be written as \n",
    "\n",
    "```python\n",
    "def wrapper:  # function to extend functionality\n",
    "    pass\n",
    "\n",
    "def wrapped:  # regular function\n",
    "    pass\n",
    "\n",
    "output = wrapped(wrapped)():\n",
    "\n",
    "alternate_output = wrapper(wrapped)\n",
    "```"
   ]
  },
  {
   "cell_type": "code",
   "execution_count": 4,
   "metadata": {},
   "outputs": [
    {
     "name": "stdout",
     "output_type": "stream",
     "text": [
      "(6, 1.1669999366858974e-06)\n"
     ]
    }
   ],
   "source": [
    "import time\n",
    "import functools\n",
    "\n",
    "def function_timer(func):\n",
    "    @functools.wraps(func)  # preserves information of func\n",
    "    def  wrapper_function(*args, **kwargs):  # args and kwargs to take as many positional and keyword arguments\n",
    "        start = time.perf_counter()  # do something before execution of wrapped function\n",
    "        func_return = func(*args, **kwargs)\n",
    "        elapsed = time.perf_counter() - start  # do something after execution of wrapped funcion\n",
    "        return func_return, elapsed\n",
    "    return wrapper_function\n",
    "\n",
    "\n",
    "@function_timer\n",
    "def add_func(*args):\n",
    "    return sum(args)\n",
    "\n",
    "time_to_complete = add_func(1,2,3)\n",
    "\n",
    "print(time_to_complete)\n"
   ]
  },
  {
   "cell_type": "code",
   "execution_count": 5,
   "metadata": {},
   "outputs": [
    {
     "name": "stdout",
     "output_type": "stream",
     "text": [
      "Hello Alex\n",
      "Hello Alex\n",
      "Hello Alex\n"
     ]
    }
   ],
   "source": [
    "import functools\n",
    "\n",
    "def repeat(num_times):\n",
    "    def decorator_repeat(func):\n",
    "        @functools.wraps(func)\n",
    "        def wrapper(*args, **kwargs):\n",
    "            for _ in range(num_times):\n",
    "                result = func(*args, **kwargs)\n",
    "            return result\n",
    "        return wrapper\n",
    "    return decorator_repeat\n",
    "\n",
    "@repeat(num_times=3)\n",
    "def greet(name):\n",
    "    print(f'Hello {name}')\n",
    "\n",
    "greet('Alex')"
   ]
  },
  {
   "cell_type": "code",
   "execution_count": 7,
   "metadata": {},
   "outputs": [
    {
     "name": "stdout",
     "output_type": "stream",
     "text": [
      "this is executed 1 times\n",
      "this is executed 2 times\n"
     ]
    }
   ],
   "source": [
    "class CountCalls:\n",
    "\n",
    "    def __init__(self, func):\n",
    "        self.func = func\n",
    "        self.num_calls = int(0)\n",
    "\n",
    "    def __call__(self, *args, **kwargs):  # call method allows execution of class as func\n",
    "        self.num_calls += 1\n",
    "        print(f'this is executed {self.num_calls} times')\n",
    "\n",
    "\n",
    "@CountCalls\n",
    "def say_hello():\n",
    "    print('Hello')\n",
    "        \n",
    "say_hello()\n",
    "say_hello()\n"
   ]
  },
  {
   "cell_type": "markdown",
   "metadata": {},
   "source": [
    "https://stackoverflow.com/questions/10294014/python-decorator-best-practice-using-a-class-vs-a-function"
   ]
  }
 ],
 "metadata": {
  "interpreter": {
   "hash": "a0820167192a0f8e5b5d75b09b4662218b53e0ef2bbcf14191e112b7c64612ca"
  },
  "kernelspec": {
   "display_name": "Python 3.9.9 64-bit",
   "language": "python",
   "name": "python3"
  },
  "language_info": {
   "codemirror_mode": {
    "name": "ipython",
    "version": 3
   },
   "file_extension": ".py",
   "mimetype": "text/x-python",
   "name": "python",
   "nbconvert_exporter": "python",
   "pygments_lexer": "ipython3",
   "version": "3.9.9"
  },
  "orig_nbformat": 4
 },
 "nbformat": 4,
 "nbformat_minor": 2
}
