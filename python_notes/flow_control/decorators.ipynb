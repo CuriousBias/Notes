{
 "cells": [
  {
   "cell_type": "markdown",
   "metadata": {},
   "source": [
    "## Decorators\n",
    "\n",
    "- function decorators (more common)\n",
    "    - extends functionality of a function\n",
    "    - Essentially shorthard for sending one function to another function\n",
    "    - Nesting decorators\n",
    "\n",
    "### Types\n",
    "1. Function\n",
    "- most common\n",
    "\n",
    "```python\n",
    "@first wrapper\n",
    "@second wrapper\n",
    "def func():\n",
    "```\n",
    "\n",
    "2. Class\n",
    "- much easier to understand and follow\n",
    "- define __call__ function\n",
    "- use class as function\n",
    "\n",
    "### Uses\n",
    "1. timer to calculate execution time\n",
    "2. debug to get extra information\n",
    "3. check if arguments fit some requirements\n",
    "4. cache return values"
   ]
  },
  {
   "cell_type": "markdown",
   "metadata": {},
   "source": [
    "```python\n",
    "@wrapper\n",
    "def wrapped():\n",
    "    pass\n",
    "```\n",
    "\n",
    "```wrapped()``` gets sent to ```wrapper``` before it is executed so that wrapper is executed. Wrapped might get executed (probably) within the wrapper, but it doesnt have to be executed. \n",
    "\n",
    "Can also be written as \n",
    "\n",
    "```python\n",
    "def wrapper:  # function to extend functionality\n",
    "    pass\n",
    "\n",
    "def wrapped:  # regular function\n",
    "    pass\n",
    "\n",
    "output = wrapped(wrapped)():\n",
    "\n",
    "alternate_output = wrapper(wrapped)\n",
    "```"
   ]
  },
  {
   "cell_type": "code",
   "execution_count": 1,
   "metadata": {},
   "outputs": [
    {
     "name": "stdout",
     "output_type": "stream",
     "text": [
      "(6, 6.249999999763389e-07)\n"
     ]
    }
   ],
   "source": [
    "import time\n",
    "import functools\n",
    "\n",
    "def function_timer(func):\n",
    "    @functools.wraps(func)  # preserves information of func\n",
    "    def  wrapper_function(*args, **kwargs):  # args and kwargs to take as many positional and keyword arguments\n",
    "        start = time.perf_counter()  # do something before execution of wrapped function\n",
    "        func_return = func(*args, **kwargs)\n",
    "        elapsed = time.perf_counter() - start  # do something after execution of wrapped function\n",
    "        return func_return, elapsed\n",
    "    return wrapper_function\n",
    "\n",
    "\n",
    "@function_timer\n",
    "def add_func(*args):\n",
    "    return sum(args)\n",
    "\n",
    "time_to_complete = add_func(1,2,3)\n",
    "\n",
    "print(time_to_complete)\n"
   ]
  },
  {
   "cell_type": "code",
   "execution_count": 2,
   "metadata": {},
   "outputs": [
    {
     "name": "stdout",
     "output_type": "stream",
     "text": [
      "Hello Alex\n",
      "Hello Alex\n",
      "Hello Alex\n"
     ]
    }
   ],
   "source": [
    "import functools\n",
    "\n",
    "def repeat(num_times):\n",
    "    def decorator_repeat(func):\n",
    "        @functools.wraps(func)\n",
    "        def wrapper(*args, **kwargs):\n",
    "            for _ in range(num_times):\n",
    "                result = func(*args, **kwargs)\n",
    "            return result\n",
    "        return wrapper\n",
    "    return decorator_repeat\n",
    "\n",
    "@repeat(num_times=3)\n",
    "def greet(name):\n",
    "    print(f'Hello {name}')\n",
    "\n",
    "greet('Alex')"
   ]
  },
  {
   "cell_type": "code",
   "execution_count": 3,
   "metadata": {},
   "outputs": [
    {
     "name": "stdout",
     "output_type": "stream",
     "text": [
      "this is executed 1 times\n",
      "this is executed 2 times\n"
     ]
    }
   ],
   "source": [
    "# decorator as a class example\n",
    "\n",
    "class CountCalls:\n",
    "\n",
    "    def __init__(self, func):\n",
    "        self.func = func\n",
    "        self.num_calls = int(0)\n",
    "\n",
    "    def __call__(self, *args, **kwargs):  # call method allows execution of class as func\n",
    "        self.num_calls += 1\n",
    "        print(f'this is executed {self.num_calls} times')\n",
    "\n",
    "\n",
    "@CountCalls\n",
    "def say_hello():\n",
    "    print('Hello')\n",
    "        \n",
    "say_hello()\n",
    "say_hello()\n"
   ]
  },
  {
   "attachments": {},
   "cell_type": "markdown",
   "metadata": {},
   "source": [
    "## Random decorators\n",
    "1. cache: Avoids recalculations. Remembers all returns computed for given function. \n",
    "2. lru_cache: Least recently used. Remembers values upto maxsize."
   ]
  },
  {
   "cell_type": "code",
   "execution_count": 5,
   "metadata": {},
   "outputs": [
    {
     "name": "stdout",
     "output_type": "stream",
     "text": [
      "0 0\n",
      "1 1\n",
      "2 1\n",
      "3 2\n",
      "4 3\n",
      "5 5\n",
      "6 8\n",
      "7 13\n",
      "8 21\n",
      "9 34\n",
      "10 55\n",
      "11 89\n",
      "12 144\n",
      "13 233\n",
      "14 377\n",
      "15 610\n",
      "16 987\n",
      "17 1597\n",
      "18 2584\n",
      "19 4181\n",
      "20 6765\n",
      "21 10946\n",
      "22 17711\n",
      "23 28657\n",
      "24 46368\n",
      "25 75025\n",
      "26 121393\n",
      "27 196418\n",
      "28 317811\n",
      "29 514229\n",
      "30 832040\n",
      "31 1346269\n",
      "32 2178309\n",
      "33 3524578\n",
      "34 5702887\n",
      "35 9227465\n",
      "36 14930352\n",
      "37 24157817\n",
      "38 39088169\n",
      "39 63245986\n",
      "40 102334155\n",
      "41 165580141\n",
      "42 267914296\n",
      "43 433494437\n",
      "44 701408733\n",
      "45 1134903170\n",
      "46 1836311903\n",
      "47 2971215073\n",
      "48 4807526976\n",
      "49 7778742049\n",
      "50 12586269025\n",
      "51 20365011074\n",
      "52 32951280099\n",
      "53 53316291173\n",
      "54 86267571272\n",
      "55 139583862445\n",
      "56 225851433717\n",
      "57 365435296162\n",
      "58 591286729879\n",
      "59 956722026041\n",
      "60 1548008755920\n",
      "61 2504730781961\n",
      "62 4052739537881\n",
      "63 6557470319842\n",
      "64 10610209857723\n",
      "65 17167680177565\n",
      "66 27777890035288\n",
      "67 44945570212853\n",
      "68 72723460248141\n",
      "69 117669030460994\n",
      "70 190392490709135\n",
      "71 308061521170129\n",
      "72 498454011879264\n",
      "73 806515533049393\n",
      "74 1304969544928657\n",
      "75 2111485077978050\n",
      "76 3416454622906707\n",
      "77 5527939700884757\n",
      "78 8944394323791464\n",
      "79 14472334024676221\n",
      "80 23416728348467685\n",
      "81 37889062373143906\n",
      "82 61305790721611591\n",
      "83 99194853094755497\n",
      "84 160500643816367088\n",
      "85 259695496911122585\n",
      "86 420196140727489673\n",
      "87 679891637638612258\n",
      "88 1100087778366101931\n",
      "89 1779979416004714189\n",
      "90 2880067194370816120\n",
      "91 4660046610375530309\n",
      "92 7540113804746346429\n",
      "93 12200160415121876738\n",
      "94 19740274219868223167\n",
      "95 31940434634990099905\n",
      "96 51680708854858323072\n",
      "97 83621143489848422977\n",
      "98 135301852344706746049\n",
      "99 218922995834555169026\n",
      "done\n"
     ]
    }
   ],
   "source": [
    "from functools import cache, lru_cache\n",
    "\n",
    "@lru_cache(maxsize=10)  # @cache \n",
    "def fib(n):\n",
    "    if n <= 1:\n",
    "        return n\n",
    "    return fib(n - 1) + fib(n - 2)\n",
    "\n",
    "def main():\n",
    "    for i in range(100):\n",
    "        print(i, fib(i))\n",
    "    print('done')\n",
    "\n",
    "main()"
   ]
  },
  {
   "cell_type": "code",
   "execution_count": null,
   "metadata": {},
   "outputs": [],
   "source": []
  }
 ],
 "metadata": {
  "interpreter": {
   "hash": "a0820167192a0f8e5b5d75b09b4662218b53e0ef2bbcf14191e112b7c64612ca"
  },
  "kernelspec": {
   "display_name": "Python 3.9.9 64-bit",
   "language": "python",
   "name": "python3"
  },
  "language_info": {
   "codemirror_mode": {
    "name": "ipython",
    "version": 3
   },
   "file_extension": ".py",
   "mimetype": "text/x-python",
   "name": "python",
   "nbconvert_exporter": "python",
   "pygments_lexer": "ipython3",
   "version": "3.10.9"
  },
  "orig_nbformat": 4
 },
 "nbformat": 4,
 "nbformat_minor": 2
}
