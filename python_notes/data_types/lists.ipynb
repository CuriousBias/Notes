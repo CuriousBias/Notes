{
 "cells": [
  {
   "cell_type": "markdown",
   "metadata": {},
   "source": [
    "## Lists\n",
    "\n",
    "- collection datatype, ordered, mutable, allows duplicates\n",
    "- index similar to arrays but add 1 to desired stop index (since python is base 0)\n",
    "- create copies with ```copy()```"
   ]
  },
  {
   "cell_type": "code",
   "execution_count": null,
   "metadata": {},
   "outputs": [],
   "source": [
    "fruits = list()  # empty list\n",
    "\n",
    "fruits.append(\"apple\")  # add to list end of list\n",
    "fruits.append(\"cherry\")\n",
    "\n",
    "fruits.insert(1, \"banana\")  # add to specific index\n",
    "\n",
    "fruits.pop()  # to remove last item\n",
    "\n",
    "fruits.remove(\"apple\")  # to remove specific\n",
    "\n",
    "fruits.clear()  # to remove all\n",
    "\n",
    "fruits = [\"banana\", \"cherry\", \"apple\"]"
   ]
  },
  {
   "cell_type": "code",
   "execution_count": null,
   "metadata": {},
   "outputs": [],
   "source": [
    "for fruit in fruits:  # iterating\n",
    "    print(fruit)\n",
    "\n",
    "if \"banana\" in fruits:\n",
    "    print(\"yes\")"
   ]
  },
  {
   "cell_type": "code",
   "execution_count": null,
   "metadata": {},
   "outputs": [],
   "source": [
    "fruits_cpy = fruits  # not an actual copy - just points to same place in memory\n",
    "fruits_real_cpy = fruits.copy()  # actual copy in different memory\n",
    "fruits.append(\"lemon\")"
   ]
  },
  {
   "cell_type": "code",
   "execution_count": null,
   "metadata": {},
   "outputs": [],
   "source": [
    "my_list = [-1, 3, 4, 7, -1, 4, 7, 4]\n",
    "\n",
    "my_list.reverse()  # reverse list\n",
    "\n",
    "my_list.sort()  # to sort - keeps in place (replaces list)"
   ]
  },
  {
   "cell_type": "code",
   "execution_count": null,
   "metadata": {},
   "outputs": [],
   "source": [
    "new_list = [5]*5  # list with same number\n",
    "\n",
    "combo_list = my_list + new_list  # concatenate 2 lists"
   ]
  },
  {
   "cell_type": "markdown",
   "metadata": {},
   "source": [
    "### Indexing\n",
    "\n",
    "- Indexing refers to edges of characters and ***NOT*** characters themselves!\n",
    "- For a list (or string) of n values\n",
    "    - starts at [0] ends at [n+1]\n",
    "    - last element at [-1] and first element is [-1*n]\n",
    "    - slices: [start idx: stop idx +1: step] \n"
   ]
  },
  {
   "cell_type": "code",
   "execution_count": null,
   "metadata": {},
   "outputs": [],
   "source": [
    "n = len(combo_list)  # length of list\n",
    "\n",
    "a = combo_list[0]  # indexing first element\n",
    "b = combo_list[-1]  # indexing last element\n",
    "\n",
    "sliced_combo = combo_list[1:7:2] # slice from 1 to 7 with step of 2"
   ]
  },
  {
   "cell_type": "code",
   "execution_count": null,
   "metadata": {},
   "outputs": [],
   "source": [
    "list1 = [1,2,3,4]\n",
    "list2 = [1,2]\n",
    "\n",
    "set(list1) - set(list2)"
   ]
  }
 ],
 "metadata": {
  "interpreter": {
   "hash": "a0820167192a0f8e5b5d75b09b4662218b53e0ef2bbcf14191e112b7c64612ca"
  },
  "kernelspec": {
   "display_name": "Python 3.9.9 64-bit",
   "language": "python",
   "name": "python3"
  },
  "language_info": {
   "codemirror_mode": {
    "name": "ipython",
    "version": 3
   },
   "file_extension": ".py",
   "mimetype": "text/x-python",
   "name": "python",
   "nbconvert_exporter": "python",
   "pygments_lexer": "ipython3",
   "version": "3.9.9"
  },
  "orig_nbformat": 4
 },
 "nbformat": 4,
 "nbformat_minor": 2
}
