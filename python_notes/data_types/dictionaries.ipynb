{
 "cells": [
  {
   "cell_type": "markdown",
   "metadata": {},
   "source": [
    "## Dictionaries\n",
    "\n",
    "- mutable (can add or change after creation)\n",
    "- access value with key: dict['key']\n",
    "- add item with dict['key'] = val\n",
    "- remove item with ```del, pop() or popitem()```"
   ]
  },
  {
   "cell_type": "code",
   "execution_count": null,
   "metadata": {},
   "outputs": [],
   "source": [
    "my_dict = { \"key0\": \"val0\", \n",
    "            \"key1\": 1}\n",
    "\n",
    "access0 = my_dict[\"key0\"]  # access directly\n",
    "\n",
    "access1 = my_dict.get(\"key2\")  # access with .get() method  -> returns none if key is not in dictionary\n",
    "\n",
    "access2 = my_dict.setdefault(\"key2\", 4)  # access with .setdefault() -> if not in dictionary, method will set supplied default\n",
    "\n",
    "try:\n",
    "    print(my_dict['key3'])  # alternate way to attempt access\n",
    "except KeyError:\n",
    "    print('key not present')"
   ]
  },
  {
   "cell_type": "code",
   "execution_count": null,
   "metadata": {},
   "outputs": [],
   "source": [
    "dict0 = {\"key0\": \"val0\", \"key1\": \"val1\"}\n",
    "dict1 = {\"key1\": \"val1\", \"key2\": \"val2\"}\n",
    "\n",
    "merged_dict = {**dict0, **dict1} # merging dictionaries (duplicates ignored)"
   ]
  },
  {
   "cell_type": "code",
   "execution_count": null,
   "metadata": {},
   "outputs": [],
   "source": [
    "for key in merged_dict:  # loop through just keys\n",
    "    print(key)\n",
    "\n",
    "for value in merged_dict.values():  # loop just values\n",
    "    print(value)\n",
    "\n",
    "for k, v in merged_dict.items():  # loop though both\n",
    "    print(k, v)"
   ]
  },
  {
   "cell_type": "code",
   "execution_count": null,
   "metadata": {},
   "outputs": [],
   "source": [
    "del merged_dict['key2']  # remove key2\n",
    "merged_dict.pop('key1')  # another way to remove\n",
    "\n",
    "print(merged_dict)"
   ]
  },
  {
   "cell_type": "code",
   "execution_count": null,
   "metadata": {},
   "outputs": [],
   "source": [
    "squared = {i: i*i for i in range(5)} # dictionary comprehension"
   ]
  }
 ],
 "metadata": {
  "kernelspec": {
   "display_name": "Python 3",
   "language": "python",
   "name": "python3"
  },
  "language_info": {
   "codemirror_mode": {
    "name": "ipython",
    "version": 3
   },
   "file_extension": ".py",
   "mimetype": "text/x-python",
   "name": "python",
   "nbconvert_exporter": "python",
   "pygments_lexer": "ipython3",
   "version": "3.10.9 (main, Dec 15 2022, 17:11:09) [Clang 14.0.0 (clang-1400.0.29.202)]"
  },
  "orig_nbformat": 4,
  "vscode": {
   "interpreter": {
    "hash": "bda33b16be7e844498c7c2d368d72665b4f1d165582b9547ed22a0249a29ca2e"
   }
  }
 },
 "nbformat": 4,
 "nbformat_minor": 2
}
