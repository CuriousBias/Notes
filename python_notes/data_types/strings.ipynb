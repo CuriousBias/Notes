{
 "cells": [
  {
   "attachments": {},
   "cell_type": "markdown",
   "metadata": {},
   "source": [
    "## Strings\n",
    "\n",
    "- ordered, immutable, text representation\n",
    "- index the same as a list"
   ]
  },
  {
   "attachments": {},
   "cell_type": "markdown",
   "metadata": {},
   "source": [
    "### String manipulation"
   ]
  },
  {
   "cell_type": "code",
   "execution_count": 38,
   "metadata": {},
   "outputs": [],
   "source": [
    "string_list = ['Hello', 'world']\n",
    "string2 = ' '.join(string_list)  # concatenate strings in list seperated by first string"
   ]
  },
  {
   "cell_type": "code",
   "execution_count": 39,
   "metadata": {},
   "outputs": [
    {
     "data": {
      "text/plain": [
       "'hello world'"
      ]
     },
     "execution_count": 39,
     "metadata": {},
     "output_type": "execute_result"
    }
   ],
   "source": [
    "string2.upper()  # convert to all uppercase (Note that is does not change string2 since immutable)\n",
    "string2.lower()  # convert to all lowercase"
   ]
  },
  {
   "cell_type": "code",
   "execution_count": 40,
   "metadata": {},
   "outputs": [],
   "source": [
    "unique_vowels = {i for i in string2 if i in 'aeiou'}  # comprehentions with strings"
   ]
  },
  {
   "attachments": {},
   "cell_type": "markdown",
   "metadata": {},
   "source": [
    "### F-string format\n",
    "- format strings with f-strings (3.6+) \n",
    "\n",
    "#### Formating with '='\n",
    "- Use = to print variable name and value\n",
    "\n",
    "#### Converstions\n",
    "- {string!r}  # string \"bang\" r will print repr\n",
    "- {string!a}  # all non ascii characters replaced\n",
    "- {string!s}  # string conversion operator\n",
    "\n",
    "#### Formatting\n",
    "- \":\" proceeds formatting. \n",
    "- specific formatting varies depending on content being formatted"
   ]
  },
  {
   "cell_type": "code",
   "execution_count": 2,
   "metadata": {},
   "outputs": [
    {
     "name": "stdout",
     "output_type": "stream",
     "text": [
      "var0=0.3333333333333333\n"
     ]
    }
   ],
   "source": [
    "var0 = 1/3\n",
    "var1 = 2/3\n",
    "string1 = f'{var0=}'  # string contains both name of variable and value\n",
    "print(string1)"
   ]
  },
  {
   "cell_type": "code",
   "execution_count": 4,
   "metadata": {},
   "outputs": [
    {
     "name": "stdout",
     "output_type": "stream",
     "text": [
      "This statement includes both 0.33 and 0.667\n"
     ]
    }
   ],
   "source": [
    "string2 = f'This statement includes both {var0:.2f} and {var1:.3f}' # f-string formatting for 2 and 3 decimals.\n",
    "print(string2)"
   ]
  },
  {
   "cell_type": "code",
   "execution_count": 41,
   "metadata": {},
   "outputs": [
    {
     "data": {
      "text/plain": [
       "'Hello universe'"
      ]
     },
     "execution_count": 41,
     "metadata": {},
     "output_type": "execute_result"
    }
   ],
   "source": [
    "string2.startswith('Hello')  # check if string is at beginning of string2\n",
    "string2.endswith('d')  # check if string is at end of string2\n",
    "\n",
    "string2.find('e')  # print first element of 'e' in string\n",
    "string2.count('l')  # count number of 'l' elements\n",
    "string2.replace('world', 'universe')  # replace string in string (still a new string)"
   ]
  },
  {
   "attachments": {},
   "cell_type": "markdown",
   "metadata": {},
   "source": [
    "### Lazy % format\n",
    "- use for logging module"
   ]
  },
  {
   "cell_type": "code",
   "execution_count": 42,
   "metadata": {},
   "outputs": [],
   "source": [
    "string3 ='Time: %0.2f seconds' % var0 # old % method to format strings \n",
    "string4 = 'Time: {0:.2f} seconds or {1:.4f}'.format(var0, var1) # kind of old .format() method"
   ]
  },
  {
   "attachments": {},
   "cell_type": "markdown",
   "metadata": {},
   "source": [
    "#### .format\n",
    "- old depreciated method"
   ]
  }
 ],
 "metadata": {
  "kernelspec": {
   "display_name": "Python 3",
   "language": "python",
   "name": "python3"
  },
  "language_info": {
   "codemirror_mode": {
    "name": "ipython",
    "version": 3
   },
   "file_extension": ".py",
   "mimetype": "text/x-python",
   "name": "python",
   "nbconvert_exporter": "python",
   "pygments_lexer": "ipython3",
   "version": "3.10.9"
  },
  "orig_nbformat": 4,
  "vscode": {
   "interpreter": {
    "hash": "bda33b16be7e844498c7c2d368d72665b4f1d165582b9547ed22a0249a29ca2e"
   }
  }
 },
 "nbformat": 4,
 "nbformat_minor": 2
}
