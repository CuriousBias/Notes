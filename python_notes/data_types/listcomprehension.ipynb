{
 "cells": [
  {
   "cell_type": "markdown",
   "metadata": {},
   "source": [
    "## List Comprehension\n",
    "\n",
    "- Shorter and cleaner than normal for loop\n",
    "- [expression for member in iterable]\n",
    "- Can do nested list comprehension, but it gets messy"
   ]
  },
  {
   "cell_type": "code",
   "execution_count": null,
   "metadata": {},
   "outputs": [],
   "source": [
    "# normal for loop\n",
    "list1 = []\n",
    "for i in range(5):\n",
    "    list1.append(i*i)\n",
    "list1"
   ]
  },
  {
   "cell_type": "code",
   "execution_count": null,
   "metadata": {},
   "outputs": [],
   "source": [
    "# [expression for member in iterable]\n",
    "list3 = [i*i for i in range(5)]\n",
    "print(list3)\n",
    "\n",
    "# expression with function\n",
    "def square(arg):\n",
    "    return arg**2\n",
    "\n",
    "list4 = [square(i) for i in range(5)]\n",
    "list4\n"
   ]
  },
  {
   "cell_type": "code",
   "execution_count": null,
   "metadata": {},
   "outputs": [],
   "source": [
    "# [expression for member in iterable if conditional]\n",
    "evans = [i for i in range(20) if i%2==0]\n",
    "print(evans)\n",
    "\n",
    "# [expression if else conditional for member in iterable]\n",
    "evans = [i if i%2==0 else 0 for i in range(20)]\n",
    "evans"
   ]
  },
  {
   "cell_type": "markdown",
   "metadata": {},
   "source": [
    "### Generators\n",
    "\n",
    "- Defined by parenthesis: ()\n",
    "- Only generates value when needed, so much easier on memory\n",
    "- Good for for working with a large amount of data"
   ]
  },
  {
   "cell_type": "code",
   "execution_count": null,
   "metadata": {},
   "outputs": [],
   "source": [
    "import sys\n",
    "\n",
    "my_list = [i for i in range(10000)]\n",
    "print(sys.getsizeof(my_list))\n",
    "\n",
    "my_gen = (i for i in range(10000))\n",
    "print(sys.getsizeof(my_gen))\n"
   ]
  },
  {
   "cell_type": "code",
   "execution_count": 4,
   "metadata": {},
   "outputs": [
    {
     "name": "stdout",
     "output_type": "stream",
     "text": [
      "[4, 6, 8, 10]\n"
     ]
    }
   ],
   "source": [
    "list1 = [2, 3, 4, 5]\n",
    "list2 = [1, 2, 3, 4]\n",
    "list3 = [1, 1, 1, 1]\n",
    "\n",
    "from operator import add\n",
    "\n",
    "list4 = [sum(x) for x in zip(list1, list2, list3)]\n",
    "print(list4)"
   ]
  },
  {
   "cell_type": "code",
   "execution_count": 6,
   "metadata": {},
   "outputs": [],
   "source": [
    "from dataclasses import dataclass\n",
    "\n",
    "@dataclass\n",
    "class Data:\n",
    "    first: str = None\n",
    "    second: str = None\n",
    "\n",
    "\n",
    "instance = Data()\n"
   ]
  },
  {
   "cell_type": "code",
   "execution_count": null,
   "metadata": {},
   "outputs": [],
   "source": []
  }
 ],
 "metadata": {
  "interpreter": {
   "hash": "a0820167192a0f8e5b5d75b09b4662218b53e0ef2bbcf14191e112b7c64612ca"
  },
  "kernelspec": {
   "display_name": "Python 3.9.9 64-bit",
   "language": "python",
   "name": "python3"
  },
  "language_info": {
   "codemirror_mode": {
    "name": "ipython",
    "version": 3
   },
   "file_extension": ".py",
   "mimetype": "text/x-python",
   "name": "python",
   "nbconvert_exporter": "python",
   "pygments_lexer": "ipython3",
   "version": "3.10.11"
  },
  "orig_nbformat": 4
 },
 "nbformat": 4,
 "nbformat_minor": 2
}
