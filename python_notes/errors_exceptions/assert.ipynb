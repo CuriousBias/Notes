{
 "cells": [
  {
   "attachments": {},
   "cell_type": "markdown",
   "metadata": {},
   "source": [
    "## Assertions\n",
    "- makes sure logic in code is working as intended\n",
    "- good for debugging\n",
    "- if True, program continues\n",
    "- if False, raise message\n",
    "- Can be disabled by setting debug dunder to False\n",
    "    - run in terminal with -O callout ```python -O main.py```\n",
    "\n",
    "### common usages\n",
    "- check data types"
   ]
  },
  {
   "cell_type": "code",
   "execution_count": 5,
   "metadata": {},
   "outputs": [
    {
     "ename": "AssertionError",
     "evalue": "No data",
     "output_type": "error",
     "traceback": [
      "\u001b[0;31m---------------------------------------------------------------------------\u001b[0m",
      "\u001b[0;31mAssertionError\u001b[0m                            Traceback (most recent call last)",
      "Cell \u001b[0;32mIn[5], line 7\u001b[0m\n\u001b[1;32m      3\u001b[0m     \u001b[39massert\u001b[39;00m data, \u001b[39m'\u001b[39m\u001b[39mNo data\u001b[39m\u001b[39m'\u001b[39m\n\u001b[1;32m      5\u001b[0m     \u001b[39mprint\u001b[39m(\u001b[39m'\u001b[39m\u001b[39mData correct\u001b[39m\u001b[39m'\u001b[39m)\n\u001b[0;32m----> 7\u001b[0m method1(data\u001b[39m=\u001b[39;49m{})\n",
      "Cell \u001b[0;32mIn[5], line 3\u001b[0m, in \u001b[0;36mmethod1\u001b[0;34m(data)\u001b[0m\n\u001b[1;32m      1\u001b[0m \u001b[39mdef\u001b[39;00m \u001b[39mmethod1\u001b[39m(data: \u001b[39mdict\u001b[39m):\n\u001b[1;32m      2\u001b[0m     \u001b[39massert\u001b[39;00m \u001b[39misinstance\u001b[39m(data, \u001b[39mdict\u001b[39m), \u001b[39m'\u001b[39m\u001b[39mInvalid data\u001b[39m\u001b[39m'\u001b[39m  \u001b[39m# message raised \u001b[39;00m\n\u001b[0;32m----> 3\u001b[0m     \u001b[39massert\u001b[39;00m data, \u001b[39m'\u001b[39m\u001b[39mNo data\u001b[39m\u001b[39m'\u001b[39m\n\u001b[1;32m      5\u001b[0m     \u001b[39mprint\u001b[39m(\u001b[39m'\u001b[39m\u001b[39mData correct\u001b[39m\u001b[39m'\u001b[39m)\n",
      "\u001b[0;31mAssertionError\u001b[0m: No data"
     ]
    }
   ],
   "source": [
    "def method1(data: dict):\n",
    "    assert isinstance(data, dict), 'Invalid data'  # message raised if data is not dictionary\n",
    "    assert data, 'No data'  # checks for empty dictionary\n",
    "\n",
    "    print('Data correct')\n",
    "\n",
    "method1(data={})"
   ]
  },
  {
   "cell_type": "code",
   "execution_count": null,
   "metadata": {},
   "outputs": [],
   "source": []
  }
 ],
 "metadata": {
  "kernelspec": {
   "display_name": "Python 3",
   "language": "python",
   "name": "python3"
  },
  "language_info": {
   "codemirror_mode": {
    "name": "ipython",
    "version": 3
   },
   "file_extension": ".py",
   "mimetype": "text/x-python",
   "name": "python",
   "nbconvert_exporter": "python",
   "pygments_lexer": "ipython3",
   "version": "3.10.9"
  },
  "orig_nbformat": 4,
  "vscode": {
   "interpreter": {
    "hash": "bda33b16be7e844498c7c2d368d72665b4f1d165582b9547ed22a0249a29ca2e"
   }
  }
 },
 "nbformat": 4,
 "nbformat_minor": 2
}
