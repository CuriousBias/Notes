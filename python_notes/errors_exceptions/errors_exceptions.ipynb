{
 "cells": [
  {
   "cell_type": "markdown",
   "metadata": {},
   "source": [
    "## Errors\n",
    "\n",
    "### Syntax errors\n",
    "- syntax errors (error in typed code)\n",
    "\n",
    "### Exception errors\n",
    "- Type error (syntax correct, but unsupported computation)\n",
    "\n",
    "#### Raise exception\n",
    "- force an exception under certain conditions"
   ]
  },
  {
   "cell_type": "code",
   "execution_count": null,
   "metadata": {},
   "outputs": [],
   "source": [
    "x = -5\n",
    "if x < 0: \n",
    "    raise Exception('x should be positive')  # raise basic exception"
   ]
  },
  {
   "cell_type": "code",
   "execution_count": null,
   "metadata": {},
   "outputs": [],
   "source": [
    "x = -5\n",
    "assert (x >= 0), 'x is not positive'"
   ]
  },
  {
   "cell_type": "code",
   "execution_count": null,
   "metadata": {},
   "outputs": [],
   "source": [
    "try:\n",
    "    a = 5/1\n",
    "    b = a + 'hi'\n",
    "except ZeroDivisionError as e:\n",
    "    print(e)\n",
    "except TypeError as e:\n",
    "    print(e)\n",
    "else:\n",
    "    print(\"no exceptions found\")\n",
    "finally:\n",
    "    print('do something regardless at the end')"
   ]
  },
  {
   "cell_type": "code",
   "execution_count": null,
   "metadata": {},
   "outputs": [],
   "source": [
    "class ValueTooHigh(Exception):  # define your own exception by inhereting base Exception class\n",
    "    pass\n",
    "\n",
    "def test_value(input):\n",
    "    if input > 100:\n",
    "        raise ValueTooHigh('Value too high')\n",
    "\n",
    "try: \n",
    "    test_value(200)\n",
    "except ValueTooHigh as e:\n",
    "    print(e)"
   ]
  }
 ],
 "metadata": {
  "interpreter": {
   "hash": "a0820167192a0f8e5b5d75b09b4662218b53e0ef2bbcf14191e112b7c64612ca"
  },
  "kernelspec": {
   "display_name": "Python 3.9.9 64-bit",
   "language": "python",
   "name": "python3"
  },
  "language_info": {
   "codemirror_mode": {
    "name": "ipython",
    "version": 3
   },
   "file_extension": ".py",
   "mimetype": "text/x-python",
   "name": "python",
   "nbconvert_exporter": "python",
   "pygments_lexer": "ipython3",
   "version": "3.9.9"
  },
  "orig_nbformat": 4
 },
 "nbformat": 4,
 "nbformat_minor": 2
}
