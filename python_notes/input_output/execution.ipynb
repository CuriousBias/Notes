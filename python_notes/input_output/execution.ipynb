{
 "cells": [
  {
   "cell_type": "markdown",
   "metadata": {},
   "source": [
    "## Execution\n",
    "\n",
    "Ways to run python code\n",
    "\n",
    "1. Run in terminal. Closes after completion\n",
    "\n",
    "        % python script.py\n",
    "\n",
    "2. Run as interactive shell in terminal. Python interactive console stays open and have access to all functions. \n",
    "\n",
    "        @ python -i script.py"
   ]
  }
 ],
 "metadata": {
  "language_info": {
   "name": "python"
  },
  "orig_nbformat": 4
 },
 "nbformat": 4,
 "nbformat_minor": 2
}
