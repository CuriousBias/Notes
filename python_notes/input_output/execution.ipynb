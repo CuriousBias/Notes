{
 "cells": [
  {
   "attachments": {},
   "cell_type": "markdown",
   "metadata": {},
   "source": [
    "## Execution\n",
    "\n",
    "Ways to run python code\n",
    "\n",
    "1. Run in terminal. Closes after completion\n",
    "\n",
    "        % python script.py\n",
    "\n",
    "2. Run as interactive shell in terminal. Python interactive console stays open and have access to all functions. \n",
    "\n",
    "        @ python -i script.py\n",
    "\n",
    "3. Run without assertions\n",
    "\n",
    "        @ python -O script.py\n",
    "\n",
    "3. Run without assertions or print statements\n",
    "\n",
    "        @ pyton -OO scirpt.py\n"
   ]
  }
 ],
 "metadata": {
  "kernelspec": {
   "display_name": "Python 3",
   "language": "python",
   "name": "python3"
  },
  "language_info": {
   "name": "python",
   "version": "3.10.9 (main, Dec 15 2022, 17:11:09) [Clang 14.0.0 (clang-1400.0.29.202)]"
  },
  "orig_nbformat": 4,
  "vscode": {
   "interpreter": {
    "hash": "bda33b16be7e844498c7c2d368d72665b4f1d165582b9547ed22a0249a29ca2e"
   }
  }
 },
 "nbformat": 4,
 "nbformat_minor": 2
}
