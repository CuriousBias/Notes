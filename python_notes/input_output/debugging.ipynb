{
 "cells": [
  {
   "cell_type": "markdown",
   "metadata": {},
   "source": [
    "## Debugging\n",
    "\n",
    "- built in python debugger"
   ]
  },
  {
   "cell_type": "code",
   "execution_count": null,
   "metadata": {},
   "outputs": [],
   "source": [
    "import pdb\n",
    "\n",
    "pdb.set_trace()  # pauses execution of code"
   ]
  },
  {
   "cell_type": "markdown",
   "metadata": {},
   "source": [
    "print out state of variable/function\n",
    "\n",
    "        >>> p <function/variable> \n",
    "\n",
    "go to next line\n",
    "\n",
    "        >>> n\n"
   ]
  }
 ],
 "metadata": {
  "language_info": {
   "name": "python"
  },
  "orig_nbformat": 4
 },
 "nbformat": 4,
 "nbformat_minor": 2
}
