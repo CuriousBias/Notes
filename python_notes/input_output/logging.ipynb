{
 "cells": [
  {
   "cell_type": "markdown",
   "metadata": {},
   "source": [
    "## Logging\n",
    "- built in logger\n",
    "- 5 levels: bebug, info, warning, error, critical: default is warning -> warning and above will print\n",
    "- https://docs.python.org/3/howto/logging.html"
   ]
  },
  {
   "cell_type": "code",
   "execution_count": 1,
   "metadata": {},
   "outputs": [
    {
     "name": "stderr",
     "output_type": "stream",
     "text": [
      "2022-04-09 21:04:04,675 - root - WARNING - hello world\n"
     ]
    }
   ],
   "source": [
    "import logging\n",
    "\n",
    "logging.basicConfig(level=logging.INFO, format='%(asctime)s - %(name)s - %(levelname)s - %(message)s')  # see link for more information to include\n",
    "logging.warning('hello world')"
   ]
  },
  {
   "cell_type": "code",
   "execution_count": 5,
   "metadata": {},
   "outputs": [],
   "source": [
    "logger = logging.getLogger(__name__)  # create logger in specific module or file\n",
    "\n",
    "# logger.propogate  = False  # to prevent logging propagation: logging from different modules/files."
   ]
  },
  {
   "cell_type": "markdown",
   "metadata": {},
   "source": [
    "\"root\" is default for logging name\n",
    "\n",
    "Create loggging handlers to deal with logged info"
   ]
  },
  {
   "cell_type": "code",
   "execution_count": 6,
   "metadata": {},
   "outputs": [
    {
     "name": "stderr",
     "output_type": "stream",
     "text": [
      "2022-04-09 21:05:15,033 - __main__ - WARNING - this is a warning\n",
      "2022-04-09 21:05:15,033 - __main__ - WARNING - this is a warning\n",
      "2022-04-09 21:05:15,034 - __main__ - ERROR - this is an error\n",
      "2022-04-09 21:05:15,034 - __main__ - ERROR - this is an error\n"
     ]
    }
   ],
   "source": [
    "stream_h = logging.StreamHandler()  # stream handler\n",
    "stream_h.setLevel(logging.WARNING)  # will log warning and above\n",
    "\n",
    "file_h = logging.FileHandler('file.log') # file handler\n",
    "file_h.setLevel(logging.ERROR)  # will log error and above\n",
    "\n",
    "formatter = logging.Formatter('%(asctime)s - %(name)s - %(levelname)s - %(message)s')\n",
    "stream_h.setFormatter(formatter)\n",
    "file_h.setFormatter(formatter)\n",
    "\n",
    "logger.addHandler(stream_h)\n",
    "logger.addHandler(file_h)\n",
    "\n",
    "logger.warning('this is a warning')  # log at warning level\n",
    "logger.error('this is an error')  # log at eror level\n"
   ]
  },
  {
   "cell_type": "code",
   "execution_count": 2,
   "metadata": {},
   "outputs": [
    {
     "name": "stdout",
     "output_type": "stream",
     "text": [
      "test_status='done'\n"
     ]
    }
   ],
   "source": [
    "# Self documenting expressions\n",
    "test_status = 'done'\n",
    "\n",
    "print(f'{test_status=}')"
   ]
  },
  {
   "cell_type": "code",
   "execution_count": 3,
   "metadata": {},
   "outputs": [
    {
     "name": "stdout",
     "output_type": "stream",
     "text": [
      "07-09-2022-22-40\n"
     ]
    }
   ],
   "source": [
    "import datetime\n",
    "\n",
    "start_time = datetime.datetime.now()\n",
    "formatted = start_time.strftime(\"%d-%m-%Y-%H-%M\")\n",
    "print(formatted)"
   ]
  },
  {
   "cell_type": "code",
   "execution_count": null,
   "metadata": {},
   "outputs": [],
   "source": []
  }
 ],
 "metadata": {
  "interpreter": {
   "hash": "a0820167192a0f8e5b5d75b09b4662218b53e0ef2bbcf14191e112b7c64612ca"
  },
  "kernelspec": {
   "display_name": "Python 3.9.9 64-bit",
   "language": "python",
   "name": "python3"
  },
  "language_info": {
   "codemirror_mode": {
    "name": "ipython",
    "version": 3
   },
   "file_extension": ".py",
   "mimetype": "text/x-python",
   "name": "python",
   "nbconvert_exporter": "python",
   "pygments_lexer": "ipython3",
   "version": "3.10.9"
  },
  "orig_nbformat": 4
 },
 "nbformat": 4,
 "nbformat_minor": 2
}
