{
 "cells": [
  {
   "cell_type": "markdown",
   "metadata": {},
   "source": [
    "## Methods\n",
    "\n",
    "1. instance methods\n",
    "    - regular methods called on a specific instance\n",
    "    - first parameter is passed to method - \"self\"\n",
    "2. static methods\n",
    "    - ```@staticmethod```\n",
    "    - signifies that method does not depend on any class/instance, but is associated with it\n",
    "    - pretty much just a function\n",
    "    - used to put methods in a class for context only\n",
    "    - functionality does not depend on being in the class\n",
    "3. class methods\n",
    "    - ```@classmethod```\n",
    "    - inserts class that method was called from as first parameter\n",
    "    - inserts class instance of instance\n",
    "    - usually named \"from_\", \"make_\", \"create_\"\n",
    "    - used a lot for alternate constructors - make instance with different set of arguments"
   ]
  },
  {
   "cell_type": "code",
   "execution_count": null,
   "metadata": {},
   "outputs": [],
   "source": [
    "class Calendar:\n",
    "    def __init__(self):\n",
    "        self.events = []\n",
    "\n",
    "    def add_event(self, event):\n",
    "        self.events.append(event)\n",
    "\n",
    "    @staticmethod\n",
    "    def is_weekend(date):  # since is_weekend does not really depend on an event. \n",
    "        return date.weekday()"
   ]
  },
  {
   "cell_type": "code",
   "execution_count": null,
   "metadata": {},
   "outputs": [],
   "source": [
    "class Example:\n",
    "\n",
    "    @ classmethod\n",
    "    def create_class(cls, info):\n",
    "        c = cls()\n",
    "        return c"
   ]
  }
 ],
 "metadata": {
  "language_info": {
   "name": "python"
  },
  "orig_nbformat": 4
 },
 "nbformat": 4,
 "nbformat_minor": 2
}
