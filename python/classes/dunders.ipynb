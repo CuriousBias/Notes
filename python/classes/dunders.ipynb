{
 "cells": [
  {
   "attachments": {},
   "cell_type": "markdown",
   "metadata": {},
   "source": [
    "## Dunders\n",
    "\n",
    "Hidden methods? \n",
    "\n",
    "1. Do not define too many if not needed! If not needed, dont bother!\n",
    "\n"
   ]
  },
  {
   "attachments": {},
   "cell_type": "markdown",
   "metadata": {},
   "source": [
    "### Constructors\n",
    "- both called when initializing class\n",
    "\n",
    "#### __new__\n",
    "- responsible for creating instance\n",
    "- passed positional and keywod arguments\n",
    "- called first\n",
    "- checks if object is correct type\n",
    "- returns newly created object\n",
    "\n",
    "Purpose:\n",
    "- primarliy to subclass build in immutable types\n",
    "- modify arguments before they are created?\n",
    "- \n",
    "\n",
    "\n",
    "#### __init__\n",
    "- gets passed object as well as position + keyword arguments\n",
    "- intializes by setting values\n",
    "- no returns"
   ]
  },
  {
   "cell_type": "code",
   "execution_count": 1,
   "metadata": {},
   "outputs": [],
   "source": [
    "class A:\n",
    "    def __new__(cls, *args, **kwargs):  # takes in class\n",
    "        print('new', cls, args, kwargs)\n",
    "        return super().__new__(cls)  # returns instance of class. return is required!\n",
    "\n",
    "    def __init__(self, *args, **kwargs):\n",
    "        print('init', self, args, kwargs)\n",
    "\n",
    "def constructor_work():\n",
    "    x = A(1, 2, 3, x=4)\n",
    "    if isinstance(x, A):\n",
    "        type(x).__init__(x, 1, 2, 3, x =4)\n",
    "    print(x)\n",
    "\n"
   ]
  },
  {
   "attachments": {},
   "cell_type": "markdown",
   "metadata": {},
   "source": [
    "#### Singleton Example\n",
    "- Use with singleton\n",
    "- singleton is design to have single object that many may reference. \n",
    "- some problems similar to using global variables\n",
    "\n",
    "#### Client Example\n",
    "- something very expensive to initialize\n",
    "- maybe a large file or database\n"
   ]
  },
  {
   "cell_type": "code",
   "execution_count": 4,
   "metadata": {},
   "outputs": [
    {
     "name": "stdout",
     "output_type": "stream",
     "text": [
      "True\n"
     ]
    }
   ],
   "source": [
    "class Singleton:\n",
    "    _instance = None\n",
    "\n",
    "    def __new__(cls, * args, **kwargs):\n",
    "        if cls._instance is None:\n",
    "            cls._instance = super().__new__(cls, *args, **kwargs)  # creates new instance\n",
    "        return cls._instance  # returns either new or exisitng instance\n",
    "\n",
    "def singleton_example():  # both x and y will return same instance\n",
    "    x = Singleton()\n",
    "    y = Singleton()\n",
    "    print(f'{x is y}')\n",
    "\n",
    "singleton_example()"
   ]
  },
  {
   "cell_type": "code",
   "execution_count": null,
   "metadata": {},
   "outputs": [],
   "source": []
  }
 ],
 "metadata": {
  "kernelspec": {
   "display_name": "Python 3",
   "language": "python",
   "name": "python3"
  },
  "language_info": {
   "codemirror_mode": {
    "name": "ipython",
    "version": 3
   },
   "file_extension": ".py",
   "mimetype": "text/x-python",
   "name": "python",
   "nbconvert_exporter": "python",
   "pygments_lexer": "ipython3",
   "version": "3.10.9"
  },
  "orig_nbformat": 4,
  "vscode": {
   "interpreter": {
    "hash": "bda33b16be7e844498c7c2d368d72665b4f1d165582b9547ed22a0249a29ca2e"
   }
  }
 },
 "nbformat": 4,
 "nbformat_minor": 2
}
