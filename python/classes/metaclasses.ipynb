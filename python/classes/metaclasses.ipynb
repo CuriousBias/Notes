{
 "cells": [
  {
   "attachments": {},
   "cell_type": "markdown",
   "metadata": {},
   "source": [
    "## Metaclasses\n",
    "- enables modification of regular class behavior\n",
    "- \n",
    "\n",
    "- every object in python has a type. \n",
    "- classes are also objects classes are \"type\" objects\n",
    "- type and class are synonyms\n",
    "    - using \"class\" is a keyword to setup syntax for defining a type\n",
    "- metaclasses class inherit from type class\n",
    "- job of metaclass is used to create classes\n",
    "- can be used to modifty "
   ]
  },
  {
   "cell_type": "code",
   "execution_count": null,
   "metadata": {},
   "outputs": [],
   "source": [
    "class A:\n",
    "    x = 1\n",
    "    y = 'hello'\n",
    "\n",
    "    def f(self):\n",
    "        return 42"
   ]
  },
  {
   "cell_type": "code",
   "execution_count": null,
   "metadata": {},
   "outputs": [],
   "source": [
    "# class can also be created as such. Obviously verbose\n",
    "def make_a():\n",
    "    name = 'A'\n",
    "    bases = ()\n",
    "\n",
    "    x = 1\n",
    "    y = 'hello'\n",
    "\n",
    "    def f(self):\n",
    "        return 42\n",
    "\n",
    "    namespace = {'x': x, 'y': y, 'f': f}\n",
    "    A = type(name, bases, namespace)\n",
    "    return A\n",
    "\n",
    "A = make_a()"
   ]
  }
 ],
 "metadata": {
  "kernelspec": {
   "display_name": "Python 3",
   "language": "python",
   "name": "python3"
  },
  "language_info": {
   "name": "python",
   "version": "3.10.9 (main, Dec 15 2022, 17:11:09) [Clang 14.0.0 (clang-1400.0.29.202)]"
  },
  "orig_nbformat": 4,
  "vscode": {
   "interpreter": {
    "hash": "bda33b16be7e844498c7c2d368d72665b4f1d165582b9547ed22a0249a29ca2e"
   }
  }
 },
 "nbformat": 4,
 "nbformat_minor": 2
}
