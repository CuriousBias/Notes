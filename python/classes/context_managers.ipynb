{
 "cells": [
  {
   "cell_type": "markdown",
   "metadata": {},
   "source": [
    "## Context managers\n",
    "- tool for resource management\n",
    "- acquire and release resources when needed\n",
    "- ```with``` is common example\n",
    "- open and close files, threading locks\n",
    "\n",
    "### Custom context managers\n",
    "- create with class or function\n",
    "    1. Class: with ```__enter__()``` and ```__exit__()``` methods\n",
    "    2. Function: with contextlib and generators\n"
   ]
  },
  {
   "cell_type": "code",
   "execution_count": null,
   "metadata": {},
   "outputs": [],
   "source": [
    "with open('notes.txt', 'w') as file:  # 'w': as write\n",
    "    file.write('some todo')\n",
    "\n",
    "file = open('notes.txt', 'w')  # same as above not, not as clean\n",
    "try:\n",
    "    file.write('some todo')\n",
    "finally:\n",
    "    file.close()"
   ]
  },
  {
   "cell_type": "code",
   "execution_count": 4,
   "metadata": {},
   "outputs": [
    {
     "name": "stdout",
     "output_type": "stream",
     "text": [
      "init\n",
      "enter\n",
      "do some stuff\n",
      "exc has been handled\n",
      "exit\n",
      "continuing\n"
     ]
    }
   ],
   "source": [
    "class ManagedFile:\n",
    "    def __init__(self, filename):\n",
    "        print('init')\n",
    "        self.filename = filename\n",
    "\n",
    "    def __enter__(self):  # runs on enter\n",
    "        print('enter')\n",
    "        self.file = open(self.filename, 'w')\n",
    "        return self.file\n",
    "\n",
    "    def __exit__(self, exc_type, exc_value, exc_traceback):  # runs on exit\n",
    "        if self.file:\n",
    "            self.file.close()\n",
    "        if exc_type is not None:\n",
    "            print('exc has been handled')\n",
    "        # print('exc:', exc_type, exc_value)\n",
    "        print('exit')\n",
    "        return True\n",
    "\n",
    "with ManagedFile('notes.txt') as file:\n",
    "    print('do some stuff')\n",
    "    file.write('some todo')\n",
    "    file.somemethod()\n",
    "\n",
    "print('continuing')"
   ]
  },
  {
   "cell_type": "code",
   "execution_count": 5,
   "metadata": {},
   "outputs": [],
   "source": [
    "from contextlib import contextmanager\n",
    "\n",
    "@contextmanager\n",
    "def open_managed_file(filename):\n",
    "    f = open(filename, 'w')  # allocates resource\n",
    "    try:\n",
    "        yield f  # yield temporarily suspends execution so it can be used. \n",
    "    finally:\n",
    "        f.close()\n",
    "\n",
    "with open_managed_file('notes.txt') as f:\n",
    "    f.write('some todo')"
   ]
  },
  {
   "cell_type": "code",
   "execution_count": null,
   "metadata": {},
   "outputs": [],
   "source": []
  }
 ],
 "metadata": {
  "interpreter": {
   "hash": "a0820167192a0f8e5b5d75b09b4662218b53e0ef2bbcf14191e112b7c64612ca"
  },
  "kernelspec": {
   "display_name": "Python 3.9.12 64-bit",
   "language": "python",
   "name": "python3"
  },
  "language_info": {
   "codemirror_mode": {
    "name": "ipython",
    "version": 3
   },
   "file_extension": ".py",
   "mimetype": "text/x-python",
   "name": "python",
   "nbconvert_exporter": "python",
   "pygments_lexer": "ipython3",
   "version": "3.9.12"
  },
  "orig_nbformat": 4
 },
 "nbformat": 4,
 "nbformat_minor": 2
}
