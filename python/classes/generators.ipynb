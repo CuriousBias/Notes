{
 "cells": [
  {
   "attachments": {},
   "cell_type": "markdown",
   "metadata": {},
   "source": [
    "## Generators\n",
    "\n",
    "- used to create iterators\n",
    "- written as regular function, but use \"yield\" instead of \"return\" to return data\n",
    "- every time function yeilds, it pauses too\n",
    "- iter() and next() methods are created automatically\n",
    "- local variables and execution state are saved\n",
    "- much more memory efficient\n",
    "\n",
    "### Generator expression\n",
    "- similar to list comprehension, but much much more memory efficient\n",
    "- use parenthesis instead of brackets. "
   ]
  },
  {
   "cell_type": "code",
   "execution_count": 13,
   "metadata": {},
   "outputs": [
    {
     "name": "stdout",
     "output_type": "stream",
     "text": [
      "1\n",
      "2\n",
      "3\n"
     ]
    },
    {
     "ename": "StopIteration",
     "evalue": "",
     "output_type": "error",
     "traceback": [
      "\u001b[0;31m---------------------------------------------------------------------------\u001b[0m",
      "\u001b[0;31mStopIteration\u001b[0m                             Traceback (most recent call last)",
      "Cell \u001b[0;32mIn[13], line 9\u001b[0m\n\u001b[1;32m      6\u001b[0m g \u001b[39m=\u001b[39m my_generator()  \u001b[39m# calling generator does not run it, it creates it\u001b[39;00m\n\u001b[1;32m      8\u001b[0m \u001b[39mfor\u001b[39;00m i \u001b[39min\u001b[39;00m \u001b[39mrange\u001b[39m(\u001b[39m4\u001b[39m):  \u001b[39m# runs 3 times until StopIteration Error is raised. \u001b[39;00m\n\u001b[0;32m----> 9\u001b[0m     value \u001b[39m=\u001b[39m \u001b[39mnext\u001b[39;49m(g)  \u001b[39m# generator is actually run by calling \"next\" method. Next runs function until it hits yeild statement. \u001b[39;00m\n\u001b[1;32m     10\u001b[0m     \u001b[39mprint\u001b[39m(value)\n",
      "\u001b[0;31mStopIteration\u001b[0m: "
     ]
    }
   ],
   "source": [
    "def my_generator():\n",
    "    yield 1\n",
    "    yield 2\n",
    "    yield 3\n",
    "\n",
    "g = my_generator()  # calling generator does not run it, it creates it\n",
    "\n",
    "for i in range(4):  # runs 3 times until StopIteration Error is raised. \n",
    "    value = next(g)  # generator is actually run by calling \"next\" method. Next runs function until it hits yeild statement. \n",
    "    print(value)\n",
    "\n",
    "    # Notice StopIteration exception thrown after yeild not found. \n"
   ]
  },
  {
   "cell_type": "code",
   "execution_count": 14,
   "metadata": {},
   "outputs": [
    {
     "name": "stdout",
     "output_type": "stream",
     "text": [
      "1\n",
      "2\n",
      "3\n"
     ]
    }
   ],
   "source": [
    "for j in my_generator():\n",
    "    print(j)"
   ]
  },
  {
   "cell_type": "code",
   "execution_count": 7,
   "metadata": {},
   "outputs": [
    {
     "name": "stdout",
     "output_type": "stream",
     "text": [
      "starting\n",
      "5\n",
      "4\n",
      "3\n",
      "2\n",
      "1\n"
     ]
    }
   ],
   "source": [
    "def countdown(num):\n",
    "    print('starting')\n",
    "    while num > 0:\n",
    "        yield num\n",
    "        num -= 1\n",
    "\n",
    "cd = countdown(5)  # create generator object\n",
    "\n",
    "for i in range(5):\n",
    "    print(next(cd))"
   ]
  },
  {
   "cell_type": "code",
   "execution_count": 4,
   "metadata": {},
   "outputs": [
    {
     "name": "stdout",
     "output_type": "stream",
     "text": [
      "45\n",
      "45\n",
      "920\n",
      "104\n"
     ]
    }
   ],
   "source": [
    "import sys\n",
    "\n",
    "def list_n(n):  # list\n",
    "    nums = []\n",
    "    num = 0\n",
    "    while num < n:\n",
    "        nums.append(num)\n",
    "        num += 1\n",
    "    return nums\n",
    "\n",
    "print(sum(list_n(10)))\n",
    "\n",
    "def gen_n(n):  # generator\n",
    "    num = 0\n",
    "    while num < n:\n",
    "        yield num\n",
    "        num += 1\n",
    "\n",
    "print(sum(gen_n(10)))\n",
    "\n",
    "print(sys.getsizeof(list_n(100)))\n",
    "print(sys.getsizeof(gen_n(100)))  # much more memory efficient"
   ]
  },
  {
   "cell_type": "code",
   "execution_count": 15,
   "metadata": {},
   "outputs": [
    {
     "data": {
      "text/plain": [
       "285"
      ]
     },
     "execution_count": 15,
     "metadata": {},
     "output_type": "execute_result"
    }
   ],
   "source": [
    "sum(i*i for i in range(10))  # generator comprehension"
   ]
  },
  {
   "attachments": {},
   "cell_type": "markdown",
   "metadata": {},
   "source": [
    "### Generator uses\n",
    "\n",
    "#### large range\n",
    "- iterating over very large ranges\n",
    "- numbers not created until used (unlike list)\n",
    "\n",
    "#### reading from file\n",
    "- dont want to read whole file if its large\n",
    "- read line by line\n",
    "\n",
    "#### lazy sequences\n",
    "- loop over sequence to read values\n",
    "- dont compute value until its needed\n",
    "- also if dont actually need all values of sequence or only some aspect of the list (like the length)\n",
    "- use to represent infinite sequences\n",
    "    - fibonachi, rational_numbers, prime numbers, etc\n",
    "\n",
    "#### compose\n",
    "- easy to build pipelines of data\n",
    "- good to parse data file\n",
    "- read whole file only 1 line at a time\n",
    "\n",
    "#### pipelines\n",
    "- more advanced usage\n",
    "- can also be bidirectional pipelines\n",
    "- caller can send value back down"
   ]
  },
  {
   "cell_type": "code",
   "execution_count": 19,
   "metadata": {},
   "outputs": [],
   "source": [
    "def range_example():\n",
    "    for n in range(10E15):\n",
    "        print(n)\n",
    "        if n == 4:\n",
    "            break"
   ]
  },
  {
   "cell_type": "code",
   "execution_count": 18,
   "metadata": {},
   "outputs": [
    {
     "name": "stdout",
     "output_type": "stream",
     "text": [
      "[82, 41, 124, 62, 31, 94, 47, 142, 71, 214, 107, 322, 161, 484, 242, 121, 364, 182, 91, 274, 137, 412, 206, 103, 310, 155, 466, 233, 700, 350, 175, 526, 263, 790, 395, 1186, 593, 1780, 890, 445, 1336, 668, 334, 167, 502, 251, 754, 377, 1132, 566, 283, 850, 425, 1276, 638, 319, 958, 479, 1438, 719, 2158, 1079, 3238, 1619, 4858, 2429, 7288, 3644, 1822, 911, 2734, 1367, 4102, 2051, 6154, 3077, 9232, 4616, 2308, 1154, 577, 1732, 866, 433, 1300, 650, 325, 976, 488, 244, 122, 61, 184, 92, 46, 23, 70, 35, 106, 53, 160, 80, 40, 20, 10, 5, 16, 8, 4, 2, 1]\n"
     ]
    }
   ],
   "source": [
    "def collatz(n):\n",
    "    while True:\n",
    "        if n % 2 == 0:\n",
    "            n = n // 2\n",
    "        else: \n",
    "            n = 3 * n + 1\n",
    "        yield n\n",
    "        if n == 1:\n",
    "            break\n",
    "\n",
    "def example_collatz():\n",
    "    n = 27\n",
    "    seq = list(collatz(n))\n",
    "    print(seq)\n",
    "\n",
    "example_collatz()"
   ]
  },
  {
   "cell_type": "code",
   "execution_count": null,
   "metadata": {},
   "outputs": [],
   "source": []
  }
 ],
 "metadata": {
  "kernelspec": {
   "display_name": "Python 3",
   "language": "python",
   "name": "python3"
  },
  "language_info": {
   "codemirror_mode": {
    "name": "ipython",
    "version": 3
   },
   "file_extension": ".py",
   "mimetype": "text/x-python",
   "name": "python",
   "nbconvert_exporter": "python",
   "pygments_lexer": "ipython3",
   "version": "3.10.9"
  },
  "orig_nbformat": 4,
  "vscode": {
   "interpreter": {
    "hash": "bda33b16be7e844498c7c2d368d72665b4f1d165582b9547ed22a0249a29ca2e"
   }
  }
 },
 "nbformat": 4,
 "nbformat_minor": 2
}
