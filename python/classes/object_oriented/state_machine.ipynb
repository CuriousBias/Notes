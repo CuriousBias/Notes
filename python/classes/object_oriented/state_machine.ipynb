{
 "cells": [
  {
   "cell_type": "markdown",
   "metadata": {},
   "source": [
    "# State Machine"
   ]
  },
  {
   "cell_type": "code",
   "execution_count": null,
   "metadata": {},
   "outputs": [],
   "source": [
    "import logging\n",
    "from abc import abstractmethod"
   ]
  },
  {
   "cell_type": "code",
   "execution_count": null,
   "metadata": {},
   "outputs": [],
   "source": [
    "class State:\n",
    "    \"\"\"State class.\"\"\"\n",
    "\n",
    "    def __init__(self, is_initial: bool = False):\n",
    "        self.name = self.__class__.__name__\n",
    "        self.is_initial: is_initial\n",
    "        self.logger = logging.getLogger(self.name)\n",
    "\n",
    "    @abstractmethod\n",
    "    def run(self):\n",
    "        \"\"\"Hi\"\"\"\n",
    "\n",
    "    @abstractmethod\n",
    "    def target_met(self):\n",
    "        \"\"\"Hi\"\"\"\n",
    "\n",
    "    @abstractmethod\n",
    "    def next_(self):\n",
    "        \"\"\"Hi\"\"\"\n"
   ]
  }
 ],
 "metadata": {
  "kernelspec": {
   "display_name": "Python 3.9.12 64-bit",
   "language": "python",
   "name": "python3"
  },
  "language_info": {
   "name": "python",
   "version": "3.9.12"
  },
  "orig_nbformat": 4,
  "vscode": {
   "interpreter": {
    "hash": "a0820167192a0f8e5b5d75b09b4662218b53e0ef2bbcf14191e112b7c64612ca"
   }
  }
 },
 "nbformat": 4,
 "nbformat_minor": 2
}
