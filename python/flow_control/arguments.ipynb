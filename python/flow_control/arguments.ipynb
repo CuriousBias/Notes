{
 "cells": [
  {
   "cell_type": "markdown",
   "metadata": {},
   "source": [
    "## Arguments\n",
    "\n",
    "### Arguments vs parameters\n",
    "arguments: variables passed when calling a function\n",
    "parameters: variables defined in parenthesis when defining a function\n",
    "\n",
    "### Positional vs keyword\n",
    "- positional\n",
    "    - for when names of arguments should not be available to user\n",
    "    - if parameter has no real meaning\n",
    "    - want to enforce an order of arguments\n",
    "- keyword\n",
    "    - when parameter names have meaning\n",
    "    - more flexibility for order of arguments\n",
    "    - must be after positional\n",
    "\n",
    "Requiring arguments to be position, positional or keyword or only keyword:\n",
    "```python\n",
    "def function(pos1, pos2, /, pos_kwd1, pos_kwd2, *, kwd1, kwd2):\n",
    "    pass\n",
    "```\n",
    "\n",
    "### Default arguments\n",
    " - must be defined last\n",
    "\n",
    "### Variable length arguments\n",
    "- uses unpacking operators * and **\n",
    "    - '*' for tuples\n",
    "    - '**' for dictionaries\n",
    "\n",
    "### Local vs global arguments\n",
    "- local variable: inside function\n",
    "- global variable: available everywhere? \n",
    "\n",
    "### Parameter passing\n",
    "- parameter passed in function is actually reference to object\n",
    "- reference passed by value\n",
    "- mutable objects (list) can be changed in function\n",
    "- immutable objects (int, string) cannot be changed, but can be re-assigned. "
   ]
  },
  {
   "cell_type": "code",
   "execution_count": null,
   "metadata": {},
   "outputs": [],
   "source": [
    "def def_func(a, b=None):\n",
    "    pass"
   ]
  },
  {
   "cell_type": "code",
   "execution_count": 1,
   "metadata": {},
   "outputs": [
    {
     "name": "stdout",
     "output_type": "stream",
     "text": [
      "first 1st\n",
      "second 2nd\n",
      "third 3rd\n"
     ]
    }
   ],
   "source": [
    "def var_args(*args):\n",
    "    return sum(args)\n",
    "\n",
    "var_args(1, 2, 3, 4)\n",
    "\n",
    "def var_kwargs(**kwargs):\n",
    "    {print(key, val) for key, val in kwargs.items()}\n",
    "\n",
    "var_kwargs(first='1st', second='2nd', third='3rd')"
   ]
  },
  {
   "cell_type": "code",
   "execution_count": 2,
   "metadata": {},
   "outputs": [
    {
     "name": "stdout",
     "output_type": "stream",
     "text": [
      "5\n",
      "1\n",
      "2\n",
      "3\n"
     ]
    }
   ],
   "source": [
    "def foo(*args, last): # variable length argument and keywords\n",
    "    print(last)\n",
    "    for arg in args:\n",
    "        print(arg)\n",
    "\n",
    "foo(1, 2, 3, last = 5)"
   ]
  },
  {
   "attachments": {},
   "cell_type": "markdown",
   "metadata": {},
   "source": []
  },
  {
   "cell_type": "code",
   "execution_count": null,
   "metadata": {},
   "outputs": [],
   "source": []
  }
 ],
 "metadata": {
  "kernelspec": {
   "display_name": "Python 3",
   "language": "python",
   "name": "python3"
  },
  "language_info": {
   "codemirror_mode": {
    "name": "ipython",
    "version": 3
   },
   "file_extension": ".py",
   "mimetype": "text/x-python",
   "name": "python",
   "nbconvert_exporter": "python",
   "pygments_lexer": "ipython3",
   "version": "3.10.9"
  },
  "orig_nbformat": 4,
  "vscode": {
   "interpreter": {
    "hash": "bda33b16be7e844498c7c2d368d72665b4f1d165582b9547ed22a0249a29ca2e"
   }
  }
 },
 "nbformat": 4,
 "nbformat_minor": 2
}
