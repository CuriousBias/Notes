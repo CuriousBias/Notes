{
 "cells": [
  {
   "attachments": {},
   "cell_type": "markdown",
   "metadata": {},
   "source": [
    "# numpy\n",
    "\n",
    "Scientific computation module.\n",
    "\n",
    "Tips:\n",
    "1. When manipulating data, convert to np array once and stay in numpy. Dont convert back to other python data format with python built-ins.\n",
    "    - Use np.max instead of max()."
   ]
  },
  {
   "cell_type": "code",
   "execution_count": 1,
   "metadata": {},
   "outputs": [],
   "source": [
    "import numpy as np"
   ]
  },
  {
   "cell_type": "code",
   "execution_count": 2,
   "metadata": {},
   "outputs": [],
   "source": [
    "# Numpy package: actually stored in C\n",
    "Array1 = np.ndarray([1, 2, 3]) # ndarray\n",
    "Array2 = np.array([1, 3, 5]) # array with ints\n",
    "Array3 = np.empty([2,1]) # But need to define all indicies first!\n",
    "Array3[:,0] = 3\n",
    "Array4 = np.zeros([1,4])\n",
    "Array5 = np.ones([4,2])\n",
    "Array6 = np.eye(3)\n",
    "Array7 = np.arange(1,10,2) # (start, end, increment)\n",
    "# Attributes\n",
    "att1 = np.shape(Array5) # dimensions # output is (4,2)\n",
    "att2 = np.size(Array5) # total number of elements # output is 8 "
   ]
  },
  {
   "cell_type": "code",
   "execution_count": 3,
   "metadata": {},
   "outputs": [
    {
     "name": "stdout",
     "output_type": "stream",
     "text": [
      "[5 7 9]\n",
      "[3 6 9]\n",
      "32\n"
     ]
    }
   ],
   "source": [
    "# basic math in numpy\n",
    "x = np.array([1, 2, 3])\n",
    "y = np.array([4, 5, 6])\n",
    "\n",
    "# addition\n",
    "z0 = x+y\n",
    "print(z0)\n",
    "\n",
    "# scalar multiplication\n",
    "z1 = 3*x\n",
    "print(z1)\n",
    "\n",
    "# dot product\n",
    "z2 = np.dot(x, y)\n",
    "print(z2)\n"
   ]
  },
  {
   "cell_type": "code",
   "execution_count": null,
   "metadata": {},
   "outputs": [],
   "source": [
    "# range in numpy creates a numpy array with the desired range\n",
    "x = np.arange(11)\n",
    "print(x)\n",
    "\n",
    "y = np.arange(0, 11, 1, dtype='float64')  # (start, stop, step)\n",
    "print(y)"
   ]
  },
  {
   "cell_type": "code",
   "execution_count": null,
   "metadata": {},
   "outputs": [],
   "source": [
    "# create a better range np.linspace(start, stop, n values)\n",
    "x = np.linspace(0, 1, 6)\n",
    "print(x)"
   ]
  },
  {
   "cell_type": "code",
   "execution_count": 4,
   "metadata": {},
   "outputs": [
    {
     "name": "stdout",
     "output_type": "stream",
     "text": [
      "[[1 2 3]\n",
      " [4 5 6]\n",
      " [7 8 9]]\n",
      "6\n",
      "[[1 4 7]\n",
      " [2 5 8]\n",
      " [3 6 9]]\n",
      "[[1 4 7]\n",
      " [2 5 8]\n",
      " [3 6 9]]\n",
      "(3, 3)\n"
     ]
    }
   ],
   "source": [
    "# create a matrix\n",
    "A = np.array([[1, 2, 3], [4, 5, 6], [7, 8, 9]])\n",
    "print(A)\n",
    "\n",
    "# indexing values matrix[column, row]\n",
    "value_0 = A[1,2] # this should index value 6\n",
    "print(value_0)\n",
    "\n",
    "# create transpose of matrix\n",
    "# these both create the same\n",
    "B = np.transpose(A)\n",
    "C = A.T\n",
    "print(B)\n",
    "print(C)\n",
    "\n",
    "# find dimentions of matrix\n",
    "dimensions = A.shape\n",
    "print(dimensions)"
   ]
  },
  {
   "cell_type": "markdown",
   "metadata": {},
   "source": [
    "### Array slicing: \n",
    "To access subarrays for working on rows or columns (or any subarray)\n",
    "* slice notation uses \":\"\n",
    "* for array x\n",
    "* for array $x$\n",
    "* $x[start:stop:step]$\n",
    "* use $-step$ to swap start and stop\n",
    "* For multi dimention arrays\n",
    "    * $x[dimension1, dimension2, dimension3, ...]$\n",
    "    * $x[start:stop:step, start:stop:step, ...]]$]\n",
    "    * For 2D $x[row, column]$\n",
    "\n",
    "**Note:** This only returns a view of the elements. \n",
    "* If you modify a sub assembly, the original assembly is ALSO modified!\n",
    "* To get a copy and modify without impacting original\n",
    "    * use $.copy()$"
   ]
  },
  {
   "cell_type": "code",
   "execution_count": 5,
   "metadata": {},
   "outputs": [
    {
     "name": "stdout",
     "output_type": "stream",
     "text": [
      "[0 1 2 3 4]\n",
      "[0 1 2 3 4]\n",
      "[5 6 7 8 9]\n",
      "[4 5 6]\n",
      "[0 2 4 6 8]\n",
      "[9 8 7 6 5 4 3 2 1 0]\n"
     ]
    }
   ],
   "source": [
    "x = np.arange(10)\n",
    "\n",
    "print(x[:5])  # first 5 elements. This notation only uses the stop element\n",
    "print(x[0:5:1])  # same as above\n",
    "print(x[5:])  # print elements after 5\n",
    "print(x[4:7:1])  # print index 4 through 7\n",
    "print(x[::2]) # print every other\n",
    "\n",
    "print(x[::-1])  # reverse array"
   ]
  },
  {
   "cell_type": "code",
   "execution_count": 44,
   "metadata": {},
   "outputs": [
    {
     "name": "stdout",
     "output_type": "stream",
     "text": [
      "[[2 8 6 0]\n",
      " [8 0 1 8]\n",
      " [7 3 2 0]]\n",
      "[2 8 7]\n",
      "[2 8 6 0]\n"
     ]
    }
   ],
   "source": [
    "# accessing rows or columns\n",
    "x2 = np.random.randint(10, size=(3, 4))  # Two-dimensional array\n",
    "\n",
    "print(x2)\n",
    "print(x2[:, 0])  # print every row of column 0\n",
    "print(x2[0, :])  # print row 0, every column\n"
   ]
  },
  {
   "cell_type": "code",
   "execution_count": 41,
   "metadata": {},
   "outputs": [
    {
     "name": "stdout",
     "output_type": "stream",
     "text": [
      "[[4 9 5 0]\n",
      " [4 5 8 9]\n",
      " [6 0 6 6]]\n",
      "[[4 9 5]\n",
      " [4 5 8]]\n",
      "[[8 9]\n",
      " [6 6]]\n"
     ]
    }
   ],
   "source": [
    "# accessing slices or parts of array\n",
    "\n",
    "print(x2)\n",
    "print(x2[:2, :3])  # print up until 2 rows and up until 3 columns\n",
    "print(x2[1:3:1, 2:4:1])  # print out array from rows[1:3] and columns[2:4]"
   ]
  },
  {
   "cell_type": "code",
   "execution_count": null,
   "metadata": {},
   "outputs": [],
   "source": [
    "# use .copy() to create a seperate array\n",
    "\n",
    "print(x2)\n",
    "x2_new = x2[:, 0].copy()\n",
    "print(x2_new)"
   ]
  },
  {
   "cell_type": "markdown",
   "metadata": {},
   "source": [
    "### Reshaping, concatenation, and splitting\n",
    "**Resphaping**\n",
    "* row vectors via np.reshape()\n",
    "* column vector via np.reshape((3, 1))\n",
    "* column vector via np.newaxis()\n",
    "\n",
    "**Concatenation:** (joining matrices)\n",
    "* np.concatenate()\n",
    "* np.vstack()  # vertical stack (easier for mixed dimensions)\n",
    "* np.hstack()  # horizontal stack\n",
    "8 np.dstack()  # along the third axis\n",
    "\n"
   ]
  },
  {
   "cell_type": "code",
   "execution_count": 54,
   "metadata": {},
   "outputs": [
    {
     "name": "stdout",
     "output_type": "stream",
     "text": [
      "[[1 2 3]]\n",
      "[[1]\n",
      " [2]\n",
      " [3]]\n",
      "[[1]\n",
      " [2]\n",
      " [3]]\n"
     ]
    }
   ],
   "source": [
    "# reshaping\n",
    "\n",
    "x = np.array([1, 2, 3])\n",
    "print(x.reshape((1, 3)))  # row vector\n",
    "print(x.reshape((3, 1)))  # column vector\n",
    "print(x[:, np.newaxis])  # column vector"
   ]
  },
  {
   "cell_type": "code",
   "execution_count": 63,
   "metadata": {},
   "outputs": [
    {
     "name": "stdout",
     "output_type": "stream",
     "text": [
      "[1 2 3 4 5 6]\n",
      "[[1 2 3]\n",
      " [4 5 6]]\n",
      "[[4 3 6]\n",
      " [7 1 2]\n",
      " [5 2 4]]\n",
      "[[4 3 6]\n",
      " [7 1 2]\n",
      " [5 2 4]\n",
      " [4 5 6]]\n"
     ]
    }
   ],
   "source": [
    "# concatenate\n",
    "\n",
    "y = np.array([4, 5, 6])\n",
    "z1 = np.concatenate([x, y])  # combine into single row\n",
    "print(z1)\n",
    "z2 = np.concatenate([[x], [y]])\n",
    "print(z2)\n",
    "\n",
    "a = np.random.randint(10, size=(3, 3))\n",
    "print(a)\n",
    "z3 = np.vstack([a, y])  # stack a on top of y\n",
    "print(z3)"
   ]
  },
  {
   "cell_type": "code",
   "execution_count": 45,
   "metadata": {},
   "outputs": [
    {
     "name": "stdout",
     "output_type": "stream",
     "text": [
      "[[8 0 1 8]\n",
      " [2 8 6 0]\n",
      " [7 3 2 0]]\n"
     ]
    }
   ],
   "source": [
    "# \n",
    "\n",
    "x2[[0, 1]] = x2[[1,0]]\n",
    "print(x2)"
   ]
  },
  {
   "cell_type": "code",
   "execution_count": null,
   "metadata": {},
   "outputs": [],
   "source": [
    "# more matrix\n",
    "# for complex number use j\n",
    "A = np.array([[1, 2],[3, 4j]])\n",
    "print(A)\n",
    "\n",
    "# complex conjugate\n",
    "B = np.conjugate(A)\n",
    "print(B)\n",
    "\n",
    "C = np.dot(A, B)\n",
    "print(C)\n",
    "D = np.cross(A,B)\n",
    "print(D)"
   ]
  },
  {
   "cell_type": "code",
   "execution_count": null,
   "metadata": {},
   "outputs": [],
   "source": [
    "# appending\n",
    "a = np.array([1, 2, 3, 4, 5, 6])\n",
    "b = np.array([0, 0, 1.5, 0, 0, 1.7])\n",
    "\n",
    "res = []\n",
    "for i in range(len(b)):\n",
    "     if b[i] > 0:\n",
    "        res.append([a[i], b[i]])\n",
    "res = np.array(res)\n",
    "print(res)"
   ]
  },
  {
   "cell_type": "code",
   "execution_count": null,
   "metadata": {},
   "outputs": [],
   "source": [
    "# Polynomial best fit line\n",
    "\n",
    "Temp = np.array([320, 360, 400, 440, 480])\n",
    "TempK = Temp + 273.15\n",
    "v = np.array([26.82, 30.89, 34.32, 37.42, 40.34])\n",
    "\n",
    "# polynomial 2nd order\n",
    "dvdT = np.polyfit(TempK, v, 2)\n",
    "print(dvdT)\n",
    "\n",
    "# take derivative of polynomial\n",
    "derivative_dvdT = np.polyder(dvdT)\n",
    "print(derivative_dvdT)\n",
    "\n",
    "# evaluate at the polynomial at T = 400C = 673.15 K\n",
    "T_eval = 673.15\n",
    "v_eval = np.polyval(derivative_dvdT, T_eval)\n",
    "print(v_eval)"
   ]
  },
  {
   "cell_type": "code",
   "execution_count": null,
   "metadata": {},
   "outputs": [],
   "source": [
    "import sympy\n",
    "\n",
    "x = sympy.symbols('x')  # set x to be symbolic variable\n",
    "sympy.plot(sympy.exp(x)-sympy.tan(x),(x,-10,10), ylim=(-5,5))\n",
    "\n",
    "# sympy makes symbolic plotting easy, but hard to manipulate values\n",
    "# use numpy instead!"
   ]
  },
  {
   "cell_type": "code",
   "execution_count": null,
   "metadata": {},
   "outputs": [],
   "source": [
    "import matplotlib.pyplot as plt\n",
    "\n",
    "n = 250\n",
    "x = np.linspace(-10, 10, n)\n",
    "y = np.zeros(n)\n",
    "\n",
    "for i in range(n):\n",
    "    y[i] = np.exp(x[i]) - np.tan(x[i])  # compute desired function\n",
    "    \n",
    "    if abs(y[i] > 10):\n",
    "        y[i] = np.inf  # replacevalues greater than 10 with infinity\n",
    "\n",
    "plt.plot(x,y)\n",
    "plt.axis([-10,10,-5,5])\n",
    "plt.xlabel('x')\n",
    "plt.ylabel('f(x) = exp(x)-tan(x)')\n",
    "plt.grid(True)\n",
    "# plt.savefig(\"figure.png\")  # save figure to file\n",
    "plt.show()"
   ]
  },
  {
   "cell_type": "code",
   "execution_count": null,
   "metadata": {
    "tags": []
   },
   "outputs": [],
   "source": [
    "# root finding\n",
    "# bracket on left and right of interest range to see when signs changs\n",
    "\n",
    "# 1. pick left and right values\n",
    "xl = -4.  # left start of interval interval\n",
    "xr = -2.8  # right start or interval\n",
    "\n",
    "# 2. set number iterations for resultion\n",
    "iter = 1000\n",
    "resolution = 1e-5  # precision of answer\n",
    "\n",
    "# 3. Evaluate function at those values\n",
    "for i in range(iter):\n",
    "    xc = (xl + xr)/2  # compute midpoint\n",
    "    fc = np.exp(xc) - np.tan(xc)\n",
    "    print(i, xc, fc)\n",
    "\n",
    "    if fc > 0:\n",
    "        xl = xc\n",
    "    else:\n",
    "        xr = xc\n",
    "\n",
    "    if (abs(fc) < resolution):\n",
    "        break\n",
    "\n",
    "print('root is at x =', xc)"
   ]
  },
  {
   "cell_type": "code",
   "execution_count": null,
   "metadata": {},
   "outputs": [],
   "source": [
    "# newton raphson iteration method\n",
    "x=-4 #initial estimate of fixed point\n",
    "max_iter = 1000\n",
    "for j in range(max_iter):\n",
    "    x = x-(np.exp(x)-np.tan(x))/(np.exp(x)-(1/np.cos(x))**2)\n",
    "    f=np.exp(x)-np.tan(x)\n",
    "    \n",
    "    if abs(f)<1e-5:\n",
    "        break\n",
    "\n",
    "print('root is near',x,'where function value is',f)"
   ]
  },
  {
   "cell_type": "code",
   "execution_count": null,
   "metadata": {},
   "outputs": [],
   "source": [
    "# exporting with numpy\n",
    "a = np.array([0, 1, 2])\n",
    "\n",
    "np.savetxt(fname='savedinfo.txt', X=a, fmt='%d')\n",
    "\n",
    "# fname is file name\n",
    "# X is array to save\n",
    "# fmt is data format %d is int, %1.4e is 4 decimal places"
   ]
  },
  {
   "cell_type": "code",
   "execution_count": null,
   "metadata": {},
   "outputs": [],
   "source": [
    "importedfile = np.genfromtxt(fname='savedinfo.txt', dtype=np.float32)\n",
    "print(importedfile)"
   ]
  },
  {
   "cell_type": "code",
   "execution_count": null,
   "metadata": {},
   "outputs": [],
   "source": []
  }
 ],
 "metadata": {
  "kernelspec": {
   "display_name": "Python 3",
   "language": "python",
   "name": "python3"
  },
  "language_info": {
   "codemirror_mode": {
    "name": "ipython",
    "version": 3
   },
   "file_extension": ".py",
   "mimetype": "text/x-python",
   "name": "python",
   "nbconvert_exporter": "python",
   "pygments_lexer": "ipython3",
   "version": "3.10.11"
  },
  "orig_nbformat": 2
 },
 "nbformat": 4,
 "nbformat_minor": 2
}
