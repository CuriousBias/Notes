{
 "cells": [
  {
   "attachments": {},
   "cell_type": "markdown",
   "metadata": {},
   "source": [
    "### Profiling\n",
    "- built in to diagose code execution\n",
    "\n",
    "#### Visualize\n",
    "1. with snakeviz  ```% pip install snakeviz```\n",
    "2. visualize ``` % snakeviz profiled_stats.prof```\n",
    "3. Click on link!"
   ]
  },
  {
   "cell_type": "code",
   "execution_count": null,
   "metadata": {},
   "outputs": [],
   "source": [
    "import cProfile\n",
    "import pstats\n",
    "import time\n",
    "\n",
    "def function_to_profile():\n",
    "    time.sleep(1)\n",
    "    print('Hi')\n",
    "    time.sleep(1)\n",
    "\n",
    "with cProfile.Profile() as pr:\n",
    "    function_to_profile()\n",
    "\n",
    "stats = pstats.Stats(pr)\n",
    "stats.sort_stats(pstats.SortKey.TIME)\n",
    "# stats.dump_stats(filename='profiled_stats.prof')  # create file to visualize \n"
   ]
  }
 ],
 "metadata": {
  "kernelspec": {
   "display_name": "Python 3",
   "language": "python",
   "name": "python3"
  },
  "language_info": {
   "name": "python",
   "version": "3.10.9"
  },
  "orig_nbformat": 4,
  "vscode": {
   "interpreter": {
    "hash": "bda33b16be7e844498c7c2d368d72665b4f1d165582b9547ed22a0249a29ca2e"
   }
  }
 },
 "nbformat": 4,
 "nbformat_minor": 2
}
