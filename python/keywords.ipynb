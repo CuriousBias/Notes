{
 "cells": [
  {
   "cell_type": "markdown",
   "metadata": {},
   "source": [
    "# Keywords\n",
    "- 39 python keywords\n",
    "- 35 keywords\n",
    "- 4 soft keywords"
   ]
  },
  {
   "cell_type": "markdown",
   "metadata": {},
   "source": [
    "#### True\n",
    "- constant for 1.\n",
    "\n",
    "#### False\n",
    "- constant for 0.\n",
    "\n",
    "#### None\n",
    "- absence of value."
   ]
  },
  {
   "cell_type": "code",
   "execution_count": null,
   "metadata": {},
   "outputs": [],
   "source": [
    "has_money: bool = False\n",
    "print(has_money)\n",
    "print(int(False))\n",
    "\n",
    "data = None\n",
    "print(data)\n",
    "\n",
    "has_money: bool = True\n",
    "print(has_money)\n",
    "print(int(False))"
   ]
  },
  {
   "cell_type": "markdown",
   "metadata": {},
   "source": [
    "#### class\n",
    "- create class object.\n",
    "\n",
    "#### def\n",
    "- used to define a function name.\n",
    "\n",
    "#### return\n",
    "- exit function and provide to caller.\n",
    "\n",
    "#### yield\n",
    "- create generators.\n",
    "- used instead of `return`\n",
    "\n",
    "#### pass\n",
    "- place holder for class or def.\n",
    "- can also use ellipsis `...`\n",
    "\n",
    "#### lambda\n",
    "- nameless function. Not recommended.\n"
   ]
  },
  {
   "cell_type": "markdown",
   "metadata": {},
   "source": [
    "#### del\n",
    "- delete object from memory."
   ]
  },
  {
   "cell_type": "code",
   "execution_count": null,
   "metadata": {},
   "outputs": [],
   "source": [
    "name: str = \"Bob\"\n",
    "print(name)\n",
    "del name\n",
    "print(name)"
   ]
  },
  {
   "cell_type": "markdown",
   "metadata": {},
   "source": [
    "#### and\n",
    "- both conditions are True.\n",
    "\n",
    "#### or\n",
    "- any condition is True."
   ]
  },
  {
   "cell_type": "markdown",
   "metadata": {},
   "source": [
    "#### import\n",
    "- access foreign modules.\n",
    "\n",
    "#### from\n",
    "- import specific functionality from module.\n",
    "\n",
    "#### as\n",
    "- module imports: give alias to module.\n",
    "- context manager: give alias to file."
   ]
  },
  {
   "cell_type": "code",
   "execution_count": null,
   "metadata": {},
   "outputs": [],
   "source": [
    "import math as m\n",
    "from random import randint"
   ]
  },
  {
   "cell_type": "markdown",
   "metadata": {},
   "source": [
    "#### async\n",
    "- non current programming.\n",
    "\n",
    "#### await\n",
    "- keyword used with aysncio programming.\n",
    "- wait for something to finish before continuing."
   ]
  },
  {
   "cell_type": "markdown",
   "metadata": {},
   "source": [
    "#### for\n",
    "- used to iterate through elements.\n",
    "\n",
    "#### break\n",
    "- exit for loop prematurely.\n",
    "\n",
    "#### continue\n",
    "- force for-loop to proceed to next iteration.\n",
    "\n",
    "#### while\n",
    "- infinite loop.\n",
    "- loop while condition is satisfied.\n"
   ]
  },
  {
   "cell_type": "markdown",
   "metadata": {},
   "source": [
    "#### in\n",
    "- access element in iterable.\n",
    "- membership check.\n",
    "\n",
    "#### is\n",
    "- check if variables are same object in memory.\n",
    "- compares memory address via `id()`\n",
    "\n",
    "#### not\n",
    "- inverse checks.\n",
    "- used with `in`, `None`, ect."
   ]
  },
  {
   "cell_type": "code",
   "execution_count": null,
   "metadata": {},
   "outputs": [],
   "source": [
    "names = [\"Bob\", \"James\"]\n",
    "for name in names:  # access elements\n",
    "    print(name)\n",
    "\n",
    "if \"Bob\" in names:  # membership check.\n",
    "    print(\"Bob\")"
   ]
  },
  {
   "cell_type": "markdown",
   "metadata": {},
   "source": [
    "#### if\n",
    "- check boolean conditions.\n",
    "\n",
    "#### elif\n",
    "- alternative conditional check.\n",
    "\n",
    "#### else\n",
    "- final conditional check. If none are met. "
   ]
  },
  {
   "cell_type": "markdown",
   "metadata": {},
   "source": [
    "#### try\n",
    "- attempt dangerous code which might raise exception.\n",
    "\n",
    "#### except\n",
    "- try and except combination. \n",
    "- catch exception.\n",
    "\n",
    "#### finally\n",
    "- part of try and except block.\n",
    "- always execute code in this block."
   ]
  },
  {
   "cell_type": "markdown",
   "metadata": {},
   "source": [
    "#### assert\n",
    "- check if requirements are meant. \n",
    "- useful to check if program can be run.\n",
    "- test if conditions are satisfied.\n",
    "\n",
    "#### raise\n",
    "- manually raise problem."
   ]
  },
  {
   "cell_type": "markdown",
   "metadata": {},
   "source": [
    "#### global\n",
    "- represent object in global namespace.\n",
    "- locate correct object in global scope.\n",
    "\n",
    "##### nonlocal\n",
    "- refer to object in outer scope.\n",
    "- probably bad practice."
   ]
  },
  {
   "cell_type": "code",
   "execution_count": null,
   "metadata": {},
   "outputs": [],
   "source": [
    "name: str = \"Bob\"\n",
    "\n",
    "def change_name() -> None:\n",
    "    global name\n",
    "\n",
    "    name = \"James\"\n",
    "\n",
    "change_name()\n",
    "print(name)"
   ]
  },
  {
   "cell_type": "markdown",
   "metadata": {},
   "source": [
    "#### with\n",
    "- easy handle of context manager.\n",
    "- short for try, except, finally."
   ]
  },
  {
   "cell_type": "markdown",
   "metadata": {},
   "source": [
    "## Soft keywords\n",
    "- keywords which can be used as variable name or as build in python functionally."
   ]
  },
  {
   "cell_type": "markdown",
   "metadata": {},
   "source": [
    "#### _\n",
    "- underscore.\n",
    "- can also be used as variable name if throw away variable.\n",
    "- dunder methods. Used two leading and trailing underscores.\n",
    "- private and protected variables.\n",
    "\n",
    "#### type\n",
    "- used to define custom types.\n",
    "- python 3.12"
   ]
  },
  {
   "cell_type": "markdown",
   "metadata": {},
   "source": [
    "#### match\n",
    "- pattern matching.\n",
    "\n",
    "#### case\n",
    "- single check for pattern matching."
   ]
  }
 ],
 "metadata": {
  "kernelspec": {
   "display_name": "Python 3",
   "language": "python",
   "name": "python3"
  },
  "language_info": {
   "name": "python",
   "version": "3.8.10"
  }
 },
 "nbformat": 4,
 "nbformat_minor": 2
}
