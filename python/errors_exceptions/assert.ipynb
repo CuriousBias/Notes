{
 "cells": [
  {
   "attachments": {},
   "cell_type": "markdown",
   "metadata": {},
   "source": [
    "## Assertions\n",
    "- makes sure logic in code is working as intended\n",
    "- good for debugging\n",
    "- if True, program continues\n",
    "- if False, raise message\n",
    "- Can be disabled by setting debug dunder to False\n",
    "    - run in terminal with -O callout ```python -O main.py```\n",
    "\n",
    "### common usages\n",
    "- check data types"
   ]
  },
  {
   "cell_type": "code",
   "execution_count": 2,
   "metadata": {},
   "outputs": [
    {
     "name": "stdout",
     "output_type": "stream",
     "text": [
      "Data correct\n"
     ]
    }
   ],
   "source": [
    "def method1(data: dict):\n",
    "    assert isinstance(data, dict), 'Invalid data'  # message raised if data is not dictionary\n",
    "    assert data, 'No data'  # checks for empty dictionary\n",
    "\n",
    "    print('Data correct')\n",
    "\n",
    "method1(data={\"key\": 1})"
   ]
  },
  {
   "cell_type": "code",
   "execution_count": null,
   "metadata": {},
   "outputs": [],
   "source": []
  }
 ],
 "metadata": {
  "kernelspec": {
   "display_name": "Python 3",
   "language": "python",
   "name": "python3"
  },
  "language_info": {
   "codemirror_mode": {
    "name": "ipython",
    "version": 3
   },
   "file_extension": ".py",
   "mimetype": "text/x-python",
   "name": "python",
   "nbconvert_exporter": "python",
   "pygments_lexer": "ipython3",
   "version": "3.10.9"
  },
  "orig_nbformat": 4,
  "vscode": {
   "interpreter": {
    "hash": "bda33b16be7e844498c7c2d368d72665b4f1d165582b9547ed22a0249a29ca2e"
   }
  }
 },
 "nbformat": 4,
 "nbformat_minor": 2
}
