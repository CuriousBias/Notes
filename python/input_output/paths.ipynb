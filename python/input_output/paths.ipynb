{
 "cells": [
  {
   "attachments": {},
   "cell_type": "markdown",
   "metadata": {},
   "source": [
    "# Paths\n",
    "\n",
    "## Pathlib\n",
    "- Has common file and directory manipulations. "
   ]
  },
  {
   "attachments": {},
   "cell_type": "markdown",
   "metadata": {},
   "source": [
    "## Raw string literalls\n",
    "1. Add \"r\" in front. \n",
    "2. For Windows path and regex. \n",
    "3. Ignores escape sequences. \n"
   ]
  },
  {
   "cell_type": "code",
   "execution_count": 1,
   "metadata": {},
   "outputs": [
    {
     "name": "stdout",
     "output_type": "stream",
     "text": [
      "windows\\path\\to\\file.txt\n"
     ]
    }
   ],
   "source": [
    "some_path = r\"windows\\path\\to\\file.txt\"\n",
    "some_regex = r\"\\d+\\.d*\"\n",
    "print(some_path)"
   ]
  },
  {
   "cell_type": "code",
   "execution_count": null,
   "metadata": {},
   "outputs": [],
   "source": [
    "# Error prone manipulating paths as strings. \n",
    "path = \"path/to/data.json\"\n",
    "zipped = path.removesuffix(\".json\") + \".zip\""
   ]
  },
  {
   "cell_type": "code",
   "execution_count": null,
   "metadata": {},
   "outputs": [],
   "source": [
    "import pathlib# Superior method of using built-in pathlib\n",
    "path2 = pathlib.Path('path/to/data.json')\n",
    "zipped2 = path2.with_suffix('.zip')\n",
    "dir2 = path2.parent\n",
    "other_file2 = path2.with_name('other_file.txt')\n",
    "deeper_dir2 = dir2.joinpath(\"abc\", \"def\")"
   ]
  },
  {
   "cell_type": "markdown",
   "metadata": {},
   "source": []
  },
  {
   "cell_type": "code",
   "execution_count": null,
   "metadata": {},
   "outputs": [],
   "source": [
    "# string object: better for memory than manipulating string. \n",
    "\n",
    "import io\n",
    "\n",
    "ss = io.StringIO()\n",
    "for i in range(100):\n",
    "    ss.write(f'some string {i}')\n",
    "\n",
    "s = ss.getvalue()  # convert back to string"
   ]
  }
 ],
 "metadata": {
  "kernelspec": {
   "display_name": "Python 3",
   "language": "python",
   "name": "python3"
  },
  "language_info": {
   "codemirror_mode": {
    "name": "ipython",
    "version": 3
   },
   "file_extension": ".py",
   "mimetype": "text/x-python",
   "name": "python",
   "nbconvert_exporter": "python",
   "pygments_lexer": "ipython3",
   "version": "3.10.9"
  },
  "orig_nbformat": 4
 },
 "nbformat": 4,
 "nbformat_minor": 2
}
