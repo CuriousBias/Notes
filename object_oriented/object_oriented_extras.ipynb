{
 "cells": [
  {
   "cell_type": "code",
   "execution_count": null,
   "metadata": {},
   "outputs": [],
   "source": [
    "# Random good practices\n",
    "\n",
    "# use standard units like m, s, kg. Otherwise make it clear in a comment\n",
    "# make variables and function names make sense so code is readable and doesnt require comments\n",
    "# label branches with usernames and what they refer to (test or feature)\n",
    "# Break up main code into psuedo code of helper/handle functions - Makes it much easier to debug\n",
    "# Use a logger instead of print statements\n",
    "# name task channels to reflect what they are doing"
   ]
  },
  {
   "cell_type": "code",
   "execution_count": 1,
   "metadata": {},
   "outputs": [
    {
     "name": "stdout",
     "output_type": "stream",
     "text": [
      "2\n",
      "OPEN_DWELL\n"
     ]
    }
   ],
   "source": [
    "# state machine with enums (enumerations - set of symbolic names)\n",
    "# instead of using state names\n",
    "# member values can be anything: int, str, etc\n",
    "import enum\n",
    "\n",
    "class TestState(enum.Enum):\n",
    "    OPEN = 'Open'\n",
    "    CLOSED = 'Closed device'\n",
    "    OPEN_DWELL = 2\n",
    "\n",
    "# class TestState is an enumeration with attributes TestState.OPEN, TestState.CLOSED, and TestState.OPEN_DWELL. first two are strs, last has value of 2\n",
    "\n",
    "# to reference OPEN_DWELL value\n",
    "print(TestState.OPEN_DWELL.value)\n",
    "\n",
    "# to reference OPEN_DWELL name\n",
    "print(TestState.OPEN_DWELL.name)"
   ]
  },
  {
   "cell_type": "code",
   "execution_count": 2,
   "metadata": {},
   "outputs": [
    {
     "data": {
      "text/plain": [
       "<function __main__.shutdown()>"
      ]
     },
     "execution_count": 2,
     "metadata": {},
     "output_type": "execute_result"
    }
   ],
   "source": [
    "# @atexit routine\n",
    "# add atexit route to shut down test\n",
    "import atexit\n",
    "# turn off powersupply, etc\n",
    "\n",
    "def shutdown():\n",
    "    pass\n",
    "# define a new function or use an existing shutdown function to safely shutdown resources\n",
    "\n",
    "atexit.register(shutdown)  # this will run when code ends"
   ]
  },
  {
   "cell_type": "code",
   "execution_count": 7,
   "metadata": {},
   "outputs": [
    {
     "ename": "Exception",
     "evalue": "No numbers below zero",
     "output_type": "error",
     "traceback": [
      "\u001b[0;31m---------------------------------------------------------------------------\u001b[0m",
      "\u001b[0;31mException\u001b[0m                                 Traceback (most recent call last)",
      "\u001b[0;32m/var/folders/5_/t61cznx5489cbf9q34by_k980000gn/T/ipykernel_25036/1242763303.py\u001b[0m in \u001b[0;36m<module>\u001b[0;34m\u001b[0m\n\u001b[1;32m      4\u001b[0m \u001b[0;34m\u001b[0m\u001b[0m\n\u001b[1;32m      5\u001b[0m \u001b[0;32mif\u001b[0m \u001b[0mx\u001b[0m \u001b[0;34m<\u001b[0m \u001b[0;36m0\u001b[0m\u001b[0;34m:\u001b[0m\u001b[0;34m\u001b[0m\u001b[0;34m\u001b[0m\u001b[0m\n\u001b[0;32m----> 6\u001b[0;31m     \u001b[0;32mraise\u001b[0m \u001b[0mException\u001b[0m\u001b[0;34m(\u001b[0m\u001b[0;34m'No numbers below zero'\u001b[0m\u001b[0;34m)\u001b[0m\u001b[0;34m\u001b[0m\u001b[0;34m\u001b[0m\u001b[0m\n\u001b[0m\u001b[1;32m      7\u001b[0m \u001b[0;32melse\u001b[0m\u001b[0;34m:\u001b[0m\u001b[0;34m\u001b[0m\u001b[0;34m\u001b[0m\u001b[0m\n\u001b[1;32m      8\u001b[0m     \u001b[0mprint\u001b[0m\u001b[0;34m(\u001b[0m\u001b[0;34m'number is greater than 0'\u001b[0m\u001b[0;34m)\u001b[0m\u001b[0;34m\u001b[0m\u001b[0;34m\u001b[0m\u001b[0m\n",
      "\u001b[0;31mException\u001b[0m: No numbers below zero"
     ]
    }
   ],
   "source": [
    "# raise and exception\n",
    "\n",
    "x = -2\n",
    "\n",
    "if x < 0:\n",
    "    raise Exception('No numbers below zero')\n",
    "else:\n",
    "    print('number is greater than 0')"
   ]
  },
  {
   "cell_type": "code",
   "execution_count": 10,
   "metadata": {},
   "outputs": [
    {
     "name": "stdout",
     "output_type": "stream",
     "text": [
      "-2\n",
      "-2\n",
      "nothing is worng\n",
      "hi\n"
     ]
    },
    {
     "ename": "AttributeError",
     "evalue": "__enter__",
     "output_type": "error",
     "traceback": [
      "\u001b[0;31m---------------------------------------------------------------------------\u001b[0m",
      "\u001b[0;31mAttributeError\u001b[0m                            Traceback (most recent call last)",
      "\u001b[0;32m/var/folders/5_/t61cznx5489cbf9q34by_k980000gn/T/ipykernel_25036/3724113316.py\u001b[0m in \u001b[0;36m<module>\u001b[0;34m\u001b[0m\n\u001b[1;32m     21\u001b[0m \u001b[0;31m# can also be written as\u001b[0m\u001b[0;34m\u001b[0m\u001b[0;34m\u001b[0m\u001b[0;34m\u001b[0m\u001b[0m\n\u001b[1;32m     22\u001b[0m \u001b[0;34m\u001b[0m\u001b[0m\n\u001b[0;32m---> 23\u001b[0;31m \u001b[0;32mwith\u001b[0m \u001b[0mx\u001b[0m\u001b[0;34m:\u001b[0m\u001b[0;34m\u001b[0m\u001b[0;34m\u001b[0m\u001b[0m\n\u001b[0m\u001b[1;32m     24\u001b[0m     \u001b[0mdo_something\u001b[0m\u001b[0;34m(\u001b[0m\u001b[0;34m)\u001b[0m\u001b[0;34m\u001b[0m\u001b[0;34m\u001b[0m\u001b[0m\n\u001b[1;32m     25\u001b[0m \u001b[0;31m# if x is not defined, it wont execute do something()\u001b[0m\u001b[0;34m\u001b[0m\u001b[0;34m\u001b[0m\u001b[0;34m\u001b[0m\u001b[0m\n",
      "\u001b[0;31mAttributeError\u001b[0m: __enter__"
     ]
    }
   ],
   "source": [
    "# try, except, finally, with\n",
    "def do_something():\n",
    "    print('hi')\n",
    "\n",
    "print(x) # would raise an error since x is undefinied\n",
    "\n",
    "# try: lets you test a block for errors\n",
    "# except: lets you handle the error\n",
    "# else: execute code if no errors raised\n",
    "# finally: lets you execute code regardless of results of try or except\n",
    "\n",
    "try:\n",
    "    print(x)\n",
    "except:\n",
    "    print('x not defined')\n",
    "else:\n",
    "    print('nothing is worng') # if x has been defined\n",
    "finally:\n",
    "    do_something()\n",
    "\n",
    "# can also be written as\n",
    "\n",
    "with x:\n",
    "    do_something()\n",
    "# if x is not defined, it wont execute do something()\n",
    "\n"
   ]
  },
  {
   "cell_type": "code",
   "execution_count": null,
   "metadata": {},
   "outputs": [],
   "source": [
    "# add a time stamp\n",
    "import datetime\n",
    "\n",
    "timenow = datetime.datetime.now()\n",
    "datetimestring = timenow.strftime(\"%d/%m/%Y-%H:%M:%S\")\n",
    "print(datetimestring)"
   ]
  }
 ],
 "metadata": {
  "interpreter": {
   "hash": "949777d72b0d2535278d3dc13498b2535136f6dfe0678499012e853ee9abcab1"
  },
  "kernelspec": {
   "display_name": "Python 3.8.7 64-bit",
   "name": "python3"
  },
  "language_info": {
   "codemirror_mode": {
    "name": "ipython",
    "version": 3
   },
   "file_extension": ".py",
   "mimetype": "text/x-python",
   "name": "python",
   "nbconvert_exporter": "python",
   "pygments_lexer": "ipython3",
   "version": "3.8.7"
  },
  "orig_nbformat": 2
 },
 "nbformat": 4,
 "nbformat_minor": 2
}
