{
 "metadata": {
  "language_info": {
   "codemirror_mode": {
    "name": "ipython",
    "version": 3
   },
   "file_extension": ".py",
   "mimetype": "text/x-python",
   "name": "python",
   "nbconvert_exporter": "python",
   "pygments_lexer": "ipython3",
   "version": 3
  },
  "orig_nbformat": 2
 },
 "nbformat": 4,
 "nbformat_minor": 2,
 "cells": [
  {
   "cell_type": "code",
   "execution_count": null,
   "metadata": {},
   "outputs": [],
   "source": [
    "# Random good practices\n",
    "\n",
    "# use standard units like m, s, kg. Otherwise make it clear in a comment\n",
    "# make variables and function names make sense so code is readable and doesnt require comments\n",
    "# label branches with usernames and what they refer to (test or feature)\n",
    "# Break up main code into psuedo code of helper/handle functions - Makes it much easier to debug\n",
    "# Use a logger instead of print statements\n",
    "# name task channels to reflect what they are doing"
   ]
  },
  {
   "cell_type": "code",
   "execution_count": null,
   "metadata": {},
   "outputs": [],
   "source": [
    "# state machine with enums (enumerations - set of symbolic names)\n",
    "# instead of using state names\n",
    "# member values can be anything: int, str, etc\n",
    "import enum\n",
    "\n",
    "class TestState(enum.Enum):\n",
    "    OPEN = 'Open'\n",
    "    CLOSED = 'Closed'\n",
    "    OPEN_DWELL = 2\n",
    "\n",
    "# class TestState is an enumeration with attributes TestState.OPEN, TestState.CLOSED, and TestState.OPEN_DWELL. first two are strs, last has value of 2\n",
    "\n",
    "# to reference OPEN_DWELL value or string\n",
    "print(TestState.OPEN_DWELL.value)"
   ]
  },
  {
   "cell_type": "code",
   "execution_count": null,
   "metadata": {},
   "outputs": [],
   "source": [
    "# @atexit routine\n",
    "# add atexit route to shut down test\n",
    "import atexit\n",
    "# turn off powersupply, etc\n",
    "\n",
    "def shutdown():\n",
    "    pass\n",
    "# define a new function or use an existing shutdown function to safely shutdown resources\n",
    "atexit.register(shutdown)  # this will run when code ends"
   ]
  },
  {
   "cell_type": "code",
   "execution_count": null,
   "metadata": {},
   "outputs": [],
   "source": [
    "# raise and exception\n",
    "\n",
    "x = -1\n",
    "\n",
    "if x < 0:\n",
    "    raise Exception('No numbers below zero')"
   ]
  },
  {
   "cell_type": "code",
   "execution_count": null,
   "metadata": {},
   "outputs": [],
   "source": [
    "# try, except, finally, with\n",
    "\n",
    "print(x) # would raise an error since x is undefinied\n",
    "\n",
    "# try: lets you test a block for errors\n",
    "# except: lets you handle the error\n",
    "# else: execute code if no errors raised\n",
    "# finally: lets you execute code regardless of results of try or except\n",
    "\n",
    "try:\n",
    "    print(x)\n",
    "except:\n",
    "    print('x not defined')\n",
    "else:\n",
    "    print('nothing is worng') # if x has been defined\n",
    "finally:\n",
    "    do_something()\n",
    "\n",
    "# can also be written as\n",
    "\n",
    "with x:\n",
    "    do something()\n",
    "# if x is not defined, it wont execute do something()\n",
    "\n"
   ]
  },
  {
   "cell_type": "code",
   "execution_count": null,
   "metadata": {},
   "outputs": [],
   "source": [
    "# add a time stamp\n",
    "import datetime\n",
    "\n",
    "timenow = datetime.datetime.now()\n",
    "datetimestring = timenow.strftime(\"%d/%m/%Y-%H:%M:%S\")\n",
    "print(datetimestring)"
   ]
  }
 ]
}