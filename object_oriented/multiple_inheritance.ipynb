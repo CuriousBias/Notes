{
 "cells": [
  {
   "cell_type": "markdown",
   "metadata": {},
   "source": [
    "#### Inheritance\n",
    "\n",
    "Ways to inherit multiple classes into a single class and run all corresponding constructors"
   ]
  },
  {
   "cell_type": "code",
   "execution_count": 2,
   "metadata": {},
   "outputs": [
    {
     "name": "stdout",
     "output_type": "stream",
     "text": [
      "Dad says hi\n",
      "Dad says hi\n",
      "Mom says hi\n",
      "child says hello\n"
     ]
    }
   ],
   "source": [
    "class Dad:\n",
    "    def __init__(self):\n",
    "        print('Dad says hi')\n",
    "\n",
    "class Mom:\n",
    "    def __init__(self):\n",
    "        print('Mom says hi')\n",
    "\n",
    "class Child(Dad, Mom):\n",
    "\n",
    "    def __init__(self):\n",
    "        super().__init__()  # this will only run the first parent class (in this case 'Dad')\n",
    "\n",
    "        # to run both\n",
    "        Dad.__init__(self)\n",
    "        Mom.__init__(self)\n",
    "\n",
    "        print('child says hi')\n",
    "\n",
    "if __name__ == '__main__':\n",
    "    first_child = Child()"
   ]
  },
  {
   "cell_type": "code",
   "execution_count": null,
   "metadata": {},
   "outputs": [],
   "source": []
  }
 ],
 "metadata": {
  "interpreter": {
   "hash": "949777d72b0d2535278d3dc13498b2535136f6dfe0678499012e853ee9abcab1"
  },
  "kernelspec": {
   "display_name": "Python 3.8.7 64-bit",
   "language": "python",
   "name": "python3"
  },
  "language_info": {
   "codemirror_mode": {
    "name": "ipython",
    "version": 3
   },
   "file_extension": ".py",
   "mimetype": "text/x-python",
   "name": "python",
   "nbconvert_exporter": "python",
   "pygments_lexer": "ipython3",
   "version": "3.8.7"
  },
  "orig_nbformat": 4
 },
 "nbformat": 4,
 "nbformat_minor": 2
}
