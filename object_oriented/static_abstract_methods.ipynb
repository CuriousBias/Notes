{
 "cells": [
  {
   "cell_type": "code",
   "execution_count": null,
   "metadata": {},
   "outputs": [],
   "source": [
    "# static methods and abstract methods"
   ]
  },
  {
   "cell_type": "code",
   "execution_count": null,
   "metadata": {},
   "outputs": [],
   "source": [
    "# static method: used to put methods in a class for context only. Their functionality does not depend on being in the class\n",
    "\n",
    "class Calendar:\n",
    "    def __init__(self):\n",
    "        self.events = []\n",
    "\n",
    "    def add_event(self, event):\n",
    "        self.events.append(event)\n",
    "\n",
    "    @staticmethod\n",
    "    def is_weekend(date):\n",
    "        return date.weekday()\n",
    "\n",
    "# since is_weekend doesnt really depend on an event. "
   ]
  },
  {
   "cell_type": "code",
   "execution_count": null,
   "metadata": {},
   "outputs": [],
   "source": [
    "# class method: use to make an instance with a different set of arguments\n",
    "# - usually named from_, make_, create_\n",
    "\n",
    "class Example:\n",
    "\n",
    "\n",
    "    @ classmethod\n",
    "    def create_class(cls, info):\n",
    "        c = cls()\n",
    "        return c"
   ]
  }
 ],
 "metadata": {
  "language_info": {
   "name": "python"
  },
  "orig_nbformat": 4
 },
 "nbformat": 4,
 "nbformat_minor": 2
}
