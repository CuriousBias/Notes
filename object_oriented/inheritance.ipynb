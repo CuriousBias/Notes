{
 "cells": [
  {
   "cell_type": "markdown",
   "metadata": {},
   "source": [
    "### Inheritance\n",
    "\n",
    "One class gaining properties and methods of other class or multiple classes"
   ]
  },
  {
   "cell_type": "code",
   "execution_count": 7,
   "metadata": {},
   "outputs": [],
   "source": [
    "class ParentClass(object):\n",
    "\n",
    "    def __init__(self, **kwargs):\n",
    "        \"\"\"\n",
    "        function automatically runs when instance of ParentClass is created\n",
    "        use to definie all properties to be created with this class\n",
    "        \"\"\"\n",
    "\n",
    "        # variables in classes are called properties\n",
    "        self.property0 = 'string0'\n",
    "        self.property1 = 1.0\n",
    "        self.property2 = (0,1)\n",
    "\n",
    "    # define methods after __init__()\n",
    "    # functions in classes are called methods\n",
    "    def method0(self):\n",
    "        print('method0 complete')\n",
    "\n",
    "    def method1(self):\n",
    "        print('method1')\n"
   ]
  },
  {
   "cell_type": "code",
   "execution_count": 8,
   "metadata": {},
   "outputs": [
    {
     "name": "stdout",
     "output_type": "stream",
     "text": [
      "(0, 1)\n",
      "method0 complete\n"
     ]
    }
   ],
   "source": [
    "# create an instance with keyword arguments 'kwargs'\n",
    "\n",
    "kwargs = dict(  kwarg0 = 'something_cool',\n",
    "                kwarg1 = 5.0,\n",
    "                kwarg2 = (1,2))\n",
    "\n",
    "# one creation of a class is called an instance\n",
    "instance = ParentClass(**kwargs)\n",
    "\n",
    "# print a property from parent class\n",
    "print(instance.property2)\n",
    "\n",
    "# run a method from parent class\n",
    "instance.method0()\n",
    "\n",
    "# print(instance.arg0)\n"
   ]
  },
  {
   "cell_type": "code",
   "execution_count": 9,
   "metadata": {},
   "outputs": [],
   "source": [
    "class ChildClass(ParentClass):\n",
    "\n",
    "    def __init__(self, arg0, arg1, **kwargs):\n",
    "        \"\"\"\n",
    "        init in child class will override init in parent class\n",
    "        include any arguments expected by class that you want to pass when creating an instance\n",
    "        \"\"\"\n",
    "\n",
    "        # to keep init from parent class\n",
    "        # include arguments that parent class is expecting\n",
    "        # ParentClass.__init__(**kwargs)\n",
    "\n",
    "        # to run inits from all inherited classes\n",
    "        # these allow child class to use all properties and methods of parent class\n",
    "        super().__init__(**kwargs)\n",
    "\n",
    "        self.property3 = 'string1'\n",
    "        self.property4 = arg0\n",
    "        self.property5 = arg1\n",
    "\n",
    "    def method2(self):\n",
    "        print('method2 complete')\n"
   ]
  },
  {
   "cell_type": "code",
   "execution_count": 11,
   "metadata": {},
   "outputs": [
    {
     "name": "stdout",
     "output_type": "stream",
     "text": [
      "method2 complete\n",
      "None\n"
     ]
    }
   ],
   "source": [
    "# create instance of child class\n",
    "arg0 = 1.1\n",
    "arg1 = 'test'\n",
    "\n",
    "\n",
    "child_instance = ChildClass(arg0=arg0, arg1=arg1, **kwargs)\n",
    "\n",
    "print(child_instance.method2())\n",
    "print(child_instance.property4)"
   ]
  }
 ],
 "metadata": {
  "interpreter": {
   "hash": "949777d72b0d2535278d3dc13498b2535136f6dfe0678499012e853ee9abcab1"
  },
  "kernelspec": {
   "display_name": "Python 3.8.7 64-bit",
   "name": "python3"
  },
  "language_info": {
   "codemirror_mode": {
    "name": "ipython",
    "version": 3
   },
   "file_extension": ".py",
   "mimetype": "text/x-python",
   "name": "python",
   "nbconvert_exporter": "python",
   "pygments_lexer": "ipython3",
   "version": "3.8.7"
  },
  "orig_nbformat": 4
 },
 "nbformat": 4,
 "nbformat_minor": 2
}
