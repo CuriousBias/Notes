{
 "cells": [
  {
   "cell_type": "markdown",
   "metadata": {},
   "source": [
    "#### Decorators\n",
    "\n",
    "Essentially shorthard for sending one function to another function"
   ]
  },
  {
   "cell_type": "code",
   "execution_count": 2,
   "metadata": {},
   "outputs": [
    {
     "name": "stdout",
     "output_type": "stream",
     "text": [
      "1.2919999790028669e-06\n"
     ]
    }
   ],
   "source": [
    "import time\n",
    "\n",
    "def function_timer(func):\n",
    "    def  wrapper_function(*args, **kwargs):\n",
    "        start = time.perf_counter()\n",
    "        func(*args, **kwargs)\n",
    "        elapsed = time.perf_counter() - start\n",
    "        return elapsed\n",
    "    return wrapper_function\n",
    "\n",
    "\n",
    "@function_timer\n",
    "def add_func(*args):\n",
    "    return sum(args)\n",
    "\n",
    "time_to_complete = add_func(1,2,3)\n",
    "\n",
    "print(time_to_complete)\n"
   ]
  },
  {
   "cell_type": "markdown",
   "metadata": {},
   "source": [
    "```python\n",
    "@wrapper\n",
    "def wrapped():\n",
    "    pass\n",
    "```\n",
    "\n",
    "```wrapped()``` gets sent to ```wrapper``` before it is executed so that wrapper is executed. Wrapped might get executed (probably) within the wrapper, but it doesnt have to be executed. \n",
    "\n",
    "Can also be written as \n",
    "\n",
    "```python\n",
    "def wrapper:\n",
    "    pass\n",
    "\n",
    "def wrapped:\n",
    "    pass\n",
    "\n",
    "output = wrapped(wrapped)():\n",
    "\n",
    "alternate_output = wrapper(wrapped)\n",
    "\n",
    "alternate_output()\n",
    "```"
   ]
  }
 ],
 "metadata": {
  "interpreter": {
   "hash": "a0820167192a0f8e5b5d75b09b4662218b53e0ef2bbcf14191e112b7c64612ca"
  },
  "kernelspec": {
   "display_name": "Python 3.9.9 64-bit",
   "language": "python",
   "name": "python3"
  },
  "language_info": {
   "codemirror_mode": {
    "name": "ipython",
    "version": 3
   },
   "file_extension": ".py",
   "mimetype": "text/x-python",
   "name": "python",
   "nbconvert_exporter": "python",
   "pygments_lexer": "ipython3",
   "version": "3.9.9"
  },
  "orig_nbformat": 4
 },
 "nbformat": 4,
 "nbformat_minor": 2
}
