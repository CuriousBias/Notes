{
 "metadata": {
  "language_info": {
   "codemirror_mode": {
    "name": "ipython",
    "version": 3
   },
   "file_extension": ".py",
   "mimetype": "text/x-python",
   "name": "python",
   "nbconvert_exporter": "python",
   "pygments_lexer": "ipython3",
   "version": "3.8.7"
  },
  "orig_nbformat": 2,
  "kernelspec": {
   "name": "python387jvsc74a57bd04cd7ab41f5fca4b9b44701077e38c5ffd31fe66a6cab21e0214b68d958d0e462",
   "display_name": "Python 3.8.7 64-bit"
  }
 },
 "nbformat": 4,
 "nbformat_minor": 2,
 "cells": [
  {
   "cell_type": "code",
   "execution_count": 1,
   "metadata": {},
   "outputs": [],
   "source": [
    "import sympy\n",
    "import math"
   ]
  },
  {
   "cell_type": "code",
   "execution_count": 2,
   "metadata": {},
   "outputs": [
    {
     "output_type": "execute_result",
     "data": {
      "text/plain": [
       "sqrt(3)"
      ],
      "text/latex": "$\\displaystyle \\sqrt{3}$"
     },
     "metadata": {},
     "execution_count": 2
    }
   ],
   "source": [
    "sympy.sqrt(3)"
   ]
  },
  {
   "cell_type": "code",
   "execution_count": 6,
   "metadata": {},
   "outputs": [],
   "source": [
    "a,b,x,y,pi,m,n,R,D11,D12,D22,D66 = sympy.symbols('a b x y pi m n R D11 D12 D22 D66')"
   ]
  },
  {
   "cell_type": "code",
   "execution_count": 10,
   "metadata": {},
   "outputs": [],
   "source": [
    "test_eqn = ((pi**2/(b**2*R**4))*(D11*m**4 + 2*(D12+2*D66)*(m*n*R)**2 + D22*(n*R)**4))"
   ]
  },
  {
   "cell_type": "code",
   "execution_count": 11,
   "metadata": {},
   "outputs": [
    {
     "output_type": "execute_result",
     "data": {
      "text/plain": [
       "pi**2*(D11*m**4 + D22*R**4*n**4 + R**2*m**2*n**2*(2*D12 + 4*D66))/(R**4*b**2)"
      ],
      "text/latex": "$\\displaystyle \\frac{\\pi^{2} \\left(D_{11} m^{4} + D_{22} R^{4} n^{4} + R^{2} m^{2} n^{2} \\left(2 D_{12} + 4 D_{66}\\right)\\right)}{R^{4} b^{2}}$"
     },
     "metadata": {},
     "execution_count": 11
    }
   ],
   "source": [
    "test_eqn"
   ]
  },
  {
   "cell_type": "code",
   "execution_count": 13,
   "metadata": {},
   "outputs": [],
   "source": [
    "# evaluate a symbolic function\n",
    "\n",
    "b = 3\n",
    "R = 2\n",
    "\n",
    "test_eqn2 = pi**2/(b**2*R**4)"
   ]
  },
  {
   "cell_type": "code",
   "execution_count": 14,
   "metadata": {},
   "outputs": [
    {
     "output_type": "execute_result",
     "data": {
      "text/plain": [
       "pi**2/144"
      ],
      "text/latex": "$\\displaystyle \\frac{\\pi^{2}}{144}$"
     },
     "metadata": {},
     "execution_count": 14
    }
   ],
   "source": [
    "test_eqn2"
   ]
  },
  {
   "cell_type": "code",
   "execution_count": null,
   "metadata": {},
   "outputs": [],
   "source": [
    "E_1,E_2,nu12,G12,t_ply,sequence_adherend,sequence_strap,w,l,G_a,t_adhesive,P,C_1,lam,x,l,w,t_1,t_2 = sp.symbols('E1 E2 nu12 G12 t_ply sequence_adherend sequence_strap bond_width bond_length G_a t_adhesive P C_1 lam x l w t_1 t_2 ')"
   ]
  },
  {
   "cell_type": "code",
   "execution_count": null,
   "metadata": {},
   "outputs": [],
   "source": [
    "test_eqn = G_a/t_adhesive*(1/(E_1*t_1)+1/(E_2*t_2))\n",
    "\n",
    "test_eqn"
   ]
  }
 ]
}