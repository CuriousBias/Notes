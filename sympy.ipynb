{
 "metadata": {
  "language_info": {
   "codemirror_mode": {
    "name": "ipython",
    "version": 3
   },
   "file_extension": ".py",
   "mimetype": "text/x-python",
   "name": "python",
   "nbconvert_exporter": "python",
   "pygments_lexer": "ipython3",
   "version": "3.8.7"
  },
  "orig_nbformat": 2,
  "kernelspec": {
   "name": "python387jvsc74a57bd04cd7ab41f5fca4b9b44701077e38c5ffd31fe66a6cab21e0214b68d958d0e462",
   "display_name": "Python 3.8.7 64-bit"
  }
 },
 "nbformat": 4,
 "nbformat_minor": 2,
 "cells": [
  {
   "cell_type": "code",
   "execution_count": 1,
   "metadata": {},
   "outputs": [],
   "source": [
    "import sympy as sp\n",
    "import math"
   ]
  },
  {
   "cell_type": "code",
   "execution_count": 2,
   "metadata": {},
   "outputs": [
    {
     "output_type": "execute_result",
     "data": {
      "text/plain": [
       "sqrt(3)"
      ],
      "text/latex": "$\\displaystyle \\sqrt{3}$"
     },
     "metadata": {},
     "execution_count": 2
    }
   ],
   "source": [
    "sp.sqrt(3)"
   ]
  },
  {
   "cell_type": "code",
   "execution_count": 3,
   "metadata": {},
   "outputs": [],
   "source": [
    "a,b,x,y,pi,m,n,R,D11,D12,D22,D66 = sp.symbols('a b x y pi m n R D11 D12 D22 D66')"
   ]
  },
  {
   "cell_type": "code",
   "execution_count": 4,
   "metadata": {},
   "outputs": [],
   "source": [
    "test_eqn = ((pi**2/(b**2*R**4))*(D11*m**4 + 2*(D12+2*D66)*(m*n*R)**2 + D22*(n*R)**4))"
   ]
  },
  {
   "cell_type": "code",
   "execution_count": 5,
   "metadata": {},
   "outputs": [
    {
     "output_type": "execute_result",
     "data": {
      "text/plain": [
       "pi**2*(D11*m**4 + D22*R**4*n**4 + R**2*m**2*n**2*(2*D12 + 4*D66))/(R**4*b**2)"
      ],
      "text/latex": "$\\displaystyle \\frac{\\pi^{2} \\left(D_{11} m^{4} + D_{22} R^{4} n^{4} + R^{2} m^{2} n^{2} \\left(2 D_{12} + 4 D_{66}\\right)\\right)}{R^{4} b^{2}}$"
     },
     "metadata": {},
     "execution_count": 5
    }
   ],
   "source": [
    "test_eqn"
   ]
  },
  {
   "cell_type": "code",
   "execution_count": 6,
   "metadata": {},
   "outputs": [],
   "source": [
    "# evaluate a symbolic function\n",
    "\n",
    "b = 3\n",
    "R = 2\n",
    "\n",
    "test_eqn2 = pi**2/(b**2*R**4)"
   ]
  },
  {
   "cell_type": "code",
   "execution_count": 7,
   "metadata": {},
   "outputs": [
    {
     "output_type": "execute_result",
     "data": {
      "text/plain": [
       "pi**2/144"
      ],
      "text/latex": "$\\displaystyle \\frac{\\pi^{2}}{144}$"
     },
     "metadata": {},
     "execution_count": 7
    }
   ],
   "source": [
    "test_eqn2"
   ]
  },
  {
   "cell_type": "code",
   "execution_count": 8,
   "metadata": {},
   "outputs": [],
   "source": [
    "E_1,E_2,nu12,G12,t_ply,sequence_adherend,sequence_strap,w,l,G_a,t_adhesive,P,C_1,lam,x,l,w,t_1,t_2 = sp.symbols('E1 E2 nu12 G12 t_ply sequence_adherend sequence_strap bond_width bond_length G_a t_adhesive P C_1 lam x l w t_1 t_2 ')"
   ]
  },
  {
   "cell_type": "code",
   "execution_count": 11,
   "metadata": {},
   "outputs": [
    {
     "output_type": "execute_result",
     "data": {
      "text/plain": [
       "-C_1*t_1*sinh(lam*x)/lam + lam*(C_1*t_1*(cosh(l*lam) - 1)/lam**2 + P/w)*cosh(lam*x)/sinh(l*lam)"
      ],
      "text/latex": "$\\displaystyle - \\frac{C_{1} t_{1} \\sinh{\\left(lam x \\right)}}{lam} + \\frac{lam \\left(\\frac{C_{1} t_{1} \\left(\\cosh{\\left(l lam \\right)} - 1\\right)}{lam^{2}} + \\frac{P}{w}\\right) \\cosh{\\left(lam x \\right)}}{\\sinh{\\left(l lam \\right)}}$"
     },
     "metadata": {},
     "execution_count": 11
    }
   ],
   "source": [
    "test_eqn = (-C_1*t_1/lam)*sp.sinh(lam*x) + ((C_1*t_1*(sp.cosh(lam*l)-1))/(lam**2) + P/w)*lam*sp.cosh(lam*x)/sp.sinh(lam*l)\n",
    "\n",
    "test_eqn"
   ]
  },
  {
   "cell_type": "code",
   "execution_count": null,
   "metadata": {},
   "outputs": [],
   "source": []
  }
 ]
}